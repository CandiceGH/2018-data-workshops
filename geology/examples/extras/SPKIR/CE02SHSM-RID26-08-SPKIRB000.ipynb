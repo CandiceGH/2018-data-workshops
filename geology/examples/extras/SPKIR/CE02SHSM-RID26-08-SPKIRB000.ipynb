{
 "cells": [
  {
   "cell_type": "markdown",
   "metadata": {},
   "source": [
    "*Verified by Leila Belabbassi (to work with Pangeo), July 12, 2018*"
   ]
  },
  {
   "cell_type": "code",
   "execution_count": 1,
   "metadata": {},
   "outputs": [],
   "source": [
    "import warnings\n",
    "warnings.filterwarnings(\"ignore\")\n",
    "\n",
    "import requests\n",
    "import time\n",
    "import re\n",
    "import xarray as xr\n",
    "import pandas as pd\n",
    "import os\n",
    "import matplotlib.pyplot as plt "
   ]
  },
  {
   "cell_type": "code",
   "execution_count": 2,
   "metadata": {},
   "outputs": [
    {
     "data": {
      "text/plain": [
       "['https://opendap.oceanobservatories.org/thredds/dodsC/ooi/wingardc@oregonstate.edu/20180620T123506-CE02SHSM-RID26-08-SPKIRB000-telemetered-spkir_abj_dcl_instrument/deployment0003_CE02SHSM-RID26-08-SPKIRB000-telemetered-spkir_abj_dcl_instrument_20160601T000014.302000-20160630T234801.083000.nc']"
      ]
     },
     "execution_count": 2,
     "metadata": {},
     "output_type": "execute_result"
    }
   ],
   "source": [
    "# url = data['allURLs'][0]\n",
    "url = 'https://opendap.oceanobservatories.org/thredds/catalog/ooi/wingardc@oregonstate.edu/20180620T123506-CE02SHSM-RID26-08-SPKIRB000-telemetered-spkir_abj_dcl_instrument/catalog.html'\n",
    "tds_url = 'https://opendap.oceanobservatories.org/thredds/dodsC'\n",
    "datasets = requests.get(url).text\n",
    "urls = re.findall(r'href=[\\'\"]?([^\\'\" >]+)', datasets)\n",
    "x = re.findall(r'(ooi/.*?.nc)', datasets)\n",
    "for i in x:\n",
    "    if i.endswith('.nc') == False:\n",
    "        x.remove(i)\n",
    "for i in x:\n",
    "    try:\n",
    "        float(i[-4])\n",
    "    except:\n",
    "        x.remove(i)\n",
    "datasets = [os.path.join(tds_url, i) for i in x]\n",
    "datasets"
   ]
  },
  {
   "cell_type": "code",
   "execution_count": 3,
   "metadata": {},
   "outputs": [
    {
     "data": {
      "text/plain": [
       "<xarray.Dataset>\n",
       "Dimensions:                            (spectra: 7, time: 484433)\n",
       "Coordinates:\n",
       "    obs                                (time) int32 dask.array<shape=(484433,), chunksize=(100,)>\n",
       "  * time                               (time) datetime64[ns] 2016-06-01T00:00:14.302000128 ...\n",
       "    lat                                (time) float64 dask.array<shape=(484433,), chunksize=(100,)>\n",
       "    lon                                (time) float64 dask.array<shape=(484433,), chunksize=(100,)>\n",
       "Dimensions without coordinates: spectra\n",
       "Data variables:\n",
       "    deployment                         (time) int32 dask.array<shape=(484433,), chunksize=(100,)>\n",
       "    id                                 (time) |S64 dask.array<shape=(484433,), chunksize=(100,)>\n",
       "    channel_array                      (time, spectra) float64 dask.array<shape=(484433, 7), chunksize=(100, 7)>\n",
       "    dcl_controller_timestamp           (time) object dask.array<shape=(484433,), chunksize=(100,)>\n",
       "    driver_timestamp                   (time) datetime64[ns] dask.array<shape=(484433,), chunksize=(100,)>\n",
       "    frame_counter                      (time) float32 dask.array<shape=(484433,), chunksize=(100,)>\n",
       "    ingestion_timestamp                (time) datetime64[ns] dask.array<shape=(484433,), chunksize=(100,)>\n",
       "    instrument_id                      (time) object dask.array<shape=(484433,), chunksize=(100,)>\n",
       "    internal_temperature               (time) float32 dask.array<shape=(484433,), chunksize=(100,)>\n",
       "    internal_timestamp                 (time) datetime64[ns] dask.array<shape=(484433,), chunksize=(100,)>\n",
       "    passed_checksum                    (time) float32 dask.array<shape=(484433,), chunksize=(100,)>\n",
       "    port_timestamp                     (time) datetime64[ns] dask.array<shape=(484433,), chunksize=(100,)>\n",
       "    preferred_timestamp                (time) object dask.array<shape=(484433,), chunksize=(100,)>\n",
       "    provenance                         (time) |S64 dask.array<shape=(484433,), chunksize=(100,)>\n",
       "    sample_delay                       (time) float32 dask.array<shape=(484433,), chunksize=(100,)>\n",
       "    serial_number                      (time) object dask.array<shape=(484433,), chunksize=(100,)>\n",
       "    timer                              (time) float64 dask.array<shape=(484433,), chunksize=(100,)>\n",
       "    va_sense                           (time) float32 dask.array<shape=(484433,), chunksize=(100,)>\n",
       "    vin_sense                          (time) float32 dask.array<shape=(484433,), chunksize=(100,)>\n",
       "    spkir_abj_cspp_downwelling_vector  (time, spectra) float64 dask.array<shape=(484433, 7), chunksize=(100, 7)>\n",
       "Attributes:\n",
       "    _NCProperties:                      version=1|netcdflibversion=4.4.1.1|hd...\n",
       "    node:                               RID26\n",
       "    comment:                            \n",
       "    publisher_email:                    \n",
       "    sourceUrl:                          http://oceanobservatories.org/\n",
       "    collection_method:                  telemetered\n",
       "    stream:                             spkir_abj_dcl_instrument\n",
       "    featureType:                        point\n",
       "    creator_email:                      \n",
       "    publisher_name:                     Ocean Observatories Initiative\n",
       "    date_modified:                      2018-06-20T12:36:09.649113\n",
       "    keywords:                           \n",
       "    cdm_data_type:                      Point\n",
       "    references:                         More information can be found at http...\n",
       "    Metadata_Conventions:               Unidata Dataset Discovery v1.0\n",
       "    date_created:                       2018-06-20T12:36:09.649106\n",
       "    id:                                 CE02SHSM-RID26-08-SPKIRB000-telemeter...\n",
       "    requestUUID:                        111492c0-3ead-40fc-9d97-f1a6d9bf9960\n",
       "    contributor_role:                   \n",
       "    summary:                            Dataset Generated by Stream Engine fr...\n",
       "    keywords_vocabulary:                \n",
       "    institution:                        Ocean Observatories Initiative\n",
       "    naming_authority:                   org.oceanobservatories\n",
       "    feature_Type:                       point\n",
       "    infoUrl:                            http://oceanobservatories.org/\n",
       "    license:                            \n",
       "    contributor_name:                   \n",
       "    uuid:                               111492c0-3ead-40fc-9d97-f1a6d9bf9960\n",
       "    creator_name:                       Ocean Observatories Initiative\n",
       "    title:                              Data produced by Stream Engine versio...\n",
       "    sensor:                             08-SPKIRB000\n",
       "    standard_name_vocabulary:           NetCDF Climate and Forecast (CF) Meta...\n",
       "    acknowledgement:                    \n",
       "    Conventions:                        CF-1.6\n",
       "    project:                            Ocean Observatories Initiative\n",
       "    source:                             CE02SHSM-RID26-08-SPKIRB000-telemeter...\n",
       "    publisher_url:                      http://oceanobservatories.org/\n",
       "    creator_url:                        http://oceanobservatories.org/\n",
       "    nodc_template_version:              NODC_NetCDF_TimeSeries_Orthogonal_Tem...\n",
       "    subsite:                            CE02SHSM\n",
       "    processing_level:                   L2\n",
       "    history:                            2018-06-20T12:36:09.649032 generated ...\n",
       "    Manufacturer:                       Satlantic\n",
       "    ModelNumber:                        OCR507 ICSW w/ Bioshutter II (Midrange)\n",
       "    SerialNumber:                       297\n",
       "    Description:                        Spectral Irradiance: SPKIR Series B\n",
       "    FirmwareVersion:                    Not specified.\n",
       "    SoftwareVersion:                    Not specified.\n",
       "    AssetUniqueID:                      CGINS-SPKIRB-00297\n",
       "    Notes:                              Not specified.\n",
       "    Owner:                              Not specified.\n",
       "    RemoteResources:                    []\n",
       "    ShelfLifeExpirationDate:            Not specified.\n",
       "    Mobile:                             False\n",
       "    AssetManagementRecordLastModified:  2018-06-18T12:46:40.554000\n",
       "    time_coverage_start:                2016-06-01T00:00:14.302000\n",
       "    time_coverage_end:                  2016-06-30T23:48:01.083000\n",
       "    time_coverage_resolution:           P5.35S\n",
       "    geospatial_lat_min:                 44.63565\n",
       "    geospatial_lat_max:                 44.63565\n",
       "    geospatial_lat_units:               degrees_north\n",
       "    geospatial_lat_resolution:          0.1\n",
       "    geospatial_lon_min:                 -124.30427\n",
       "    geospatial_lon_max:                 -124.30427\n",
       "    geospatial_lon_units:               degrees_east\n",
       "    geospatial_lon_resolution:          0.1\n",
       "    geospatial_vertical_units:          meters\n",
       "    geospatial_vertical_resolution:     0.1\n",
       "    geospatial_vertical_positive:       down\n",
       "    DODS.strlen:                        4\n",
       "    DODS.dimName:                       string4\n",
       "    DODS_EXTRA.Unlimited_Dimension:     obs"
      ]
     },
     "execution_count": 3,
     "metadata": {},
     "output_type": "execute_result"
    }
   ],
   "source": [
    "ds = xr.open_mfdataset(datasets)\n",
    "ds = ds.swap_dims({'obs': 'time'})\n",
    "ds = ds.chunk({'time': 100})\n",
    "ds"
   ]
  },
  {
   "cell_type": "code",
   "execution_count": 4,
   "metadata": {},
   "outputs": [
    {
     "data": {
      "text/plain": [
       "<xarray.DataArray 'channel_array' (time: 484433, spectra: 7)>\n",
       "dask.array<shape=(484433, 7), dtype=float64, chunksize=(100, 7)>\n",
       "Coordinates:\n",
       "    obs      (time) int32 dask.array<shape=(484433,), chunksize=(100,)>\n",
       "  * time     (time) datetime64[ns] 2016-06-01T00:00:14.302000128 ...\n",
       "    lat      (time) float64 dask.array<shape=(484433,), chunksize=(100,)>\n",
       "    lon      (time) float64 dask.array<shape=(484433,), chunksize=(100,)>\n",
       "Dimensions without coordinates: spectra\n",
       "Attributes:\n",
       "    comment:                  This data product is the Downwelling Spectral I...\n",
       "    long_name:                Downwelling Spectral Irradiance Measurement\n",
       "    precision:                0\n",
       "    data_product_identifier:  SPECTIR_L0\n",
       "    units:                    counts\n",
       "    _ChunkSizes:              [10000     7]"
      ]
     },
     "execution_count": 4,
     "metadata": {},
     "output_type": "execute_result"
    }
   ],
   "source": [
    "ds['channel_array']"
   ]
  },
  {
   "cell_type": "code",
   "execution_count": 5,
   "metadata": {},
   "outputs": [
    {
     "data": {
      "text/plain": [
       "array([[2.15727290e+09, 2.16020870e+09, 2.17410790e+09, 2.17836454e+09,\n",
       "        2.18792141e+09, 2.15392851e+09, 2.14862989e+09],\n",
       "       [2.15952582e+09, 2.16333184e+09, 2.17935994e+09, 2.18415066e+09,\n",
       "        2.19424813e+09, 2.15557491e+09, 2.14903219e+09],\n",
       "       [2.15978714e+09, 2.16370118e+09, 2.17924640e+09, 2.18383430e+09,\n",
       "        2.19345894e+09, 2.15589882e+09, 2.14919046e+09],\n",
       "       [2.15880442e+09, 2.16238400e+09, 2.17785728e+09, 2.18262982e+09,\n",
       "        2.19284992e+09, 2.15522406e+09, 2.14893747e+09],\n",
       "       [2.15939712e+09, 2.16334816e+09, 2.17991456e+09, 2.18501843e+09,\n",
       "        2.19600710e+09, 2.15580627e+09, 2.14902733e+09],\n",
       "       [2.15919584e+09, 2.16301651e+09, 2.17876339e+09, 2.18348934e+09,\n",
       "        2.19346918e+09, 2.15552090e+09, 2.14902349e+09],\n",
       "       [2.15809344e+09, 2.16123866e+09, 2.17533011e+09, 2.17970835e+09,\n",
       "        2.18878054e+09, 2.15449722e+09, 2.14881555e+09],\n",
       "       [2.15889696e+09, 2.16251418e+09, 2.17805702e+09, 2.18276390e+09,\n",
       "        2.19283578e+09, 2.15531610e+09, 2.14897517e+09],\n",
       "       [2.15806483e+09, 2.16125626e+09, 2.17598355e+09, 2.18057261e+09,\n",
       "        2.19019277e+09, 2.15450259e+09, 2.14877133e+09],\n",
       "       [2.15966995e+09, 2.16370797e+09, 2.18026547e+09, 2.18523667e+09,\n",
       "        2.19576205e+09, 2.15587731e+09, 2.14909203e+09]])"
      ]
     },
     "execution_count": 5,
     "metadata": {},
     "output_type": "execute_result"
    }
   ],
   "source": [
    "ds['channel_array'].values[0:10]"
   ]
  },
  {
   "cell_type": "code",
   "execution_count": 6,
   "metadata": {},
   "outputs": [
    {
     "data": {
      "text/plain": [
       "<matplotlib.collections.QuadMesh at 0x7fe9dbe722b0>"
      ]
     },
     "execution_count": 6,
     "metadata": {},
     "output_type": "execute_result"
    },
    {
     "data": {
      "image/png": "[encoded data removed]",
      "text/plain": [
       "<Figure size 432x288 with 2 Axes>"
      ]
     },
     "metadata": {},
     "output_type": "display_data"
    }
   ],
   "source": [
    "ds['channel_array'].plot()"
   ]
  },
  {
   "cell_type": "code",
   "execution_count": 7,
   "metadata": {},
   "outputs": [
    {
     "data": {
      "text/plain": [
       "<matplotlib.collections.QuadMesh at 0x7fe9e4800eb8>"
      ]
     },
     "execution_count": 7,
     "metadata": {},
     "output_type": "execute_result"
    },
    {
     "data": {
      "image/png": "[encoded data removed]",
      "text/plain": [
       "<Figure size 432x288 with 2 Axes>"
      ]
     },
     "metadata": {},
     "output_type": "display_data"
    }
   ],
   "source": [
    "ds['channel_array'].T.plot()"
   ]
  },
  {
   "cell_type": "code",
   "execution_count": 8,
   "metadata": {},
   "outputs": [
    {
     "data": {
      "text/plain": [
       "<xarray.DataArray 'spkir_abj_cspp_downwelling_vector' (time: 484433, spectra: 7)>\n",
       "dask.array<shape=(484433, 7), dtype=float64, chunksize=(100, 7)>\n",
       "Coordinates:\n",
       "    obs      (time) int32 dask.array<shape=(484433,), chunksize=(100,)>\n",
       "  * time     (time) datetime64[ns] 2016-06-01T00:00:14.302000128 ...\n",
       "    lat      (time) float64 dask.array<shape=(484433,), chunksize=(100,)>\n",
       "    lon      (time) float64 dask.array<shape=(484433,), chunksize=(100,)>\n",
       "Dimensions without coordinates: spectra\n",
       "Attributes:\n",
       "    comment:                  Downwelling Spectral Irradiance is the measure ...\n",
       "    long_name:                Downwelling Spectral Irradiance\n",
       "    precision:                4\n",
       "    data_product_identifier:  SPECTIR_L1\n",
       "    units:                    µW cm-2 nm-1\n",
       "    ancillary_variables:      channel_array\n",
       "    _ChunkSizes:              [10000     7]"
      ]
     },
     "execution_count": 8,
     "metadata": {},
     "output_type": "execute_result"
    }
   ],
   "source": [
    "ds['spkir_abj_cspp_downwelling_vector']"
   ]
  },
  {
   "cell_type": "code",
   "execution_count": 9,
   "metadata": {},
   "outputs": [
    {
     "data": {
      "text/plain": [
       "array([[ 2.6233868 ,  3.67699731,  7.62734449,  8.98782357, 12.14712515,\n",
       "         1.88367045,  0.37514718],\n",
       "       [ 3.28503933,  4.57032274,  9.13681662, 10.67005957, 14.04841969,\n",
       "         2.34668363,  0.49350685],\n",
       "       [ 3.3617829 ,  4.67596796,  9.10418555, 10.57808438, 13.81125553,\n",
       "         2.43777439,  0.54007119],\n",
       "       [ 3.07317218,  4.29920756,  8.70494238, 10.22789766, 13.62823273,\n",
       "         2.24801548,  0.46563979],\n",
       "       [ 3.24724082,  4.57499083,  9.29621959, 10.92235403, 14.577024  ,\n",
       "         2.41174846,  0.49207584],\n",
       "       [ 3.18812778,  4.48012797,  8.96536555, 10.4777918 , 13.81433283,\n",
       "         2.33149284,  0.49094609],\n",
       "       [ 2.86436876,  3.97159938,  7.97861595,  9.37851808, 12.40531116,\n",
       "         2.04360573,  0.42977037],\n",
       "       [ 3.10035102,  4.33644242,  8.76235025, 10.26687965, 13.6239822 ,\n",
       "         2.27389742,  0.47673013],\n",
       "       [ 2.855967  ,  3.97663359,  8.16641935,  9.62978915, 12.82971018,\n",
       "         2.04511761,  0.41675947],\n",
       "       [ 3.32736765,  4.67790842,  9.39707425, 10.98580444, 14.50338021,\n",
       "         2.43172687,  0.51111205]])"
      ]
     },
     "execution_count": 9,
     "metadata": {},
     "output_type": "execute_result"
    }
   ],
   "source": [
    "ds['spkir_abj_cspp_downwelling_vector'].values[0:10]"
   ]
  },
  {
   "cell_type": "code",
   "execution_count": 10,
   "metadata": {},
   "outputs": [
    {
     "data": {
      "text/plain": [
       "<matplotlib.collections.QuadMesh at 0x7fe9e4589ba8>"
      ]
     },
     "execution_count": 10,
     "metadata": {},
     "output_type": "execute_result"
    },
    {
     "data": {
      "image/png": "[encoded data removed]",
      "text/plain": [
       "<Figure size 432x288 with 2 Axes>"
      ]
     },
     "metadata": {},
     "output_type": "display_data"
    }
   ],
   "source": [
    "ds['spkir_abj_cspp_downwelling_vector'].T.plot()"
   ]
  }
 ],
 "metadata": {
  "kernelspec": {
   "display_name": "Python 3",
   "language": "python",
   "name": "python3"
  },
  "language_info": {
   "codemirror_mode": {
    "name": "ipython",
    "version": 3
   },
   "file_extension": ".py",
   "mimetype": "text/x-python",
   "name": "python",
   "nbconvert_exporter": "python",
   "pygments_lexer": "ipython3",
   "version": "3.6.5"
  }
 },
 "nbformat": 4,
 "nbformat_minor": 2
}
