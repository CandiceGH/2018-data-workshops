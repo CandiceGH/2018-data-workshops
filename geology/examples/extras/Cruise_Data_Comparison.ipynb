{
 "cells": [
  {
   "cell_type": "markdown",
   "metadata": {
    "colab_type": "text",
    "id": "STYrT1i6geVP"
   },
   "source": [
    "# OOI Cruise Data Comparison\n",
    "*Revised by Sage Lichtenwalner, Rutgers University, June 6, 2018*\n",
    "\n",
    "In this example, we will compare the CTD data from the Pioneer Upstream Offshore Profiler Mooring and that taken from a shipboard cast durig a cruise.\n",
    "\n",
    "In general, most OOI deployment and recovery cruises include CTD casts and water samples as part of their operational procedures (as well as some [other measurements](http://oceanobservatories.org/operations-plan/cruise-data-types/)).  Ideally, a CTD cast is taken before a mooring is removed and when the replacement mooring is deployed.  \n",
    "\n",
    "CTD casts typically include the following variables:\n",
    "* Temperature\n",
    "* Salinity (conductivity)\n",
    "* Pressure (depth)\n",
    "* Oxygen\n",
    "* Fluorescence\n",
    "* Turbidity\n",
    "* PAR/irradiance\n",
    "\n",
    "Additionally, water samples are often taken at a few depths during many casts.  These are sent to various labs for processing, and include measurements on:\n",
    "* Carbon: DIC, total alkalinity, pH\n",
    "* Chlorophyll-a Fluorescence\n",
    "* Nutrients: PO4, NO3, NO2, SIOH4, NH4\n",
    "* Salinity \n",
    "* Dissolved Oxygen\n",
    "\n",
    "All data collected during cruises is posted in the [OOI Cruise Data Archive](http://oceanobservatories.org/cruise-data/).  The archive isn't necessarily easy to navigate, but each cruise data directory includes a start date which can be used when searching for data from a specific deployment time range.  The Quick Look reports for each cruise describe when and where each CTD cast was taken, and whether water samples were also taken.  If you're looking for a cast near a specific mooring, this is a good place to check.  These reports also detail when moorings and gliders were recovered and deployed, along with any other notable events that occurred.  It may also be helpful to check out the lookup sheet created by the OOI Data Team that cross references each mooring deployment with a relevant cruise CTD cast.  (This is not yet publicly available.)\n",
    "\n",
    "For this example, we will focus on CP02PMUO.  Because this is an offshore profiler, it has a larger depth range than some of the other coastal sites.  Plus, because it is in the Mid-Atlantic, we should see a clear 2-layer system, especially in the summer.\n",
    "\n",
    "As it turns out, looking through the cruise reports for the Pioneer 9 cruise, we discovered that early in Leg 1 ([see report](https://alfresco.oceanobservatories.org/alfresco/d/d/workspace/SpacesStore/90e26d09-ca90-4998-b24c-ad724bc714ff/3204-00902_Quick_Look_Cruise_Report_Coastal_Pioneer_9_Leg_1_2017-10-25_Ver_1-00.pdf)), a CTD cast was taken near this mooring on 2017-10-24 2027 UTC.  We will use this cast for our comparison."
   ]
  },
  {
   "cell_type": "markdown",
   "metadata": {
    "colab_type": "text",
    "id": "llbXbBsH9LNs"
   },
   "source": [
    "# Cruise CTD"
   ]
  },
  {
   "cell_type": "markdown",
   "metadata": {
    "colab_type": "text",
    "id": "u1aYNZ2MCdvZ"
   },
   "source": [
    "I found the relevant CTD data file by navigating to the following directory in the Cruise Data archive.\n",
    "\n",
    "OOI > Coastal Pioneer Array > Cruise Data > Pioneer-09_AR-24_2017-10-22 > Ship Data > Leg 1 (AR24a) > ctd > process\n",
    "\n",
    "This directory includes all of the processed data files from the CTD.  The files are named according to the cruise (ar24) and cast number (011). \n",
    "\n",
    "Here are the available files for this cast:\n",
    "* ar24011.asc - The ascii data file\n",
    "* ar24011.btl - Information on the depths bottle sample were taken (if any)\n",
    "* ar24011.cnv - The full dataset, basically the header combined with the ascii data file\n",
    "* ar24011.hdr - The header file that describes each column in detail as well as other configuration information\n",
    "* ar24011.jpg - A quickplot image\n",
    "* ar24011.ros \n",
    "* AR24011.XMLCON \n",
    "\n",
    "These actually contain the data from both the downcast and the upcast.  For just the downcast, we could use the files beginning with \"dar24\", and likewise for the upcast, the files beginning with \"uar24'.\n"
   ]
  },
  {
   "cell_type": "code",
   "execution_count": 1,
   "metadata": {
    "colab": {
     "autoexec": {
      "startup": false,
      "wait_interval": 0
     }
    },
    "colab_type": "code",
    "id": "ScPl-8sMgZuk"
   },
   "outputs": [],
   "source": [
    "# Downcast Only\n",
    "# data_file = 'https://alfresco.oceanobservatories.org/alfresco/d/d/workspace/SpacesStore/ef3f532b-7570-43d9-b016-6b58c4429b15/dar24011.asc'\n",
    "\n",
    "# Down and Up Casts\n",
    "data_file = 'https://alfresco.oceanobservatories.org/alfresco/d/d/workspace/SpacesStore/0ddd2680-e35d-46bc-ac1a-d350da4f409d/ar24011.asc'"
   ]
  },
  {
   "cell_type": "markdown",
   "metadata": {
    "colab_type": "text",
    "id": "Tj67LZxaEj8D"
   },
   "source": [
    "First, let's load in the CTD .asc data file directly from the Cruise Data portal (aka Alfresco).  \n",
    "\n",
    "As it turns out, two of the header names run together so we can't automatically load the file without issues. \n",
    "\n",
    "For now we'll skip the header by specifying header=None and skip-rows=1, and then we'll manually specify the names for the columns we need.  \n",
    "\n",
    "You can check the .hdr file to see which column is which.  The variables, particularly Salinity, are not always in the same column throughout the Cruise Data archive.\n"
   ]
  },
  {
   "cell_type": "code",
   "execution_count": 2,
   "metadata": {
    "colab": {
     "autoexec": {
      "startup": false,
      "wait_interval": 0
     }
    },
    "colab_type": "code",
    "id": "f0w_fqHlhoDG"
   },
   "outputs": [],
   "source": [
    "# Load needed Python libraries\n",
    "import pandas as pd\n",
    "import matplotlib.pyplot as plt"
   ]
  },
  {
   "cell_type": "code",
   "execution_count": 3,
   "metadata": {
    "colab": {
     "autoexec": {
      "startup": false,
      "wait_interval": 0
     },
     "base_uri": "https://localhost:8080/",
     "height": 229
    },
    "colab_type": "code",
    "executionInfo": {
     "elapsed": 883,
     "status": "ok",
     "timestamp": 1528296859445,
     "user": {
      "displayName": "Sage Lichtenwalner",
      "photoUrl": "https://lh3.googleusercontent.com/a/default-user=s128",
      "userId": "107661401208389246829"
     },
     "user_tz": 240
    },
    "id": "4s-MYxAZhth5",
    "outputId": "630b0cee-7ca6-4ecf-d33a-ee072b7fbef7"
   },
   "outputs": [
    {
     "data": {
      "text/html": [
       "<div>\n",
       "<style scoped>\n",
       "    .dataframe tbody tr th:only-of-type {\n",
       "        vertical-align: middle;\n",
       "    }\n",
       "\n",
       "    .dataframe tbody tr th {\n",
       "        vertical-align: top;\n",
       "    }\n",
       "\n",
       "    .dataframe thead th {\n",
       "        text-align: right;\n",
       "    }\n",
       "</style>\n",
       "<table border=\"1\" class=\"dataframe\">\n",
       "  <thead>\n",
       "    <tr style=\"text-align: right;\">\n",
       "      <th></th>\n",
       "      <th>Pressure</th>\n",
       "      <th>Temperature</th>\n",
       "      <th>2</th>\n",
       "      <th>3</th>\n",
       "      <th>4</th>\n",
       "      <th>5</th>\n",
       "      <th>6</th>\n",
       "      <th>7</th>\n",
       "      <th>8</th>\n",
       "      <th>9</th>\n",
       "      <th>10</th>\n",
       "      <th>11</th>\n",
       "      <th>12</th>\n",
       "      <th>Salinity</th>\n",
       "      <th>14</th>\n",
       "      <th>15</th>\n",
       "      <th>16</th>\n",
       "      <th>17</th>\n",
       "      <th>18</th>\n",
       "    </tr>\n",
       "  </thead>\n",
       "  <tbody>\n",
       "    <tr>\n",
       "      <th>0</th>\n",
       "      <td>14.109</td>\n",
       "      <td>20.0267</td>\n",
       "      <td>20.0286</td>\n",
       "      <td>4.761192</td>\n",
       "      <td>4.760965</td>\n",
       "      <td>2.3811</td>\n",
       "      <td>0.0072</td>\n",
       "      <td>0.3726</td>\n",
       "      <td>34.7215</td>\n",
       "      <td>-1197.0</td>\n",
       "      <td>120.110</td>\n",
       "      <td>-10.040</td>\n",
       "      <td>14.0</td>\n",
       "      <td>34.7221</td>\n",
       "      <td>34.7187</td>\n",
       "      <td>4.3782</td>\n",
       "      <td>1521.47</td>\n",
       "      <td>24.5434</td>\n",
       "      <td>24.5403</td>\n",
       "    </tr>\n",
       "    <tr>\n",
       "      <th>1</th>\n",
       "      <td>15.116</td>\n",
       "      <td>20.0913</td>\n",
       "      <td>20.0946</td>\n",
       "      <td>4.774499</td>\n",
       "      <td>4.773866</td>\n",
       "      <td>2.3844</td>\n",
       "      <td>-0.0245</td>\n",
       "      <td>0.3700</td>\n",
       "      <td>34.7693</td>\n",
       "      <td>-1209.0</td>\n",
       "      <td>114.240</td>\n",
       "      <td>-9.450</td>\n",
       "      <td>15.0</td>\n",
       "      <td>34.7772</td>\n",
       "      <td>34.7693</td>\n",
       "      <td>4.3803</td>\n",
       "      <td>1521.73</td>\n",
       "      <td>24.5684</td>\n",
       "      <td>24.5615</td>\n",
       "    </tr>\n",
       "    <tr>\n",
       "      <th>2</th>\n",
       "      <td>16.124</td>\n",
       "      <td>20.2141</td>\n",
       "      <td>20.2261</td>\n",
       "      <td>4.798151</td>\n",
       "      <td>4.798984</td>\n",
       "      <td>2.3890</td>\n",
       "      <td>-0.0361</td>\n",
       "      <td>0.3785</td>\n",
       "      <td>34.8535</td>\n",
       "      <td>-1207.0</td>\n",
       "      <td>103.680</td>\n",
       "      <td>-8.592</td>\n",
       "      <td>16.0</td>\n",
       "      <td>34.8684</td>\n",
       "      <td>34.8652</td>\n",
       "      <td>4.3803</td>\n",
       "      <td>1522.19</td>\n",
       "      <td>24.6055</td>\n",
       "      <td>24.5999</td>\n",
       "    </tr>\n",
       "    <tr>\n",
       "      <th>3</th>\n",
       "      <td>17.132</td>\n",
       "      <td>20.3139</td>\n",
       "      <td>20.3342</td>\n",
       "      <td>4.816313</td>\n",
       "      <td>4.818994</td>\n",
       "      <td>2.3877</td>\n",
       "      <td>-0.0401</td>\n",
       "      <td>0.3759</td>\n",
       "      <td>34.9214</td>\n",
       "      <td>-1198.0</td>\n",
       "      <td>92.776</td>\n",
       "      <td>-7.741</td>\n",
       "      <td>17.0</td>\n",
       "      <td>34.9335</td>\n",
       "      <td>34.9386</td>\n",
       "      <td>4.3687</td>\n",
       "      <td>1522.55</td>\n",
       "      <td>24.6287</td>\n",
       "      <td>24.6272</td>\n",
       "    </tr>\n",
       "    <tr>\n",
       "      <th>4</th>\n",
       "      <td>18.140</td>\n",
       "      <td>20.4459</td>\n",
       "      <td>20.4594</td>\n",
       "      <td>4.841045</td>\n",
       "      <td>4.842165</td>\n",
       "      <td>2.3798</td>\n",
       "      <td>-0.0509</td>\n",
       "      <td>0.3744</td>\n",
       "      <td>35.0078</td>\n",
       "      <td>-1181.0</td>\n",
       "      <td>87.171</td>\n",
       "      <td>-7.383</td>\n",
       "      <td>18.0</td>\n",
       "      <td>35.0250</td>\n",
       "      <td>35.0229</td>\n",
       "      <td>4.3388</td>\n",
       "      <td>1523.03</td>\n",
       "      <td>24.6633</td>\n",
       "      <td>24.6581</td>\n",
       "    </tr>\n",
       "  </tbody>\n",
       "</table>\n",
       "</div>"
      ],
      "text/plain": [
       "   Pressure  Temperature        2         3         4       5       6       7  \\\n",
       "0    14.109      20.0267  20.0286  4.761192  4.760965  2.3811  0.0072  0.3726   \n",
       "1    15.116      20.0913  20.0946  4.774499  4.773866  2.3844 -0.0245  0.3700   \n",
       "2    16.124      20.2141  20.2261  4.798151  4.798984  2.3890 -0.0361  0.3785   \n",
       "3    17.132      20.3139  20.3342  4.816313  4.818994  2.3877 -0.0401  0.3759   \n",
       "4    18.140      20.4459  20.4594  4.841045  4.842165  2.3798 -0.0509  0.3744   \n",
       "\n",
       "         8       9       10      11    12  Salinity       14      15       16  \\\n",
       "0  34.7215 -1197.0  120.110 -10.040  14.0   34.7221  34.7187  4.3782  1521.47   \n",
       "1  34.7693 -1209.0  114.240  -9.450  15.0   34.7772  34.7693  4.3803  1521.73   \n",
       "2  34.8535 -1207.0  103.680  -8.592  16.0   34.8684  34.8652  4.3803  1522.19   \n",
       "3  34.9214 -1198.0   92.776  -7.741  17.0   34.9335  34.9386  4.3687  1522.55   \n",
       "4  35.0078 -1181.0   87.171  -7.383  18.0   35.0250  35.0229  4.3388  1523.03   \n",
       "\n",
       "        17       18  \n",
       "0  24.5434  24.5403  \n",
       "1  24.5684  24.5615  \n",
       "2  24.6055  24.5999  \n",
       "3  24.6287  24.6272  \n",
       "4  24.6633  24.6581  "
      ]
     },
     "execution_count": 3,
     "metadata": {},
     "output_type": "execute_result"
    }
   ],
   "source": [
    "# Load in the cruise data file, without the header names\n",
    "cruise_data = pd.read_table(data_file, delim_whitespace=True, header=None, skiprows=1)\n",
    "\n",
    "# Instead let's specify the column names for just the ones we need.  \n",
    "cruise_data = cruise_data.rename( columns={ 0:'Pressure', 1:'Temperature', 13:'Salinity' } )\n",
    "\n",
    "# Let's show a snippet of what we have.\n",
    "cruise_data[0:5]"
   ]
  },
  {
   "cell_type": "code",
   "execution_count": 44,
   "metadata": {
    "colab": {
     "autoexec": {
      "startup": false,
      "wait_interval": 0
     },
     "base_uri": "https://localhost:8080/",
     "height": 400
    },
    "colab_type": "code",
    "executionInfo": {
     "elapsed": 732,
     "status": "ok",
     "timestamp": 1528296860505,
     "user": {
      "displayName": "Sage Lichtenwalner",
      "photoUrl": "https://lh3.googleusercontent.com/a/default-user=s128",
      "userId": "107661401208389246829"
     },
     "user_tz": 240
    },
    "id": "D24BFXXfhyg2",
    "outputId": "d79ce953-d3f3-4834-cfb1-7219945e493c"
   },
   "outputs": [
    {
     "data": {
      "image/png": "[encoded data removed]",
      "text/plain": [
       "<Figure size 720x504 with 2 Axes>"
      ]
     },
     "metadata": {},
     "output_type": "display_data"
    }
   ],
   "source": [
    "# Time to make some plots\n",
    "fig, (ax1, ax2) = plt.subplots(1, 2, sharey=True, figsize=(10, 7))\n",
    "\n",
    "ax1.plot(cruise_data.Temperature,cruise_data.Pressure,'-')\n",
    "\n",
    "ax1.invert_yaxis() # Flip the y-axis so deeper waters are on the bottom\n",
    "ax1.set_xlabel('Temperature (C)')\n",
    "ax1.set_ylabel('Pressure (db)')\n",
    "\n",
    "ax2.plot(cruise_data.Salinity,cruise_data.Pressure,'-')\n",
    "ax2.set_xlabel('Salinity (psu)')\n",
    "\n",
    "fig.suptitle('Pioneer 9, Leg 1, Cast 11, 2017-10-24')\n",
    "fig.subplots_adjust(top=0.9);"
   ]
  },
  {
   "cell_type": "markdown",
   "metadata": {
    "colab_type": "text",
    "id": "DB-oqJATrQtM"
   },
   "source": [
    "And here is the quickplot of the same data from the cruise.  The temperature (in green) and salinity (in blue) appear to match what we have above. Yipee!\n",
    "\n",
    "![Cruise Image](https://alfresco.oceanobservatories.org/alfresco/d/d/workspace/SpacesStore/77219b33-3e84-441c-8c44-9a702773874b/dar24011.jpg =650x)"
   ]
  },
  {
   "cell_type": "markdown",
   "metadata": {
    "colab_type": "text",
    "id": "mD56hOeU9QSk"
   },
   "source": [
    "# Pioneer Upstream Offshore Profiler\n",
    "Now, let's grab some data from the profiler from the same day as the CTD cast, October 24, 2017."
   ]
  },
  {
   "cell_type": "code",
   "execution_count": 5,
   "metadata": {
    "colab": {
     "autoexec": {
      "startup": false,
      "wait_interval": 0
     }
    },
    "colab_type": "code",
    "id": "xnc8KZTuvCfZ"
   },
   "outputs": [],
   "source": [
    "# First, we need to add some more Python libraries\n",
    "import requests\n",
    "import datetime"
   ]
  },
  {
   "cell_type": "markdown",
   "metadata": {
    "colab_type": "text",
    "id": "_cU_3uH2H5pe"
   },
   "source": [
    "Next, let's specify some variables we need to request the data via the API"
   ]
  },
  {
   "cell_type": "code",
   "execution_count": 6,
   "metadata": {
    "colab": {
     "autoexec": {
      "startup": false,
      "wait_interval": 0
     }
    },
    "colab_type": "code",
    "id": "SkehtIOFtEiq"
   },
   "outputs": [],
   "source": [
    "# API Information\n",
    "USERNAME = ''\n",
    "TOKEN = ''\n",
    "API_BASE_URL = 'https://ooinet.oceanobservatories.org/api/m2m/12576/sensor/inv/'"
   ]
  },
  {
   "cell_type": "code",
   "execution_count": 7,
   "metadata": {
    "colab": {
     "autoexec": {
      "startup": false,
      "wait_interval": 0
     }
    },
    "colab_type": "code",
    "id": "6Nil8v1TjqDL"
   },
   "outputs": [],
   "source": [
    "# Instrument Information\n",
    "site = 'CP02PMUO'\n",
    "node = 'WFP01'\n",
    "instrument = '03-CTDPFK000'\n",
    "method = 'telemetered'\n",
    "stream = 'ctdpf_ckl_wfp_instrument'\n",
    "\n",
    "data_request_url ='/'.join((API_BASE_URL,site,node,instrument,method,stream))\n",
    "\n",
    "params = {\n",
    "  'beginDT':'2017-10-24T00:00:00.000Z',\n",
    "  'endDT':'2017-10-25T00:00:00.000Z',\n",
    "  'limit':1000,   \n",
    "}"
   ]
  },
  {
   "cell_type": "markdown",
   "metadata": {
    "colab_type": "text",
    "id": "iFEm13PMJL6f"
   },
   "source": [
    "Note, that we used beginDT and endDT in the params array to limit the request to just one day.  \n",
    "\n",
    "We also specified \"limit\" to restrict the returned dataset to approximately 1,000 data points.  We could set this as high as 20,000, but for anything beyond that, we would need to request data asynchronously (i.e. we would need to download a netcdf file).\n",
    "\n",
    "Now, let's grab the data and process the result (which is returned as a JSON array) into something we can use."
   ]
  },
  {
   "cell_type": "code",
   "execution_count": 8,
   "metadata": {
    "colab": {
     "autoexec": {
      "startup": false,
      "wait_interval": 0
     }
    },
    "colab_type": "code",
    "id": "hevun1CVtJvw"
   },
   "outputs": [],
   "source": [
    "# Grab the data\n",
    "r = requests.get(data_request_url, params=params, auth=(USERNAME, TOKEN))\n",
    "data = r.json()"
   ]
  },
  {
   "cell_type": "code",
   "execution_count": 9,
   "metadata": {
    "colab": {
     "autoexec": {
      "startup": false,
      "wait_interval": 0
     }
    },
    "colab_type": "code",
    "id": "uYsTVr5rtHXg"
   },
   "outputs": [],
   "source": [
    "# Time Processing Routines \n",
    "ntp_epoch = datetime.datetime(1900, 1, 1)\n",
    "unix_epoch = datetime.datetime(1970, 1, 1)\n",
    "ntp_delta = (unix_epoch - ntp_epoch).total_seconds()\n",
    "\n",
    "def ntp_seconds_to_datetime(ntp_seconds):\n",
    "    return datetime.datetime.utcfromtimestamp(ntp_seconds - ntp_delta).replace(microsecond=0)\n"
   ]
  },
  {
   "cell_type": "code",
   "execution_count": 10,
   "metadata": {
    "colab": {
     "autoexec": {
      "startup": false,
      "wait_interval": 0
     }
    },
    "colab_type": "code",
    "id": "uIVNCl8S_3NN"
   },
   "outputs": [],
   "source": [
    "# Process the data\n",
    "p_time = []\n",
    "p_temp = []\n",
    "p_sal = []\n",
    "p_pr = []\n",
    "for i in range(len(data)):\n",
    "  p_time.append(ntp_seconds_to_datetime(data[i]['time']))\n",
    "  p_temp.append(data[i]['ctdpf_ckl_seawater_temperature'])\n",
    "  p_sal.append(data[i]['practical_salinity'])\n",
    "  p_pr.append(data[i]['ctdpf_ckl_seawater_pressure'])\n"
   ]
  },
  {
   "cell_type": "markdown",
   "metadata": {
    "colab_type": "text",
    "id": "MPnj2LMwJ9Oe"
   },
   "source": [
    "### Time for some more plots!"
   ]
  },
  {
   "cell_type": "code",
   "execution_count": 43,
   "metadata": {
    "colab": {
     "autoexec": {
      "startup": false,
      "wait_interval": 0
     },
     "base_uri": "https://localhost:8080/",
     "height": 376
    },
    "colab_type": "code",
    "executionInfo": {
     "elapsed": 504,
     "status": "ok",
     "timestamp": 1528296872692,
     "user": {
      "displayName": "Sage Lichtenwalner",
      "photoUrl": "https://lh3.googleusercontent.com/a/default-user=s128",
      "userId": "107661401208389246829"
     },
     "user_tz": 240
    },
    "id": "titdCXsw_ibc",
    "outputId": "45e6fd0a-0cab-4ca2-c641-1aacdeb87570"
   },
   "outputs": [
    {
     "data": {
      "image/png": "[encoded data removed]",
      "text/plain": [
       "<Figure size 720x504 with 1 Axes>"
      ]
     },
     "metadata": {},
     "output_type": "display_data"
    }
   ],
   "source": [
    "# First, let's make a timeseries of pressure\n",
    "fig, ax = plt.subplots(figsize=(10, 7))\n",
    "plt.plot_date(p_time,p_pr,'r.')\n",
    "plt.gca().invert_yaxis()\n",
    "plt.xlabel('Time')\n",
    "plt.ylabel('Pressure (db)')\n",
    "plt.grid()\n",
    "plt.title('Pressure data from CP02PMUO')\n",
    "\n",
    "# Format date axis\n",
    "from matplotlib.dates import DateFormatter\n",
    "formatter = DateFormatter('%Y-%m-%d %H:%M')\n",
    "ax.xaxis.set_major_formatter(formatter)\n",
    "ax.xaxis.set_tick_params(rotation=30, labelsize=10)"
   ]
  },
  {
   "cell_type": "code",
   "execution_count": 41,
   "metadata": {
    "colab": {
     "autoexec": {
      "startup": false,
      "wait_interval": 0
     },
     "base_uri": "https://localhost:8080/",
     "height": 400
    },
    "colab_type": "code",
    "executionInfo": {
     "elapsed": 509,
     "status": "ok",
     "timestamp": 1528296874678,
     "user": {
      "displayName": "Sage Lichtenwalner",
      "photoUrl": "https://lh3.googleusercontent.com/a/default-user=s128",
      "userId": "107661401208389246829"
     },
     "user_tz": 240
    },
    "id": "yo4UrkpCwzT2",
    "outputId": "acea8fd7-c47a-4a62-c090-50f6abf82864"
   },
   "outputs": [
    {
     "data": {
      "image/png": "[encoded data removed]",
      "text/plain": [
       "<Figure size 720x504 with 2 Axes>"
      ]
     },
     "metadata": {},
     "output_type": "display_data"
    }
   ],
   "source": [
    "# Next, let's create some profile plots of Temperature and Salinity\n",
    "fig, (ax1, ax2) = plt.subplots(1, 2, sharey=True, figsize=(10, 7))\n",
    "\n",
    "ax1.plot(p_temp,p_pr,'r.')\n",
    "ax1.invert_yaxis()\n",
    "ax1.set_xlabel('Temperature (C)')\n",
    "ax1.set_ylabel('Pressure (dm)')\n",
    "ax1.grid()\n",
    "\n",
    "ax2.plot(p_sal,p_pr,'r.')\n",
    "ax2.set_xlabel('Salinity (psu)')\n",
    "ax2.grid()\n",
    "\n",
    "fig.suptitle('CTD data from CP02PMUO')\n",
    "fig.subplots_adjust(top=0.9)"
   ]
  },
  {
   "cell_type": "markdown",
   "metadata": {
    "colab_type": "text",
    "id": "CSJ1IGRc9qtL"
   },
   "source": [
    "# Comparing the Two\n",
    "\n",
    "Now let's plot the Cruise CTD Cast and the Profiler CTD data together."
   ]
  },
  {
   "cell_type": "code",
   "execution_count": 40,
   "metadata": {
    "colab": {
     "autoexec": {
      "startup": false,
      "wait_interval": 0
     },
     "base_uri": "https://localhost:8080/",
     "height": 400
    },
    "colab_type": "code",
    "executionInfo": {
     "elapsed": 595,
     "status": "ok",
     "timestamp": 1528296878351,
     "user": {
      "displayName": "Sage Lichtenwalner",
      "photoUrl": "https://lh3.googleusercontent.com/a/default-user=s128",
      "userId": "107661401208389246829"
     },
     "user_tz": 240
    },
    "id": "n6ZDpo0zxMOp",
    "outputId": "ddfb45b4-945b-45bd-c379-9ca08ca7eb6d"
   },
   "outputs": [
    {
     "data": {
      "image/png": "[encoded data removed]",
      "text/plain": [
       "<Figure size 720x504 with 2 Axes>"
      ]
     },
     "metadata": {},
     "output_type": "display_data"
    }
   ],
   "source": [
    "# One plot to rule them all\n",
    "fig, (ax1, ax2) = plt.subplots(1, 2, sharey=True, figsize=(10, 7))\n",
    "\n",
    "ax1.plot(cruise_data.Temperature,cruise_data.Pressure,'b')\n",
    "ax1.plot(p_temp,p_pr,'r.')\n",
    "ax1.set_xlabel('Temperature (C)')\n",
    "ax1.set_ylabel('Pressure (dm)')\n",
    "# ax1.invert_yaxis()\n",
    "ax1.set_ylim(475,0)\n",
    "ax1.grid()\n",
    "\n",
    "ax2.plot(cruise_data.Salinity,cruise_data.Pressure,'b',label='Cruise CTD')\n",
    "ax2.plot(p_sal,p_pr,'r.',label='Pioneer Profiler')\n",
    "ax2.set_xlabel('Salinity (psu)')\n",
    "ax2.grid()\n",
    "\n",
    "fig.suptitle('CP02PMUO Compared with Shipboard CTD')\n",
    "fig.subplots_adjust(top=0.9)\n",
    "\n",
    "legend = ax2.legend(loc='lower right', shadow=True, fontsize='small')"
   ]
  },
  {
   "cell_type": "markdown",
   "metadata": {
    "colab_type": "text",
    "id": "7FRSW80AKfsk"
   },
   "source": [
    "In general, the two match rather well.  Surprisingly, the down and up casts from the Cruise CTD cast match really well (often this isn't the case).  The profiler has quite a bit more variability around the cast, but the aligns pretty well with the shipboard cast.  \n",
    "\n",
    "Of course, the profiler currently includes data from the entire day.  To see if some of the variability might be accounted for by this, we could plot just the profile taken closest to the ship cast time.\n",
    "\n",
    "-By Sage Lichtenwalner, 4/24/18"
   ]
  }
 ],
 "metadata": {
  "colab": {
   "collapsed_sections": [],
   "default_view": {},
   "name": "Cruise Data Comparison.ipynb",
   "provenance": [
    {
     "file_id": "1783o_5T7i9x9viaSGD-5hhSMmhimdOyG",
     "timestamp": 1524594012020
    }
   ],
   "version": "0.3.2",
   "views": {}
  },
  "kernelspec": {
   "display_name": "Python [default]",
   "language": "python",
   "name": "python3"
  },
  "language_info": {
   "codemirror_mode": {
    "name": "ipython",
    "version": 3
   },
   "file_extension": ".py",
   "mimetype": "text/x-python",
   "name": "python",
   "nbconvert_exporter": "python",
   "pygments_lexer": "ipython3",
   "version": "3.6.4"
  }
 },
 "nbformat": 4,
 "nbformat_minor": 2
}
