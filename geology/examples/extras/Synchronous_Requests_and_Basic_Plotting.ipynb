{
 "cells": [
  {
   "cell_type": "markdown",
   "metadata": {
    "colab_type": "text",
    "id": "6BDsUqvA7EmA"
   },
   "source": [
    "# Synchronous Requests & Basic Plotting\n",
    "*Written by Sage Lichtenwalner, Rutgers University, June 6, 2018*\n",
    "\n",
    "*Revised by Lori Garzio (to work with Pangeo), Rutgers University, July 9, 2018*\n",
    "\n",
    "In this example, we will show how to use the OOI API to make synchronous requests to grab JSON data from the system, and then how to turn that data into some usable plots.\n",
    "\n",
    "Synchronous requests provide nearly instantaneous results as a JSON object, however, larger requests are also decimated up to a maximum of 20,000 data points.  Asynchronous requests generally take a bit longer (sometimes even more than an hour), but the resulting NetCDF or CSV files include all of the available data.\n",
    "\n",
    "Before we get started, you will need to look into the OOI Data Portal [https://ooinet.oceanobservatories.org](https://ooinet.oceanobservatories.org) and obtain your **API username and API token**, which you can find in your profile."
   ]
  },
  {
   "cell_type": "markdown",
   "metadata": {
    "colab_type": "text",
    "id": "D-wbQi21fC2v"
   },
   "source": [
    "## Simple Timeseries Plots"
   ]
  },
  {
   "cell_type": "code",
   "execution_count": 1,
   "metadata": {
    "colab": {
     "autoexec": {
      "startup": false,
      "wait_interval": 0
     }
    },
    "colab_type": "code",
    "id": "xnc8KZTuvCfZ"
   },
   "outputs": [],
   "source": [
    "# First, let's import the Python libraries we will need\n",
    "import requests\n",
    "import datetime\n",
    "import matplotlib.pyplot as plt\n",
    "import seaborn as sns # package for nice plotting defaults\n",
    "sns.set()"
   ]
  },
  {
   "cell_type": "markdown",
   "metadata": {
    "colab_type": "text",
    "id": "_cU_3uH2H5pe"
   },
   "source": [
    "Next, let's specify some variables we will use to request the data via the API"
   ]
  },
  {
   "cell_type": "code",
   "execution_count": 2,
   "metadata": {
    "colab": {
     "autoexec": {
      "startup": false,
      "wait_interval": 0
     }
    },
    "colab_type": "code",
    "id": "SkehtIOFtEiq"
   },
   "outputs": [],
   "source": [
    "# API Information\n",
    "USERNAME =''\n",
    "TOKEN= ''\n",
    "API_BASE_URL = 'https://ooinet.oceanobservatories.org/api/m2m/12576/sensor/inv/'"
   ]
  },
  {
   "cell_type": "markdown",
   "metadata": {
    "colab_type": "text",
    "id": "iR-1W_57LN6q"
   },
   "source": [
    "For this example, let's grab a year of meteorological data from the [Pioneer Offshore Surface Mooring](http://ooi.visualocean.net/instruments/view/CP04OSSM-SBD11-06-METBKA000) (CP04OSSM)."
   ]
  },
  {
   "cell_type": "code",
   "execution_count": 3,
   "metadata": {
    "colab": {
     "autoexec": {
      "startup": false,
      "wait_interval": 0
     }
    },
    "colab_type": "code",
    "id": "lTl94GDcLJN4"
   },
   "outputs": [],
   "source": [
    "# Instrument Information\n",
    "site = 'CP04OSSM'\n",
    "node = 'SBD11'\n",
    "instrument = '06-METBKA000'\n",
    "method = 'telemetered'\n",
    "stream = 'metbk_a_dcl_instrument'\n",
    "\n",
    "data_request_url ='/'.join((API_BASE_URL,site,node,instrument,method,stream))\n",
    "\n",
    "params = {\n",
    "  'beginDT':'2017-01-01T00:00:00.000Z',\n",
    "  'endDT':'2018-01-01T00:00:00.000Z',\n",
    "  'limit':1000,   \n",
    "}"
   ]
  },
  {
   "cell_type": "markdown",
   "metadata": {
    "colab_type": "text",
    "id": "UaDcHb7mLJN8"
   },
   "source": [
    "* beginDT and endDT are used to specify the date range needed.\n",
    "* \"limit\" is used to specify the approximate size of the decimated dataset that is returned.  Max is 20,000.\n",
    "* If we want higher resolution data, we will need to use an asynchronous request"
   ]
  },
  {
   "cell_type": "markdown",
   "metadata": {
    "colab_type": "text",
    "id": "sWNjt4TsMImt"
   },
   "source": [
    "Now, let's grab the data, which is returned as a JSON array so we can convert it into a python object using the requests.json() method.\n",
    "\n",
    "#### Note: Data request lines are commented out to prevent accidental resubmission when running through the entire notebook quickly."
   ]
  },
  {
   "cell_type": "code",
   "execution_count": 4,
   "metadata": {
    "colab": {
     "autoexec": {
      "startup": false,
      "wait_interval": 0
     }
    },
    "colab_type": "code",
    "id": "qXiSybxbLJN9"
   },
   "outputs": [],
   "source": [
    "# Grab the data\n",
    "#  r = requests.get(data_request_url, params=params, auth=(USERNAME, TOKEN))\n",
    "# data = r.json()"
   ]
  },
  {
   "cell_type": "markdown",
   "metadata": {
    "colab_type": "text",
    "id": "b2xvf1C0wi-U"
   },
   "source": [
    "How may data points were returned?"
   ]
  },
  {
   "cell_type": "code",
   "execution_count": 5,
   "metadata": {
    "colab": {
     "autoexec": {
      "startup": false,
      "wait_interval": 0
     },
     "base_uri": "https://localhost:8080/",
     "height": 35
    },
    "colab_type": "code",
    "executionInfo": {
     "elapsed": 264,
     "status": "ok",
     "timestamp": 1526398975293,
     "user": {
      "displayName": "Sage Lichtenwalner",
      "photoUrl": "https://lh3.googleusercontent.com/a/default-user=s128",
      "userId": "107661401208389246829"
     },
     "user_tz": 240
    },
    "id": "m_83w3U9wibh",
    "outputId": "a4914bbb-7f6f-4b1f-a17d-decc38410f72"
   },
   "outputs": [
    {
     "name": "stdout",
     "output_type": "stream",
     "text": [
      "776\n"
     ]
    }
   ],
   "source": [
    "print( len(data) )"
   ]
  },
  {
   "cell_type": "markdown",
   "metadata": {
    "colab_type": "text",
    "id": "TQoEWUigM_99"
   },
   "source": [
    "Let's take a look at the first element."
   ]
  },
  {
   "cell_type": "code",
   "execution_count": 6,
   "metadata": {
    "colab": {
     "autoexec": {
      "startup": false,
      "wait_interval": 0
     },
     "base_uri": "https://localhost:8080/",
     "height": 1403
    },
    "colab_type": "code",
    "executionInfo": {
     "elapsed": 274,
     "status": "ok",
     "timestamp": 1526398975651,
     "user": {
      "displayName": "Sage Lichtenwalner",
      "photoUrl": "https://lh3.googleusercontent.com/a/default-user=s128",
      "userId": "107661401208389246829"
     },
     "user_tz": 240
    },
    "id": "SNIH3Lc5Mch_",
    "outputId": "8aae3429-eb87-4689-8410-4d97ffab39a9"
   },
   "outputs": [
    {
     "data": {
      "text/plain": [
       "{'met_heatflx_minute': nan,\n",
       " 'sea_surface_temperature_qc_results': 29,\n",
       " 'met_current_direction_qc_results': 29,\n",
       " 'met_relwind_direction': 22.687094232882828,\n",
       " 'northward_wind_velocity_qc_executed': 29,\n",
       " 'met_windavg_mag_corr_east': 4.6688203704788425,\n",
       " 'shortwave_irradiance_qc_results': 29,\n",
       " 'dcl_controller_timestamp': 'empty',\n",
       " 'met_relwind_direction_qc_results': 29,\n",
       " 'met_relwind_direction_qc_executed': 29,\n",
       " 'met_current_speed_qc_executed': 29,\n",
       " 'met_netsirr_qc_executed': 29,\n",
       " 'met_current_direction_qc_executed': 29,\n",
       " 'air_temperature': 9.192999839782715,\n",
       " 'barometric_pressure': 1017.77001953125,\n",
       " 'precipitation_qc_results': 29,\n",
       " 'driver_timestamp': 3717918919.7339354,\n",
       " 'met_current_speed_qc_results': 29,\n",
       " 'met_spechum': 5.0257182121276855,\n",
       " 'northward_wind_velocity': 9.699999809265137,\n",
       " 'air_temperature_qc_results': 29,\n",
       " 'met_salsurf_qc_executed': 29,\n",
       " 'eastward_wind_velocity': 7.269999980926514,\n",
       " 'sea_surface_conductivity': 3.693700075149536,\n",
       " 'met_barpres_qc_executed': 29,\n",
       " 'longwave_irradiance_qc_executed': 29,\n",
       " 'sea_surface_conductivity_qc_executed': 29,\n",
       " 'sea_surface_conductivity_qc_results': 29,\n",
       " 'met_windavg_mag_corr_north': 11.186823158100651,\n",
       " 'internal_timestamp': 0.0,\n",
       " 'eastward_wind_velocity_qc_results': 29,\n",
       " 'met_current_direction': 210.8165739234496,\n",
       " 'relative_humidity_qc_results': 29,\n",
       " 'pk': {'node': 'SBD11',\n",
       "  'stream': 'metbk_a_dcl_instrument',\n",
       "  'subsite': 'CP04OSSM',\n",
       "  'deployment': 5,\n",
       "  'time': 3692217549.571,\n",
       "  'sensor': '06-METBKA000',\n",
       "  'method': 'telemetered'},\n",
       " 'eastward_wind_velocity_qc_executed': 29,\n",
       " 'met_relwind_speed_qc_executed': 29,\n",
       " 'met_netsirr': 0.09449999779462814,\n",
       " 'met_spechum_qc_executed': 29,\n",
       " 'longwave_irradiance': 300.79998779296875,\n",
       " 'ingestion_timestamp': 3717918925.9230003,\n",
       " 'port_timestamp': 3692217549.571,\n",
       " 'longwave_irradiance_qc_results': 29,\n",
       " 'sea_surface_temperature_qc_executed': 29,\n",
       " 'met_latnflx_minute': nan,\n",
       " 'barometric_pressure_qc_executed': 29,\n",
       " 'met_spechum_qc_results': 29,\n",
       " 'met_netlirr_minute': nan,\n",
       " 'met_current_speed': 0.05068622428945792,\n",
       " 'ct_depth': 1.067,\n",
       " 'met_salsurf': 33.44276879718055,\n",
       " 'precipitation': 28.510000228881836,\n",
       " 'barometric_pressure_qc_results': 29,\n",
       " 'met_barpres_qc_results': 29,\n",
       " 'preferred_timestamp': 'port_timestamp',\n",
       " 'relative_humidity_qc_executed': 29,\n",
       " 'velpt_ab_dcl_instrument-northward_velocity': -0.043529924607549834,\n",
       " 'air_temperature_qc_executed': 29,\n",
       " 'precipitation_qc_executed': 29,\n",
       " 'shortwave_irradiance': 0.10000000149011612,\n",
       " 'met_sensflx_minute': nan,\n",
       " 'northward_wind_velocity_qc_results': 29,\n",
       " 'met_salsurf_qc_results': 29,\n",
       " 'met_relwind_speed_qc_results': 29,\n",
       " 'relative_humidity': 70.21199798583984,\n",
       " 'sea_surface_temperature': 10.407999992370605,\n",
       " 'time': 3692217549.571,\n",
       " 'velpt_ab_dcl_instrument-eastward_velocity': -0.02596611246186578,\n",
       " 'met_relwind_speed': 12.172175256818166,\n",
       " 'shortwave_irradiance_qc_executed': 29,\n",
       " 'met_netsirr_qc_results': 29,\n",
       " 'met_barpres': 101777.0}"
      ]
     },
     "execution_count": 6,
     "metadata": {},
     "output_type": "execute_result"
    }
   ],
   "source": [
    "data[0]"
   ]
  },
  {
   "cell_type": "markdown",
   "metadata": {
    "colab_type": "text",
    "id": "G1JUMFOhxOeP"
   },
   "source": [
    "Because we didn't didn't specify any parameters, all parameters for this data stream are included, as well as 2 QC variables for each. As we can see, we have quite few variables here, but we can't easily do anything with this, so let's process the result into something we can use.\n",
    "\n",
    "Because times are returned as **seconds since 1/1/1900**, we will need a routine to convert them to a native Python datetime format.  \n",
    "The datetime.utcfromtimestamp() function expects seconds since 1/1/1970, so we also need to adjust for that."
   ]
  },
  {
   "cell_type": "code",
   "execution_count": 7,
   "metadata": {
    "colab": {
     "autoexec": {
      "startup": false,
      "wait_interval": 0
     }
    },
    "colab_type": "code",
    "id": "3BLuhNlNLJN-"
   },
   "outputs": [],
   "source": [
    "# Time Processing Routine\n",
    "ntp_epoch = datetime.datetime(1900, 1, 1)\n",
    "unix_epoch = datetime.datetime(1970, 1, 1)\n",
    "ntp_delta = (unix_epoch - ntp_epoch).total_seconds()\n",
    "\n",
    "def ntp_seconds_to_datetime(ntp_seconds):\n",
    "    return datetime.datetime.utcfromtimestamp(ntp_seconds - ntp_delta).replace(microsecond=0)"
   ]
  },
  {
   "cell_type": "markdown",
   "metadata": {
    "colab_type": "text",
    "id": "CJo5pyoPDHtc"
   },
   "source": [
    "Next we will iterate over the entire data array and save just the parameters we want into new variables."
   ]
  },
  {
   "cell_type": "code",
   "execution_count": 8,
   "metadata": {
    "colab": {
     "autoexec": {
      "startup": false,
      "wait_interval": 0
     }
    },
    "colab_type": "code",
    "id": "xKxGTKtELJOA"
   },
   "outputs": [],
   "source": [
    "# Process the data\n",
    "time = []\n",
    "air_temp = []\n",
    "water_temp = []\n",
    "for i in range(len(data)):\n",
    "  time.append(ntp_seconds_to_datetime(data[i]['time']))\n",
    "  air_temp.append(data[i]['air_temperature'])\n",
    "  water_temp.append(data[i]['sea_surface_temperature'])"
   ]
  },
  {
   "cell_type": "code",
   "execution_count": 9,
   "metadata": {
    "colab": {
     "autoexec": {
      "startup": false,
      "wait_interval": 0
     },
     "base_uri": "https://localhost:8080/",
     "height": 376
    },
    "colab_type": "code",
    "executionInfo": {
     "elapsed": 553,
     "status": "ok",
     "timestamp": 1526398976925,
     "user": {
      "displayName": "Sage Lichtenwalner",
      "photoUrl": "https://lh3.googleusercontent.com/a/default-user=s128",
      "userId": "107661401208389246829"
     },
     "user_tz": 240
    },
    "id": "9F6kEIcSLJOB",
    "outputId": "2b12db00-85d6-47b8-ee45-9dc1c9620d17"
   },
   "outputs": [
    {
     "data": {
      "image/png": "[encoded data removed]",
      "text/plain": [
       "<Figure size 432x288 with 1 Axes>"
      ]
     },
     "metadata": {},
     "output_type": "display_data"
    }
   ],
   "source": [
    "# Let's make a timeseries plot\n",
    "plt.plot_date(time, air_temp, 'r.', label='Air')\n",
    "plt.plot_date(time, water_temp, 'b.', label='Water')\n",
    "plt.xlabel('Date')\n",
    "plt.ylabel('Temperature (C)')\n",
    "plt.title('Data from %s' % (site));\n",
    "plt.legend(frameon=1, facecolor='w');"
   ]
  },
  {
   "cell_type": "markdown",
   "metadata": {
    "colab_type": "text",
    "id": "b8oGtY2AfC8J"
   },
   "source": [
    "## Profiles & Subplots\n",
    "\n",
    "Okay, so we can plot a timeseries of temperature easy enough. Let's try to do some more advanced oceanography by looking at some CTD profiles from the [Pioneer Offshore Profiling Mooring](http://ooi.visualocean.net/sites/view/CP04OSPM)."
   ]
  },
  {
   "cell_type": "code",
   "execution_count": 10,
   "metadata": {
    "colab": {
     "autoexec": {
      "startup": false,
      "wait_interval": 0
     }
    },
    "colab_type": "code",
    "id": "6Nil8v1TjqDL"
   },
   "outputs": [],
   "source": [
    "# Instrument Information\n",
    "site = 'CP04OSPM' #Upstream: CP02PMUO\n",
    "node = 'WFP01'\n",
    "instrument = '03-CTDPFK000'\n",
    "method = 'telemetered'\n",
    "stream = 'ctdpf_ckl_wfp_instrument'\n",
    "\n",
    "data_request_url ='/'.join((API_BASE_URL,site,node,instrument,method,stream))\n",
    "\n",
    "params = {\n",
    "  'beginDT':'2017-10-24T00:00:00.000Z',\n",
    "  'endDT':'2017-10-25T00:00:00.000Z',\n",
    "  'limit':1000,   \n",
    "}"
   ]
  },
  {
   "cell_type": "markdown",
   "metadata": {
    "colab_type": "text",
    "id": "UzomR7jhtncI"
   },
   "source": [
    "To keep things simple, we'll only request one day of data this time.\n",
    "\n",
    "#### Note: Data request lines are commented out to prevent accidental resubmission when running through the entire notebook quickly."
   ]
  },
  {
   "cell_type": "code",
   "execution_count": 11,
   "metadata": {
    "colab": {
     "autoexec": {
      "startup": false,
      "wait_interval": 0
     }
    },
    "colab_type": "code",
    "id": "hevun1CVtJvw"
   },
   "outputs": [],
   "source": [
    "# Grab the data\n",
    "# r = requests.get(data_request_url, params=params, auth=(USERNAME, TOKEN))\n",
    "# data = r.json()"
   ]
  },
  {
   "cell_type": "markdown",
   "metadata": {
    "colab_type": "text",
    "id": "GNcsu9KouVCo"
   },
   "source": [
    "Again, let's take a look at the first item.  The structure is the same, but the variables are different."
   ]
  },
  {
   "cell_type": "code",
   "execution_count": 12,
   "metadata": {
    "colab": {
     "autoexec": {
      "startup": false,
      "wait_interval": 0
     },
     "base_uri": "https://localhost:8080/",
     "height": 575
    },
    "colab_type": "code",
    "executionInfo": {
     "elapsed": 264,
     "status": "ok",
     "timestamp": 1526398984236,
     "user": {
      "displayName": "Sage Lichtenwalner",
      "photoUrl": "https://lh3.googleusercontent.com/a/default-user=s128",
      "userId": "107661401208389246829"
     },
     "user_tz": 240
    },
    "id": "popZa2PsuY91",
    "outputId": "37e57137-ea67-4f59-b585-06d76ede15bf"
   },
   "outputs": [
    {
     "data": {
      "text/plain": [
       "{'practical_salinity': 35.06789209232038,\n",
       " 'ctdpf_ckl_seawater_conductivity_qc_results': 29,\n",
       " 'ctdpf_ckl_seawater_pressure_qc_executed': 29,\n",
       " 'ctdpf_ckl_seawater_temperature_qc_results': 29,\n",
       " 'density_qc_executed': 29,\n",
       " 'driver_timestamp': 3717891868.837419,\n",
       " 'conductivity': 355303,\n",
       " 'practical_salinity_qc_results': 29,\n",
       " 'temperature': 114519,\n",
       " 'density': 1029.462497287565,\n",
       " 'ctdpf_ckl_seawater_pressure': 417.65,\n",
       " 'internal_timestamp': 3717783178.995429,\n",
       " 'pk': {'node': 'WFP01',\n",
       "  'stream': 'ctdpf_ckl_wfp_instrument',\n",
       "  'subsite': 'CP04OSPM',\n",
       "  'deployment': 7,\n",
       "  'time': 3717783178.995429,\n",
       "  'sensor': '03-CTDPFK000',\n",
       "  'method': 'telemetered'},\n",
       " 'ctdpf_ckl_seawater_conductivity_qc_executed': 29,\n",
       " 'ctdpf_ckl_seawater_temperature': 6.4519,\n",
       " 'ingestion_timestamp': 3717891869.525,\n",
       " 'port_timestamp': 0.0,\n",
       " 'time': 3717783178.995429,\n",
       " 'pressure': 42765,\n",
       " 'ctdpf_ckl_seawater_pressure_qc_results': 29,\n",
       " 'preferred_timestamp': 'internal_timestamp',\n",
       " 'practical_salinity_qc_executed': 29,\n",
       " 'ctdpf_ckl_seawater_conductivity': 3.50303,\n",
       " 'density_qc_results': 29,\n",
       " 'ctdpf_ckl_seawater_temperature_qc_executed': 29}"
      ]
     },
     "execution_count": 12,
     "metadata": {},
     "output_type": "execute_result"
    }
   ],
   "source": [
    "data[0]"
   ]
  },
  {
   "cell_type": "markdown",
   "metadata": {
    "colab_type": "text",
    "id": "A8PdO-1auM2p"
   },
   "source": [
    "This time, rather than the crude \"for\" loop we used before to convert the dataset into something usable, let's directly import the data into a pandas array."
   ]
  },
  {
   "cell_type": "code",
   "execution_count": 13,
   "metadata": {
    "colab": {
     "autoexec": {
      "startup": false,
      "wait_interval": 0
     }
    },
    "colab_type": "code",
    "id": "HCIA0zVCEmrX"
   },
   "outputs": [],
   "source": [
    "import pandas as pd\n",
    "import json"
   ]
  },
  {
   "cell_type": "code",
   "execution_count": 14,
   "metadata": {
    "colab": {
     "autoexec": {
      "startup": false,
      "wait_interval": 0
     },
     "base_uri": "https://localhost:8080/",
     "height": 229
    },
    "colab_type": "code",
    "executionInfo": {
     "elapsed": 298,
     "status": "ok",
     "timestamp": 1526399196089,
     "user": {
      "displayName": "Sage Lichtenwalner",
      "photoUrl": "https://lh3.googleusercontent.com/a/default-user=s128",
      "userId": "107661401208389246829"
     },
     "user_tz": 240
    },
    "id": "I0Rg6V6hEs11",
    "outputId": "12d60c5e-95d3-405e-fab4-2c3a4e2d67f4"
   },
   "outputs": [
    {
     "data": {
      "text/html": [
       "<div>\n",
       "<style scoped>\n",
       "    .dataframe tbody tr th:only-of-type {\n",
       "        vertical-align: middle;\n",
       "    }\n",
       "\n",
       "    .dataframe tbody tr th {\n",
       "        vertical-align: top;\n",
       "    }\n",
       "\n",
       "    .dataframe thead th {\n",
       "        text-align: right;\n",
       "    }\n",
       "</style>\n",
       "<table border=\"1\" class=\"dataframe\">\n",
       "  <thead>\n",
       "    <tr style=\"text-align: right;\">\n",
       "      <th></th>\n",
       "      <th>time</th>\n",
       "      <th>ctdpf_ckl_seawater_pressure</th>\n",
       "      <th>ctdpf_ckl_seawater_temperature</th>\n",
       "      <th>density</th>\n",
       "      <th>practical_salinity</th>\n",
       "    </tr>\n",
       "  </thead>\n",
       "  <tbody>\n",
       "    <tr>\n",
       "      <th>0</th>\n",
       "      <td>3.717783e+09</td>\n",
       "      <td>417.65</td>\n",
       "      <td>6.4519</td>\n",
       "      <td>1029.462497</td>\n",
       "      <td>35.067892</td>\n",
       "    </tr>\n",
       "    <tr>\n",
       "      <th>1</th>\n",
       "      <td>3.717792e+09</td>\n",
       "      <td>413.57</td>\n",
       "      <td>6.5647</td>\n",
       "      <td>1029.432291</td>\n",
       "      <td>35.073635</td>\n",
       "    </tr>\n",
       "    <tr>\n",
       "      <th>2</th>\n",
       "      <td>3.717792e+09</td>\n",
       "      <td>413.50</td>\n",
       "      <td>6.5640</td>\n",
       "      <td>1029.432313</td>\n",
       "      <td>35.073941</td>\n",
       "    </tr>\n",
       "    <tr>\n",
       "      <th>3</th>\n",
       "      <td>3.717792e+09</td>\n",
       "      <td>400.61</td>\n",
       "      <td>6.8025</td>\n",
       "      <td>1029.338502</td>\n",
       "      <td>35.073177</td>\n",
       "    </tr>\n",
       "    <tr>\n",
       "      <th>4</th>\n",
       "      <td>3.717792e+09</td>\n",
       "      <td>376.95</td>\n",
       "      <td>7.2963</td>\n",
       "      <td>1029.178622</td>\n",
       "      <td>35.099900</td>\n",
       "    </tr>\n",
       "  </tbody>\n",
       "</table>\n",
       "</div>"
      ],
      "text/plain": [
       "           time  ctdpf_ckl_seawater_pressure  ctdpf_ckl_seawater_temperature  \\\n",
       "0  3.717783e+09                       417.65                          6.4519   \n",
       "1  3.717792e+09                       413.57                          6.5647   \n",
       "2  3.717792e+09                       413.50                          6.5640   \n",
       "3  3.717792e+09                       400.61                          6.8025   \n",
       "4  3.717792e+09                       376.95                          7.2963   \n",
       "\n",
       "       density  practical_salinity  \n",
       "0  1029.462497           35.067892  \n",
       "1  1029.432291           35.073635  \n",
       "2  1029.432313           35.073941  \n",
       "3  1029.338502           35.073177  \n",
       "4  1029.178622           35.099900  "
      ]
     },
     "execution_count": 14,
     "metadata": {},
     "output_type": "execute_result"
    }
   ],
   "source": [
    "# Convert data to pandas array\n",
    "profiler = pd.read_json(json.dumps(data))\n",
    "\n",
    "# Let's keep just the columns we want\n",
    "profiler = profiler[['time','ctdpf_ckl_seawater_pressure','ctdpf_ckl_seawater_temperature','density','practical_salinity']]\n",
    "\n",
    "# Display the first few rows\n",
    "profiler.head(5)"
   ]
  },
  {
   "cell_type": "markdown",
   "metadata": {
    "colab_type": "text",
    "id": "W8aF36uyGSdn"
   },
   "source": [
    "Again, we need to convert time into something usable.  While we're at it, let's also make the new time variable the index for the pandas array, and we'll rename a few columns."
   ]
  },
  {
   "cell_type": "code",
   "execution_count": 15,
   "metadata": {
    "colab": {
     "autoexec": {
      "startup": false,
      "wait_interval": 0
     },
     "base_uri": "https://localhost:8080/",
     "height": 235
    },
    "colab_type": "code",
    "executionInfo": {
     "elapsed": 287,
     "status": "ok",
     "timestamp": 1526399197504,
     "user": {
      "displayName": "Sage Lichtenwalner",
      "photoUrl": "https://lh3.googleusercontent.com/a/default-user=s128",
      "userId": "107661401208389246829"
     },
     "user_tz": 240
    },
    "id": "gXib1qkhGRzW",
    "outputId": "59c28a7f-bec8-4460-c01f-89e29fb50d58"
   },
   "outputs": [
    {
     "data": {
      "text/html": [
       "<div>\n",
       "<style scoped>\n",
       "    .dataframe tbody tr th:only-of-type {\n",
       "        vertical-align: middle;\n",
       "    }\n",
       "\n",
       "    .dataframe tbody tr th {\n",
       "        vertical-align: top;\n",
       "    }\n",
       "\n",
       "    .dataframe thead th {\n",
       "        text-align: right;\n",
       "    }\n",
       "</style>\n",
       "<table border=\"1\" class=\"dataframe\">\n",
       "  <thead>\n",
       "    <tr style=\"text-align: right;\">\n",
       "      <th></th>\n",
       "      <th>time</th>\n",
       "      <th>pressure</th>\n",
       "      <th>temperature</th>\n",
       "      <th>density</th>\n",
       "      <th>practical_salinity</th>\n",
       "    </tr>\n",
       "    <tr>\n",
       "      <th>datetime</th>\n",
       "      <th></th>\n",
       "      <th></th>\n",
       "      <th></th>\n",
       "      <th></th>\n",
       "      <th></th>\n",
       "    </tr>\n",
       "  </thead>\n",
       "  <tbody>\n",
       "    <tr>\n",
       "      <th>2017-10-23 21:32:58</th>\n",
       "      <td>3.717783e+09</td>\n",
       "      <td>417.65</td>\n",
       "      <td>6.4519</td>\n",
       "      <td>1029.462497</td>\n",
       "      <td>35.067892</td>\n",
       "    </tr>\n",
       "    <tr>\n",
       "      <th>2017-10-24 00:00:02</th>\n",
       "      <td>3.717792e+09</td>\n",
       "      <td>413.57</td>\n",
       "      <td>6.5647</td>\n",
       "      <td>1029.432291</td>\n",
       "      <td>35.073635</td>\n",
       "    </tr>\n",
       "    <tr>\n",
       "      <th>2017-10-24 00:01:25</th>\n",
       "      <td>3.717792e+09</td>\n",
       "      <td>413.50</td>\n",
       "      <td>6.5640</td>\n",
       "      <td>1029.432313</td>\n",
       "      <td>35.073941</td>\n",
       "    </tr>\n",
       "    <tr>\n",
       "      <th>2017-10-24 00:02:51</th>\n",
       "      <td>3.717792e+09</td>\n",
       "      <td>400.61</td>\n",
       "      <td>6.8025</td>\n",
       "      <td>1029.338502</td>\n",
       "      <td>35.073177</td>\n",
       "    </tr>\n",
       "    <tr>\n",
       "      <th>2017-10-24 00:04:18</th>\n",
       "      <td>3.717792e+09</td>\n",
       "      <td>376.95</td>\n",
       "      <td>7.2963</td>\n",
       "      <td>1029.178622</td>\n",
       "      <td>35.099900</td>\n",
       "    </tr>\n",
       "  </tbody>\n",
       "</table>\n",
       "</div>"
      ],
      "text/plain": [
       "                             time  pressure  temperature      density  \\\n",
       "datetime                                                                \n",
       "2017-10-23 21:32:58  3.717783e+09    417.65       6.4519  1029.462497   \n",
       "2017-10-24 00:00:02  3.717792e+09    413.57       6.5647  1029.432291   \n",
       "2017-10-24 00:01:25  3.717792e+09    413.50       6.5640  1029.432313   \n",
       "2017-10-24 00:02:51  3.717792e+09    400.61       6.8025  1029.338502   \n",
       "2017-10-24 00:04:18  3.717792e+09    376.95       7.2963  1029.178622   \n",
       "\n",
       "                     practical_salinity  \n",
       "datetime                                 \n",
       "2017-10-23 21:32:58           35.067892  \n",
       "2017-10-24 00:00:02           35.073635  \n",
       "2017-10-24 00:01:25           35.073941  \n",
       "2017-10-24 00:02:51           35.073177  \n",
       "2017-10-24 00:04:18           35.099900  "
      ]
     },
     "execution_count": 15,
     "metadata": {},
     "output_type": "execute_result"
    }
   ],
   "source": [
    "profiler['datetime'] = profiler['time'].apply(ntp_seconds_to_datetime)\n",
    "profiler = profiler.set_index('datetime')\n",
    "profiler.rename(columns={'ctdpf_ckl_seawater_pressure': 'pressure',\n",
    "                        'ctdpf_ckl_seawater_temperature': 'temperature'}, inplace=True)\n",
    "profiler.head()"
   ]
  },
  {
   "cell_type": "markdown",
   "metadata": {
    "colab_type": "text",
    "id": "aP6k--sDHMHz"
   },
   "source": [
    "Now let's make some plots.  Single variable plots are really easy when you have your data in pandas."
   ]
  },
  {
   "cell_type": "code",
   "execution_count": 16,
   "metadata": {
    "colab": {
     "autoexec": {
      "startup": false,
      "wait_interval": 0
     },
     "base_uri": "https://localhost:8080/",
     "height": 350
    },
    "colab_type": "code",
    "executionInfo": {
     "elapsed": 553,
     "status": "ok",
     "timestamp": 1526399202861,
     "user": {
      "displayName": "Sage Lichtenwalner",
      "photoUrl": "https://lh3.googleusercontent.com/a/default-user=s128",
      "userId": "107661401208389246829"
     },
     "user_tz": 240
    },
    "id": "yqyUKSbJHKcx",
    "outputId": "6014ea1e-6fda-4e0e-e8db-d2f06e082447"
   },
   "outputs": [
    {
     "data": {
      "image/png": "[encoded data removed]",
      "text/plain": [
       "<Figure size 432x288 with 1 Axes>"
      ]
     },
     "metadata": {},
     "output_type": "display_data"
    }
   ],
   "source": [
    "profiler['pressure'].plot(kind='line',marker='.').invert_yaxis();\n",
    "# Also try, kind='hist' or 'box'"
   ]
  },
  {
   "cell_type": "code",
   "execution_count": 17,
   "metadata": {
    "colab": {
     "autoexec": {
      "startup": false,
      "wait_interval": 0
     },
     "base_uri": "https://localhost:8080/",
     "height": 376
    },
    "colab_type": "code",
    "executionInfo": {
     "elapsed": 420,
     "status": "ok",
     "timestamp": 1526399213239,
     "user": {
      "displayName": "Sage Lichtenwalner",
      "photoUrl": "https://lh3.googleusercontent.com/a/default-user=s128",
      "userId": "107661401208389246829"
     },
     "user_tz": 240
    },
    "id": "titdCXsw_ibc",
    "outputId": "a3ac457a-c437-4e44-e13e-3ce742e1ece3"
   },
   "outputs": [
    {
     "data": {
      "image/png": "[encoded data removed]",
      "text/plain": [
       "<Figure size 432x288 with 1 Axes>"
      ]
     },
     "metadata": {},
     "output_type": "display_data"
    }
   ],
   "source": [
    "# Or, the old fashined Matplotlib way, let's make a timeseries of pressure\n",
    "plt.plot_date(profiler.index,profiler.pressure,'r.')\n",
    "plt.gca().invert_yaxis()\n",
    "plt.xlabel('Time')\n",
    "plt.ylabel('Pressure (db)')\n",
    "plt.title('Pressure data from %s' % site);"
   ]
  },
  {
   "cell_type": "markdown",
   "metadata": {
    "colab_type": "text",
    "id": "iLBU3wiRN_sb"
   },
   "source": [
    "And now, let's make 2 subplots showing profiles of both temperature and salinity."
   ]
  },
  {
   "cell_type": "code",
   "execution_count": 18,
   "metadata": {
    "colab": {
     "autoexec": {
      "startup": false,
      "wait_interval": 0
     },
     "base_uri": "https://localhost:8080/",
     "height": 400
    },
    "colab_type": "code",
    "executionInfo": {
     "elapsed": 557,
     "status": "ok",
     "timestamp": 1526399225724,
     "user": {
      "displayName": "Sage Lichtenwalner",
      "photoUrl": "https://lh3.googleusercontent.com/a/default-user=s128",
      "userId": "107661401208389246829"
     },
     "user_tz": 240
    },
    "id": "yo4UrkpCwzT2",
    "outputId": "abfa4a46-8339-40aa-da7c-03216391baf0"
   },
   "outputs": [
    {
     "data": {
      "image/png": "[encoded data removed]",
      "text/plain": [
       "<Figure size 432x288 with 2 Axes>"
      ]
     },
     "metadata": {},
     "output_type": "display_data"
    }
   ],
   "source": [
    "fig, (ax1, ax2) = plt.subplots(1, 2, sharey=True)\n",
    "\n",
    "ax1.plot(profiler.temperature,profiler.pressure,'r.')\n",
    "ax1.invert_yaxis()\n",
    "ax1.set_xlabel('Temperature (C)')\n",
    "ax1.set_ylabel('Pressure (dm)')\n",
    "\n",
    "ax2.plot(profiler.practical_salinity,profiler.pressure,'r.')\n",
    "ax2.set_xlabel('Salinity (psu)')\n",
    "\n",
    "fig.suptitle('CTD data from %s' % site)\n",
    "fig.subplots_adjust(top=0.9);"
   ]
  },
  {
   "cell_type": "markdown",
   "metadata": {
    "colab_type": "text",
    "id": "Gs0Vr43WfCyw"
   },
   "source": [
    "## TS Diagram\n",
    "\n",
    "You can't call yourself a Physical Oceanographer without making a TS diagram. "
   ]
  },
  {
   "cell_type": "code",
   "execution_count": 19,
   "metadata": {
    "colab": {
     "autoexec": {
      "startup": false,
      "wait_interval": 0
     },
     "base_uri": "https://localhost:8080/",
     "height": 376
    },
    "colab_type": "code",
    "executionInfo": {
     "elapsed": 388,
     "status": "ok",
     "timestamp": 1526399251793,
     "user": {
      "displayName": "Sage Lichtenwalner",
      "photoUrl": "https://lh3.googleusercontent.com/a/default-user=s128",
      "userId": "107661401208389246829"
     },
     "user_tz": 240
    },
    "id": "vSEDQjTKP72o",
    "outputId": "094632bc-fd02-4b3a-a5b1-2f7ba67f56a3"
   },
   "outputs": [
    {
     "data": {
      "image/png": "[encoded data removed]",
      "text/plain": [
       "<Figure size 432x288 with 1 Axes>"
      ]
     },
     "metadata": {},
     "output_type": "display_data"
    }
   ],
   "source": [
    "plt.plot(profiler.practical_salinity, profiler.temperature, '.')\n",
    "plt.xlabel('Salinity')\n",
    "plt.ylabel('Temperature (C)')\n",
    "plt.title('Data from %s' % site);"
   ]
  },
  {
   "cell_type": "markdown",
   "metadata": {
    "colab_type": "text",
    "id": "NI1TYfuFQQMo"
   },
   "source": [
    "That's nice, but we can do better.  First, let's color the dots by pressure.  We'll use the \"deep\" colormap from the [cmocean](https://matplotlib.org/cmocean/#deep) library."
   ]
  },
  {
   "cell_type": "code",
   "execution_count": 23,
   "metadata": {
    "colab": {
     "autoexec": {
      "startup": false,
      "wait_interval": 0
     },
     "base_uri": "https://localhost:8080/",
     "height": 96
    },
    "colab_type": "code",
    "executionInfo": {
     "elapsed": 2349,
     "status": "ok",
     "timestamp": 1526399254970,
     "user": {
      "displayName": "Sage Lichtenwalner",
      "photoUrl": "https://lh3.googleusercontent.com/a/default-user=s128",
      "userId": "107661401208389246829"
     },
     "user_tz": 240
    },
    "id": "pDxycwDAP3yE",
    "outputId": "0c43fac0-109b-46c7-c9c7-2b7a8b445642"
   },
   "outputs": [],
   "source": [
    "import cmocean"
   ]
  },
  {
   "cell_type": "code",
   "execution_count": 24,
   "metadata": {
    "colab": {
     "autoexec": {
      "startup": false,
      "wait_interval": 0
     },
     "base_uri": "https://localhost:8080/",
     "height": 376
    },
    "colab_type": "code",
    "executionInfo": {
     "elapsed": 555,
     "status": "ok",
     "timestamp": 1526399255569,
     "user": {
      "displayName": "Sage Lichtenwalner",
      "photoUrl": "https://lh3.googleusercontent.com/a/default-user=s128",
      "userId": "107661401208389246829"
     },
     "user_tz": 240
    },
    "id": "3cteU_arsWqz",
    "outputId": "2f946b82-fc61-43f6-b779-e93a4b64a83c"
   },
   "outputs": [
    {
     "data": {
      "image/png": "[encoded data removed]",
      "text/plain": [
       "<Figure size 432x288 with 2 Axes>"
      ]
     },
     "metadata": {},
     "output_type": "display_data"
    }
   ],
   "source": [
    "sc = plt.scatter(profiler.practical_salinity, profiler.temperature, \n",
    "            c = profiler.pressure, cmap=cmocean.cm.deep)\n",
    "plt.colorbar(sc)    \n",
    "plt.xlabel('Salinity')\n",
    "plt.ylabel('Temperature (C)')\n",
    "plt.title('Data from %s' % site);"
   ]
  },
  {
   "cell_type": "markdown",
   "metadata": {
    "colab_type": "text",
    "id": "0GHyUMvaOmyr"
   },
   "source": [
    "And now, let's add the density contours, as demonstrated by the example shown on [Ocean Python T-S Diagram](https://oceanpython.org/2013/02/17/t-s-diagram/), though we will use meshgrid instead.  \n",
    "\n",
    "To calculate density, we will need the wonderful [seawater](https://pythonhosted.org/seawater/index.html) library."
   ]
  },
  {
   "cell_type": "code",
   "execution_count": 25,
   "metadata": {
    "colab": {
     "autoexec": {
      "startup": false,
      "wait_interval": 0
     },
     "base_uri": "https://localhost:8080/",
     "height": 83
    },
    "colab_type": "code",
    "executionInfo": {
     "elapsed": 2247,
     "status": "ok",
     "timestamp": 1526399260256,
     "user": {
      "displayName": "Sage Lichtenwalner",
      "photoUrl": "https://lh3.googleusercontent.com/a/default-user=s128",
      "userId": "107661401208389246829"
     },
     "user_tz": 240
    },
    "id": "KalfzTXkrvru",
    "outputId": "c955382e-83e6-46a1-c72d-71727f7b7be7"
   },
   "outputs": [],
   "source": [
    "import seawater\n",
    "import numpy as np "
   ]
  },
  {
   "cell_type": "code",
   "execution_count": 26,
   "metadata": {
    "colab": {
     "autoexec": {
      "startup": false,
      "wait_interval": 0
     },
     "base_uri": "https://localhost:8080/",
     "height": 376
    },
    "colab_type": "code",
    "executionInfo": {
     "elapsed": 907,
     "status": "ok",
     "timestamp": 1526399268250,
     "user": {
      "displayName": "Sage Lichtenwalner",
      "photoUrl": "https://lh3.googleusercontent.com/a/default-user=s128",
      "userId": "107661401208389246829"
     },
     "user_tz": 240
    },
    "id": "UpLzeAYQTKNg",
    "outputId": "b94ab535-ea00-4062-ddfb-edaa48fb0dc4"
   },
   "outputs": [
    {
     "data": {
      "image/png": "[encoded data removed]",
      "text/plain": [
       "<Figure size 432x288 with 2 Axes>"
      ]
     },
     "metadata": {},
     "output_type": "display_data"
    }
   ],
   "source": [
    "# TS Diagram with density contours\n",
    "x = np.arange(34, 36, .1)\n",
    "y = np.arange(5, 25, .1)\n",
    "X, Y = np.meshgrid(x, y)\n",
    "\n",
    "Z = seawater.eos80.dens0(X,Y) - 1000 # Substract 1000 to convert to sigma-t\n",
    "\n",
    "CS = plt.contour(X, Y, Z, colors='grey', linestyles='dashed')\n",
    "plt.clabel(CS, inline=1, fontsize=10, fmt='%1.0f')\n",
    "\n",
    "\n",
    "sc = plt.scatter(profiler.practical_salinity, profiler.temperature, \n",
    "            c = profiler.pressure, cmap=cmocean.cm.deep)\n",
    "\n",
    "cb = plt.colorbar(sc)    \n",
    "cb.set_label('Pressure (dbar)')\n",
    "\n",
    "plt.xlabel('Salinity')\n",
    "plt.ylabel('Temperature (C)')\n",
    "plt.title('Data from %s' % site);"
   ]
  },
  {
   "cell_type": "markdown",
   "metadata": {
    "colab_type": "text",
    "id": "1qoH7JBZNqWd"
   },
   "source": [
    "## Some More Hot Fun\n",
    "\n",
    "Finally, let's take a look at some data from the [3D Thermistor Array](http://ooi.visualocean.net/instruments/view/RS03ASHS-MJ03B-07-TMPSFA301) (TMPSF) deployed in the ASHES Vent field at Axial Seamount.\n",
    "\n",
    "We can find the ingredients to build the `data_request_url` from the above link.\n",
    "\n",
    "![RS03ASHS-MJ03B-07-TMPSFA301](https://github.com/ooi-data-review/ooi_datateam_notebooks/raw/master/images/RS03ASHS-MJ03B-07-TMPSFA301.png)"
   ]
  },
  {
   "cell_type": "code",
   "execution_count": 27,
   "metadata": {
    "colab": {
     "autoexec": {
      "startup": false,
      "wait_interval": 0
     }
    },
    "colab_type": "code",
    "id": "hvEJbYE9NqXK"
   },
   "outputs": [],
   "source": [
    "subsite = 'RS03ASHS'\n",
    "node = 'MJ03B'\n",
    "sensor = '07-TMPSFA301'\n",
    "method = 'streamed'\n",
    "stream = 'tmpsf_sample'\n",
    "beginDT = '2017-09-04T10:01:01.000Z'\n",
    "endDT = '2017-09-05T10:01:01.000Z'"
   ]
  },
  {
   "cell_type": "markdown",
   "metadata": {
    "colab_type": "text",
    "id": "kxVKB_jONqXM"
   },
   "source": [
    "Send the data request.\n",
    "#### Note: Data request lines are commented out to prevent accidental resubmission when running through the entire notebook quickly."
   ]
  },
  {
   "cell_type": "code",
   "execution_count": 28,
   "metadata": {
    "colab": {
     "autoexec": {
      "startup": false,
      "wait_interval": 0
     }
    },
    "colab_type": "code",
    "id": "SOOxVNjINqXN"
   },
   "outputs": [],
   "source": [
    "base_url = 'https://ooinet.oceanobservatories.org/api/m2m/12576/sensor/inv/'\n",
    "\n",
    "data_request_url ='/'.join((base_url,subsite,node,sensor,method,stream))\n",
    "params = {\n",
    "    'beginDT':beginDT,\n",
    "    'endDT':endDT,\n",
    "    'limit':1000,   \n",
    "}\n",
    "\n",
    "# Grab the data\n",
    "# r = requests.get(data_request_url, params=params, auth=(USERNAME, TOKEN))\n",
    "# data = r.json()"
   ]
  },
  {
   "cell_type": "markdown",
   "metadata": {
    "colab_type": "text",
    "id": "yu4IT88oNqXU"
   },
   "source": [
    "Again, let's take a look at the first data point."
   ]
  },
  {
   "cell_type": "code",
   "execution_count": 29,
   "metadata": {
    "colab": {
     "autoexec": {
      "startup": false,
      "wait_interval": 0
     },
     "base_uri": "https://localhost:8080/",
     "height": 1601
    },
    "colab_type": "code",
    "executionInfo": {
     "elapsed": 239,
     "status": "ok",
     "timestamp": 1526399500677,
     "user": {
      "displayName": "Sage Lichtenwalner",
      "photoUrl": "https://lh3.googleusercontent.com/a/default-user=s128",
      "userId": "107661401208389246829"
     },
     "user_tz": 240
    },
    "id": "Ce2N9bmxNqXV",
    "outputId": "528b43d7-95d5-401a-e024-9ab14cb3af4a"
   },
   "outputs": [
    {
     "data": {
      "text/plain": [
       "{'temperature14_qc_executed': 29,\n",
       " 'temperature06_qc_executed': 29,\n",
       " 'temperature23': 3.297300100326538,\n",
       " 'temperature24_qc_executed': 29,\n",
       " 'temperature22': 2.544100046157837,\n",
       " 'temperature23_qc_results': 29,\n",
       " 'temperature22_qc_executed': 29,\n",
       " 'temperature09_qc_executed': 29,\n",
       " 'temperature03': 3.6041998863220215,\n",
       " 'temperature02': 2.591599941253662,\n",
       " 'temperature01': 5.789999961853027,\n",
       " 'temperature07_qc_results': 29,\n",
       " 'temperature07': 3.7725000381469727,\n",
       " 'temperature06': 2.5734000205993652,\n",
       " 'temperature05': 5.702000141143799,\n",
       " 'temperature04': 2.6401000022888184,\n",
       " 'temperature15_qc_results': 29,\n",
       " 'temperature05_qc_results': 29,\n",
       " 'temperature09': 2.904099941253662,\n",
       " 'temperature08': 5.832799911499023,\n",
       " 'temperature11_qc_results': 29,\n",
       " 'temperature08_qc_executed': 29,\n",
       " 'temperature20_qc_executed': 29,\n",
       " 'driver_timestamp': 3713508060.548236,\n",
       " 'temperature06_qc_results': 29,\n",
       " 'battery_voltage': 12.029500007629395,\n",
       " 'temperature23_qc_executed': 29,\n",
       " 'temperature16_qc_results': 29,\n",
       " 'temperature17_qc_executed': 29,\n",
       " 'temperature11_qc_executed': 29,\n",
       " 'temperature14': 5.3520002365112305,\n",
       " 'internal_timestamp': 3157435790.0,\n",
       " 'temperature08_qc_results': 29,\n",
       " 'temperature15': 4.105000019073486,\n",
       " 'serial_number': '021969',\n",
       " 'temperature12_qc_executed': 29,\n",
       " 'temperature07_qc_executed': 29,\n",
       " 'temperature16': 2.5892999172210693,\n",
       " 'temperature03_qc_executed': 29,\n",
       " 'temperature24_qc_results': 29,\n",
       " 'temperature04_qc_executed': 29,\n",
       " 'temperature10_qc_results': 29,\n",
       " 'temperature18': 2.5796000957489014,\n",
       " 'temperature19': 3.3324999809265137,\n",
       " 'temperature14_qc_results': 29,\n",
       " 'ingestion_timestamp': 3713508063.552,\n",
       " 'timestamp': '3.15743579E9',\n",
       " 'port_timestamp': 3713508060.3277225,\n",
       " 'temperature17': 2.6477999687194824,\n",
       " 'temperature10': 3.8406999111175537,\n",
       " 'temperature11': 2.5745999813079834,\n",
       " 'temperature12': 2.9275999069213867,\n",
       " 'temperature13': 2.59660005569458,\n",
       " 'temperature12_qc_results': 29,\n",
       " 'temperature05_qc_executed': 29,\n",
       " 'temperature19_qc_results': 29,\n",
       " 'temperature10_qc_executed': 29,\n",
       " 'temperature21_qc_executed': 29,\n",
       " 'temperature20_qc_results': 29,\n",
       " 'temperature13_qc_results': 29,\n",
       " 'temperature03_qc_results': 29,\n",
       " 'pk': {'node': 'MJ03B',\n",
       "  'stream': 'tmpsf_sample',\n",
       "  'subsite': 'RS03ASHS',\n",
       "  'deployment': 3,\n",
       "  'time': 3713508060.3277225,\n",
       "  'sensor': '07-TMPSFA301',\n",
       "  'method': 'streamed'},\n",
       " 'temperature16_qc_executed': 29,\n",
       " 'temperature02_qc_results': 29,\n",
       " 'preferred_timestamp': 'port_timestamp',\n",
       " 'temperature04_qc_results': 29,\n",
       " 'temperature18_qc_executed': 29,\n",
       " 'temperature17_qc_results': 29,\n",
       " 'temperature24': 2.533400058746338,\n",
       " 'temperature22_qc_results': 29,\n",
       " 'temperature02_qc_executed': 29,\n",
       " 'temperature13_qc_executed': 29,\n",
       " 'temperature01_qc_executed': 29,\n",
       " 'temperature21_qc_results': 29,\n",
       " 'temperature01_qc_results': 29,\n",
       " 'temperature19_qc_executed': 29,\n",
       " 'time': 3713508060.3277225,\n",
       " 'temperature18_qc_results': 29,\n",
       " 'temperature21': 5.546500205993652,\n",
       " 'temperature09_qc_results': 29,\n",
       " 'temperature15_qc_executed': 29,\n",
       " 'temperature20': 3.0499000549316406}"
      ]
     },
     "execution_count": 29,
     "metadata": {},
     "output_type": "execute_result"
    }
   ],
   "source": [
    "data[0]"
   ]
  },
  {
   "cell_type": "markdown",
   "metadata": {
    "colab_type": "text",
    "id": "HAkO9LbzNqXZ"
   },
   "source": [
    "So, we have a bunch of temperature values from the array we can play with.\n",
    "\n",
    "Remember, time stamps are returned as seconds since 1900-01-01.\n",
    "\n",
    "This time, let's use the NetCDF library to quickly convert the datetime values. Specifically...\n",
    "\n",
    "`nc.num2date(timstamp,'seconds since 1900-01-01')`"
   ]
  },
  {
   "cell_type": "code",
   "execution_count": 30,
   "metadata": {
    "colab": {
     "autoexec": {
      "startup": false,
      "wait_interval": 0
     },
     "base_uri": "https://localhost:8080/",
     "height": 348
    },
    "colab_type": "code",
    "executionInfo": {
     "elapsed": 30153,
     "status": "ok",
     "timestamp": 1526399691124,
     "user": {
      "displayName": "Sage Lichtenwalner",
      "photoUrl": "https://lh3.googleusercontent.com/a/default-user=s128",
      "userId": "107661401208389246829"
     },
     "user_tz": 240
    },
    "id": "PwNYjAt1NqXX",
    "outputId": "561ba2e9-556a-4dba-b86b-5960a9213e6a"
   },
   "outputs": [],
   "source": [
    "import netCDF4 as nc"
   ]
  },
  {
   "cell_type": "code",
   "execution_count": 31,
   "metadata": {
    "colab": {
     "autoexec": {
      "startup": false,
      "wait_interval": 0
     }
    },
    "colab_type": "code",
    "id": "vq645NeUNqXZ"
   },
   "outputs": [],
   "source": [
    "time = []\n",
    "temperature01 = []\n",
    "\n",
    "for i in range(len(data)):\n",
    "    time.append(nc.num2date(data[i]['time'],'seconds since 1900-01-01').replace(microsecond=0))\n",
    "    temperature01.append(data[i]['temperature01'])"
   ]
  },
  {
   "cell_type": "markdown",
   "metadata": {
    "colab_type": "text",
    "id": "pkT5pLh_NqXb"
   },
   "source": [
    "A quick plot shows what appears to be a tidally influenced temperature signal."
   ]
  },
  {
   "cell_type": "code",
   "execution_count": 32,
   "metadata": {
    "colab": {
     "autoexec": {
      "startup": false,
      "wait_interval": 0
     },
     "base_uri": "https://localhost:8080/",
     "height": 401
    },
    "colab_type": "code",
    "executionInfo": {
     "elapsed": 1007,
     "status": "ok",
     "timestamp": 1526399696182,
     "user": {
      "displayName": "Sage Lichtenwalner",
      "photoUrl": "https://lh3.googleusercontent.com/a/default-user=s128",
      "userId": "107661401208389246829"
     },
     "user_tz": 240
    },
    "id": "xRjvn3jBNqXc",
    "outputId": "a273a346-7f78-4dff-c679-1353dc62ffd8"
   },
   "outputs": [
    {
     "data": {
      "image/png": "[encoded data removed]",
      "text/plain": [
       "<Figure size 432x288 with 1 Axes>"
      ]
     },
     "metadata": {},
     "output_type": "display_data"
    }
   ],
   "source": [
    "plt.plot(time, temperature01, marker=\".\", markersize=1, linestyle=None)\n",
    "plt.ylabel('Temperature $^\\circ$C')\n",
    "plt.xlabel('Time')\n",
    "plt.xticks(rotation=30)\n",
    "plt.tight_layout()\n",
    "plt.show()"
   ]
  },
  {
   "cell_type": "markdown",
   "metadata": {
    "colab_type": "text",
    "id": "DbCFjM1RNqXe"
   },
   "source": [
    "Adding in another measurements from another thermistor we can nicely see that the diffuse fluid might be wafting back and for across the 3D array with the tidal current."
   ]
  },
  {
   "cell_type": "code",
   "execution_count": 33,
   "metadata": {
    "colab": {
     "autoexec": {
      "startup": false,
      "wait_interval": 0
     }
    },
    "colab_type": "code",
    "id": "sCkuiMB6NqXf"
   },
   "outputs": [],
   "source": [
    "temperature03 = []\n",
    "for i in range(len(data)):\n",
    "    temperature03.append(data[i]['temperature03'])"
   ]
  },
  {
   "cell_type": "code",
   "execution_count": 34,
   "metadata": {
    "colab": {
     "autoexec": {
      "startup": false,
      "wait_interval": 0
     },
     "base_uri": "https://localhost:8080/",
     "height": 401
    },
    "colab_type": "code",
    "executionInfo": {
     "elapsed": 675,
     "status": "ok",
     "timestamp": 1526399710120,
     "user": {
      "displayName": "Sage Lichtenwalner",
      "photoUrl": "https://lh3.googleusercontent.com/a/default-user=s128",
      "userId": "107661401208389246829"
     },
     "user_tz": 240
    },
    "id": "amHfdGq1NqXg",
    "outputId": "8a88b632-2fc8-4aa3-ef8d-bf1afe37e6a8"
   },
   "outputs": [
    {
     "data": {
      "image/png": "[encoded data removed]",
      "text/plain": [
       "<Figure size 432x288 with 2 Axes>"
      ]
     },
     "metadata": {},
     "output_type": "display_data"
    }
   ],
   "source": [
    "fig, (ax1, ax2) = plt.subplots(2, sharex=True, sharey=True)\n",
    "ax1.plot(time, temperature01, marker=\".\", markersize=1, linestyle=None)\n",
    "ax2.plot(time, temperature03, marker=\".\", markersize=1, linestyle=None)\n",
    "ax1.set_ylabel('T01 $^\\circ$C')\n",
    "ax2.set_ylabel('T03 $^\\circ$C')\n",
    "plt.xlabel('Time')\n",
    "plt.xticks(rotation=30)\n",
    "plt.tight_layout()\n",
    "# fig.subplots_adjust(hspace=0)\n",
    "plt.setp([a.get_xticklabels() for a in fig.axes[:-1]], visible=False)\n",
    "plt.show()"
   ]
  },
  {
   "cell_type": "markdown",
   "metadata": {
    "colab_type": "text",
    "id": "NkFBLdNINqXh"
   },
   "source": [
    "Finally, we can pull in some pressure data for a closer look at the tidal relationship.\n",
    "#### Note: Data request lines are commented out to prevent accidental resubmission when running through the entire notebook quickly."
   ]
  },
  {
   "cell_type": "code",
   "execution_count": 35,
   "metadata": {
    "colab": {
     "autoexec": {
      "startup": false,
      "wait_interval": 0
     }
    },
    "colab_type": "code",
    "id": "F60XnTDdNqXi"
   },
   "outputs": [],
   "source": [
    "subsite = 'RS03ASHS'\n",
    "node = 'MJ03B'\n",
    "sensor = '09-BOTPTA304'\n",
    "method = 'streamed'\n",
    "stream = 'botpt_nano_sample'\n",
    "beginDT = '2017-09-04T10:01:01.000Z'\n",
    "endDT = '2017-09-05T10:01:01.000Z'\n",
    "\n",
    "data_request_url ='/'.join((base_url,subsite,node,sensor,method,stream))\n",
    "params = {\n",
    "    'beginDT':beginDT,\n",
    "    'endDT':endDT,\n",
    "    'limit':1000,   \n",
    "}\n",
    "\n",
    "# Grab the data\n",
    "# r = requests.get(data_request_url, params=params, auth=(USERNAME, TOKEN))\n",
    "# data = r.json()"
   ]
  },
  {
   "cell_type": "markdown",
   "metadata": {
    "colab_type": "text",
    "id": "NteQbv4lNqXj"
   },
   "source": [
    "Extract the pressure variable from the response and convert the time stamps"
   ]
  },
  {
   "cell_type": "code",
   "execution_count": 36,
   "metadata": {
    "colab": {
     "autoexec": {
      "startup": false,
      "wait_interval": 0
     }
    },
    "colab_type": "code",
    "id": "Z7OYxmUfNqXj"
   },
   "outputs": [],
   "source": [
    "botpt_time = []\n",
    "bottom_pressure = []\n",
    "for i in range(len(data)):\n",
    "    botpt_time.append(nc.num2date(data[i]['time'],'seconds since 1900-01-01').replace(microsecond=0))\n",
    "    bottom_pressure.append(data[i]['bottom_pressure'])"
   ]
  },
  {
   "cell_type": "markdown",
   "metadata": {
    "colab_type": "text",
    "id": "4N2mTjPhNqXl"
   },
   "source": [
    "Plot co-located temperature 01, 03 and bottom pressure."
   ]
  },
  {
   "cell_type": "code",
   "execution_count": 37,
   "metadata": {
    "colab": {
     "autoexec": {
      "startup": false,
      "wait_interval": 0
     },
     "base_uri": "https://localhost:8080/",
     "height": 379
    },
    "colab_type": "code",
    "executionInfo": {
     "elapsed": 726,
     "status": "ok",
     "timestamp": 1526399757994,
     "user": {
      "displayName": "Sage Lichtenwalner",
      "photoUrl": "https://lh3.googleusercontent.com/a/default-user=s128",
      "userId": "107661401208389246829"
     },
     "user_tz": 240
    },
    "id": "7oMbgOtaNqXm",
    "outputId": "bc702219-2cef-44ff-f61f-e81f110eb747"
   },
   "outputs": [
    {
     "data": {
      "image/png": "[encoded data removed]",
      "text/plain": [
       "<Figure size 432x288 with 3 Axes>"
      ]
     },
     "metadata": {},
     "output_type": "display_data"
    }
   ],
   "source": [
    "fig, (ax1, ax2, ax3) = plt.subplots(3, sharex=True, sharey=False)\n",
    "ax1.plot(time, temperature01, marker=\".\", markersize=1, linestyle=None)\n",
    "ax2.plot(time, temperature03, marker=\".\", markersize=1, linestyle=None)\n",
    "ax3.plot(botpt_time, bottom_pressure, marker=\".\", markersize=1, linestyle=None)\n",
    "ax1.set_ylabel('T01 $^\\circ$C')\n",
    "ax2.set_ylabel('T03 $^\\circ$C')\n",
    "ax3.set_ylabel('psia')\n",
    "plt.xlabel('Time')\n",
    "plt.xticks(rotation=30)\n",
    "# plt.tight_layout()\n",
    "# fig.subplots_adjust(hspace=0)\n",
    "# plt.setp([a.get_xticklabels() for a in fig.axes[:-1]], visible=False)\n",
    "plt.show()"
   ]
  },
  {
   "cell_type": "markdown",
   "metadata": {
    "colab_type": "text",
    "id": "72KvxpH-NqXo"
   },
   "source": [
    "## Bokeh Plots\n",
    "\n",
    "Because, why not?"
   ]
  },
  {
   "cell_type": "code",
   "execution_count": 38,
   "metadata": {
    "colab": {
     "autoexec": {
      "startup": false,
      "wait_interval": 0
     },
     "base_uri": "https://localhost:8080/",
     "height": 456
    },
    "colab_type": "code",
    "executionInfo": {
     "elapsed": 7885,
     "status": "ok",
     "timestamp": 1526399798772,
     "user": {
      "displayName": "Sage Lichtenwalner",
      "photoUrl": "https://lh3.googleusercontent.com/a/default-user=s128",
      "userId": "107661401208389246829"
     },
     "user_tz": 240
    },
    "id": "-YMTBo4vNqXo",
    "outputId": "a07b8d4b-86ef-4c55-80aa-a18d39a155f3"
   },
   "outputs": [],
   "source": [
    "# Import Bokeh functions\n",
    "import os\n",
    "from bokeh.plotting import figure, output_file, reset_output, show, ColumnDataSource, save\n",
    "from bokeh.layouts import column\n",
    "from bokeh.models import BoxAnnotation\n",
    "from bokeh.io import output_notebook # required to display Bokeh visualization in notebook"
   ]
  },
  {
   "cell_type": "code",
   "execution_count": 40,
   "metadata": {
    "colab": {
     "autoexec": {
      "startup": false,
      "wait_interval": 0
     },
     "base_uri": "https://localhost:8080/",
     "height": 1005
    },
    "colab_type": "code",
    "executionInfo": {
     "elapsed": 689,
     "status": "ok",
     "timestamp": 1526400001223,
     "user": {
      "displayName": "Sage Lichtenwalner",
      "photoUrl": "https://lh3.googleusercontent.com/a/default-user=s128",
      "userId": "107661401208389246829"
     },
     "user_tz": 240
    },
    "id": "XkIlQDZ2NqXp",
    "outputId": "4b1a3ba9-8ad4-4f33-ed83-de8a87490494"
   },
   "outputs": [
    {
     "name": "stderr",
     "output_type": "stream",
     "text": [
      "/opt/conda/lib/python3.6/site-packages/bokeh/models/sources.py:138: BokehUserWarning: ColumnDataSource's columns must be of the same length. Current lengths: ('x', 1001), ('y1', 1001), ('y2', 1001), ('y3', 1000)\n",
      "  \"Current lengths: %s\" % \", \".join(sorted(str((k, len(v))) for k, v in data.items())), BokehUserWarning))\n"
     ]
    },
    {
     "data": {
      "text/html": [
       "\n",
       "    <div class=\"bk-root\">\n",
       "        <a href=\"https://bokeh.pydata.org\" target=\"_blank\" class=\"bk-logo bk-logo-small bk-logo-notebook\"></a>\n",
       "        <span id=\"ec72e039-60b2-4a64-bef3-c771ed98d724\">Loading BokehJS ...</span>\n",
       "    </div>"
      ]
     },
     "metadata": {},
     "output_type": "display_data"
    },
    {
     "data": {
      "application/javascript": [
       "\n",
       "(function(root) {\n",
       "  function now() {\n",
       "    return new Date();\n",
       "  }\n",
       "\n",
       "  var force = true;\n",
       "\n",
       "  if (typeof (root._bokeh_onload_callbacks) === \"undefined\" || force === true) {\n",
       "    root._bokeh_onload_callbacks = [];\n",
       "    root._bokeh_is_loading = undefined;\n",
       "  }\n",
       "\n",
       "  var JS_MIME_TYPE = 'application/javascript';\n",
       "  var HTML_MIME_TYPE = 'text/html';\n",
       "  var EXEC_MIME_TYPE = 'application/vnd.bokehjs_exec.v0+json';\n",
       "  var CLASS_NAME = 'output_bokeh rendered_html';\n",
       "\n",
       "  /**\n",
       "   * Render data to the DOM node\n",
       "   */\n",
       "  function render(props, node) {\n",
       "    var script = document.createElement(\"script\");\n",
       "    node.appendChild(script);\n",
       "  }\n",
       "\n",
       "  /**\n",
       "   * Handle when an output is cleared or removed\n",
       "   */\n",
       "  function handleClearOutput(event, handle) {\n",
       "    var cell = handle.cell;\n",
       "\n",
       "    var id = cell.output_area._bokeh_element_id;\n",
       "    var server_id = cell.output_area._bokeh_server_id;\n",
       "    // Clean up Bokeh references\n",
       "    if (id !== undefined) {\n",
       "      Bokeh.index[id].model.document.clear();\n",
       "      delete Bokeh.index[id];\n",
       "    }\n",
       "\n",
       "    if (server_id !== undefined) {\n",
       "      // Clean up Bokeh references\n",
       "      var cmd = \"from bokeh.io.state import curstate; print(curstate().uuid_to_server['\" + server_id + \"'].get_sessions()[0].document.roots[0]._id)\";\n",
       "      cell.notebook.kernel.execute(cmd, {\n",
       "        iopub: {\n",
       "          output: function(msg) {\n",
       "            var element_id = msg.content.text.trim();\n",
       "            Bokeh.index[element_id].model.document.clear();\n",
       "            delete Bokeh.index[element_id];\n",
       "          }\n",
       "        }\n",
       "      });\n",
       "      // Destroy server and session\n",
       "      var cmd = \"import bokeh.io.notebook as ion; ion.destroy_server('\" + server_id + \"')\";\n",
       "      cell.notebook.kernel.execute(cmd);\n",
       "    }\n",
       "  }\n",
       "\n",
       "  /**\n",
       "   * Handle when a new output is added\n",
       "   */\n",
       "  function handleAddOutput(event, handle) {\n",
       "    var output_area = handle.output_area;\n",
       "    var output = handle.output;\n",
       "\n",
       "    // limit handleAddOutput to display_data with EXEC_MIME_TYPE content only\n",
       "    if ((output.output_type != \"display_data\") || (!output.data.hasOwnProperty(EXEC_MIME_TYPE))) {\n",
       "      return\n",
       "    }\n",
       "\n",
       "    var toinsert = output_area.element.find(\".\" + CLASS_NAME.split(' ')[0]);\n",
       "\n",
       "    if (output.metadata[EXEC_MIME_TYPE][\"id\"] !== undefined) {\n",
       "      toinsert[0].firstChild.textContent = output.data[JS_MIME_TYPE];\n",
       "      // store reference to embed id on output_area\n",
       "      output_area._bokeh_element_id = output.metadata[EXEC_MIME_TYPE][\"id\"];\n",
       "    }\n",
       "    if (output.metadata[EXEC_MIME_TYPE][\"server_id\"] !== undefined) {\n",
       "      var bk_div = document.createElement(\"div\");\n",
       "      bk_div.innerHTML = output.data[HTML_MIME_TYPE];\n",
       "      var script_attrs = bk_div.children[0].attributes;\n",
       "      for (var i = 0; i < script_attrs.length; i++) {\n",
       "        toinsert[0].firstChild.setAttribute(script_attrs[i].name, script_attrs[i].value);\n",
       "      }\n",
       "      // store reference to server id on output_area\n",
       "      output_area._bokeh_server_id = output.metadata[EXEC_MIME_TYPE][\"server_id\"];\n",
       "    }\n",
       "  }\n",
       "\n",
       "  function register_renderer(events, OutputArea) {\n",
       "\n",
       "    function append_mime(data, metadata, element) {\n",
       "      // create a DOM node to render to\n",
       "      var toinsert = this.create_output_subarea(\n",
       "        metadata,\n",
       "        CLASS_NAME,\n",
       "        EXEC_MIME_TYPE\n",
       "      );\n",
       "      this.keyboard_manager.register_events(toinsert);\n",
       "      // Render to node\n",
       "      var props = {data: data, metadata: metadata[EXEC_MIME_TYPE]};\n",
       "      render(props, toinsert[0]);\n",
       "      element.append(toinsert);\n",
       "      return toinsert\n",
       "    }\n",
       "\n",
       "    /* Handle when an output is cleared or removed */\n",
       "    events.on('clear_output.CodeCell', handleClearOutput);\n",
       "    events.on('delete.Cell', handleClearOutput);\n",
       "\n",
       "    /* Handle when a new output is added */\n",
       "    events.on('output_added.OutputArea', handleAddOutput);\n",
       "\n",
       "    /**\n",
       "     * Register the mime type and append_mime function with output_area\n",
       "     */\n",
       "    OutputArea.prototype.register_mime_type(EXEC_MIME_TYPE, append_mime, {\n",
       "      /* Is output safe? */\n",
       "      safe: true,\n",
       "      /* Index of renderer in `output_area.display_order` */\n",
       "      index: 0\n",
       "    });\n",
       "  }\n",
       "\n",
       "  // register the mime type if in Jupyter Notebook environment and previously unregistered\n",
       "  if (root.Jupyter !== undefined) {\n",
       "    var events = require('base/js/events');\n",
       "    var OutputArea = require('notebook/js/outputarea').OutputArea;\n",
       "\n",
       "    if (OutputArea.prototype.mime_types().indexOf(EXEC_MIME_TYPE) == -1) {\n",
       "      register_renderer(events, OutputArea);\n",
       "    }\n",
       "  }\n",
       "\n",
       "  \n",
       "  if (typeof (root._bokeh_timeout) === \"undefined\" || force === true) {\n",
       "    root._bokeh_timeout = Date.now() + 5000;\n",
       "    root._bokeh_failed_load = false;\n",
       "  }\n",
       "\n",
       "  var NB_LOAD_WARNING = {'data': {'text/html':\n",
       "     \"<div style='background-color: #fdd'>\\n\"+\n",
       "     \"<p>\\n\"+\n",
       "     \"BokehJS does not appear to have successfully loaded. If loading BokehJS from CDN, this \\n\"+\n",
       "     \"may be due to a slow or bad network connection. Possible fixes:\\n\"+\n",
       "     \"</p>\\n\"+\n",
       "     \"<ul>\\n\"+\n",
       "     \"<li>re-rerun `output_notebook()` to attempt to load from CDN again, or</li>\\n\"+\n",
       "     \"<li>use INLINE resources instead, as so:</li>\\n\"+\n",
       "     \"</ul>\\n\"+\n",
       "     \"<code>\\n\"+\n",
       "     \"from bokeh.resources import INLINE\\n\"+\n",
       "     \"output_notebook(resources=INLINE)\\n\"+\n",
       "     \"</code>\\n\"+\n",
       "     \"</div>\"}};\n",
       "\n",
       "  function display_loaded() {\n",
       "    var el = document.getElementById(\"ec72e039-60b2-4a64-bef3-c771ed98d724\");\n",
       "    if (el != null) {\n",
       "      el.textContent = \"BokehJS is loading...\";\n",
       "    }\n",
       "    if (root.Bokeh !== undefined) {\n",
       "      if (el != null) {\n",
       "        el.textContent = \"BokehJS \" + root.Bokeh.version + \" successfully loaded.\";\n",
       "      }\n",
       "    } else if (Date.now() < root._bokeh_timeout) {\n",
       "      setTimeout(display_loaded, 100)\n",
       "    }\n",
       "  }\n",
       "\n",
       "\n",
       "  function run_callbacks() {\n",
       "    try {\n",
       "      root._bokeh_onload_callbacks.forEach(function(callback) { callback() });\n",
       "    }\n",
       "    finally {\n",
       "      delete root._bokeh_onload_callbacks\n",
       "    }\n",
       "    console.info(\"Bokeh: all callbacks have finished\");\n",
       "  }\n",
       "\n",
       "  function load_libs(js_urls, callback) {\n",
       "    root._bokeh_onload_callbacks.push(callback);\n",
       "    if (root._bokeh_is_loading > 0) {\n",
       "      console.log(\"Bokeh: BokehJS is being loaded, scheduling callback at\", now());\n",
       "      return null;\n",
       "    }\n",
       "    if (js_urls == null || js_urls.length === 0) {\n",
       "      run_callbacks();\n",
       "      return null;\n",
       "    }\n",
       "    console.log(\"Bokeh: BokehJS not loaded, scheduling load and callback at\", now());\n",
       "    root._bokeh_is_loading = js_urls.length;\n",
       "    for (var i = 0; i < js_urls.length; i++) {\n",
       "      var url = js_urls[i];\n",
       "      var s = document.createElement('script');\n",
       "      s.src = url;\n",
       "      s.async = false;\n",
       "      s.onreadystatechange = s.onload = function() {\n",
       "        root._bokeh_is_loading--;\n",
       "        if (root._bokeh_is_loading === 0) {\n",
       "          console.log(\"Bokeh: all BokehJS libraries loaded\");\n",
       "          run_callbacks()\n",
       "        }\n",
       "      };\n",
       "      s.onerror = function() {\n",
       "        console.warn(\"failed to load library \" + url);\n",
       "      };\n",
       "      console.log(\"Bokeh: injecting script tag for BokehJS library: \", url);\n",
       "      document.getElementsByTagName(\"head\")[0].appendChild(s);\n",
       "    }\n",
       "  };var element = document.getElementById(\"ec72e039-60b2-4a64-bef3-c771ed98d724\");\n",
       "  if (element == null) {\n",
       "    console.log(\"Bokeh: ERROR: autoload.js configured with elementid 'ec72e039-60b2-4a64-bef3-c771ed98d724' but no matching script tag was found. \")\n",
       "    return false;\n",
       "  }\n",
       "\n",
       "  var js_urls = [\"https://cdn.pydata.org/bokeh/release/bokeh-0.12.14.min.js\", \"https://cdn.pydata.org/bokeh/release/bokeh-widgets-0.12.14.min.js\", \"https://cdn.pydata.org/bokeh/release/bokeh-tables-0.12.14.min.js\", \"https://cdn.pydata.org/bokeh/release/bokeh-gl-0.12.14.min.js\"];\n",
       "\n",
       "  var inline_js = [\n",
       "    function(Bokeh) {\n",
       "      Bokeh.set_log_level(\"info\");\n",
       "    },\n",
       "    \n",
       "    function(Bokeh) {\n",
       "      \n",
       "    },\n",
       "    function(Bokeh) {\n",
       "      console.log(\"Bokeh: injecting CSS: https://cdn.pydata.org/bokeh/release/bokeh-0.12.14.min.css\");\n",
       "      Bokeh.embed.inject_css(\"https://cdn.pydata.org/bokeh/release/bokeh-0.12.14.min.css\");\n",
       "      console.log(\"Bokeh: injecting CSS: https://cdn.pydata.org/bokeh/release/bokeh-widgets-0.12.14.min.css\");\n",
       "      Bokeh.embed.inject_css(\"https://cdn.pydata.org/bokeh/release/bokeh-widgets-0.12.14.min.css\");\n",
       "      console.log(\"Bokeh: injecting CSS: https://cdn.pydata.org/bokeh/release/bokeh-tables-0.12.14.min.css\");\n",
       "      Bokeh.embed.inject_css(\"https://cdn.pydata.org/bokeh/release/bokeh-tables-0.12.14.min.css\");\n",
       "    }\n",
       "  ];\n",
       "\n",
       "  function run_inline_js() {\n",
       "    \n",
       "    if ((root.Bokeh !== undefined) || (force === true)) {\n",
       "      for (var i = 0; i < inline_js.length; i++) {\n",
       "        inline_js[i].call(root, root.Bokeh);\n",
       "      }if (force === true) {\n",
       "        display_loaded();\n",
       "      }} else if (Date.now() < root._bokeh_timeout) {\n",
       "      setTimeout(run_inline_js, 100);\n",
       "    } else if (!root._bokeh_failed_load) {\n",
       "      console.log(\"Bokeh: BokehJS failed to load within specified timeout.\");\n",
       "      root._bokeh_failed_load = true;\n",
       "    } else if (force !== true) {\n",
       "      var cell = $(document.getElementById(\"ec72e039-60b2-4a64-bef3-c771ed98d724\")).parents('.cell').data().cell;\n",
       "      cell.output_area.append_execute_result(NB_LOAD_WARNING)\n",
       "    }\n",
       "\n",
       "  }\n",
       "\n",
       "  if (root._bokeh_is_loading === 0) {\n",
       "    console.log(\"Bokeh: BokehJS loaded, going straight to plotting\");\n",
       "    run_inline_js();\n",
       "  } else {\n",
       "    load_libs(js_urls, function() {\n",
       "      console.log(\"Bokeh: BokehJS plotting callback run at\", now());\n",
       "      run_inline_js();\n",
       "    });\n",
       "  }\n",
       "}(window));"
      ],
      "application/vnd.bokehjs_load.v0+json": "\n(function(root) {\n  function now() {\n    return new Date();\n  }\n\n  var force = true;\n\n  if (typeof (root._bokeh_onload_callbacks) === \"undefined\" || force === true) {\n    root._bokeh_onload_callbacks = [];\n    root._bokeh_is_loading = undefined;\n  }\n\n  \n\n  \n  if (typeof (root._bokeh_timeout) === \"undefined\" || force === true) {\n    root._bokeh_timeout = Date.now() + 5000;\n    root._bokeh_failed_load = false;\n  }\n\n  var NB_LOAD_WARNING = {'data': {'text/html':\n     \"<div style='background-color: #fdd'>\\n\"+\n     \"<p>\\n\"+\n     \"BokehJS does not appear to have successfully loaded. If loading BokehJS from CDN, this \\n\"+\n     \"may be due to a slow or bad network connection. Possible fixes:\\n\"+\n     \"</p>\\n\"+\n     \"<ul>\\n\"+\n     \"<li>re-rerun `output_notebook()` to attempt to load from CDN again, or</li>\\n\"+\n     \"<li>use INLINE resources instead, as so:</li>\\n\"+\n     \"</ul>\\n\"+\n     \"<code>\\n\"+\n     \"from bokeh.resources import INLINE\\n\"+\n     \"output_notebook(resources=INLINE)\\n\"+\n     \"</code>\\n\"+\n     \"</div>\"}};\n\n  function display_loaded() {\n    var el = document.getElementById(\"ec72e039-60b2-4a64-bef3-c771ed98d724\");\n    if (el != null) {\n      el.textContent = \"BokehJS is loading...\";\n    }\n    if (root.Bokeh !== undefined) {\n      if (el != null) {\n        el.textContent = \"BokehJS \" + root.Bokeh.version + \" successfully loaded.\";\n      }\n    } else if (Date.now() < root._bokeh_timeout) {\n      setTimeout(display_loaded, 100)\n    }\n  }\n\n\n  function run_callbacks() {\n    try {\n      root._bokeh_onload_callbacks.forEach(function(callback) { callback() });\n    }\n    finally {\n      delete root._bokeh_onload_callbacks\n    }\n    console.info(\"Bokeh: all callbacks have finished\");\n  }\n\n  function load_libs(js_urls, callback) {\n    root._bokeh_onload_callbacks.push(callback);\n    if (root._bokeh_is_loading > 0) {\n      console.log(\"Bokeh: BokehJS is being loaded, scheduling callback at\", now());\n      return null;\n    }\n    if (js_urls == null || js_urls.length === 0) {\n      run_callbacks();\n      return null;\n    }\n    console.log(\"Bokeh: BokehJS not loaded, scheduling load and callback at\", now());\n    root._bokeh_is_loading = js_urls.length;\n    for (var i = 0; i < js_urls.length; i++) {\n      var url = js_urls[i];\n      var s = document.createElement('script');\n      s.src = url;\n      s.async = false;\n      s.onreadystatechange = s.onload = function() {\n        root._bokeh_is_loading--;\n        if (root._bokeh_is_loading === 0) {\n          console.log(\"Bokeh: all BokehJS libraries loaded\");\n          run_callbacks()\n        }\n      };\n      s.onerror = function() {\n        console.warn(\"failed to load library \" + url);\n      };\n      console.log(\"Bokeh: injecting script tag for BokehJS library: \", url);\n      document.getElementsByTagName(\"head\")[0].appendChild(s);\n    }\n  };var element = document.getElementById(\"ec72e039-60b2-4a64-bef3-c771ed98d724\");\n  if (element == null) {\n    console.log(\"Bokeh: ERROR: autoload.js configured with elementid 'ec72e039-60b2-4a64-bef3-c771ed98d724' but no matching script tag was found. \")\n    return false;\n  }\n\n  var js_urls = [\"https://cdn.pydata.org/bokeh/release/bokeh-0.12.14.min.js\", \"https://cdn.pydata.org/bokeh/release/bokeh-widgets-0.12.14.min.js\", \"https://cdn.pydata.org/bokeh/release/bokeh-tables-0.12.14.min.js\", \"https://cdn.pydata.org/bokeh/release/bokeh-gl-0.12.14.min.js\"];\n\n  var inline_js = [\n    function(Bokeh) {\n      Bokeh.set_log_level(\"info\");\n    },\n    \n    function(Bokeh) {\n      \n    },\n    function(Bokeh) {\n      console.log(\"Bokeh: injecting CSS: https://cdn.pydata.org/bokeh/release/bokeh-0.12.14.min.css\");\n      Bokeh.embed.inject_css(\"https://cdn.pydata.org/bokeh/release/bokeh-0.12.14.min.css\");\n      console.log(\"Bokeh: injecting CSS: https://cdn.pydata.org/bokeh/release/bokeh-widgets-0.12.14.min.css\");\n      Bokeh.embed.inject_css(\"https://cdn.pydata.org/bokeh/release/bokeh-widgets-0.12.14.min.css\");\n      console.log(\"Bokeh: injecting CSS: https://cdn.pydata.org/bokeh/release/bokeh-tables-0.12.14.min.css\");\n      Bokeh.embed.inject_css(\"https://cdn.pydata.org/bokeh/release/bokeh-tables-0.12.14.min.css\");\n    }\n  ];\n\n  function run_inline_js() {\n    \n    if ((root.Bokeh !== undefined) || (force === true)) {\n      for (var i = 0; i < inline_js.length; i++) {\n        inline_js[i].call(root, root.Bokeh);\n      }if (force === true) {\n        display_loaded();\n      }} else if (Date.now() < root._bokeh_timeout) {\n      setTimeout(run_inline_js, 100);\n    } else if (!root._bokeh_failed_load) {\n      console.log(\"Bokeh: BokehJS failed to load within specified timeout.\");\n      root._bokeh_failed_load = true;\n    } else if (force !== true) {\n      var cell = $(document.getElementById(\"ec72e039-60b2-4a64-bef3-c771ed98d724\")).parents('.cell').data().cell;\n      cell.output_area.append_execute_result(NB_LOAD_WARNING)\n    }\n\n  }\n\n  if (root._bokeh_is_loading === 0) {\n    console.log(\"Bokeh: BokehJS loaded, going straight to plotting\");\n    run_inline_js();\n  } else {\n    load_libs(js_urls, function() {\n      console.log(\"Bokeh: BokehJS plotting callback run at\", now());\n      run_inline_js();\n    });\n  }\n}(window));"
     },
     "metadata": {},
     "output_type": "display_data"
    },
    {
     "data": {
      "text/html": [
       "\n",
       "<div class=\"bk-root\">\n",
       "    <div class=\"bk-plotdiv\" id=\"b22538f2-ea7d-4b7f-b0e7-c972236d6392\"></div>\n",
       "</div>"
      ]
     },
     "metadata": {},
     "output_type": "display_data"
    },
    {
     "data": {
      "application/javascript": [
       "(function(root) {\n",
       "  function embed_document(root) {\n",
       "    \n",
       "  var docs_json = {\"10caf22e-efe1-4afe-8c10-d70512da61fc\":{\"roots\":{\"references\":[{\"attributes\":{\"days\":[1,4,7,10,13,16,19,22,25,28]},\"id\":\"cd9bc27f-39a5-4d3a-8720-ffc91b798b3a\",\"type\":\"DaysTicker\"},{\"attributes\":{\"num_minor_ticks\":5,\"tickers\":[{\"id\":\"d1404111-a799-49d5-b22c-f7a77694d15f\",\"type\":\"AdaptiveTicker\"},{\"id\":\"21cfcc7c-d8b5-44c7-bc65-52408f224ffd\",\"type\":\"AdaptiveTicker\"},{\"id\":\"a4faffcf-f5b8-4755-9ff3-48ad01e39e94\",\"type\":\"AdaptiveTicker\"},{\"id\":\"bd8af30f-1bb5-4765-b586-9da060b8b227\",\"type\":\"DaysTicker\"},{\"id\":\"cd9bc27f-39a5-4d3a-8720-ffc91b798b3a\",\"type\":\"DaysTicker\"},{\"id\":\"d69a3f95-3ed2-4c98-b568-3e6753d29a21\",\"type\":\"DaysTicker\"},{\"id\":\"1c0a8cbd-f5fc-4ba5-8ce4-848716e305e2\",\"type\":\"DaysTicker\"},{\"id\":\"3e438be4-dc29-4e98-b53e-c238ff6e6f01\",\"type\":\"MonthsTicker\"},{\"id\":\"650a3fda-61d1-4249-9c2f-3e532535aa35\",\"type\":\"MonthsTicker\"},{\"id\":\"468066e1-9487-43e7-aa6f-69f4287ba69a\",\"type\":\"MonthsTicker\"},{\"id\":\"eaaf53d5-9679-418a-8d53-7838116aaf70\",\"type\":\"MonthsTicker\"},{\"id\":\"e507723f-507b-4ca3-8895-31c4e328829e\",\"type\":\"YearsTicker\"}]},\"id\":\"519d4dd5-bfa8-4ad5-ae4c-f871fc1f7d06\",\"type\":\"DatetimeTicker\"},{\"attributes\":{\"callback\":null},\"id\":\"0a5c0b75-1165-43eb-9664-48c29c49f95d\",\"type\":\"DataRange1d\"},{\"attributes\":{\"mantissas\":[1,2,5],\"max_interval\":500.0,\"num_minor_ticks\":0},\"id\":\"d1404111-a799-49d5-b22c-f7a77694d15f\",\"type\":\"AdaptiveTicker\"},{\"attributes\":{},\"id\":\"c9a8f940-beee-457a-baf8-9ed672433f1b\",\"type\":\"LinearScale\"},{\"attributes\":{\"days\":[1,2,3,4,5,6,7,8,9,10,11,12,13,14,15,16,17,18,19,20,21,22,23,24,25,26,27,28,29,30,31]},\"id\":\"54ebcc81-d5a3-4bce-afd2-10eaff9b672a\",\"type\":\"DaysTicker\"},{\"attributes\":{\"axis_label\":\"Time (GMT)\",\"formatter\":{\"id\":\"8c479a74-1296-4f8c-83c2-233cad2d3888\",\"type\":\"DatetimeTickFormatter\"},\"plot\":{\"id\":\"9f5b5f60-5b35-4dea-86bf-3b23d81e19ef\",\"subtype\":\"Figure\",\"type\":\"Plot\"},\"ticker\":{\"id\":\"519d4dd5-bfa8-4ad5-ae4c-f871fc1f7d06\",\"type\":\"DatetimeTicker\"}},\"id\":\"e3e958c6-d971-43a9-964a-11868a9508de\",\"type\":\"DatetimeAxis\"},{\"attributes\":{\"active_drag\":\"auto\",\"active_inspect\":\"auto\",\"active_scroll\":\"auto\",\"active_tap\":\"auto\",\"tools\":[{\"id\":\"604f1859-955a-4c1d-b8ec-ba2548570328\",\"type\":\"PanTool\"},{\"id\":\"bde77a5c-82fd-49ff-a0aa-37ccd2aaa131\",\"type\":\"WheelZoomTool\"},{\"id\":\"343e1aec-79e9-415d-a064-4c070a37dbfc\",\"type\":\"BoxZoomTool\"},{\"id\":\"588cac73-005a-493d-9d8c-89676acbd935\",\"type\":\"SaveTool\"},{\"id\":\"285ea639-47eb-41d9-83e5-8ae150f6b2d7\",\"type\":\"ResetTool\"},{\"id\":\"746e8d8c-e1ae-4669-962f-7d536027054d\",\"type\":\"HelpTool\"}]},\"id\":\"50f14cde-a610-486a-b348-c1ba1069a7f3\",\"type\":\"Toolbar\"},{\"attributes\":{\"days\":[1,15]},\"id\":\"035fc05c-f47d-4578-8c01-01b6748714ec\",\"type\":\"DaysTicker\"},{\"attributes\":{\"axis_label\":\"psia\",\"formatter\":{\"id\":\"0c876297-1c60-4dda-9826-27e98d9a8c11\",\"type\":\"BasicTickFormatter\"},\"plot\":{\"id\":\"9f5b5f60-5b35-4dea-86bf-3b23d81e19ef\",\"subtype\":\"Figure\",\"type\":\"Plot\"},\"ticker\":{\"id\":\"6225f45e-22c7-4b01-92d4-1ecaa88c4380\",\"type\":\"BasicTicker\"}},\"id\":\"1ee9094b-511c-4fee-b9cb-7d7b4a3bfd83\",\"type\":\"LinearAxis\"},{\"attributes\":{\"overlay\":{\"id\":\"b6233cee-a3a5-4a1f-b2c2-d384a703e70a\",\"type\":\"BoxAnnotation\"}},\"id\":\"343e1aec-79e9-415d-a064-4c070a37dbfc\",\"type\":\"BoxZoomTool\"},{\"attributes\":{\"dimension\":1,\"plot\":{\"id\":\"9f5b5f60-5b35-4dea-86bf-3b23d81e19ef\",\"subtype\":\"Figure\",\"type\":\"Plot\"},\"ticker\":{\"id\":\"6225f45e-22c7-4b01-92d4-1ecaa88c4380\",\"type\":\"BasicTicker\"}},\"id\":\"1a2374ab-cfa3-4255-8697-c0008d1be5a7\",\"type\":\"Grid\"},{\"attributes\":{\"days\":[1,8,15,22]},\"id\":\"41473908-8866-4cfc-83f5-1e31b118bfd3\",\"type\":\"DaysTicker\"},{\"attributes\":{},\"id\":\"285ea639-47eb-41d9-83e5-8ae150f6b2d7\",\"type\":\"ResetTool\"},{\"attributes\":{\"months\":[0,2,4,6,8,10]},\"id\":\"b05918ac-7372-4fc3-9c37-bf1dc7afa397\",\"type\":\"MonthsTicker\"},{\"attributes\":{},\"id\":\"e795b85e-2e96-4425-86ef-d87b9a65aaa7\",\"type\":\"LinearScale\"},{\"attributes\":{\"below\":[{\"id\":\"e3e958c6-d971-43a9-964a-11868a9508de\",\"type\":\"DatetimeAxis\"}],\"left\":[{\"id\":\"1ee9094b-511c-4fee-b9cb-7d7b4a3bfd83\",\"type\":\"LinearAxis\"}],\"plot_height\":300,\"plot_width\":500,\"renderers\":[{\"id\":\"e3e958c6-d971-43a9-964a-11868a9508de\",\"type\":\"DatetimeAxis\"},{\"id\":\"0491777d-9cd2-4550-ae6d-ed25d063c352\",\"type\":\"Grid\"},{\"id\":\"1ee9094b-511c-4fee-b9cb-7d7b4a3bfd83\",\"type\":\"LinearAxis\"},{\"id\":\"1a2374ab-cfa3-4255-8697-c0008d1be5a7\",\"type\":\"Grid\"},{\"id\":\"b6233cee-a3a5-4a1f-b2c2-d384a703e70a\",\"type\":\"BoxAnnotation\"},{\"id\":\"e207d6db-5555-44da-8ba0-5913640babd7\",\"type\":\"GlyphRenderer\"},{\"id\":\"641ba765-dd95-4bf7-84c8-6593902c45c3\",\"type\":\"GlyphRenderer\"}],\"title\":{\"id\":\"77a998b6-6b80-4369-aa36-776e75ccb9f4\",\"type\":\"Title\"},\"toolbar\":{\"id\":\"50f14cde-a610-486a-b348-c1ba1069a7f3\",\"type\":\"Toolbar\"},\"x_range\":{\"id\":\"0a5c0b75-1165-43eb-9664-48c29c49f95d\",\"type\":\"DataRange1d\"},\"x_scale\":{\"id\":\"c9a8f940-beee-457a-baf8-9ed672433f1b\",\"type\":\"LinearScale\"},\"y_range\":{\"id\":\"ea19e777-f7fa-4567-97ef-dc49702f8f1f\",\"type\":\"DataRange1d\"},\"y_scale\":{\"id\":\"e795b85e-2e96-4425-86ef-d87b9a65aaa7\",\"type\":\"LinearScale\"}},\"id\":\"9f5b5f60-5b35-4dea-86bf-3b23d81e19ef\",\"subtype\":\"Figure\",\"type\":\"Plot\"},{\"attributes\":{},\"id\":\"588cac73-005a-493d-9d8c-89676acbd935\",\"type\":\"SaveTool\"},{\"attributes\":{\"callback\":null},\"id\":\"ea19e777-f7fa-4567-97ef-dc49702f8f1f\",\"type\":\"DataRange1d\"},{\"attributes\":{\"months\":[0,2,4,6,8,10]},\"id\":\"650a3fda-61d1-4249-9c2f-3e532535aa35\",\"type\":\"MonthsTicker\"},{\"attributes\":{\"days\":[1,15]},\"id\":\"1c0a8cbd-f5fc-4ba5-8ce4-848716e305e2\",\"type\":\"DaysTicker\"},{\"attributes\":{\"months\":[0,4,8]},\"id\":\"b689e25b-115a-4d59-8e46-f1630d931604\",\"type\":\"MonthsTicker\"},{\"attributes\":{},\"id\":\"8c479a74-1296-4f8c-83c2-233cad2d3888\",\"type\":\"DatetimeTickFormatter\"},{\"attributes\":{\"months\":[0,4,8]},\"id\":\"468066e1-9487-43e7-aa6f-69f4287ba69a\",\"type\":\"MonthsTicker\"},{\"attributes\":{\"months\":[0,6]},\"id\":\"eaaf53d5-9679-418a-8d53-7838116aaf70\",\"type\":\"MonthsTicker\"},{\"attributes\":{\"days\":[1,8,15,22]},\"id\":\"d69a3f95-3ed2-4c98-b568-3e6753d29a21\",\"type\":\"DaysTicker\"},{\"attributes\":{\"months\":[0,1,2,3,4,5,6,7,8,9,10,11]},\"id\":\"152034a3-6774-4a13-a350-7364f3138f6e\",\"type\":\"MonthsTicker\"},{\"attributes\":{\"fill_alpha\":{\"value\":0.1},\"fill_color\":{\"value\":\"#1f77b4\"},\"line_alpha\":{\"value\":0.1},\"line_color\":{\"value\":\"#1f77b4\"},\"x\":{\"field\":\"x\"},\"y\":{\"field\":\"y2\"}},\"id\":\"246361cc-fa02-44cc-bcf0-cbae3c80d497\",\"type\":\"Circle\"},{\"attributes\":{\"days\":[1,4,7,10,13,16,19,22,25,28]},\"id\":\"a418ee35-ed2c-4d74-973e-85a6602a32d3\",\"type\":\"DaysTicker\"},{\"attributes\":{\"plot\":null,\"text\":\"Bottom Pressure\"},\"id\":\"77a998b6-6b80-4369-aa36-776e75ccb9f4\",\"type\":\"Title\"},{\"attributes\":{\"fill_alpha\":{\"value\":0.1},\"fill_color\":{\"value\":\"#1f77b4\"},\"line_alpha\":{\"value\":0.1},\"line_color\":{\"value\":\"#1f77b4\"},\"x\":{\"field\":\"x\"},\"y\":{\"field\":\"y3\"}},\"id\":\"68fa4444-bfbb-4589-9685-d9bc9b357447\",\"type\":\"Circle\"},{\"attributes\":{\"days\":[1,2,3,4,5,6,7,8,9,10,11,12,13,14,15,16,17,18,19,20,21,22,23,24,25,26,27,28,29,30,31]},\"id\":\"bd8af30f-1bb5-4765-b586-9da060b8b227\",\"type\":\"DaysTicker\"},{\"attributes\":{\"line_alpha\":0.1,\"line_color\":\"#1f77b4\",\"line_width\":3,\"x\":{\"field\":\"x\"},\"y\":{\"field\":\"y3\"}},\"id\":\"3dfb423a-17c3-4038-b7c2-963a25b5e6da\",\"type\":\"Line\"},{\"attributes\":{\"source\":{\"id\":\"962c999a-5706-4267-a3f1-dcc07937078a\",\"type\":\"ColumnDataSource\"}},\"id\":\"f8c7b4e3-f81f-4d8c-8bf3-c8022215cc4d\",\"type\":\"CDSView\"},{\"attributes\":{},\"id\":\"746e8d8c-e1ae-4669-962f-7d536027054d\",\"type\":\"HelpTool\"},{\"attributes\":{},\"id\":\"bde77a5c-82fd-49ff-a0aa-37ccd2aaa131\",\"type\":\"WheelZoomTool\"},{\"attributes\":{\"data_source\":{\"id\":\"962c999a-5706-4267-a3f1-dcc07937078a\",\"type\":\"ColumnDataSource\"},\"glyph\":{\"id\":\"2733547c-e2d5-4b88-96e4-456509562775\",\"type\":\"Line\"},\"hover_glyph\":null,\"muted_glyph\":null,\"nonselection_glyph\":{\"id\":\"3dfb423a-17c3-4038-b7c2-963a25b5e6da\",\"type\":\"Line\"},\"selection_glyph\":null,\"view\":{\"id\":\"2f06a2af-0ea5-445b-ad06-38316e2c523b\",\"type\":\"CDSView\"}},\"id\":\"e207d6db-5555-44da-8ba0-5913640babd7\",\"type\":\"GlyphRenderer\"},{\"attributes\":{},\"id\":\"e507723f-507b-4ca3-8895-31c4e328829e\",\"type\":\"YearsTicker\"},{\"attributes\":{\"months\":[0,1,2,3,4,5,6,7,8,9,10,11]},\"id\":\"3e438be4-dc29-4e98-b53e-c238ff6e6f01\",\"type\":\"MonthsTicker\"},{\"attributes\":{\"line_color\":\"#1f77b4\",\"line_width\":3,\"x\":{\"field\":\"x\"},\"y\":{\"field\":\"y3\"}},\"id\":\"2733547c-e2d5-4b88-96e4-456509562775\",\"type\":\"Line\"},{\"attributes\":{\"source\":{\"id\":\"962c999a-5706-4267-a3f1-dcc07937078a\",\"type\":\"ColumnDataSource\"}},\"id\":\"6877c748-2693-4ede-ae43-f994757351c8\",\"type\":\"CDSView\"},{\"attributes\":{},\"id\":\"0c876297-1c60-4dda-9826-27e98d9a8c11\",\"type\":\"BasicTickFormatter\"},{\"attributes\":{\"bottom_units\":\"screen\",\"fill_alpha\":{\"value\":0.5},\"fill_color\":{\"value\":\"lightgrey\"},\"left_units\":\"screen\",\"level\":\"overlay\",\"line_alpha\":{\"value\":1.0},\"line_color\":{\"value\":\"black\"},\"line_dash\":[4,4],\"line_width\":{\"value\":2},\"plot\":null,\"render_mode\":\"css\",\"right_units\":\"screen\",\"top_units\":\"screen\"},\"id\":\"b6233cee-a3a5-4a1f-b2c2-d384a703e70a\",\"type\":\"BoxAnnotation\"},{\"attributes\":{\"plot\":{\"id\":\"9f5b5f60-5b35-4dea-86bf-3b23d81e19ef\",\"subtype\":\"Figure\",\"type\":\"Plot\"},\"ticker\":{\"id\":\"519d4dd5-bfa8-4ad5-ae4c-f871fc1f7d06\",\"type\":\"DatetimeTicker\"}},\"id\":\"0491777d-9cd2-4550-ae6d-ed25d063c352\",\"type\":\"Grid\"},{\"attributes\":{},\"id\":\"6225f45e-22c7-4b01-92d4-1ecaa88c4380\",\"type\":\"BasicTicker\"},{\"attributes\":{},\"id\":\"604f1859-955a-4c1d-b8ec-ba2548570328\",\"type\":\"PanTool\"},{\"attributes\":{\"data_source\":{\"id\":\"962c999a-5706-4267-a3f1-dcc07937078a\",\"type\":\"ColumnDataSource\"},\"glyph\":{\"id\":\"685cf6cf-a4cc-4347-b3cb-4b2b4e14cd65\",\"type\":\"Circle\"},\"hover_glyph\":null,\"muted_glyph\":null,\"nonselection_glyph\":{\"id\":\"246361cc-fa02-44cc-bcf0-cbae3c80d497\",\"type\":\"Circle\"},\"selection_glyph\":null,\"view\":{\"id\":\"f8c7b4e3-f81f-4d8c-8bf3-c8022215cc4d\",\"type\":\"CDSView\"}},\"id\":\"43950f73-3fd2-47b3-8ffa-245c760d2821\",\"type\":\"GlyphRenderer\"},{\"attributes\":{\"fill_color\":{\"value\":\"white\"},\"line_color\":{\"value\":\"#1f77b4\"},\"x\":{\"field\":\"x\"},\"y\":{\"field\":\"y3\"}},\"id\":\"5e605887-f1e4-42ec-b7cb-93de249d1634\",\"type\":\"Circle\"},{\"attributes\":{\"base\":24,\"mantissas\":[1,2,4,6,8,12],\"max_interval\":43200000.0,\"min_interval\":3600000.0,\"num_minor_ticks\":0},\"id\":\"a4faffcf-f5b8-4755-9ff3-48ad01e39e94\",\"type\":\"AdaptiveTicker\"},{\"attributes\":{\"base\":60,\"mantissas\":[1,2,5,10,15,20,30],\"max_interval\":1800000.0,\"min_interval\":1000.0,\"num_minor_ticks\":0},\"id\":\"21cfcc7c-d8b5-44c7-bc65-52408f224ffd\",\"type\":\"AdaptiveTicker\"},{\"attributes\":{\"data_source\":{\"id\":\"962c999a-5706-4267-a3f1-dcc07937078a\",\"type\":\"ColumnDataSource\"},\"glyph\":{\"id\":\"5e605887-f1e4-42ec-b7cb-93de249d1634\",\"type\":\"Circle\"},\"hover_glyph\":null,\"muted_glyph\":null,\"nonselection_glyph\":{\"id\":\"68fa4444-bfbb-4589-9685-d9bc9b357447\",\"type\":\"Circle\"},\"selection_glyph\":null,\"view\":{\"id\":\"6877c748-2693-4ede-ae43-f994757351c8\",\"type\":\"CDSView\"}},\"id\":\"641ba765-dd95-4bf7-84c8-6593902c45c3\",\"type\":\"GlyphRenderer\"},{\"attributes\":{\"source\":{\"id\":\"962c999a-5706-4267-a3f1-dcc07937078a\",\"type\":\"ColumnDataSource\"}},\"id\":\"2f06a2af-0ea5-445b-ad06-38316e2c523b\",\"type\":\"CDSView\"},{\"attributes\":{},\"id\":\"51d7c135-6d31-4ba4-ac7a-a7e8b46f9227\",\"type\":\"DatetimeTickFormatter\"},{\"attributes\":{\"callback\":null},\"id\":\"a6494273-3a13-4988-b695-f423831a5b94\",\"type\":\"DataRange1d\"},{\"attributes\":{\"days\":[1,4,7,10,13,16,19,22,25,28]},\"id\":\"266626ec-2669-462f-9c49-5584bbef9f93\",\"type\":\"DaysTicker\"},{\"attributes\":{},\"id\":\"99af7801-192a-481f-aed6-6fbb280e7004\",\"type\":\"LinearScale\"},{\"attributes\":{\"dimension\":1,\"plot\":{\"id\":\"f1b9a6bf-cd8b-436c-aa4a-c5f107056aab\",\"subtype\":\"Figure\",\"type\":\"Plot\"},\"ticker\":{\"id\":\"2ea10465-3d92-40d2-b31b-69c6b0b27331\",\"type\":\"BasicTicker\"}},\"id\":\"72f3a79f-a7d3-4f25-af5d-0189a3a0f83a\",\"type\":\"Grid\"},{\"attributes\":{},\"id\":\"5eb7b4f2-4725-4a5e-9040-857f044905af\",\"type\":\"YearsTicker\"},{\"attributes\":{\"source\":{\"id\":\"962c999a-5706-4267-a3f1-dcc07937078a\",\"type\":\"ColumnDataSource\"}},\"id\":\"fa70cfb9-3116-454e-ae22-ce7318200e79\",\"type\":\"CDSView\"},{\"attributes\":{\"below\":[{\"id\":\"891c4978-f290-4d9e-90af-929208a3a14b\",\"type\":\"DatetimeAxis\"}],\"left\":[{\"id\":\"f0b19ce6-c32d-454c-9ef7-4cf4efb103dc\",\"type\":\"LinearAxis\"}],\"plot_height\":300,\"plot_width\":500,\"renderers\":[{\"id\":\"891c4978-f290-4d9e-90af-929208a3a14b\",\"type\":\"DatetimeAxis\"},{\"id\":\"3cd4c154-f0c4-4c50-b961-886a27554745\",\"type\":\"Grid\"},{\"id\":\"f0b19ce6-c32d-454c-9ef7-4cf4efb103dc\",\"type\":\"LinearAxis\"},{\"id\":\"b19d5395-163d-4ef8-bf5f-cbe570cac8e3\",\"type\":\"Grid\"},{\"id\":\"7ffb752c-4192-4d03-9ef3-c8358ad1e8a0\",\"type\":\"BoxAnnotation\"},{\"id\":\"bed1659c-d562-4a72-af28-1e8758d66acf\",\"type\":\"GlyphRenderer\"},{\"id\":\"e15281b4-1f2f-4dfc-99a2-ac522ee8717f\",\"type\":\"GlyphRenderer\"}],\"title\":{\"id\":\"51bd52b9-6f83-4e51-8cec-b20d8469909d\",\"type\":\"Title\"},\"toolbar\":{\"id\":\"95bcb0e4-5252-480b-9a55-a9c0323d9b18\",\"type\":\"Toolbar\"},\"x_range\":{\"id\":\"a6494273-3a13-4988-b695-f423831a5b94\",\"type\":\"DataRange1d\"},\"x_scale\":{\"id\":\"698e2c2b-49a7-4c7a-bf0f-0f33e738c1a3\",\"type\":\"LinearScale\"},\"y_range\":{\"id\":\"17caa7ad-7a2c-4809-bbc5-977fb8c157c3\",\"type\":\"DataRange1d\"},\"y_scale\":{\"id\":\"4264f917-5c35-4c2d-bb5f-3c8fa932d143\",\"type\":\"LinearScale\"}},\"id\":\"badfff52-5038-4776-b508-e97c0a75fd46\",\"subtype\":\"Figure\",\"type\":\"Plot\"},{\"attributes\":{\"days\":[1,8,15,22]},\"id\":\"6f9a07d5-7297-4ec5-ac2d-cd13664b1dc8\",\"type\":\"DaysTicker\"},{\"attributes\":{\"months\":[0,4,8]},\"id\":\"7390c3ee-c2b1-4e2a-8f81-b28c67da21a4\",\"type\":\"MonthsTicker\"},{\"attributes\":{\"data_source\":{\"id\":\"962c999a-5706-4267-a3f1-dcc07937078a\",\"type\":\"ColumnDataSource\"},\"glyph\":{\"id\":\"94e75a2c-c01f-43ed-97bf-159c55472f99\",\"type\":\"Circle\"},\"hover_glyph\":null,\"muted_glyph\":null,\"nonselection_glyph\":{\"id\":\"072dc453-3bed-418f-a5fd-ad92953cfffc\",\"type\":\"Circle\"},\"selection_glyph\":null,\"view\":{\"id\":\"fa70cfb9-3116-454e-ae22-ce7318200e79\",\"type\":\"CDSView\"}},\"id\":\"e15281b4-1f2f-4dfc-99a2-ac522ee8717f\",\"type\":\"GlyphRenderer\"},{\"attributes\":{},\"id\":\"d18e0092-4e3d-4c6b-9b03-13d488e16200\",\"type\":\"SaveTool\"},{\"attributes\":{\"months\":[0,6]},\"id\":\"da1a21fb-0fbe-407c-84fa-3647fe10a441\",\"type\":\"MonthsTicker\"},{\"attributes\":{\"fill_alpha\":{\"value\":0.1},\"fill_color\":{\"value\":\"#1f77b4\"},\"line_alpha\":{\"value\":0.1},\"line_color\":{\"value\":\"#1f77b4\"},\"x\":{\"field\":\"x\"},\"y\":{\"field\":\"y1\"}},\"id\":\"072dc453-3bed-418f-a5fd-ad92953cfffc\",\"type\":\"Circle\"},{\"attributes\":{\"children\":[{\"id\":\"badfff52-5038-4776-b508-e97c0a75fd46\",\"subtype\":\"Figure\",\"type\":\"Plot\"},{\"id\":\"f1b9a6bf-cd8b-436c-aa4a-c5f107056aab\",\"subtype\":\"Figure\",\"type\":\"Plot\"},{\"id\":\"9f5b5f60-5b35-4dea-86bf-3b23d81e19ef\",\"subtype\":\"Figure\",\"type\":\"Plot\"}]},\"id\":\"cf7c04bc-f24c-48d3-bbef-746b7bd9c281\",\"type\":\"Column\"},{\"attributes\":{\"months\":[0,1,2,3,4,5,6,7,8,9,10,11]},\"id\":\"a91e2722-9913-4f14-ad95-170813a99ac3\",\"type\":\"MonthsTicker\"},{\"attributes\":{\"days\":[1,15]},\"id\":\"51ea9e4a-355b-4d14-900f-cacf2b3b3a5e\",\"type\":\"DaysTicker\"},{\"attributes\":{\"days\":[1,2,3,4,5,6,7,8,9,10,11,12,13,14,15,16,17,18,19,20,21,22,23,24,25,26,27,28,29,30,31]},\"id\":\"a90a49c7-6efe-414a-9268-da5ab3ae8492\",\"type\":\"DaysTicker\"},{\"attributes\":{},\"id\":\"6edc66e2-462c-4b69-9fcb-dccb8c5e728d\",\"type\":\"BasicTickFormatter\"},{\"attributes\":{\"source\":{\"id\":\"962c999a-5706-4267-a3f1-dcc07937078a\",\"type\":\"ColumnDataSource\"}},\"id\":\"fcd1f7f3-9e4c-4395-8fe7-16ab09d8dbaf\",\"type\":\"CDSView\"},{\"attributes\":{\"axis_label\":\"T01 \\u00b0C\",\"formatter\":{\"id\":\"6edc66e2-462c-4b69-9fcb-dccb8c5e728d\",\"type\":\"BasicTickFormatter\"},\"plot\":{\"id\":\"badfff52-5038-4776-b508-e97c0a75fd46\",\"subtype\":\"Figure\",\"type\":\"Plot\"},\"ticker\":{\"id\":\"ac78062e-645a-4f2f-aa30-029ea5a4a71e\",\"type\":\"BasicTicker\"}},\"id\":\"f0b19ce6-c32d-454c-9ef7-4cf4efb103dc\",\"type\":\"LinearAxis\"},{\"attributes\":{},\"id\":\"4ed35444-1dd2-4185-bd52-d84f516f8f4a\",\"type\":\"PanTool\"},{\"attributes\":{\"active_drag\":\"auto\",\"active_inspect\":\"auto\",\"active_scroll\":\"auto\",\"active_tap\":\"auto\",\"tools\":[{\"id\":\"2a815801-d5e1-41c9-9128-31ad9502a854\",\"type\":\"PanTool\"},{\"id\":\"d1d2c573-1f14-441b-8924-5439628ccb05\",\"type\":\"WheelZoomTool\"},{\"id\":\"a3910b25-2481-47ce-ae20-1956ebd3d77f\",\"type\":\"BoxZoomTool\"},{\"id\":\"d18e0092-4e3d-4c6b-9b03-13d488e16200\",\"type\":\"SaveTool\"},{\"id\":\"d3bace9f-721a-487e-9c2f-8c07de5b9e05\",\"type\":\"ResetTool\"},{\"id\":\"df158ee5-7da1-41fd-a98d-c0e16fc244c7\",\"type\":\"HelpTool\"}]},\"id\":\"95bcb0e4-5252-480b-9a55-a9c0323d9b18\",\"type\":\"Toolbar\"},{\"attributes\":{\"overlay\":{\"id\":\"7ffb752c-4192-4d03-9ef3-c8358ad1e8a0\",\"type\":\"BoxAnnotation\"}},\"id\":\"a3910b25-2481-47ce-ae20-1956ebd3d77f\",\"type\":\"BoxZoomTool\"},{\"attributes\":{},\"id\":\"df158ee5-7da1-41fd-a98d-c0e16fc244c7\",\"type\":\"HelpTool\"},{\"attributes\":{},\"id\":\"d1d2c573-1f14-441b-8924-5439628ccb05\",\"type\":\"WheelZoomTool\"},{\"attributes\":{\"base\":60,\"mantissas\":[1,2,5,10,15,20,30],\"max_interval\":1800000.0,\"min_interval\":1000.0,\"num_minor_ticks\":0},\"id\":\"eb7a78a5-46fa-4f66-883a-3aa2295f961b\",\"type\":\"AdaptiveTicker\"},{\"attributes\":{\"num_minor_ticks\":5,\"tickers\":[{\"id\":\"b230f572-1e89-4c4a-aa37-40370724cc37\",\"type\":\"AdaptiveTicker\"},{\"id\":\"0896e264-8081-4d43-bbea-15398918225c\",\"type\":\"AdaptiveTicker\"},{\"id\":\"e8454ab6-8ce1-4659-a31d-0558d09ae353\",\"type\":\"AdaptiveTicker\"},{\"id\":\"54ebcc81-d5a3-4bce-afd2-10eaff9b672a\",\"type\":\"DaysTicker\"},{\"id\":\"a418ee35-ed2c-4d74-973e-85a6602a32d3\",\"type\":\"DaysTicker\"},{\"id\":\"41473908-8866-4cfc-83f5-1e31b118bfd3\",\"type\":\"DaysTicker\"},{\"id\":\"035fc05c-f47d-4578-8c01-01b6748714ec\",\"type\":\"DaysTicker\"},{\"id\":\"152034a3-6774-4a13-a350-7364f3138f6e\",\"type\":\"MonthsTicker\"},{\"id\":\"b05918ac-7372-4fc3-9c37-bf1dc7afa397\",\"type\":\"MonthsTicker\"},{\"id\":\"b689e25b-115a-4d59-8e46-f1630d931604\",\"type\":\"MonthsTicker\"},{\"id\":\"d680868c-9bd4-4e1f-a2ce-42fbfbe8cadc\",\"type\":\"MonthsTicker\"},{\"id\":\"5e974ae5-aaa4-4901-9c1f-03b8d218cc46\",\"type\":\"YearsTicker\"}]},\"id\":\"b06ca47a-f60c-4b91-b563-e296d30835fc\",\"type\":\"DatetimeTicker\"},{\"attributes\":{\"dimension\":1,\"plot\":{\"id\":\"badfff52-5038-4776-b508-e97c0a75fd46\",\"subtype\":\"Figure\",\"type\":\"Plot\"},\"ticker\":{\"id\":\"ac78062e-645a-4f2f-aa30-029ea5a4a71e\",\"type\":\"BasicTicker\"}},\"id\":\"b19d5395-163d-4ef8-bf5f-cbe570cac8e3\",\"type\":\"Grid\"},{\"attributes\":{\"data_source\":{\"id\":\"962c999a-5706-4267-a3f1-dcc07937078a\",\"type\":\"ColumnDataSource\"},\"glyph\":{\"id\":\"e224644c-75ff-431e-a6a5-b88ec941eea2\",\"type\":\"Line\"},\"hover_glyph\":null,\"muted_glyph\":null,\"nonselection_glyph\":{\"id\":\"2d07a934-d341-4372-9158-7e284926bb27\",\"type\":\"Line\"},\"selection_glyph\":null,\"view\":{\"id\":\"fcd1f7f3-9e4c-4395-8fe7-16ab09d8dbaf\",\"type\":\"CDSView\"}},\"id\":\"838a7259-4f46-43ae-8de3-d574ea152ef5\",\"type\":\"GlyphRenderer\"},{\"attributes\":{},\"id\":\"5e974ae5-aaa4-4901-9c1f-03b8d218cc46\",\"type\":\"YearsTicker\"},{\"attributes\":{},\"id\":\"93ab3229-a3bf-4666-b6e7-270351100c66\",\"type\":\"DatetimeTickFormatter\"},{\"attributes\":{\"bottom_units\":\"screen\",\"fill_alpha\":{\"value\":0.5},\"fill_color\":{\"value\":\"lightgrey\"},\"left_units\":\"screen\",\"level\":\"overlay\",\"line_alpha\":{\"value\":1.0},\"line_color\":{\"value\":\"black\"},\"line_dash\":[4,4],\"line_width\":{\"value\":2},\"plot\":null,\"render_mode\":\"css\",\"right_units\":\"screen\",\"top_units\":\"screen\"},\"id\":\"77f25bc9-5164-4477-8cee-d7a40bbbacd1\",\"type\":\"BoxAnnotation\"},{\"attributes\":{\"base\":60,\"mantissas\":[1,2,5,10,15,20,30],\"max_interval\":1800000.0,\"min_interval\":1000.0,\"num_minor_ticks\":0},\"id\":\"0896e264-8081-4d43-bbea-15398918225c\",\"type\":\"AdaptiveTicker\"},{\"attributes\":{\"line_alpha\":0.1,\"line_color\":\"#1f77b4\",\"line_width\":3,\"x\":{\"field\":\"x\"},\"y\":{\"field\":\"y2\"}},\"id\":\"2d07a934-d341-4372-9158-7e284926bb27\",\"type\":\"Line\"},{\"attributes\":{\"plot\":{\"id\":\"badfff52-5038-4776-b508-e97c0a75fd46\",\"subtype\":\"Figure\",\"type\":\"Plot\"},\"ticker\":{\"id\":\"b54421e9-9500-4cc0-a31e-d93b46b6c491\",\"type\":\"DatetimeTicker\"}},\"id\":\"3cd4c154-f0c4-4c50-b961-886a27554745\",\"type\":\"Grid\"},{\"attributes\":{\"below\":[{\"id\":\"5727daeb-716b-469d-9089-7f155753f9b5\",\"type\":\"DatetimeAxis\"}],\"left\":[{\"id\":\"ef24423b-f206-422d-a430-f27c5cfac4b6\",\"type\":\"LinearAxis\"}],\"plot_height\":300,\"plot_width\":500,\"renderers\":[{\"id\":\"5727daeb-716b-469d-9089-7f155753f9b5\",\"type\":\"DatetimeAxis\"},{\"id\":\"f9a45730-decd-43ca-8e90-ccfa962d0c4c\",\"type\":\"Grid\"},{\"id\":\"ef24423b-f206-422d-a430-f27c5cfac4b6\",\"type\":\"LinearAxis\"},{\"id\":\"72f3a79f-a7d3-4f25-af5d-0189a3a0f83a\",\"type\":\"Grid\"},{\"id\":\"77f25bc9-5164-4477-8cee-d7a40bbbacd1\",\"type\":\"BoxAnnotation\"},{\"id\":\"838a7259-4f46-43ae-8de3-d574ea152ef5\",\"type\":\"GlyphRenderer\"},{\"id\":\"43950f73-3fd2-47b3-8ffa-245c760d2821\",\"type\":\"GlyphRenderer\"}],\"title\":{\"id\":\"2417ef78-93ab-42f7-aac0-9461295ebbbe\",\"type\":\"Title\"},\"toolbar\":{\"id\":\"66c721f1-1ae8-4cf4-8b85-a0904c901794\",\"type\":\"Toolbar\"},\"x_range\":{\"id\":\"586735f3-06a4-403b-8d06-c99d17309ee3\",\"type\":\"DataRange1d\"},\"x_scale\":{\"id\":\"99af7801-192a-481f-aed6-6fbb280e7004\",\"type\":\"LinearScale\"},\"y_range\":{\"id\":\"7d6950cb-b016-4e14-b3d8-3265823257cf\",\"type\":\"DataRange1d\"},\"y_scale\":{\"id\":\"bde9eab5-1ea9-4f3f-ba7f-81bedca82053\",\"type\":\"LinearScale\"}},\"id\":\"f1b9a6bf-cd8b-436c-aa4a-c5f107056aab\",\"subtype\":\"Figure\",\"type\":\"Plot\"},{\"attributes\":{},\"id\":\"2a815801-d5e1-41c9-9128-31ad9502a854\",\"type\":\"PanTool\"},{\"attributes\":{\"line_color\":\"#1f77b4\",\"line_width\":3,\"x\":{\"field\":\"x\"},\"y\":{\"field\":\"y1\"}},\"id\":\"102146e7-b42a-4cb5-aa73-1838c1bf3203\",\"type\":\"Line\"},{\"attributes\":{},\"id\":\"bde9eab5-1ea9-4f3f-ba7f-81bedca82053\",\"type\":\"LinearScale\"},{\"attributes\":{\"callback\":null},\"id\":\"586735f3-06a4-403b-8d06-c99d17309ee3\",\"type\":\"DataRange1d\"},{\"attributes\":{\"source\":{\"id\":\"962c999a-5706-4267-a3f1-dcc07937078a\",\"type\":\"ColumnDataSource\"}},\"id\":\"81268982-b8e1-4bc2-9e9d-ed2d0930a4e0\",\"type\":\"CDSView\"},{\"attributes\":{},\"id\":\"7b107e8e-069b-4121-a2a0-0e6324266215\",\"type\":\"BasicTickFormatter\"},{\"attributes\":{\"num_minor_ticks\":5,\"tickers\":[{\"id\":\"30a50f35-e55a-4e5a-85c9-32a6346a6988\",\"type\":\"AdaptiveTicker\"},{\"id\":\"eb7a78a5-46fa-4f66-883a-3aa2295f961b\",\"type\":\"AdaptiveTicker\"},{\"id\":\"5c1ac772-2567-4fc5-bd5c-e20f2d078ed2\",\"type\":\"AdaptiveTicker\"},{\"id\":\"a90a49c7-6efe-414a-9268-da5ab3ae8492\",\"type\":\"DaysTicker\"},{\"id\":\"266626ec-2669-462f-9c49-5584bbef9f93\",\"type\":\"DaysTicker\"},{\"id\":\"6f9a07d5-7297-4ec5-ac2d-cd13664b1dc8\",\"type\":\"DaysTicker\"},{\"id\":\"51ea9e4a-355b-4d14-900f-cacf2b3b3a5e\",\"type\":\"DaysTicker\"},{\"id\":\"a91e2722-9913-4f14-ad95-170813a99ac3\",\"type\":\"MonthsTicker\"},{\"id\":\"9cf2f756-8dae-4975-b337-5cbb5145510c\",\"type\":\"MonthsTicker\"},{\"id\":\"7390c3ee-c2b1-4e2a-8f81-b28c67da21a4\",\"type\":\"MonthsTicker\"},{\"id\":\"da1a21fb-0fbe-407c-84fa-3647fe10a441\",\"type\":\"MonthsTicker\"},{\"id\":\"5eb7b4f2-4725-4a5e-9040-857f044905af\",\"type\":\"YearsTicker\"}]},\"id\":\"b54421e9-9500-4cc0-a31e-d93b46b6c491\",\"type\":\"DatetimeTicker\"},{\"attributes\":{\"callback\":null},\"id\":\"7d6950cb-b016-4e14-b3d8-3265823257cf\",\"type\":\"DataRange1d\"},{\"attributes\":{\"overlay\":{\"id\":\"77f25bc9-5164-4477-8cee-d7a40bbbacd1\",\"type\":\"BoxAnnotation\"}},\"id\":\"b650ae3d-7e0b-4cdf-9047-11fccb295cfb\",\"type\":\"BoxZoomTool\"},{\"attributes\":{\"line_color\":\"#1f77b4\",\"line_width\":3,\"x\":{\"field\":\"x\"},\"y\":{\"field\":\"y2\"}},\"id\":\"e224644c-75ff-431e-a6a5-b88ec941eea2\",\"type\":\"Line\"},{\"attributes\":{},\"id\":\"d3bace9f-721a-487e-9c2f-8c07de5b9e05\",\"type\":\"ResetTool\"},{\"attributes\":{\"mantissas\":[1,2,5],\"max_interval\":500.0,\"num_minor_ticks\":0},\"id\":\"30a50f35-e55a-4e5a-85c9-32a6346a6988\",\"type\":\"AdaptiveTicker\"},{\"attributes\":{},\"id\":\"ac1956f1-fcbe-4c14-ac2f-fec7f7bbef52\",\"type\":\"WheelZoomTool\"},{\"attributes\":{\"mantissas\":[1,2,5],\"max_interval\":500.0,\"num_minor_ticks\":0},\"id\":\"b230f572-1e89-4c4a-aa37-40370724cc37\",\"type\":\"AdaptiveTicker\"},{\"attributes\":{},\"id\":\"4264f917-5c35-4c2d-bb5f-3c8fa932d143\",\"type\":\"LinearScale\"},{\"attributes\":{\"active_drag\":\"auto\",\"active_inspect\":\"auto\",\"active_scroll\":\"auto\",\"active_tap\":\"auto\",\"tools\":[{\"id\":\"4ed35444-1dd2-4185-bd52-d84f516f8f4a\",\"type\":\"PanTool\"},{\"id\":\"ac1956f1-fcbe-4c14-ac2f-fec7f7bbef52\",\"type\":\"WheelZoomTool\"},{\"id\":\"b650ae3d-7e0b-4cdf-9047-11fccb295cfb\",\"type\":\"BoxZoomTool\"},{\"id\":\"0e80f618-4e7f-4a86-bf0e-a406f55082e2\",\"type\":\"SaveTool\"},{\"id\":\"0211a113-5b81-45e1-8ea6-7f89d1cf3925\",\"type\":\"ResetTool\"},{\"id\":\"384cbacf-5822-4026-a821-4f2c0fec3815\",\"type\":\"HelpTool\"}]},\"id\":\"66c721f1-1ae8-4cf4-8b85-a0904c901794\",\"type\":\"Toolbar\"},{\"attributes\":{},\"id\":\"2ea10465-3d92-40d2-b31b-69c6b0b27331\",\"type\":\"BasicTicker\"},{\"attributes\":{\"callback\":null,\"column_names\":[\"x\",\"y1\",\"y2\",\"y3\"],\"data\":{\"x\":[1504519260000.0,1504519270000.0,1504519340000.0,1504519430000.0,1504519520000.0,1504519600000.0,1504519690000.0,1504519770000.0,1504519860000.0,1504519950000.0,1504520030000.0,1504520120000.0,1504520210000.0,1504520290000.0,1504520380000.0,1504520470000.0,1504520550000.0,1504520640000.0,1504520730000.0,1504520810000.0,1504520900000.0,1504520990000.0,1504521070000.0,1504521160000.0,1504521240000.0,1504521330000.0,1504521420000.0,1504521500000.0,1504521590000.0,1504521680000.0,1504521760000.0,1504521850000.0,1504521940000.0,1504522020000.0,1504522110000.0,1504522200000.0,1504522280000.0,1504522370000.0,1504522460000.0,1504522540000.0,1504522630000.0,1504522720000.0,1504522800000.0,1504522890000.0,1504522970000.0,1504523060000.0,1504523150000.0,1504523230000.0,1504523320000.0,1504523410000.0,1504523490000.0,1504523580000.0,1504523670000.0,1504523750000.0,1504523840000.0,1504523930000.0,1504524010000.0,1504524100000.0,1504524190000.0,1504524270000.0,1504524360000.0,1504524440000.0,1504524530000.0,1504524620000.0,1504524700000.0,1504524790000.0,1504524880000.0,1504524960000.0,1504525050000.0,1504525140000.0,1504525220000.0,1504525310000.0,1504525400000.0,1504525480000.0,1504525570000.0,1504525660000.0,1504525740000.0,1504525830000.0,1504525920000.0,1504526000000.0,1504526090000.0,1504526170000.0,1504526260000.0,1504526350000.0,1504526430000.0,1504526520000.0,1504526610000.0,1504526690000.0,1504526780000.0,1504526870000.0,1504526950000.0,1504527040000.0,1504527130000.0,1504527210000.0,1504527300000.0,1504527390000.0,1504527470000.0,1504527560000.0,1504527640000.0,1504527730000.0,1504527820000.0,1504527900000.0,1504527990000.0,1504528080000.0,1504528160000.0,1504528250000.0,1504528340000.0,1504528420000.0,1504528510000.0,1504528600000.0,1504528680000.0,1504528770000.0,1504528860000.0,1504528940000.0,1504529030000.0,1504529120000.0,1504529200000.0,1504529290000.0,1504529370000.0,1504529460000.0,1504529550000.0,1504529630000.0,1504529720000.0,1504529810000.0,1504529890000.0,1504529980000.0,1504530070000.0,1504530150000.0,1504530240000.0,1504530330000.0,1504530410000.0,1504530500000.0,1504530590000.0,1504530670000.0,1504530760000.0,1504530840000.0,1504530930000.0,1504531020000.0,1504531100000.0,1504531190000.0,1504531280000.0,1504531360000.0,1504531450000.0,1504531540000.0,1504531620000.0,1504531710000.0,1504531800000.0,1504531880000.0,1504531970000.0,1504532060000.0,1504532140000.0,1504532230000.0,1504532320000.0,1504532400000.0,1504532490000.0,1504532570000.0,1504532660000.0,1504532750000.0,1504532830000.0,1504532920000.0,1504533010000.0,1504533090000.0,1504533180000.0,1504533270000.0,1504533350000.0,1504533440000.0,1504533530000.0,1504533610000.0,1504533700000.0,1504533790000.0,1504533870000.0,1504533960000.0,1504534040000.0,1504534130000.0,1504534220000.0,1504534300000.0,1504534390000.0,1504534480000.0,1504534560000.0,1504534650000.0,1504534740000.0,1504534820000.0,1504534910000.0,1504535000000.0,1504535080000.0,1504535170000.0,1504535260000.0,1504535340000.0,1504535430000.0,1504535520000.0,1504535600000.0,1504535690000.0,1504535770000.0,1504535860000.0,1504535950000.0,1504536030000.0,1504536120000.0,1504536210000.0,1504536290000.0,1504536380000.0,1504536470000.0,1504536550000.0,1504536640000.0,1504536730000.0,1504536810000.0,1504536900000.0,1504536990000.0,1504537070000.0,1504537160000.0,1504537240000.0,1504537330000.0,1504537420000.0,1504537500000.0,1504537590000.0,1504537680000.0,1504537760000.0,1504537850000.0,1504537940000.0,1504538020000.0,1504538110000.0,1504538200000.0,1504538280000.0,1504538370000.0,1504538460000.0,1504538540000.0,1504538630000.0,1504538720000.0,1504538800000.0,1504538890000.0,1504538970000.0,1504539060000.0,1504539150000.0,1504539230000.0,1504539320000.0,1504539410000.0,1504539490000.0,1504539580000.0,1504539670000.0,1504539750000.0,1504539840000.0,1504539930000.0,1504540010000.0,1504540100000.0,1504540190000.0,1504540270000.0,1504540360000.0,1504540440000.0,1504540530000.0,1504540620000.0,1504540700000.0,1504540790000.0,1504540880000.0,1504540960000.0,1504541050000.0,1504541140000.0,1504541220000.0,1504541310000.0,1504541400000.0,1504541480000.0,1504541570000.0,1504541660000.0,1504541740000.0,1504541830000.0,1504541920000.0,1504542000000.0,1504542090000.0,1504542170000.0,1504542260000.0,1504542350000.0,1504542430000.0,1504542520000.0,1504542610000.0,1504542690000.0,1504542780000.0,1504542870000.0,1504542950000.0,1504543040000.0,1504543130000.0,1504543210000.0,1504543300000.0,1504543390000.0,1504543470000.0,1504543560000.0,1504543640000.0,1504543730000.0,1504543820000.0,1504543900000.0,1504543990000.0,1504544080000.0,1504544160000.0,1504544250000.0,1504544340000.0,1504544420000.0,1504544510000.0,1504544600000.0,1504544680000.0,1504544770000.0,1504544860000.0,1504544940000.0,1504545030000.0,1504545120000.0,1504545200000.0,1504545290000.0,1504545370000.0,1504545460000.0,1504545550000.0,1504545630000.0,1504545720000.0,1504545810000.0,1504545890000.0,1504545980000.0,1504546070000.0,1504546150000.0,1504546240000.0,1504546330000.0,1504546410000.0,1504546500000.0,1504546590000.0,1504546670000.0,1504546760000.0,1504546840000.0,1504546930000.0,1504547020000.0,1504547100000.0,1504547190000.0,1504547280000.0,1504547360000.0,1504547450000.0,1504547540000.0,1504547620000.0,1504547710000.0,1504547800000.0,1504547880000.0,1504547970000.0,1504548060000.0,1504548140000.0,1504548230000.0,1504548320000.0,1504548400000.0,1504548490000.0,1504548570000.0,1504548660000.0,1504548750000.0,1504548830000.0,1504548920000.0,1504549010000.0,1504549090000.0,1504549180000.0,1504549270000.0,1504549350000.0,1504549440000.0,1504549530000.0,1504549610000.0,1504549700000.0,1504549790000.0,1504549870000.0,1504549960000.0,1504550040000.0,1504550130000.0,1504550220000.0,1504550300000.0,1504550390000.0,1504550480000.0,1504550560000.0,1504550650000.0,1504550740000.0,1504550820000.0,1504550910000.0,1504551000000.0,1504551080000.0,1504551170000.0,1504551260000.0,1504551340000.0,1504551430000.0,1504551520000.0,1504551600000.0,1504551690000.0,1504551770000.0,1504551860000.0,1504551950000.0,1504552030000.0,1504552120000.0,1504552210000.0,1504552290000.0,1504552380000.0,1504552470000.0,1504552550000.0,1504552640000.0,1504552730000.0,1504552810000.0,1504552900000.0,1504552990000.0,1504553070000.0,1504553160000.0,1504553240000.0,1504553330000.0,1504553420000.0,1504553500000.0,1504553590000.0,1504553680000.0,1504553760000.0,1504553850000.0,1504553940000.0,1504554020000.0,1504554110000.0,1504554200000.0,1504554280000.0,1504554370000.0,1504554460000.0,1504554540000.0,1504554630000.0,1504554720000.0,1504554800000.0,1504554890000.0,1504554970000.0,1504555060000.0,1504555150000.0,1504555230000.0,1504555320000.0,1504555410000.0,1504555490000.0,1504555580000.0,1504555670000.0,1504555750000.0,1504555840000.0,1504555930000.0,1504556010000.0,1504556100000.0,1504556190000.0,1504556270000.0,1504556360000.0,1504556440000.0,1504556530000.0,1504556620000.0,1504556700000.0,1504556790000.0,1504556880000.0,1504556960000.0,1504557050000.0,1504557140000.0,1504557220000.0,1504557310000.0,1504557400000.0,1504557480000.0,1504557570000.0,1504557660000.0,1504557740000.0,1504557830000.0,1504557920000.0,1504558000000.0,1504558090000.0,1504558170000.0,1504558260000.0,1504558350000.0,1504558430000.0,1504558520000.0,1504558610000.0,1504558690000.0,1504558780000.0,1504558870000.0,1504558950000.0,1504559040000.0,1504559130000.0,1504559210000.0,1504559300000.0,1504559390000.0,1504559470000.0,1504559560000.0,1504559640000.0,1504559730000.0,1504559820000.0,1504559900000.0,1504559990000.0,1504560080000.0,1504560160000.0,1504560250000.0,1504560340000.0,1504560420000.0,1504560510000.0,1504560600000.0,1504560680000.0,1504560770000.0,1504560860000.0,1504560940000.0,1504561030000.0,1504561120000.0,1504561200000.0,1504561290000.0,1504561370000.0,1504561460000.0,1504561550000.0,1504561630000.0,1504561720000.0,1504561810000.0,1504561890000.0,1504561980000.0,1504562070000.0,1504562150000.0,1504562240000.0,1504562330000.0,1504562410000.0,1504562500000.0,1504562590000.0,1504562670000.0,1504562760000.0,1504562840000.0,1504562930000.0,1504563020000.0,1504563100000.0,1504563190000.0,1504563280000.0,1504563360000.0,1504563450000.0,1504563540000.0,1504563620000.0,1504563710000.0,1504563800000.0,1504563880000.0,1504563970000.0,1504564060000.0,1504564140000.0,1504564230000.0,1504564320000.0,1504564400000.0,1504564490000.0,1504564570000.0,1504564660000.0,1504564750000.0,1504564830000.0,1504564920000.0,1504565010000.0,1504565090000.0,1504565180000.0,1504565270000.0,1504565350000.0,1504565440000.0,1504565530000.0,1504565610000.0,1504565700000.0,1504565790000.0,1504565870000.0,1504565960000.0,1504566040000.0,1504566130000.0,1504566220000.0,1504566300000.0,1504566390000.0,1504566480000.0,1504566560000.0,1504566650000.0,1504566740000.0,1504566820000.0,1504566910000.0,1504567000000.0,1504567080000.0,1504567170000.0,1504567260000.0,1504567340000.0,1504567430000.0,1504567520000.0,1504567600000.0,1504567690000.0,1504567770000.0,1504567860000.0,1504567950000.0,1504568030000.0,1504568120000.0,1504568210000.0,1504568290000.0,1504568380000.0,1504568470000.0,1504568550000.0,1504568640000.0,1504568730000.0,1504568810000.0,1504568900000.0,1504568990000.0,1504569070000.0,1504569160000.0,1504569240000.0,1504569330000.0,1504569420000.0,1504569500000.0,1504569590000.0,1504569680000.0,1504569760000.0,1504569850000.0,1504569940000.0,1504570020000.0,1504570110000.0,1504570200000.0,1504570280000.0,1504570370000.0,1504570460000.0,1504570540000.0,1504570630000.0,1504570720000.0,1504570800000.0,1504570890000.0,1504570970000.0,1504571060000.0,1504571150000.0,1504571230000.0,1504571320000.0,1504571410000.0,1504571490000.0,1504571580000.0,1504571670000.0,1504571750000.0,1504571840000.0,1504571930000.0,1504572010000.0,1504572100000.0,1504572190000.0,1504572270000.0,1504572360000.0,1504572440000.0,1504572530000.0,1504572620000.0,1504572700000.0,1504572790000.0,1504572880000.0,1504572960000.0,1504573050000.0,1504573140000.0,1504573220000.0,1504573310000.0,1504573400000.0,1504573480000.0,1504573570000.0,1504573660000.0,1504573740000.0,1504573830000.0,1504573920000.0,1504574000000.0,1504574090000.0,1504574170000.0,1504574260000.0,1504574350000.0,1504574430000.0,1504574520000.0,1504574610000.0,1504574690000.0,1504574780000.0,1504574870000.0,1504574950000.0,1504575040000.0,1504575130000.0,1504575210000.0,1504575300000.0,1504575390000.0,1504575470000.0,1504575560000.0,1504575640000.0,1504575730000.0,1504575820000.0,1504575900000.0,1504575990000.0,1504576080000.0,1504576160000.0,1504576250000.0,1504576340000.0,1504576420000.0,1504576510000.0,1504576600000.0,1504576680000.0,1504576770000.0,1504576860000.0,1504576940000.0,1504577030000.0,1504577120000.0,1504577200000.0,1504577290000.0,1504577370000.0,1504577460000.0,1504577550000.0,1504577630000.0,1504577720000.0,1504577810000.0,1504577890000.0,1504577980000.0,1504578070000.0,1504578150000.0,1504578240000.0,1504578330000.0,1504578410000.0,1504578500000.0,1504578590000.0,1504578670000.0,1504578760000.0,1504578840000.0,1504578930000.0,1504579020000.0,1504579100000.0,1504579190000.0,1504579280000.0,1504579360000.0,1504579450000.0,1504579540000.0,1504579620000.0,1504579710000.0,1504579800000.0,1504579880000.0,1504579970000.0,1504580060000.0,1504580140000.0,1504580230000.0,1504580320000.0,1504580400000.0,1504580490000.0,1504580570000.0,1504580660000.0,1504580750000.0,1504580830000.0,1504580920000.0,1504581010000.0,1504581090000.0,1504581180000.0,1504581270000.0,1504581350000.0,1504581440000.0,1504581530000.0,1504581610000.0,1504581700000.0,1504581790000.0,1504581870000.0,1504581960000.0,1504582040000.0,1504582130000.0,1504582220000.0,1504582300000.0,1504582390000.0,1504582480000.0,1504582560000.0,1504582650000.0,1504582740000.0,1504582820000.0,1504582910000.0,1504583000000.0,1504583080000.0,1504583170000.0,1504583260000.0,1504583340000.0,1504583430000.0,1504583520000.0,1504583600000.0,1504583690000.0,1504583770000.0,1504583860000.0,1504583950000.0,1504584030000.0,1504584120000.0,1504584210000.0,1504584290000.0,1504584380000.0,1504584470000.0,1504584550000.0,1504584640000.0,1504584730000.0,1504584810000.0,1504584900000.0,1504584990000.0,1504585070000.0,1504585160000.0,1504585240000.0,1504585330000.0,1504585420000.0,1504585500000.0,1504585590000.0,1504585680000.0,1504585760000.0,1504585850000.0,1504585940000.0,1504586020000.0,1504586110000.0,1504586200000.0,1504586280000.0,1504586370000.0,1504586460000.0,1504586540000.0,1504586630000.0,1504586720000.0,1504586800000.0,1504586890000.0,1504586970000.0,1504587060000.0,1504587150000.0,1504587230000.0,1504587320000.0,1504587410000.0,1504587490000.0,1504587580000.0,1504587670000.0,1504587750000.0,1504587840000.0,1504587930000.0,1504588010000.0,1504588100000.0,1504588190000.0,1504588270000.0,1504588360000.0,1504588440000.0,1504588530000.0,1504588620000.0,1504588700000.0,1504588790000.0,1504588880000.0,1504588960000.0,1504589050000.0,1504589140000.0,1504589220000.0,1504589310000.0,1504589400000.0,1504589480000.0,1504589570000.0,1504589660000.0,1504589740000.0,1504589830000.0,1504589920000.0,1504590000000.0,1504590090000.0,1504590170000.0,1504590260000.0,1504590350000.0,1504590430000.0,1504590520000.0,1504590610000.0,1504590690000.0,1504590780000.0,1504590870000.0,1504590950000.0,1504591040000.0,1504591130000.0,1504591210000.0,1504591300000.0,1504591390000.0,1504591470000.0,1504591560000.0,1504591640000.0,1504591730000.0,1504591820000.0,1504591900000.0,1504591990000.0,1504592080000.0,1504592160000.0,1504592250000.0,1504592340000.0,1504592420000.0,1504592510000.0,1504592600000.0,1504592680000.0,1504592770000.0,1504592860000.0,1504592940000.0,1504593030000.0,1504593120000.0,1504593200000.0,1504593290000.0,1504593370000.0,1504593460000.0,1504593550000.0,1504593630000.0,1504593720000.0,1504593810000.0,1504593890000.0,1504593980000.0,1504594070000.0,1504594150000.0,1504594240000.0,1504594330000.0,1504594410000.0,1504594500000.0,1504594590000.0,1504594670000.0,1504594760000.0,1504594840000.0,1504594930000.0,1504595020000.0,1504595100000.0,1504595190000.0,1504595280000.0,1504595360000.0,1504595450000.0,1504595540000.0,1504595620000.0,1504595710000.0,1504595800000.0,1504595880000.0,1504595970000.0,1504596060000.0,1504596140000.0,1504596230000.0,1504596320000.0,1504596400000.0,1504596490000.0,1504596570000.0,1504596660000.0,1504596750000.0,1504596830000.0,1504596920000.0,1504597010000.0,1504597090000.0,1504597180000.0,1504597270000.0,1504597350000.0,1504597440000.0,1504597530000.0,1504597610000.0,1504597700000.0,1504597790000.0,1504597870000.0,1504597960000.0,1504598040000.0,1504598130000.0,1504598220000.0,1504598300000.0,1504598390000.0,1504598480000.0,1504598560000.0,1504598650000.0,1504598740000.0,1504598820000.0,1504598910000.0,1504599000000.0,1504599080000.0,1504599170000.0,1504599260000.0,1504599340000.0,1504599430000.0,1504599520000.0,1504599600000.0,1504599690000.0,1504599770000.0,1504599860000.0,1504599950000.0,1504600030000.0,1504600120000.0,1504600210000.0,1504600290000.0,1504600380000.0,1504600470000.0,1504600550000.0,1504600640000.0,1504600730000.0,1504600810000.0,1504600900000.0,1504600990000.0,1504601070000.0,1504601160000.0,1504601240000.0,1504601330000.0,1504601420000.0,1504601500000.0,1504601590000.0,1504601680000.0,1504601760000.0,1504601850000.0,1504601940000.0,1504602020000.0,1504602110000.0,1504602200000.0,1504602280000.0,1504602370000.0,1504602460000.0,1504602540000.0,1504602630000.0,1504602720000.0,1504602800000.0,1504602890000.0,1504602970000.0,1504603060000.0,1504603150000.0,1504603230000.0,1504603320000.0,1504603410000.0,1504603490000.0,1504603580000.0,1504603670000.0,1504603750000.0,1504603840000.0,1504603930000.0,1504604010000.0,1504604100000.0,1504604190000.0,1504604270000.0,1504604360000.0,1504604440000.0,1504604530000.0,1504604620000.0,1504604700000.0,1504604790000.0,1504604880000.0,1504604960000.0,1504605050000.0,1504605140000.0,1504605220000.0,1504605310000.0,1504605400000.0,1504605480000.0,1504605570000.0,1504605660000.0],\"y1\":[5.789999961853027,5.816299915313721,5.859000205993652,5.47629976272583,5.410399913787842,5.410900115966797,5.712699890136719,5.692500114440918,5.486499786376953,5.457799911499023,5.198999881744385,4.567399978637695,4.609099864959717,4.641600131988525,5.2789998054504395,5.457200050354004,5.264200210571289,5.08050012588501,5.149099826812744,5.1641998291015625,5.042699813842773,5.240600109100342,5.674300193786621,5.783999919891357,5.634399890899658,5.48390007019043,5.100299835205078,5.287700176239014,4.928400039672852,5.1458001136779785,5.05109977722168,5.609000205993652,5.724899768829346,5.3917999267578125,5.346499919891357,5.9191999435424805,5.3206000328063965,4.546899795532227,4.4278998374938965,4.498700141906738,4.249800205230713,4.07390022277832,4.193699836730957,4.063899993896484,3.9377999305725098,3.782399892807007,3.657900094985962,3.7300000190734863,3.6842000484466553,3.662400007247925,3.6486001014709473,3.671999931335449,3.7321999073028564,3.751199960708618,3.6779000759124756,3.5785999298095703,3.536099910736084,3.6565001010894775,3.687299966812134,3.828000068664551,3.899199962615967,3.9484000205993652,3.8852999210357666,3.7214999198913574,3.7614998817443848,3.663300037384033,3.56030011177063,3.5069000720977783,3.48799991607666,3.3731000423431396,3.3987998962402344,3.5051000118255615,3.847100019454956,3.7660000324249268,3.532099962234497,3.4809000492095947,3.510699987411499,3.5429000854492188,3.5739998817443848,3.5722999572753906,3.4874000549316406,3.47189998626709,3.331199884414673,3.2111001014709473,3.170300006866455,3.2400999069213867,3.2325000762939453,3.218899965286255,3.3664000034332275,3.4474000930786133,3.382999897003174,3.3427999019622803,3.3285999298095703,3.362600088119507,3.4837000370025635,3.4467999935150146,3.4042000770568848,3.651099920272827,3.8824000358581543,3.8259999752044678,4.036600112915039,3.9939000606536865,3.9934000968933105,4.114699840545654,4.133299827575684,4.210100173950195,3.993000030517578,3.6956000328063965,3.7416999340057373,3.730799913406372,3.654599905014038,3.995800018310547,4.023600101470947,4.122900009155273,4.356299877166748,4.196000099182129,4.402299880981445,4.275700092315674,3.966200113296509,4.05810022354126,3.9340999126434326,4.190299987792969,4.1631999015808105,3.7392001152038574,3.5687999725341797,3.512500047683716,3.522599935531616,3.5518999099731445,3.463399887084961,3.332200050354004,3.250999927520752,3.1803998947143555,3.1695001125335693,3.180000066757202,3.121000051498413,3.1087000370025635,3.1851999759674072,3.3006999492645264,3.3382999897003174,3.309299945831299,3.4175000190734863,3.4549999237060547,3.5594000816345215,3.4567999839782715,3.5729000568389893,3.4600000381469727,3.565500020980835,3.686000108718872,3.821899890899658,3.881999969482422,3.8526999950408936,3.7195000648498535,3.563499927520752,3.447999954223633,3.3961000442504883,3.448499917984009,3.4635000228881836,3.4667999744415283,3.4969000816345215,3.566200017929077,3.5425000190734863,3.628000020980835,3.790299892425537,3.7107999324798584,3.6521999835968018,3.6496999263763428,3.5092999935150146,4.025100231170654,3.725800037384033,3.5425000190734863,3.48580002784729,3.5485999584198,3.79010009765625,3.743799924850464,3.68149995803833,3.5655999183654785,3.353300094604492,3.266900062561035,3.26990008354187,3.231100082397461,3.3831000328063965,3.313499927520752,3.180999994277954,3.1340999603271484,3.2295000553131104,3.381500005722046,3.440000057220459,3.484100103378296,3.3801000118255615,3.254699945449829,3.2483999729156494,3.33489990234375,3.313499927520752,3.2411000728607178,3.3554999828338623,3.4477999210357666,3.453700065612793,3.414900064468384,3.331700086593628,3.29229998588562,3.3066000938415527,3.488800048828125,3.967600107192993,4.029699802398682,4.024700164794922,3.911799907684326,3.979300022125244,4.103000164031982,3.778599977493286,3.7284998893737793,3.622299909591675,3.7218000888824463,3.819000005722046,4.089600086212158,4.053699970245361,3.6263999938964844,3.796299934387207,3.8884999752044678,3.8250999450683594,4.061999797821045,3.7086000442504883,3.4990999698638916,3.5592000484466553,3.553299903869629,3.647200107574463,3.8369998931884766,3.8164000511169434,3.7399001121520996,4.094399929046631,4.24399995803833,4.56850004196167,4.420499801635742,4.245800018310547,4.056300163269043,3.8965001106262207,4.0584001541137695,3.7876999378204346,3.667799949645996,3.555000066757202,3.487299919128418,3.3986001014709473,3.414900064468384,3.403899908065796,3.259999990463257,3.3190999031066895,3.625499963760376,3.657099962234497,3.5792999267578125,3.4354000091552734,3.3787999153137207,3.429800033569336,3.404599905014038,3.375499963760376,3.4818999767303467,3.392199993133545,3.3615000247955322,3.4233999252319336,3.8243000507354736,3.753700017929077,3.5141000747680664,3.3106000423431396,3.25,3.2685999870300293,3.366300106048584,3.479599952697754,3.4941999912261963,3.5408999919891357,3.6096999645233154,3.647599935531616,3.5192999839782715,3.5290000438690186,3.49399995803833,3.438800096511841,3.5374999046325684,3.545300006866455,3.566699981689453,3.59660005569458,3.5638999938964844,3.490499973297119,3.4365999698638916,3.4286000728607178,3.558000087738037,3.536900043487549,3.620300054550171,3.6554999351501465,3.740799903869629,3.8046998977661133,3.8108999729156494,3.6923999786376953,3.6796998977661133,3.5615999698638916,3.441999912261963,3.50819993019104,3.5137999057769775,3.6115000247955322,3.9946999549865723,4.7484002113342285,5.313000202178955,5.014200210571289,5.462600231170654,6.122799873352051,5.799499988555908,5.793300151824951,5.736499786376953,5.84689998626709,5.559100151062012,5.347599983215332,5.646599769592285,5.463099956512451,5.041900157928467,4.804500102996826,4.726500034332275,4.867700099945068,4.77400016784668,4.499000072479248,4.867300033569336,5.102200031280518,5.1442999839782715,5.267499923706055,5.173099994659424,4.901899814605713,5.257599830627441,5.3649001121521,5.206399917602539,4.884200096130371,4.859000205993652,4.796500205993652,4.644700050354004,4.729400157928467,4.982900142669678,5.019000053405762,4.5782999992370605,4.468900203704834,4.495699882507324,4.687699794769287,4.955900192260742,4.908400058746338,4.66949987411499,4.982100009918213,4.990799903869629,4.810699939727783,4.935200214385986,4.5970001220703125,4.626399993896484,4.609300136566162,4.516499996185303,4.412199974060059,4.7357001304626465,5.104300022125244,5.277599811553955,4.900199890136719,4.506100177764893,4.816800117492676,4.636199951171875,4.5995001792907715,4.849999904632568,4.889100074768066,4.897600173950195,5.037600040435791,4.996200084686279,4.825399875640869,4.5721001625061035,4.696800231933594,5.241799831390381,5.651599884033203,5.4309000968933105,5.203100204467773,5.3267998695373535,5.0879998207092285,4.789899826049805,4.817800045013428,5.028600215911865,5.333000183105469,5.320899963378906,5.053199768066406,5.067800045013428,5.113999843597412,5.2083001136779785,4.797999858856201,4.992400169372559,5.064899921417236,5.171599864959717,5.122099876403809,5.107800006866455,4.787799835205078,4.657299995422363,4.735599994659424,4.9653000831604,5.146999835968018,5.459000110626221,5.43310022354126,5.343800067901611,4.905900001525879,5.259900093078613,5.318399906158447,5.407299995422363,4.978300094604492,4.92519998550415,4.757299900054932,4.6132001876831055,4.532599925994873,4.6508002281188965,5.0802001953125,5.322800159454346,5.360899925231934,5.176700115203857,5.405399799346924,5.467700004577637,5.730800151824951,5.368000030517578,5.251100063323975,5.321700096130371,4.9903998374938965,5.084499835968018,5.656799793243408,5.825699806213379,5.693999767303467,5.402699947357178,4.890500068664551,5.188899993896484,5.259900093078613,4.981900215148926,4.710299968719482,4.934599876403809,5.212699890136719,5.080699920654297,5.232500076293945,5.289100170135498,5.4207000732421875,5.558700084686279,5.067599773406982,4.9842000007629395,4.731599807739258,4.427199840545654,4.841899871826172,5.222899913787842,4.689300060272217,4.302299976348877,5.107800006866455,5.566100120544434,5.655799865722656,5.265600204467773,5.416399955749512,5.510000228881836,5.594900131225586,5.63100004196167,5.223199844360352,5.575300216674805,5.90369987487793,5.739699840545654,5.5954999923706055,5.339799880981445,5.5177998542785645,5.893499851226807,5.8003997802734375,5.498000144958496,5.230199813842773,5.1219000816345215,4.899700164794922,4.4633002281188965,4.498300075531006,4.834099769592285,4.805799961090088,4.97629976272583,5.079999923706055,5.306099891662598,5.252600193023682,5.401199817657471,5.3846001625061035,5.215400218963623,5.225100040435791,5.348700046539307,5.598400115966797,5.0970001220703125,5.295499801635742,5.228700160980225,5.301199913024902,5.295300006866455,5.431099891662598,5.575200080871582,5.50439977645874,5.540500164031982,5.463500022888184,5.0152997970581055,5.095300197601318,4.702199935913086,4.403600215911865,4.601399898529053,4.337600231170654,3.936199903488159,3.637700080871582,3.527400016784668,3.553499937057495,3.509700059890747,3.5562000274658203,3.742799997329712,3.697700023651123,3.5934998989105225,3.6345999240875244,3.704900026321411,3.5562000274658203,3.5727999210357666,3.704400062561035,3.709700107574463,3.779900074005127,3.6501998901367188,3.5237998962402344,3.6500000953674316,3.796099901199341,3.7495999336242676,3.6048998832702637,3.7053000926971436,3.605600118637085,3.504300117492676,3.5253000259399414,3.4955999851226807,3.486299991607666,3.4844000339508057,3.6303000450134277,3.55679988861084,3.550600051879883,3.5648000240325928,3.6774001121520996,3.8654000759124756,3.8303000926971436,3.7088000774383545,3.6036999225616455,3.57069993019104,3.5566999912261963,3.5539000034332275,3.6112000942230225,3.5497000217437744,3.5476999282836914,3.6398000717163086,3.726099967956543,3.769200086593628,4.0808000564575195,3.946500062942505,3.9951999187469482,3.7281999588012695,3.6728999614715576,3.676100015640259,3.5947999954223633,3.3301000595092773,3.285399913787842,3.2797999382019043,3.3371999263763428,3.383699893951416,3.3687000274658203,3.400399923324585,3.4428999423980713,3.398200035095215,3.4612998962402344,3.428800106048584,3.7007999420166016,3.856100082397461,4.0081000328063965,3.9855000972747803,3.544100046157837,3.3773999214172363,3.2980000972747803,3.295799970626831,3.3635001182556152,3.5573999881744385,3.673799991607666,3.6802000999450684,3.6630001068115234,3.475100040435791,3.45169997215271,3.4702000617980957,3.447999954223633,3.303499937057495,3.2767999172210693,3.363300085067749,3.494800090789795,3.476599931716919,3.3285000324249268,3.2829999923706055,3.2887001037597656,3.3013999462127686,3.259000062942505,3.179500102996826,3.191999912261963,3.332900047302246,3.280900001525879,3.210200071334839,3.210200071334839,3.1942999362945557,3.202399969100952,3.2216999530792236,3.3654000759124756,3.502700090408325,3.558000087738037,3.496299982070923,3.4456000328063965,3.3889000415802,3.401700019836426,3.4941999912261963,3.547300100326538,3.531599998474121,3.455199956893921,3.6823999881744385,3.7500998973846436,3.75570011138916,3.847100019454956,3.8708999156951904,3.7897000312805176,3.6898000240325928,3.73799991607666,3.657599925994873,3.507499933242798,3.484999895095825,3.4695000648498535,3.5820000171661377,3.5599000453948975,3.427000045776367,3.3996999263763428,3.4695000648498535,3.5378000736236572,3.5048000812530518,3.5327000617980957,3.5100998878479004,3.513400077819824,3.6003000736236572,3.6577000617980957,3.7211999893188477,3.7297000885009766,3.8004000186920166,3.705899953842163,3.7409000396728516,3.9082000255584717,3.789299964904785,4.019999980926514,4.122600078582764,4.001200199127197,4.235099792480469,4.0920000076293945,4.028500080108643,4.062600135803223,3.927999973297119,3.924299955368042,3.764899969100952,3.6758999824523926,3.6050000190734863,3.5666000843048096,3.6354000568389893,3.6482999324798584,3.7207000255584717,4.013400077819824,3.91729998588562,3.8452999591827393,3.7467000484466553,3.676100015640259,3.5892999172210693,3.5290000438690186,3.655600070953369,3.72379994392395,3.8125,3.8798000812530518,3.811199903488159,3.9382998943328857,3.7762999534606934,3.7283999919891357,3.892899990081787,3.7372000217437744,3.8548998832702637,3.757499933242798,3.6819000244140625,3.669300079345703,3.638700008392334,3.666300058364868,3.7827999591827393,3.709700107574463,3.6547999382019043,3.7465999126434326,3.773200035095215,3.9374001026153564,3.803800106048584,3.6659998893737793,3.644700050354004,3.655900001525879,3.843899965286255,3.939199924468994,3.9881999492645264,3.7467000484466553,3.683799982070923,4.286399841308594,4.165200233459473,3.9583001136779785,3.8106000423431396,3.8431999683380127,4.1057000160217285,4.046599864959717,3.7981998920440674,4.205399990081787,4.365099906921387,4.170400142669678,4.039700031280518,4.47160005569458,4.783299922943115,4.3470001220703125,3.8578999042510986,3.7039999961853027,3.6465001106262207,3.8025999069213867,3.933799982070923,3.7909998893737793,3.6796000003814697,3.5899999141693115,3.5897998809814453,3.4807000160217285,3.607100009918213,3.7881999015808105,3.6786000728607178,3.526700019836426,3.5985000133514404,3.680799961090088,3.74399995803833,3.74780011177063,3.794300079345703,3.8615000247955322,3.813699960708618,3.8355000019073486,3.7669999599456787,3.794100046157837,3.7423999309539795,3.81469988822937,3.774399995803833,3.76990008354187,3.6926000118255615,3.63319993019104,3.6535000801086426,3.6285998821258545,3.7560999393463135,3.8738999366760254,3.930999994277954,3.870300054550171,3.6335999965667725,3.6607000827789307,3.68530011177063,3.6012001037597656,3.667099952697754,4.080599784851074,5.116199970245361,5.433599948883057,5.607100009918213,5.357399940490723,4.818699836730957,5.084199905395508,5.111299991607666,5.157599925994873,4.388500213623047,4.836699962615967,4.951600074768066,4.38730001449585,4.567800045013428,4.642399787902832,4.801300048828125,4.9380998611450195,4.922100067138672,4.536399841308594,4.5482001304626465,4.585999965667725,4.755199909210205,4.917900085449219,4.9822998046875,5.077199935913086,4.843100070953369,4.7596001625061035,4.582099914550781,4.798500061035156,4.98390007019043,4.821800231933594,4.625800132751465,4.646900177001953,4.751200199127197,4.873300075531006,4.733699798583984,4.906799793243408,4.824999809265137,5.000899791717529,4.838399887084961,5.317200183868408,5.251100063323975,5.22599983215332,4.8871002197265625,4.705699920654297,4.703100204467773,4.972799777984619,4.952600002288818,4.858699798583984,4.689799785614014,4.586599826812744,4.987500190734863,4.44789981842041,4.218699932098389,4.728899955749512,5.129199981689453,4.319699764251709,4.049699783325195,4.1596999168396,4.4359002113342285,4.391499996185303,4.833499908447266,4.547299861907959,4.660799980163574,4.942800045013428,4.772500038146973,4.583199977874756,5.007400035858154,4.8302998542785645,4.635700225830078,4.69950008392334,4.342599868774414,4.564199924468994,4.86359977722168,4.578499794006348,4.823800086975098,4.912799835205078,5.0030999183654785,4.854000091552734,4.430099964141846,4.446700096130371,4.372000217437744,4.547500133514404,4.867599964141846,4.770699977874756,4.8317999839782715,4.960599899291992,5.058700084686279,4.729700088500977,4.507400035858154,4.227399826049805,4.120299816131592,4.110300064086914,3.9911999702453613,4.049600124359131,4.363399982452393,4.354599952697754,4.748499870300293,4.379499912261963,4.10290002822876,4.096199989318848,4.924300193786621,4.588699817657471,4.068299770355225,4.344600200653076,4.36870002746582,4.500699996948242,4.349100112915039,4.406599998474121,4.666999816894531,4.329400062561035,4.767600059509277,4.5833001136779785,4.364099979400635,4.484899997711182,4.357399940490723,4.481100082397461,4.682000160217285,4.69290018081665,4.747499942779541,4.890100002288818,4.96619987487793,4.805099964141846,4.5279998779296875,4.573500156402588,4.513000011444092,4.2083001136779785,4.544300079345703,4.5106000900268555,4.4116997718811035,4.396100044250488,4.486199855804443,4.463699817657471,4.552199840545654,4.6016998291015625,4.2866997718811035,4.3643999099731445,4.472300052642822,4.287399768829346,3.9472999572753906,3.892899990081787,3.851900100708008,4.162099838256836,4.377900123596191,4.808700084686279,4.595399856567383,4.526199817657471,4.535399913787842,4.2845001220703125,4.026599884033203,4.323599815368652,4.265999794006348,4.642199993133545,4.887700080871582,4.753799915313721,4.5304999351501465,4.320499897003174,4.244800090789795,4.591700077056885,4.464399814605713,4.443999767303467,4.502699851989746,4.3531999588012695,4.159900188446045,4.156700134277344,4.613900184631348,4.937099933624268,4.858799934387207,4.651100158691406,4.704599857330322,4.887899875640869,4.888400077819824,4.848299980163574,4.810200214385986,5.2434000968933105,5.3730998039245605,5.226900100708008,5.033699989318848,4.825099945068359,4.644999980926514,4.741099834442139,4.751299858093262,4.82480001449585,4.9334001541137695,4.702499866485596,4.711999893188477,4.745200157165527,4.618000030517578,4.888500213623047,4.868500232696533,4.931099891662598,4.999800205230713,4.842800140380859,4.928400039672852,5.310699939727783,5.345699787139893,5.0142998695373535,4.973800182342529,4.996200084686279,4.914000034332275,4.651800155639648,4.475299835205078,4.146399974822998,4.405200004577637,4.05019998550415,4.068600177764893,4.365099906921387,4.445099830627441,4.383500099182129,4.799799919128418,4.907299995422363,4.512400150299072,4.338399887084961,4.500400066375732,5.172299861907959,5.069200038909912,5.128399848937988,4.814899921417236,5.166100025177002,5.259799957275391,4.984300136566162,5.039899826049805,5.171299934387207,5.078199863433838,5.031000137329102,4.9095001220703125,5.289000034332275,5.007299900054932,5.1417999267578125,5.059899806976318,4.981500148773193,4.651599884033203,4.775899887084961,4.809899806976318,4.800899982452393,4.994800090789795,5.332200050354004,5.322299957275391,5.1392998695373535,5.276000022888184,5.007900238037109,5.0482001304626465,4.487500190734863,3.991300106048584,4.318600177764893,3.9951999187469482,4.616199970245361,4.765900135040283,4.917399883270264,5.100800037384033,5.430099964141846,5.225200176239014,5.027299880981445,4.938700199127197,4.745200157165527,4.478499889373779,4.301199913024902,4.847700119018555,5.1219000816345215],\"y2\":[3.6041998863220215,3.5064001083374023,3.7434000968933105,3.359499931335449,4.181600093841553,3.716599941253662,3.2214999198913574,3.41510009765625,3.7356998920440674,4.638800144195557,8.613900184631348,10.167699813842773,10.478099822998047,9.73740005493164,5.823200225830078,5.627600193023682,7.181000232696533,7.150199890136719,6.886600017547607,7.323699951171875,7.3805999755859375,5.3155999183654785,4.276599884033203,4.329699993133545,4.059299945831299,4.530600070953369,5.536600112915039,5.885300159454346,7.878300189971924,6.706699848175049,6.651700019836426,4.422100067138672,3.8817999362945557,5.899400234222412,5.5609002113342285,5.183199882507324,8.097399711608887,10.514800071716309,8.856800079345703,10.393600463867188,11.927000045776367,9.441699981689453,10.022600173950195,11.26360034942627,11.001099586486816,10.970499992370605,11.334799766540527,10.836799621582031,9.44849967956543,8.252400398254395,9.016599655151367,8.136699676513672,8.673500061035156,8.721500396728516,8.512900352478027,9.638899803161621,8.44279956817627,8.897600173950195,9.915499687194824,10.537300109863281,10.700699806213379,10.677499771118164,10.260899543762207,8.6318998336792,9.087800025939941,8.546500205993652,10.066900253295898,10.481300354003906,10.649800300598145,8.885499954223633,9.373200416564941,10.491999626159668,9.628399848937988,9.945500373840332,10.115099906921387,10.742600440979004,10.636099815368652,10.618800163269043,10.723899841308594,10.769100189208984,10.186699867248535,10.353099822998047,10.101799964904785,9.101099967956543,8.712800025939941,9.74370002746582,9.754400253295898,10.029000282287598,10.388899803161621,10.649700164794922,10.540800094604492,10.871199607849121,10.628499984741211,10.533300399780273,10.169899940490723,9.792900085449219,10.291600227355957,11.039299964904785,10.167200088500977,9.971400260925293,9.712800025939941,10.269700050354004,9.871399879455566,9.819499969482422,9.292400360107422,8.803799629211426,9.916399955749512,10.329700469970703,9.35569953918457,9.374300003051758,10.414199829101562,9.503100395202637,9.836299896240234,9.409799575805664,9.310700416564941,9.673600196838379,7.898099899291992,8.969300270080566,10.040499687194824,9.496700286865234,8.865599632263184,8.788900375366211,8.982099533081055,8.48069953918457,8.941100120544434,10.169599533081055,10.557100296020508,10.65719985961914,10.288000106811523,11.144700050354004,10.525300025939941,9.666600227355957,10.024999618530273,10.011099815368652,9.017200469970703,9.529000282287598,9.74839973449707,9.79259967803955,9.566300392150879,10.352800369262695,9.041600227355957,9.844099998474121,10.739299774169922,10.768500328063965,9.603899955749512,9.980299949645996,9.550800323486328,10.004799842834473,9.475099563598633,7.215099811553955,8.565699577331543,10.444299697875977,10.865099906921387,11.230500221252441,10.65880012512207,10.321000099182129,10.656999588012695,11.002300262451172,9.991700172424316,10.888199806213379,11.074700355529785,10.991299629211426,11.222700119018555,10.285799980163574,9.90999984741211,9.981599807739258,9.201800346374512,8.691800117492676,9.123000144958496,9.395899772644043,9.586799621582031,9.405400276184082,8.98330020904541,9.658599853515625,9.436599731445312,9.968099594116211,10.46399974822998,10.25059986114502,10.251500129699707,11.02400016784668,9.64900016784668,9.640800476074219,9.746000289916992,9.704700469970703,9.587300300598145,9.074199676513672,10.054400444030762,9.377099990844727,10.276900291442871,9.984700202941895,10.669300079345703,10.854900360107422,11.457799911499023,10.691699981689453,10.024299621582031,9.054400444030762,9.883399963378906,10.104599952697754,9.587300300598145,9.795700073242188,10.819999694824219,10.90880012512207,10.18690013885498,10.272899627685547,9.262299537658691,10.587200164794922,9.461299896240234,8.200699806213379,9.439000129699707,9.60420036315918,9.976300239562988,9.068300247192383,8.808699607849121,7.779799938201904,8.979299545288086,9.56149959564209,9.40939998626709,9.438400268554688,9.77299976348877,9.876899719238281,10.093999862670898,9.926899909973145,9.770600318908691,9.297900199890137,9.407099723815918,7.547999858856201,8.63029956817627,8.966099739074707,10.304300308227539,9.814200401306152,9.515700340270996,10.461299896240234,10.532400131225586,8.985400199890137,9.455499649047852,10.166199684143066,9.862299919128418,10.322999954223633,10.577699661254883,10.461099624633789,9.746299743652344,10.266900062561035,9.76990032196045,9.317500114440918,10.434200286865234,9.643600463867188,9.507599830627441,9.108200073242188,9.080400466918945,10.141500473022461,10.211000442504883,10.540900230407715,10.20259952545166,11.245499610900879,10.673600196838379,10.11620044708252,10.802900314331055,10.757499694824219,10.150699615478516,10.574000358581543,9.881600379943848,9.279199600219727,10.408699989318848,10.940199851989746,9.680299758911133,10.671299934387207,11.451499938964844,9.782500267028809,7.816999912261963,6.013400077819824,7.5524001121521,7.590199947357178,6.439000129699707,6.638299942016602,6.6905999183654785,6.415999889373779,6.031899929046631,7.347599983215332,6.301000118255615,7.1020002365112305,7.366099834442139,8.9753999710083,7.861299991607666,8.267800331115723,9.698200225830078,11.217900276184082,11.600500106811523,10.04170036315918,8.418499946594238,9.717300415039062,9.491399765014648,9.697699546813965,10.393799781799316,11.566499710083008,11.172100067138672,7.412399768829346,7.2170000076293945,6.712900161743164,7.339099884033203,4.842199802398682,4.363100051879883,4.263400077819824,3.7404000759124756,3.6935999393463135,3.2411999702453613,2.885999917984009,2.788300037384033,4.831699848175049,5.671199798583984,7.81879997253418,8.174200057983398,8.199799537658691,8.555500030517578,8.845600128173828,8.223299980163574,5.576399803161621,4.309700012207031,6.284599781036377,4.908400058746338,6.128300189971924,6.864200115203857,5.089399814605713,4.254899978637695,4.761600017547607,4.063499927520752,4.114799976348877,5.733699798583984,6.895999908447266,6.733399868011475,5.334499835968018,5.523600101470947,4.000199794769287,3.2911999225616455,3.1034998893737793,3.2553000450134277,3.321000099182129,3.1628000736236572,3.064500093460083,4.022200107574463,4.3445000648498535,3.496299982070923,3.848400115966797,3.2553000450134277,3.2869999408721924,4.523399829864502,4.333099842071533,6.113800048828125,4.738900184631348,3.606300115585327,4.607999801635742,7.205399990081787,8.23270034790039,6.645999908447266,7.833899974822998,8.408900260925293,6.034599781036377,6.387599945068359,4.7778000831604,4.527400016784668,6.234000205993652,6.951200008392334,4.577199935913086,3.6914000511169434,3.575000047683716,4.6168999671936035,4.803400039672852,6.641499996185303,4.802599906921387,5.526599884033203,6.889800071716309,5.0370001792907715,4.505499839782715,4.361499786376953,4.103799819946289,3.749000072479248,3.3640999794006348,3.4974000453948975,3.3578999042510986,3.4593000411987305,3.5078999996185303,3.964200019836426,3.59060001373291,3.403599977493286,3.174499988555908,2.9168999195098877,3.7774999141693115,6.179299831390381,5.021900177001953,4.259099960327148,3.805799961090088,3.6273999214172363,3.620300054550171,3.1763999462127686,3.2037999629974365,4.136600017547607,3.9323999881744385,3.414799928665161,4.962500095367432,7.390399932861328,8.19890022277832,8.257200241088867,7.045300006866455,5.716700077056885,4.369500160217285,4.168300151824951,5.525400161743164,5.486999988555908,3.898099899291992,3.4939000606536865,4.446199893951416,6.23960018157959,6.873499870300293,8.518699645996094,6.905099868774414,5.230500221252441,4.1331000328063965,4.013400077819824,5.453100204467773,4.788099765777588,4.230899810791016,3.5041000843048096,3.223099946975708,5.460999965667725,5.16540002822876,4.5904998779296875,3.7497000694274902,3.851599931716919,3.8127999305725098,3.998800039291382,3.9502999782562256,6.581399917602539,6.26039981842041,8.05840015411377,7.531400203704834,6.161600112915039,5.5746002197265625,7.799499988555908,6.612199783325195,4.505099773406982,3.872499942779541,4.136000156402588,5.161600112915039,4.447299957275391,3.74780011177063,4.320799827575684,3.7334001064300537,3.2437000274658203,2.966399908065796,3.027400016784668,3.746799945831299,3.8089001178741455,3.608799934387207,3.3935000896453857,2.9983999729156494,3.4337000846862793,4.681300163269043,6.903800010681152,6.385700225830078,8.229499816894531,8.951899528503418,9.097100257873535,7.079100131988525,6.120200157165527,4.925300121307373,3.749500036239624,3.7511000633239746,3.765000104904175,3.5478999614715576,3.6786000728607178,3.658799886703491,3.7716000080108643,3.880199909210205,4.132500171661377,4.406599998474121,4.503900051116943,5.143799781799316,4.41379976272583,4.038099765777588,3.7499001026153564,4.471099853515625,4.294300079345703,3.921299934387207,4.202300071716309,5.18720006942749,4.790900230407715,7.730000019073486,8.140899658203125,7.324399948120117,9.203499794006348,10.671600341796875,9.954299926757812,10.47029972076416,11.358499526977539,10.80270004272461,10.05720043182373,10.63379955291748,11.236200332641602,10.984800338745117,11.30780029296875,10.367400169372559,10.31149959564209,10.961400032043457,10.626799583435059,9.84589958190918,9.25160026550293,8.89840030670166,8.295100212097168,9.50059986114502,9.4753999710083,9.7052001953125,9.994799613952637,10.425800323486328,9.726900100708008,10.057700157165527,11.020000457763672,10.166000366210938,9.185999870300293,8.791099548339844,9.14840030670166,10.057700157165527,10.118499755859375,10.105899810791016,9.239100456237793,8.41349983215332,9.112000465393066,10.084799766540527,9.401900291442871,9.220199584960938,9.104999542236328,10.492799758911133,9.145000457763672,9.95460033416748,9.730299949645996,9.310999870300293,8.346599578857422,9.987600326538086,9.930100440979004,9.280599594116211,9.923399925231934,9.87440013885498,9.3016996383667,8.906999588012695,8.619099617004395,8.650500297546387,10.09589958190918,10.163100242614746,10.32759952545166,11.020400047302246,11.406200408935547,10.354499816894531,9.669899940490723,9.695799827575684,9.620499610900879,9.487000465393066,9.046699523925781,8.525199890136719,7.710400104522705,8.48859977722168,10.074299812316895,9.700300216674805,10.067399978637695,10.498000144958496,11.01159954071045,9.773300170898438,8.829299926757812,10.260299682617188,10.890299797058105,10.99839973449707,11.172900199890137,11.11769962310791,11.200499534606934,10.401300430297852,9.659199714660645,10.756600379943848,10.626999855041504,10.957300186157227,9.511300086975098,10.078200340270996,9.802300453186035,10.371299743652344,10.332300186157227,9.927200317382812,10.20829963684082,9.593700408935547,9.853400230407715,9.09630012512207,9.362199783325195,10.137100219726562,10.25529956817627,10.71679973602295,11.360199928283691,10.994099617004395,11.223799705505371,11.170000076293945,11.511899948120117,11.604900360107422,11.708600044250488,10.817399978637695,10.6225004196167,10.84630012512207,9.799699783325195,9.16189956665039,10.085100173950195,10.00100040435791,9.528300285339355,9.639599800109863,9.996899604797363,9.673500061035156,11.111800193786621,10.876399993896484,10.83240032196045,10.25790023803711,11.427300453186035,11.39900016784668,11.01360034942627,10.570500373840332,10.206100463867188,10.361200332641602,10.471699714660645,11.37559986114502,11.628100395202637,9.362299919128418,10.291299819946289,11.686200141906738,10.807499885559082,10.039899826049805,10.753399848937988,10.185600280761719,9.939399719238281,10.715800285339355,9.687199592590332,10.805299758911133,10.259300231933594,9.11870002746582,9.424599647521973,9.160699844360352,9.340299606323242,10.105500221252441,10.52180004119873,10.87600040435791,9.785300254821777,9.339400291442871,10.168899536132812,10.815899848937988,10.665800094604492,11.299500465393066,10.276200294494629,11.150699615478516,10.676799774169922,10.4621000289917,10.91510009765625,10.62600040435791,9.104700088500977,9.228500366210938,10.678400039672852,10.113100051879883,10.640899658203125,10.885299682617188,10.425000190734863,9.949000358581543,10.53969955444336,11.25570011138916,11.636699676513672,11.26360034942627,10.873600006103516,11.141900062561035,11.203300476074219,10.794300079345703,11.199700355529785,10.293600082397461,11.078800201416016,10.320899963378906,8.840800285339355,8.063699722290039,8.357099533081055,10.10789966583252,9.770600318908691,9.08329963684082,9.420299530029297,10.997400283813477,10.62279987335205,10.12969970703125,10.322099685668945,10.94950008392334,11.01930046081543,10.977999687194824,10.854700088500977,9.174200057983398,9.69890022277832,11.027899742126465,11.753999710083008,11.686599731445312,10.525300025939941,10.27400016784668,10.28320026397705,10.088700294494629,10.348299980163574,9.671899795532227,7.948599815368652,9.06410026550293,7.811299800872803,7.916200160980225,7.3979997634887695,6.9959001541137695,10.138099670410156,10.633899688720703,9.486499786376953,9.952199935913086,7.502299785614014,6.353499889373779,7.5304999351501465,9.40719985961914,8.710800170898438,7.161799907684326,8.006699562072754,10.137399673461914,11.178199768066406,10.240500450134277,7.794000148773193,7.720200061798096,6.849899768829346,9.034099578857422,10.538800239562988,9.643899917602539,8.731100082397461,7.525000095367432,6.877799987792969,6.652400016784668,6.197800159454346,7.6519999504089355,7.317299842834473,7.695300102233887,8.257100105285645,9.861800193786621,10.304400444030762,10.093299865722656,9.941200256347656,9.823800086975098,10.638899803161621,10.656900405883789,7.7179999351501465,9.129500389099121,6.594799995422363,4.737299919128418,4.04449987411499,4.046800136566162,4.383800029754639,4.760700225830078,5.263299942016602,5.439799785614014,6.486400127410889,6.292900085449219,6.8180999755859375,5.997799873352051,7.576099872589111,7.343400001525879,7.761000156402588,6.019899845123291,5.8125,5.276599884033203,5.9670000076293945,4.765399932861328,4.617400169372559,5.10699987411499,5.423799991607666,4.805099964141846,3.681999921798706,4.437699794769287,6.427299976348877,6.76170015335083,6.214600086212158,5.088900089263916,4.18149995803833,3.4760000705718994,3.245300054550171,3.5525999069213867,4.373600006103516,6.208799839019775,4.594699859619141,3.7490999698638916,5.118299961090088,5.612299919128418,5.590700149536133,5.2006001472473145,6.102399826049805,6.673399925231934,7.60830020904541,5.204400062561035,4.0960001945495605,3.6370999813079834,3.4463999271392822,5.81850004196167,5.636000156402588,5.834400177001953,4.231299877166748,4.565800189971924,4.758600234985352,4.317999839782715,3.4059998989105225,3.031599998474121,2.936300039291382,3.687999963760376,3.272599935531616,3.2720999717712402,3.249000072479248,3.7607998847961426,4.676700115203857,4.481500148773193,6.05079984664917,5.48769998550415,4.607399940490723,4.545000076293945,4.712299823760986,3.806999921798706,3.577500104904175,3.356300115585327,3.068000078201294,3.272200107574463,4.64109992980957,4.789400100708008,4.600200176239014,3.631999969482422,3.582900047302246,3.7922000885009766,4.29640007019043,4.313600063323975,4.138599872589111,5.5096001625061035,4.7052001953125,4.707399845123291,4.171000003814697,3.453399896621704,4.60890007019043,5.1975998878479,5.131700038909912,3.6184000968933105,3.476900100708008,4.659800052642822,3.8722000122070312,3.7314000129699707,3.5035998821258545,3.065200090408325,3.6810998916625977,4.412199974060059,4.153800010681152,3.4853999614715576,3.6370999813079834,3.4976000785827637,4.253699779510498,3.3427999019622803,5.219799995422363,4.446599960327148,4.003200054168701,4.3231000900268555,6.343200206756592,4.39300012588501,4.241199970245361,3.577199935913086,4.025100231170654,3.7616000175476074,3.5859999656677246,3.319499969482422,3.498800039291382,4.3755998611450195,3.986999988555908,4.662199974060059,4.895199775695801,3.7920000553131104,4.716899871826172,4.182400226593018,3.6805999279022217,3.348299980163574,3.369999885559082,3.809999942779541,4.194799900054932,4.799099922180176,5.097899913787842,3.72979998588562,4.049499988555908,3.600600004196167,4.857500076293945,3.6568000316619873,3.5736000537872314,3.193700075149536,3.4045000076293945,3.9284000396728516,4.710899829864502,3.8322999477386475,3.5371999740600586,3.1951000690460205,3.931299924850464,3.691999912261963,3.4814000129699707,3.1247000694274902,4.32390022277832,4.385900020599365,5.644599914550781,5.944499969482422,5.055600166320801,4.053999900817871,3.9110000133514404,3.9523000717163086,5.5100998878479,5.254499912261963,5.063600063323975,3.9839000701904297,3.3570001125335693,3.3129000663757324,3.0727999210357666,5.936500072479248,6.221399784088135,6.841899871826172,5.473100185394287,5.4878997802734375,6.93179988861084,5.565400123596191,4.939899921417236,4.5121002197265625,5.007400035858154,5.710999965667725,4.699900150299072,3.7400999069213867,5.830699920654297,5.997399806976318,4.6819000244140625,7.111199855804443,8.285400390625,7.908199787139893,5.633600234985352,7.722300052642822,5.922100067138672,4.416600227355957,5.451200008392334,3.9460999965667725,3.476599931716919,3.319999933242798,3.83270001411438,3.5778000354766846,3.261899948120117,3.1068999767303467,4.214399814605713,6.688199996948242,8.434800148010254,8.183899879455566,8.062199592590332,7.184199810028076,7.003799915313721,7.974800109863281,8.188899993896484,8.025099754333496,8.161199569702148,4.877399921417236,4.140999794006348,7.045100212097168,7.589600086212158,5.286300182342529,5.484499931335449,5.2820000648498535,4.388000011444092,4.053400039672852,4.032899856567383,4.275100231170654,3.7502999305725098,4.020500183105469,3.765500068664551,3.9795000553131104,4.047399997711182,4.183199882507324,4.540599822998047,3.8866000175476074,3.5185000896453857,3.2267000675201416,3.03439998626709,2.865799903869629,3.4535000324249268,3.589900016784668,3.651900053024292,3.9793999195098877,3.4670000076293945,3.798799991607666,4.303800106048584,4.856400012969971,6.590199947357178,6.133800029754639,6.049300193786621,7.4695000648498535,8.673199653625488,8.847700119018555,8.452500343322754,7.841000080108643,7.214399814605713,6.643599987030029,4.88539981842041,6.189700126647949,7.1645002365112305,6.890399932861328,7.692999839782715,8.600099563598633,8.235699653625488,8.718500137329102,6.457799911499023],\"y3\":[2276.0615234375,2276.056640625,2276.03369140625,2276.00927734375,2276.001953125,2275.978759765625,2275.957763671875,2275.944091796875,2275.916259765625,2275.896728515625,2275.88330078125,2275.8623046875,2275.847900390625,2275.8330078125,2275.805908203125,2275.800537109375,2275.782470703125,2275.764892578125,2275.741943359375,2275.731201171875,2275.712890625,2275.681640625,2275.671875,2275.658203125,2275.643798828125,2275.620849609375,2275.60546875,2275.591796875,2275.572998046875,2275.56005859375,2275.533203125,2275.518798828125,2275.505126953125,2275.482666015625,2275.46923828125,2275.44873046875,2275.43505859375,2275.419189453125,2275.40625,2275.39013671875,2275.367919921875,2275.350341796875,2275.3359375,2275.322021484375,2275.307861328125,2275.297119140625,2275.278076171875,2275.26416015625,2275.2490234375,2275.23779296875,2275.222412109375,2275.203125,2275.185302734375,2275.18115234375,2275.162841796875,2275.146240234375,2275.130126953125,2275.128662109375,2275.102783203125,2275.085693359375,2275.080078125,2275.061279296875,2275.0478515625,2275.041015625,2275.026611328125,2275.009033203125,2274.999267578125,2274.98291015625,2274.975830078125,2274.964599609375,2274.944091796875,2274.9365234375,2274.918701171875,2274.912353515625,2274.897216796875,2274.8896484375,2274.867431640625,2274.869384765625,2274.8525390625,2274.840576171875,2274.837646484375,2274.820556640625,2274.806396484375,2274.797119140625,2274.793212890625,2274.778076171875,2274.770263671875,2274.759521484375,2274.747314453125,2274.744140625,2274.733642578125,2274.7216796875,2274.708251953125,2274.701904296875,2274.701904296875,2274.6923828125,2274.679443359375,2274.672119140625,2274.6640625,2274.654296875,2274.64208984375,2274.644775390625,2274.635986328125,2274.625,2274.62109375,2274.607177734375,2274.607666015625,2274.602783203125,2274.599853515625,2274.593017578125,2274.587646484375,2274.58251953125,2274.57275390625,2274.5732421875,2274.558349609375,2274.55908203125,2274.558837890625,2274.549560546875,2274.543701171875,2274.537353515625,2274.539306640625,2274.53173828125,2274.53564453125,2274.532958984375,2274.520263671875,2274.523681640625,2274.521728515625,2274.52294921875,2274.521484375,2274.516845703125,2274.519287109375,2274.516357421875,2274.515625,2274.510498046875,2274.51123046875,2274.510986328125,2274.5078125,2274.508544921875,2274.517822265625,2274.514892578125,2274.512939453125,2274.511962890625,2274.508544921875,2274.509521484375,2274.5126953125,2274.513427734375,2274.519287109375,2274.514892578125,2274.51806640625,2274.524169921875,2274.52099609375,2274.52734375,2274.532958984375,2274.533447265625,2274.539306640625,2274.534423828125,2274.539794921875,2274.54638671875,2274.546630859375,2274.552978515625,2274.55712890625,2274.555419921875,2274.56396484375,2274.575439453125,2274.583251953125,2274.581787109375,2274.591796875,2274.58935546875,2274.604248046875,2274.611328125,2274.612060546875,2274.617431640625,2274.63134765625,2274.640380859375,2274.64111328125,2274.652099609375,2274.65625,2274.65966796875,2274.6728515625,2274.682373046875,2274.685546875,2274.69921875,2274.711181640625,2274.71923828125,2274.7294921875,2274.7392578125,2274.74462890625,2274.75341796875,2274.766357421875,2274.779052734375,2274.782470703125,2274.795166015625,2274.810546875,2274.82958984375,2274.826416015625,2274.834228515625,2274.850830078125,2274.863037109375,2274.871826171875,2274.884033203125,2274.9033203125,2274.908203125,2274.922607421875,2274.9326171875,2274.95068359375,2274.959228515625,2274.968017578125,2274.983154296875,2274.9931640625,2275.008056640625,2275.021728515625,2275.039794921875,2275.046630859375,2275.05810546875,2275.07177734375,2275.085205078125,2275.098876953125,2275.114501953125,2275.126220703125,2275.15087890625,2275.159423828125,2275.17236328125,2275.184326171875,2275.204345703125,2275.215576171875,2275.23388671875,2275.243408203125,2275.263427734375,2275.27392578125,2275.28857421875,2275.307373046875,2275.325439453125,2275.337646484375,2275.345703125,2275.37255859375,2275.379638671875,2275.3955078125,2275.409912109375,2275.4267578125,2275.444091796875,2275.463623046875,2275.480224609375,2275.493896484375,2275.5029296875,2275.517822265625,2275.5419921875,2275.558837890625,2275.573486328125,2275.588134765625,2275.60791015625,2275.618408203125,2275.63525390625,2275.65380859375,2275.668212890625,2275.68994140625,2275.70166015625,2275.716796875,2275.73876953125,2275.76171875,2275.7802734375,2275.79541015625,2275.808349609375,2275.81591796875,2275.84765625,2275.8466796875,2275.86767578125,2275.89013671875,2275.905029296875,2275.922607421875,2275.937744140625,2275.957763671875,2275.96728515625,2275.995361328125,2276.0,2276.019775390625,2276.044677734375,2276.060791015625,2276.08154296875,2276.0947265625,2276.104736328125,2276.1259765625,2276.14111328125,2276.159912109375,2276.1767578125,2276.19140625,2276.199462890625,2276.2119140625,2276.236083984375,2276.261962890625,2276.272216796875,2276.2880859375,2276.3046875,2276.31494140625,2276.339111328125,2276.33984375,2276.3642578125,2276.382080078125,2276.3916015625,2276.405029296875,2276.42626953125,2276.434814453125,2276.452392578125,2276.468017578125,2276.483154296875,2276.501953125,2276.51806640625,2276.532470703125,2276.541259765625,2276.560546875,2276.5751953125,2276.59228515625,2276.612060546875,2276.62255859375,2276.63916015625,2276.64453125,2276.66455078125,2276.673828125,2276.6875,2276.7001953125,2276.7119140625,2276.733642578125,2279.18701171875,2276.76025390625,2276.774169921875,2276.781005859375,2276.80322265625,2276.81494140625,2276.823974609375,2276.845703125,2276.853759765625,2276.8662109375,2276.878662109375,2276.890380859375,2276.900146484375,2276.9169921875,2276.927001953125,2276.93896484375,2276.94482421875,2276.955078125,2276.966064453125,2276.980712890625,2276.98974609375,2277.006591796875,2277.0185546875,2277.02001953125,2277.037353515625,2277.04736328125,2277.06103515625,2277.063720703125,2277.08154296875,2277.089599609375,2277.096923828125,2277.10595703125,2277.1201171875,2277.13232421875,2277.133544921875,2277.13916015625,2277.151611328125,2277.15478515625,2277.167236328125,2277.174560546875,2277.181884765625,2277.185791015625,2277.197021484375,2277.20703125,2277.211669921875,2277.219482421875,2277.2255859375,2277.236083984375,2277.242431640625,2277.2490234375,2277.2548828125,2277.265869140625,2277.259521484375,2277.273193359375,2277.271484375,2277.287353515625,2277.285888671875,2277.298583984375,2277.2998046875,2277.3056640625,2277.29638671875,2277.306396484375,2277.310791015625,2277.32177734375,2277.331298828125,2277.33056640625,2277.335205078125,2277.339111328125,2277.337158203125,2277.3427734375,2277.343994140625,2277.3505859375,2277.35791015625,2277.3525390625,2277.35888671875,2277.35791015625,2277.35498046875,2277.370849609375,2277.363037109375,2277.36083984375,2277.367919921875,2277.369140625,2277.369384765625,2277.37646484375,2277.369873046875,2277.373779296875,2277.370849609375,2277.3740234375,2277.367919921875,2277.374267578125,2277.37841796875,2277.37158203125,2277.3662109375,2277.372314453125,2277.36328125,2277.36328125,2277.360595703125,2277.361328125,2277.360595703125,2277.3564453125,2277.3525390625,2277.34375,2277.346435546875,2277.342041015625,2277.34130859375,2277.3330078125,2277.33544921875,2277.333740234375,2277.3193359375,2277.32080078125,2277.3193359375,2277.320068359375,2277.306884765625,2277.31201171875,2277.304931640625,2277.2978515625,2277.2939453125,2277.283935546875,2277.276611328125,2277.277587890625,2277.2685546875,2277.264404296875,2277.25537109375,2277.25390625,2277.243896484375,2277.239990234375,2277.238037109375,2277.234130859375,2277.2197265625,2277.20458984375,2277.199951171875,2277.199951171875,2277.1787109375,2277.185791015625,2277.1767578125,2277.166015625,2277.159912109375,2277.14453125,2277.141845703125,2277.1357421875,2277.128662109375,2277.118896484375,2277.1103515625,2277.093505859375,2277.0849609375,2277.07861328125,2277.071044921875,2277.05859375,2277.047607421875,2277.040283203125,2277.032958984375,2277.01806640625,2277.0146484375,2277.00244140625,2276.994384765625,2276.979248046875,2276.975830078125,2276.95751953125,2276.949462890625,2276.93408203125,2276.936767578125,2276.919189453125,2276.914794921875,2276.89990234375,2276.881591796875,2276.869140625,2276.863037109375,2276.8564453125,2276.83837890625,2276.82470703125,2276.814208984375,2276.809814453125,2276.798828125,2276.782958984375,2276.773681640625,2276.75830078125,2276.750244140625,2276.738525390625,2276.72314453125,2276.717529296875,2276.692626953125,2276.689697265625,2276.67529296875,2276.662841796875,2276.653564453125,2276.64453125,2276.62255859375,2276.615234375,2276.60302734375,2276.59130859375,2276.571044921875,2276.572265625,2276.551025390625,2276.538330078125,2276.52978515625,2276.515625,2276.508544921875,2276.497802734375,2276.47900390625,2276.466064453125,2276.44921875,2276.436279296875,2276.43310546875,2276.42333984375,2276.402587890625,2276.38232421875,2276.3818359375,2276.36376953125,2276.356201171875,2276.349365234375,2276.3310546875,2276.32080078125,2276.30322265625,2276.28759765625,2276.28564453125,2276.27197265625,2276.251953125,2276.2431640625,2276.234130859375,2276.2177734375,2276.210693359375,2276.19482421875,2276.1826171875,2276.1689453125,2276.162841796875,2276.150390625,2276.136474609375,2276.128173828125,2276.12109375,2276.10400390625,2276.0966796875,2276.074951171875,2276.06396484375,2276.056640625,2276.048095703125,2276.038330078125,2276.022216796875,2276.00830078125,2276.000732421875,2275.989501953125,2275.98779296875,2275.969970703125,2275.9599609375,2275.95166015625,2275.941162109375,2275.9296875,2275.915771484375,2275.90234375,2275.896484375,2275.892333984375,2275.88037109375,2275.87255859375,2275.856689453125,2275.84814453125,2275.84375,2275.830078125,2275.823486328125,2275.812744140625,2275.802490234375,2275.793701171875,2275.792724609375,2275.78955078125,2275.76904296875,2275.7666015625,2275.759765625,2275.75,2275.741943359375,2275.73193359375,2275.72412109375,2275.7158203125,2275.71533203125,2275.704345703125,2275.69580078125,2275.690185546875,2275.68505859375,2275.672607421875,2275.671875,2275.670166015625,2275.656982421875,2275.651123046875,2275.64794921875,2275.64501953125,2275.640869140625,2275.63037109375,2275.62646484375,2275.6171875,2275.617431640625,2275.610107421875,2275.60546875,2275.59814453125,2275.59228515625,2275.59423828125,2275.58251953125,2275.5791015625,2275.579345703125,2275.575927734375,2275.56005859375,2275.569580078125,2275.575439453125,2275.558349609375,2275.55712890625,2275.5615234375,2275.552001953125,2275.554443359375,2275.550537109375,2275.5478515625,2275.5498046875,2275.541748046875,2275.5517578125,2275.540283203125,2275.536865234375,2275.5400390625,2275.5361328125,2275.53955078125,2275.540283203125,2275.536865234375,2275.529296875,2275.5361328125,2275.541015625,2275.533203125,2275.540771484375,2275.53759765625,2275.5419921875,2275.546875,2275.54150390625,2275.551025390625,2275.549072265625,2275.55419921875,2275.55126953125,2275.56005859375,2275.560791015625,2275.56103515625,2275.56103515625,2275.5693359375,2275.56640625,2275.576171875,2275.573486328125,2275.577392578125,2275.580810546875,2275.585693359375,2275.5859375,2275.60205078125,2275.596435546875,2275.59814453125,2275.612548828125,2275.61181640625,2275.625,2275.61865234375,2275.6376953125,2275.6376953125,2275.64453125,2275.644775390625,2275.6513671875,2275.664794921875,2275.665283203125,2275.666748046875,2275.68017578125,2275.6796875,2275.69677734375,2275.69775390625,2275.703369140625,2275.714111328125,2275.716796875,2275.72509765625,2275.737060546875,2275.74365234375,2275.749755859375,2275.765380859375,2275.762939453125,2275.771728515625,2275.781982421875,2275.8046875,2275.805908203125,2275.8125,2275.82763671875,2275.827880859375,2275.835693359375,2275.850341796875,2275.86474609375,2275.8759765625,2275.881591796875,2275.904052734375,2275.904052734375,2275.923095703125,2275.925048828125,2275.946533203125,2275.94677734375,2275.959228515625,2275.968994140625,2275.976806640625,2275.999267578125,2276.01025390625,2276.020263671875,2276.032958984375,2276.046142578125,2276.058349609375,2276.064208984375,2276.080322265625,2276.08984375,2276.102783203125,2276.119873046875,2276.134033203125,2276.138671875,2276.1533203125,2276.165283203125,2276.17529296875,2276.188720703125,2276.20703125,2276.217041015625,2276.22705078125,2276.241943359375,2276.256103515625,2276.2734375,2276.277099609375,2276.30712890625,2276.314697265625,2276.3251953125,2276.3408203125,2276.35498046875,2276.369140625,2276.38134765625,2276.40771484375,2276.419921875,2276.41943359375,2276.44482421875,2276.464599609375,2276.471435546875,2276.49072265625,2276.500732421875,2276.5166015625,2276.531005859375,2276.545166015625,2276.564208984375,2276.5693359375,2276.587646484375,2276.59765625,2276.621337890625,2276.6328125,2276.64501953125,2276.6572265625,2276.67431640625,2276.687744140625,2276.697998046875,2276.715576171875,2276.734619140625,2276.74365234375,2276.757080078125,2276.77294921875,2276.781982421875,2276.801025390625,2276.813720703125,2276.836669921875,2276.841552734375,2276.863525390625,2276.871337890625,2276.885009765625,2276.904052734375,2276.915283203125,2276.928466796875,2276.951904296875,2276.95849609375,2276.97216796875,2276.98388671875,2277.007568359375,2277.01806640625,2277.024169921875,2277.0458984375,2277.0576171875,2277.074462890625,2277.080810546875,2277.09228515625,2277.1103515625,2277.124755859375,2277.1455078125,2277.15576171875,2277.1591796875,2277.1767578125,2277.18701171875,2277.199951171875,2277.218017578125,2277.223876953125,2277.238037109375,2277.24755859375,2277.26171875,2277.2734375,2277.287841796875,2277.30419921875,2277.3125,2277.326171875,2277.343505859375,2277.352294921875,2277.3642578125,2277.380126953125,2277.38427734375,2277.3984375,2277.4072265625,2277.4267578125,2277.43603515625,2277.44482421875,2277.456298828125,2277.46484375,2277.474365234375,2277.484375,2277.498779296875,2277.507568359375,2277.517333984375,2277.528076171875,2277.5380859375,2277.55322265625,2277.55322265625,2277.5712890625,2277.57763671875,2277.58203125,2277.594482421875,2277.6044921875,2277.611328125,2277.628662109375,2277.63232421875,2277.637939453125,2277.646484375,2277.658447265625,2277.659423828125,2277.664306640625,2277.673828125,2277.684814453125,2277.688232421875,2277.707763671875,2277.704833984375,2277.71533203125,2277.721923828125,2277.732421875,2277.72802734375,2277.72607421875,2277.736572265625,2277.745849609375,2277.755859375,2277.75732421875,2277.762451171875,2277.7646484375,2277.76513671875,2277.774169921875,2277.7900390625,2277.788818359375,2277.79541015625,2277.795654296875,2277.802734375,2277.80517578125,2277.804443359375,2277.810546875,2277.813232421875,2277.81982421875,2277.8193359375,2277.82421875,2277.830322265625,2277.829833984375,2277.831298828125,2277.833740234375,2277.82373046875,2277.827880859375,2277.829833984375,2277.834228515625,2277.83251953125,2277.828369140625,2277.836669921875,2277.8349609375,2277.836181640625,2277.83154296875,2277.833251953125,2277.8330078125,2277.833984375,2277.83349609375,2277.832763671875,2277.822509765625,2277.829345703125,2277.820556640625,2277.813720703125,2277.8134765625,2277.8154296875,2277.804443359375,2277.799072265625,2277.7998046875,2277.802001953125,2277.795166015625,2277.7919921875,2277.7841796875,2277.7763671875,2277.77392578125,2277.7705078125,2277.759521484375,2277.754150390625,2277.75341796875,2277.74365234375,2277.738037109375,2277.73193359375,2277.72705078125,2277.722412109375,2277.712646484375,2277.705078125,2277.700927734375,2277.691162109375,2277.682861328125,2277.673095703125,2277.667724609375,2277.65185546875,2277.65234375,2277.646240234375,2277.636962890625,2277.62353515625,2277.61474609375,2277.60400390625,2277.6015625,2277.577392578125,2277.580810546875,2277.56640625,2277.560791015625,2277.543212890625,2277.531494140625,2277.521728515625,2277.51416015625,2277.50244140625,2277.49462890625,2277.479248046875,2277.470703125,2277.460205078125,2277.437255859375,2277.427734375,2277.4208984375,2277.409423828125,2277.39794921875,2277.387451171875,2277.3740234375,2277.349609375,2277.33984375,2277.32568359375,2277.316650390625,2277.291748046875,2277.283935546875,2277.27197265625,2277.26318359375,2277.23583984375,2277.2294921875,2277.215576171875,2277.19287109375,2277.17431640625,2277.1640625,2277.144287109375,2277.140625,2277.119384765625,2277.09716796875,2277.086181640625,2277.059814453125,2277.056884765625,2277.0458984375,2277.02197265625,2277.003662109375,2276.98779296875,2276.97314453125,2276.95361328125,2276.93017578125,2276.917724609375,2276.900146484375,2276.88525390625,2276.86865234375,2276.85009765625,2276.8291015625,2276.819091796875,2276.80029296875,2276.777099609375,2276.756591796875,2276.74462890625,2276.72119140625,2276.70703125,2276.69140625,2276.663330078125,2276.65087890625,2276.637451171875,2276.61328125,2276.594970703125,2276.577392578125]}},\"id\":\"962c999a-5706-4267-a3f1-dcc07937078a\",\"type\":\"ColumnDataSource\"},{\"attributes\":{\"line_alpha\":0.1,\"line_color\":\"#1f77b4\",\"line_width\":3,\"x\":{\"field\":\"x\"},\"y\":{\"field\":\"y1\"}},\"id\":\"51e381ec-ff5f-427a-897c-0cb17d388221\",\"type\":\"Line\"},{\"attributes\":{\"base\":24,\"mantissas\":[1,2,4,6,8,12],\"max_interval\":43200000.0,\"min_interval\":3600000.0,\"num_minor_ticks\":0},\"id\":\"e8454ab6-8ce1-4659-a31d-0558d09ae353\",\"type\":\"AdaptiveTicker\"},{\"attributes\":{\"axis_label\":\"T03 \\u00b0C\",\"formatter\":{\"id\":\"7b107e8e-069b-4121-a2a0-0e6324266215\",\"type\":\"BasicTickFormatter\"},\"plot\":{\"id\":\"f1b9a6bf-cd8b-436c-aa4a-c5f107056aab\",\"subtype\":\"Figure\",\"type\":\"Plot\"},\"ticker\":{\"id\":\"2ea10465-3d92-40d2-b31b-69c6b0b27331\",\"type\":\"BasicTicker\"}},\"id\":\"ef24423b-f206-422d-a430-f27c5cfac4b6\",\"type\":\"LinearAxis\"},{\"attributes\":{\"plot\":null,\"text\":\"Temperature03\"},\"id\":\"2417ef78-93ab-42f7-aac0-9461295ebbbe\",\"type\":\"Title\"},{\"attributes\":{\"base\":24,\"mantissas\":[1,2,4,6,8,12],\"max_interval\":43200000.0,\"min_interval\":3600000.0,\"num_minor_ticks\":0},\"id\":\"5c1ac772-2567-4fc5-bd5c-e20f2d078ed2\",\"type\":\"AdaptiveTicker\"},{\"attributes\":{},\"id\":\"698e2c2b-49a7-4c7a-bf0f-0f33e738c1a3\",\"type\":\"LinearScale\"},{\"attributes\":{\"plot\":{\"id\":\"f1b9a6bf-cd8b-436c-aa4a-c5f107056aab\",\"subtype\":\"Figure\",\"type\":\"Plot\"},\"ticker\":{\"id\":\"b06ca47a-f60c-4b91-b563-e296d30835fc\",\"type\":\"DatetimeTicker\"}},\"id\":\"f9a45730-decd-43ca-8e90-ccfa962d0c4c\",\"type\":\"Grid\"},{\"attributes\":{\"axis_label\":\"Time (GMT)\",\"formatter\":{\"id\":\"93ab3229-a3bf-4666-b6e7-270351100c66\",\"type\":\"DatetimeTickFormatter\"},\"plot\":{\"id\":\"f1b9a6bf-cd8b-436c-aa4a-c5f107056aab\",\"subtype\":\"Figure\",\"type\":\"Plot\"},\"ticker\":{\"id\":\"b06ca47a-f60c-4b91-b563-e296d30835fc\",\"type\":\"DatetimeTicker\"}},\"id\":\"5727daeb-716b-469d-9089-7f155753f9b5\",\"type\":\"DatetimeAxis\"},{\"attributes\":{\"bottom_units\":\"screen\",\"fill_alpha\":{\"value\":0.5},\"fill_color\":{\"value\":\"lightgrey\"},\"left_units\":\"screen\",\"level\":\"overlay\",\"line_alpha\":{\"value\":1.0},\"line_color\":{\"value\":\"black\"},\"line_dash\":[4,4],\"line_width\":{\"value\":2},\"plot\":null,\"render_mode\":\"css\",\"right_units\":\"screen\",\"top_units\":\"screen\"},\"id\":\"7ffb752c-4192-4d03-9ef3-c8358ad1e8a0\",\"type\":\"BoxAnnotation\"},{\"attributes\":{\"fill_color\":{\"value\":\"white\"},\"line_color\":{\"value\":\"#1f77b4\"},\"x\":{\"field\":\"x\"},\"y\":{\"field\":\"y1\"}},\"id\":\"94e75a2c-c01f-43ed-97bf-159c55472f99\",\"type\":\"Circle\"},{\"attributes\":{},\"id\":\"0e80f618-4e7f-4a86-bf0e-a406f55082e2\",\"type\":\"SaveTool\"},{\"attributes\":{\"axis_label\":\"Time (GMT)\",\"formatter\":{\"id\":\"51d7c135-6d31-4ba4-ac7a-a7e8b46f9227\",\"type\":\"DatetimeTickFormatter\"},\"plot\":{\"id\":\"badfff52-5038-4776-b508-e97c0a75fd46\",\"subtype\":\"Figure\",\"type\":\"Plot\"},\"ticker\":{\"id\":\"b54421e9-9500-4cc0-a31e-d93b46b6c491\",\"type\":\"DatetimeTicker\"}},\"id\":\"891c4978-f290-4d9e-90af-929208a3a14b\",\"type\":\"DatetimeAxis\"},{\"attributes\":{\"plot\":null,\"text\":\"Temperature01\"},\"id\":\"51bd52b9-6f83-4e51-8cec-b20d8469909d\",\"type\":\"Title\"},{\"attributes\":{\"callback\":null},\"id\":\"17caa7ad-7a2c-4809-bbc5-977fb8c157c3\",\"type\":\"DataRange1d\"},{\"attributes\":{\"months\":[0,2,4,6,8,10]},\"id\":\"9cf2f756-8dae-4975-b337-5cbb5145510c\",\"type\":\"MonthsTicker\"},{\"attributes\":{\"fill_color\":{\"value\":\"white\"},\"line_color\":{\"value\":\"#1f77b4\"},\"x\":{\"field\":\"x\"},\"y\":{\"field\":\"y2\"}},\"id\":\"685cf6cf-a4cc-4347-b3cb-4b2b4e14cd65\",\"type\":\"Circle\"},{\"attributes\":{},\"id\":\"0211a113-5b81-45e1-8ea6-7f89d1cf3925\",\"type\":\"ResetTool\"},{\"attributes\":{\"data_source\":{\"id\":\"962c999a-5706-4267-a3f1-dcc07937078a\",\"type\":\"ColumnDataSource\"},\"glyph\":{\"id\":\"102146e7-b42a-4cb5-aa73-1838c1bf3203\",\"type\":\"Line\"},\"hover_glyph\":null,\"muted_glyph\":null,\"nonselection_glyph\":{\"id\":\"51e381ec-ff5f-427a-897c-0cb17d388221\",\"type\":\"Line\"},\"selection_glyph\":null,\"view\":{\"id\":\"81268982-b8e1-4bc2-9e9d-ed2d0930a4e0\",\"type\":\"CDSView\"}},\"id\":\"bed1659c-d562-4a72-af28-1e8758d66acf\",\"type\":\"GlyphRenderer\"},{\"attributes\":{},\"id\":\"ac78062e-645a-4f2f-aa30-029ea5a4a71e\",\"type\":\"BasicTicker\"},{\"attributes\":{\"months\":[0,6]},\"id\":\"d680868c-9bd4-4e1f-a2ce-42fbfbe8cadc\",\"type\":\"MonthsTicker\"},{\"attributes\":{},\"id\":\"384cbacf-5822-4026-a821-4f2c0fec3815\",\"type\":\"HelpTool\"}],\"root_ids\":[\"cf7c04bc-f24c-48d3-bbef-746b7bd9c281\"]},\"title\":\"Bokeh Application\",\"version\":\"0.12.14\"}};\n",
       "  var render_items = [{\"docid\":\"10caf22e-efe1-4afe-8c10-d70512da61fc\",\"elementid\":\"b22538f2-ea7d-4b7f-b0e7-c972236d6392\",\"modelid\":\"cf7c04bc-f24c-48d3-bbef-746b7bd9c281\"}];\n",
       "  root.Bokeh.embed.embed_items_notebook(docs_json, render_items);\n",
       "\n",
       "  }\n",
       "  if (root.Bokeh !== undefined) {\n",
       "    embed_document(root);\n",
       "  } else {\n",
       "    var attempts = 0;\n",
       "    var timer = setInterval(function(root) {\n",
       "      if (root.Bokeh !== undefined) {\n",
       "        embed_document(root);\n",
       "        clearInterval(timer);\n",
       "      }\n",
       "      attempts++;\n",
       "      if (attempts > 100) {\n",
       "        console.log(\"Bokeh: ERROR: Unable to run BokehJS code because BokehJS library is missing\")\n",
       "        clearInterval(timer);\n",
       "      }\n",
       "    }, 10, root)\n",
       "  }\n",
       "})(window);"
      ],
      "application/vnd.bokehjs_exec.v0+json": ""
     },
     "metadata": {
      "application/vnd.bokehjs_exec.v0+json": {
       "id": "cf7c04bc-f24c-48d3-bbef-746b7bd9c281"
      }
     },
     "output_type": "display_data"
    }
   ],
   "source": [
    "source = ColumnDataSource(\n",
    "    data=dict(\n",
    "        x=time,\n",
    "        y1=temperature01,\n",
    "        y2=temperature03,\n",
    "        y3=bottom_pressure,\n",
    "    )\n",
    ")\n",
    "\n",
    "# Temperature 01 Plot\n",
    "s1 = figure(width=500,\n",
    "           height=300,\n",
    "           title='Temperature01',\n",
    "           x_axis_label='Time (GMT)',\n",
    "           y_axis_label='T01 °C',\n",
    "           x_axis_type='datetime')\n",
    "\n",
    "s1.line('x', 'y1', line_width=3, source=source)\n",
    "s1.circle('x', 'y1', fill_color='white', size=4, source=source)\n",
    "\n",
    "# Temperature 03 Plot\n",
    "s2 = figure(width=500,\n",
    "           height=300,\n",
    "           title='Temperature03',\n",
    "           x_axis_label='Time (GMT)',\n",
    "           y_axis_label='T03 °C',\n",
    "           x_axis_type='datetime')\n",
    "\n",
    "s2.line('x', 'y2', line_width=3, source=source)\n",
    "s2.circle('x', 'y2', fill_color='white', size=4, source=source)\n",
    "\n",
    "# Pressure Plot\n",
    "s3 = figure(width=500,\n",
    "           height=300,\n",
    "           title='Bottom Pressure',\n",
    "           x_axis_label='Time (GMT)',\n",
    "           y_axis_label='psia',\n",
    "           x_axis_type='datetime')\n",
    "\n",
    "s3.line('x', 'y3', line_width=3, source=source)\n",
    "s3.circle('x', 'y3', fill_color='white', size=4, source=source)\n",
    "\n",
    "output_notebook()\n",
    "show(column(s1, s2, s3));\n",
    "\n",
    "# output_file(os.getcwd())\n",
    "# save(s1, filename='temperature01.html')\n",
    "# save(s2, filename='temperature03.html')\n",
    "# save(s3, filename='bottom_pressure.html')"
   ]
  },
  {
   "cell_type": "markdown",
   "metadata": {
    "colab_type": "text",
    "id": "zMmuca_uNqXr"
   },
   "source": [
    "For more information on Bokeh, check out http://bokeh.pydata.org/en/latest/docs/user_guide/layout.html#rows"
   ]
  },
  {
   "cell_type": "markdown",
   "metadata": {
    "colab_type": "text",
    "id": "yc4VOQfJhch0"
   },
   "source": [
    "Special thanks to Friedrich Knuth and Mike Smith for help developing the above examples."
   ]
  }
 ],
 "metadata": {
  "colab": {
   "collapsed_sections": [],
   "default_view": {},
   "name": "Synchronous Requests and Basic Plotting.ipynb",
   "provenance": [],
   "toc_visible": true,
   "version": "0.3.2",
   "views": {}
  },
  "kernelspec": {
   "display_name": "Python 3",
   "language": "python",
   "name": "python3"
  },
  "language_info": {
   "codemirror_mode": {
    "name": "ipython",
    "version": 3
   },
   "file_extension": ".py",
   "mimetype": "text/x-python",
   "name": "python",
   "nbconvert_exporter": "python",
   "pygments_lexer": "ipython3",
   "version": "3.6.5"
  }
 },
 "nbformat": 4,
 "nbformat_minor": 2
}
