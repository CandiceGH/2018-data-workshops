{
 "cells": [
  {
   "cell_type": "markdown",
   "metadata": {
    "colab_type": "text",
    "id": "F56vAdP1OkW7"
   },
   "source": [
    "## Parsing and Plotting QC Algorithm Results and Annotations\n",
    "\n",
    "*Written by Friedrich Knuth, Rutgers University*\n",
    "\n",
    "*Revised by Lori Garzio (to work with Pangeo), Rutgers University, July 9, 2018*\n",
    "\n",
    "In this example we will learn how to programatically download OOI JSON data and work with the QC algorithm results as well as annotations. We will use data from the Global Irminger Sea Apex Surface Mooring - Near Surface Instrument Frame - Dissolved Oxygen for this example, but the mechanics apply to all datasets that are processed through the OOI Cyberinfrastructure (CI) system. You wil learn:\n",
    "\n",
    "* how to find the data you are looking for\n",
    "* how to use the machine to machine API to request JSON data\n",
    "* how to explore and interactively plot data using bokeh\n",
    "* how to parse and visualize QC results\n",
    "* how to parse and visualize Annotations\n",
    "\n",
    "For the instrument in this example, you will need the Reference Designator, Stream and Data Delivery Method to make the request to the M2M API. More information about the instrument can be found here:\n",
    "http://ooi.visualocean.net/instruments/view/GI01SUMO-RID16-06-DOSTAD000\n",
    "\n",
    "![GI01SUMO-RID16-06-DOSTAD000](https://github.com/ooi-data-review/ooi_datateam_notebooks/raw/master/images/GI01SUMO-RID16-06-DOSTAD000.png)"
   ]
  },
  {
   "cell_type": "code",
   "execution_count": 1,
   "metadata": {
    "colab": {
     "autoexec": {
      "startup": false,
      "wait_interval": 0
     }
    },
    "colab_type": "code",
    "id": "ZJXPQqxZOkW8"
   },
   "outputs": [],
   "source": [
    "import requests\n",
    "import datetime"
   ]
  },
  {
   "cell_type": "markdown",
   "metadata": {
    "colab_type": "text",
    "id": "zyrN9tw8OkW_"
   },
   "source": [
    "Before we get started, login in at https://ooinet.oceanobservatories.org/ and obtain your <b>API username and API token</b> under your profile (top right corner)."
   ]
  },
  {
   "cell_type": "code",
   "execution_count": 2,
   "metadata": {
    "colab": {
     "autoexec": {
      "startup": false,
      "wait_interval": 0
     }
    },
    "colab_type": "code",
    "id": "AdpXnIsbOkXA"
   },
   "outputs": [],
   "source": [
    "username = ''\n",
    "token = ''"
   ]
  },
  {
   "cell_type": "markdown",
   "metadata": {
    "colab_type": "text",
    "id": "rAfySsnoOkXD"
   },
   "source": [
    "Specify your inputs."
   ]
  },
  {
   "cell_type": "code",
   "execution_count": 3,
   "metadata": {
    "colab": {
     "autoexec": {
      "startup": false,
      "wait_interval": 0
     }
    },
    "colab_type": "code",
    "id": "Z39VNoRqOkXE"
   },
   "outputs": [],
   "source": [
    "subsite = 'GI01SUMO'\n",
    "node = 'RID16'\n",
    "sensor = '06-DOSTAD000'\n",
    "method = 'recovered_host'\n",
    "stream = 'dosta_abcdjm_dcl_instrument_recovered'\n",
    "beginDT = '2015-09-01T01:01:01.900Z'\n",
    "endDT = '2016-03-01T01:01:01.900Z'"
   ]
  },
  {
   "cell_type": "markdown",
   "metadata": {
    "colab_type": "text",
    "id": "6KqBqEvBOkXG"
   },
   "source": [
    "Build the data request URL."
   ]
  },
  {
   "cell_type": "code",
   "execution_count": 4,
   "metadata": {
    "colab": {
     "autoexec": {
      "startup": false,
      "wait_interval": 0
     }
    },
    "colab_type": "code",
    "id": "ENAoDkdcOkXG"
   },
   "outputs": [],
   "source": [
    "base_url = 'https://ooinet.oceanobservatories.org/api/m2m/12576/sensor/inv/'\n",
    "\n",
    "data_request_url ='/'.join((base_url,subsite,node,sensor,method,stream))\n",
    "params = {\n",
    "    'beginDT':beginDT,\n",
    "    'endDT':endDT,\n",
    "    'limit':1000,   \n",
    "}"
   ]
  },
  {
   "cell_type": "markdown",
   "metadata": {},
   "source": [
    "#### Note: Data request lines are commented out to prevent accidental resubmission when running through the entire notebook quickly.\n",
    "\n",
    "Uncomment the lines and send the data request."
   ]
  },
  {
   "cell_type": "code",
   "execution_count": 5,
   "metadata": {},
   "outputs": [],
   "source": [
    "# r = requests.get(data_request_url, params=params,auth=(username, token))\n",
    "# data = r.json()"
   ]
  },
  {
   "cell_type": "code",
   "execution_count": 6,
   "metadata": {
    "colab": {
     "autoexec": {
      "startup": false,
      "wait_interval": 0
     }
    },
    "colab_type": "code",
    "id": "AvO3rm_5OkXK",
    "outputId": "006bd36d-4b3e-47ef-ade3-d20cdbc48acc"
   },
   "outputs": [
    {
     "data": {
      "text/plain": [
       "1001"
      ]
     },
     "execution_count": 6,
     "metadata": {},
     "output_type": "execute_result"
    }
   ],
   "source": [
    "# How many data points were returned?\n",
    "len(data)"
   ]
  },
  {
   "cell_type": "code",
   "execution_count": 7,
   "metadata": {
    "colab": {
     "autoexec": {
      "startup": false,
      "wait_interval": 0
     }
    },
    "colab_type": "code",
    "id": "2xacTJUHOkXO",
    "outputId": "540b36a2-6f29-4ad5-857a-8928b15b0a03"
   },
   "outputs": [
    {
     "data": {
      "text/plain": [
       "{'raw_temperature': 441.0,\n",
       " 'estimated_oxygen_concentration_qc_executed': 9,\n",
       " 'red_phase': 8.777000427246094,\n",
       " 'dcl_controller_timestamp': 'empty',\n",
       " 'dosta_abcdjm_cspp_tc_oxygen_qc_results': 13,\n",
       " 'optode_temperature': 8.5,\n",
       " 'product_number': 4831,\n",
       " 'estimated_oxygen_saturation_qc_results': 1,\n",
       " 'driver_timestamp': 3718195882.4196177,\n",
       " 'dissolved_oxygen_qc_executed': 29,\n",
       " 'internal_timestamp': 0.0,\n",
       " 'ctdbp_cdef_dcl_instrument_recovered-temp': 8.668100357055664,\n",
       " 'serial_number': '457',\n",
       " 'temp_compensated_phase': 32.02000045776367,\n",
       " 'optode_temperature_qc_executed': 29,\n",
       " 'dissolved_oxygen_qc_results': 29,\n",
       " 'calibrated_phase': 32.02000045776367,\n",
       " 'ingestion_timestamp': 3718195887.715,\n",
       " 'port_timestamp': 3650058060.025,\n",
       " 'estimated_oxygen_saturation': 99.99099731445312,\n",
       " 'optode_temperature_qc_results': 21,\n",
       " 'pk': {'node': 'RID16',\n",
       "  'stream': 'dosta_abcdjm_dcl_instrument_recovered',\n",
       "  'subsite': 'GI01SUMO',\n",
       "  'deployment': 2,\n",
       "  'time': 3650058060.025,\n",
       "  'sensor': '06-DOSTAD000',\n",
       "  'method': 'recovered_host'},\n",
       " 'estimated_oxygen_concentration': 365.4200134277344,\n",
       " 'blue_phase': 40.797000885009766,\n",
       " 'estimated_oxygen_concentration_qc_results': 9,\n",
       " 'preferred_timestamp': 'port_timestamp',\n",
       " 'dosta_abcdjm_cspp_tc_oxygen': 360.9918912818415,\n",
       " 'red_amplitude': 854.0,\n",
       " 'dosta_abcdjm_cspp_tc_oxygen_qc_executed': 13,\n",
       " 'blue_amplitude': 874.4000244140625,\n",
       " 'time': 3650058060.025,\n",
       " 'estimated_oxygen_saturation_qc_executed': 1,\n",
       " 'dissolved_oxygen': 280.9423869566828,\n",
       " 'ctdbp_cdef_dcl_instrument_recovered-practical_salinity': 34.82982019849851}"
      ]
     },
     "execution_count": 7,
     "metadata": {},
     "output_type": "execute_result"
    }
   ],
   "source": [
    "# Examine the contents of the first data point.\n",
    "data[0]"
   ]
  },
  {
   "cell_type": "markdown",
   "metadata": {
    "colab_type": "text",
    "id": "e53_I2L4OkXR"
   },
   "source": [
    "Convert the json response to a pandas dataframe and convert the time stamps."
   ]
  },
  {
   "cell_type": "code",
   "execution_count": 8,
   "metadata": {
    "colab": {
     "autoexec": {
      "startup": false,
      "wait_interval": 0
     }
    },
    "colab_type": "code",
    "id": "HBkJ8oX9OkXR"
   },
   "outputs": [],
   "source": [
    "import pandas as pd\n",
    "import numpy as np\n",
    "import json"
   ]
  },
  {
   "cell_type": "code",
   "execution_count": 9,
   "metadata": {
    "colab": {
     "autoexec": {
      "startup": false,
      "wait_interval": 0
     }
    },
    "colab_type": "code",
    "id": "7_cldAsGOkXT"
   },
   "outputs": [],
   "source": [
    "df = pd.DataFrame.from_records(map(json.loads, map(json.dumps,data)))\n",
    "df['time'] = pd.to_datetime(df['time'], unit='s', origin=pd.Timestamp('1900-01-01'))"
   ]
  },
  {
   "cell_type": "markdown",
   "metadata": {
    "colab_type": "text",
    "id": "pMS2CdX4OkXV"
   },
   "source": [
    "Extract the dissolved oxygen parameter for plotting."
   ]
  },
  {
   "cell_type": "code",
   "execution_count": 10,
   "metadata": {
    "colab": {
     "autoexec": {
      "startup": false,
      "wait_interval": 0
     }
    },
    "colab_type": "code",
    "id": "YCWnDY8LOkXV"
   },
   "outputs": [],
   "source": [
    "time = list(df['time'].values)\n",
    "oxygen = list(df['dissolved_oxygen'].values)"
   ]
  },
  {
   "cell_type": "markdown",
   "metadata": {
    "colab_type": "text",
    "id": "HpL7-2lWOkXX"
   },
   "source": [
    "Plot the data."
   ]
  },
  {
   "cell_type": "code",
   "execution_count": 11,
   "metadata": {
    "colab": {
     "autoexec": {
      "startup": false,
      "wait_interval": 0
     }
    },
    "colab_type": "code",
    "id": "_qR2wA6wOkXX"
   },
   "outputs": [],
   "source": [
    "import os\n",
    "from bokeh.plotting import figure, output_file, reset_output, show, ColumnDataSource, save\n",
    "from bokeh.models import BoxAnnotation\n",
    "from bokeh.io import output_notebook"
   ]
  },
  {
   "cell_type": "code",
   "execution_count": 12,
   "metadata": {
    "colab": {
     "autoexec": {
      "startup": false,
      "wait_interval": 0
     }
    },
    "colab_type": "code",
    "id": "NOLZRALqOkXY",
    "outputId": "369b5983-a410-48ca-a014-27c2d03f0773"
   },
   "outputs": [
    {
     "data": {
      "text/html": [
       "\n",
       "    <div class=\"bk-root\">\n",
       "        <a href=\"https://bokeh.pydata.org\" target=\"_blank\" class=\"bk-logo bk-logo-small bk-logo-notebook\"></a>\n",
       "        <span id=\"ca70fdef-332a-4511-b12a-bc476bb8eade\">Loading BokehJS ...</span>\n",
       "    </div>"
      ]
     },
     "metadata": {},
     "output_type": "display_data"
    },
    {
     "data": {
      "application/javascript": [
       "\n",
       "(function(root) {\n",
       "  function now() {\n",
       "    return new Date();\n",
       "  }\n",
       "\n",
       "  var force = true;\n",
       "\n",
       "  if (typeof (root._bokeh_onload_callbacks) === \"undefined\" || force === true) {\n",
       "    root._bokeh_onload_callbacks = [];\n",
       "    root._bokeh_is_loading = undefined;\n",
       "  }\n",
       "\n",
       "  var JS_MIME_TYPE = 'application/javascript';\n",
       "  var HTML_MIME_TYPE = 'text/html';\n",
       "  var EXEC_MIME_TYPE = 'application/vnd.bokehjs_exec.v0+json';\n",
       "  var CLASS_NAME = 'output_bokeh rendered_html';\n",
       "\n",
       "  /**\n",
       "   * Render data to the DOM node\n",
       "   */\n",
       "  function render(props, node) {\n",
       "    var script = document.createElement(\"script\");\n",
       "    node.appendChild(script);\n",
       "  }\n",
       "\n",
       "  /**\n",
       "   * Handle when an output is cleared or removed\n",
       "   */\n",
       "  function handleClearOutput(event, handle) {\n",
       "    var cell = handle.cell;\n",
       "\n",
       "    var id = cell.output_area._bokeh_element_id;\n",
       "    var server_id = cell.output_area._bokeh_server_id;\n",
       "    // Clean up Bokeh references\n",
       "    if (id !== undefined) {\n",
       "      Bokeh.index[id].model.document.clear();\n",
       "      delete Bokeh.index[id];\n",
       "    }\n",
       "\n",
       "    if (server_id !== undefined) {\n",
       "      // Clean up Bokeh references\n",
       "      var cmd = \"from bokeh.io.state import curstate; print(curstate().uuid_to_server['\" + server_id + \"'].get_sessions()[0].document.roots[0]._id)\";\n",
       "      cell.notebook.kernel.execute(cmd, {\n",
       "        iopub: {\n",
       "          output: function(msg) {\n",
       "            var element_id = msg.content.text.trim();\n",
       "            Bokeh.index[element_id].model.document.clear();\n",
       "            delete Bokeh.index[element_id];\n",
       "          }\n",
       "        }\n",
       "      });\n",
       "      // Destroy server and session\n",
       "      var cmd = \"import bokeh.io.notebook as ion; ion.destroy_server('\" + server_id + \"')\";\n",
       "      cell.notebook.kernel.execute(cmd);\n",
       "    }\n",
       "  }\n",
       "\n",
       "  /**\n",
       "   * Handle when a new output is added\n",
       "   */\n",
       "  function handleAddOutput(event, handle) {\n",
       "    var output_area = handle.output_area;\n",
       "    var output = handle.output;\n",
       "\n",
       "    // limit handleAddOutput to display_data with EXEC_MIME_TYPE content only\n",
       "    if ((output.output_type != \"display_data\") || (!output.data.hasOwnProperty(EXEC_MIME_TYPE))) {\n",
       "      return\n",
       "    }\n",
       "\n",
       "    var toinsert = output_area.element.find(\".\" + CLASS_NAME.split(' ')[0]);\n",
       "\n",
       "    if (output.metadata[EXEC_MIME_TYPE][\"id\"] !== undefined) {\n",
       "      toinsert[0].firstChild.textContent = output.data[JS_MIME_TYPE];\n",
       "      // store reference to embed id on output_area\n",
       "      output_area._bokeh_element_id = output.metadata[EXEC_MIME_TYPE][\"id\"];\n",
       "    }\n",
       "    if (output.metadata[EXEC_MIME_TYPE][\"server_id\"] !== undefined) {\n",
       "      var bk_div = document.createElement(\"div\");\n",
       "      bk_div.innerHTML = output.data[HTML_MIME_TYPE];\n",
       "      var script_attrs = bk_div.children[0].attributes;\n",
       "      for (var i = 0; i < script_attrs.length; i++) {\n",
       "        toinsert[0].firstChild.setAttribute(script_attrs[i].name, script_attrs[i].value);\n",
       "      }\n",
       "      // store reference to server id on output_area\n",
       "      output_area._bokeh_server_id = output.metadata[EXEC_MIME_TYPE][\"server_id\"];\n",
       "    }\n",
       "  }\n",
       "\n",
       "  function register_renderer(events, OutputArea) {\n",
       "\n",
       "    function append_mime(data, metadata, element) {\n",
       "      // create a DOM node to render to\n",
       "      var toinsert = this.create_output_subarea(\n",
       "        metadata,\n",
       "        CLASS_NAME,\n",
       "        EXEC_MIME_TYPE\n",
       "      );\n",
       "      this.keyboard_manager.register_events(toinsert);\n",
       "      // Render to node\n",
       "      var props = {data: data, metadata: metadata[EXEC_MIME_TYPE]};\n",
       "      render(props, toinsert[0]);\n",
       "      element.append(toinsert);\n",
       "      return toinsert\n",
       "    }\n",
       "\n",
       "    /* Handle when an output is cleared or removed */\n",
       "    events.on('clear_output.CodeCell', handleClearOutput);\n",
       "    events.on('delete.Cell', handleClearOutput);\n",
       "\n",
       "    /* Handle when a new output is added */\n",
       "    events.on('output_added.OutputArea', handleAddOutput);\n",
       "\n",
       "    /**\n",
       "     * Register the mime type and append_mime function with output_area\n",
       "     */\n",
       "    OutputArea.prototype.register_mime_type(EXEC_MIME_TYPE, append_mime, {\n",
       "      /* Is output safe? */\n",
       "      safe: true,\n",
       "      /* Index of renderer in `output_area.display_order` */\n",
       "      index: 0\n",
       "    });\n",
       "  }\n",
       "\n",
       "  // register the mime type if in Jupyter Notebook environment and previously unregistered\n",
       "  if (root.Jupyter !== undefined) {\n",
       "    var events = require('base/js/events');\n",
       "    var OutputArea = require('notebook/js/outputarea').OutputArea;\n",
       "\n",
       "    if (OutputArea.prototype.mime_types().indexOf(EXEC_MIME_TYPE) == -1) {\n",
       "      register_renderer(events, OutputArea);\n",
       "    }\n",
       "  }\n",
       "\n",
       "  \n",
       "  if (typeof (root._bokeh_timeout) === \"undefined\" || force === true) {\n",
       "    root._bokeh_timeout = Date.now() + 5000;\n",
       "    root._bokeh_failed_load = false;\n",
       "  }\n",
       "\n",
       "  var NB_LOAD_WARNING = {'data': {'text/html':\n",
       "     \"<div style='background-color: #fdd'>\\n\"+\n",
       "     \"<p>\\n\"+\n",
       "     \"BokehJS does not appear to have successfully loaded. If loading BokehJS from CDN, this \\n\"+\n",
       "     \"may be due to a slow or bad network connection. Possible fixes:\\n\"+\n",
       "     \"</p>\\n\"+\n",
       "     \"<ul>\\n\"+\n",
       "     \"<li>re-rerun `output_notebook()` to attempt to load from CDN again, or</li>\\n\"+\n",
       "     \"<li>use INLINE resources instead, as so:</li>\\n\"+\n",
       "     \"</ul>\\n\"+\n",
       "     \"<code>\\n\"+\n",
       "     \"from bokeh.resources import INLINE\\n\"+\n",
       "     \"output_notebook(resources=INLINE)\\n\"+\n",
       "     \"</code>\\n\"+\n",
       "     \"</div>\"}};\n",
       "\n",
       "  function display_loaded() {\n",
       "    var el = document.getElementById(\"ca70fdef-332a-4511-b12a-bc476bb8eade\");\n",
       "    if (el != null) {\n",
       "      el.textContent = \"BokehJS is loading...\";\n",
       "    }\n",
       "    if (root.Bokeh !== undefined) {\n",
       "      if (el != null) {\n",
       "        el.textContent = \"BokehJS \" + root.Bokeh.version + \" successfully loaded.\";\n",
       "      }\n",
       "    } else if (Date.now() < root._bokeh_timeout) {\n",
       "      setTimeout(display_loaded, 100)\n",
       "    }\n",
       "  }\n",
       "\n",
       "\n",
       "  function run_callbacks() {\n",
       "    try {\n",
       "      root._bokeh_onload_callbacks.forEach(function(callback) { callback() });\n",
       "    }\n",
       "    finally {\n",
       "      delete root._bokeh_onload_callbacks\n",
       "    }\n",
       "    console.info(\"Bokeh: all callbacks have finished\");\n",
       "  }\n",
       "\n",
       "  function load_libs(js_urls, callback) {\n",
       "    root._bokeh_onload_callbacks.push(callback);\n",
       "    if (root._bokeh_is_loading > 0) {\n",
       "      console.log(\"Bokeh: BokehJS is being loaded, scheduling callback at\", now());\n",
       "      return null;\n",
       "    }\n",
       "    if (js_urls == null || js_urls.length === 0) {\n",
       "      run_callbacks();\n",
       "      return null;\n",
       "    }\n",
       "    console.log(\"Bokeh: BokehJS not loaded, scheduling load and callback at\", now());\n",
       "    root._bokeh_is_loading = js_urls.length;\n",
       "    for (var i = 0; i < js_urls.length; i++) {\n",
       "      var url = js_urls[i];\n",
       "      var s = document.createElement('script');\n",
       "      s.src = url;\n",
       "      s.async = false;\n",
       "      s.onreadystatechange = s.onload = function() {\n",
       "        root._bokeh_is_loading--;\n",
       "        if (root._bokeh_is_loading === 0) {\n",
       "          console.log(\"Bokeh: all BokehJS libraries loaded\");\n",
       "          run_callbacks()\n",
       "        }\n",
       "      };\n",
       "      s.onerror = function() {\n",
       "        console.warn(\"failed to load library \" + url);\n",
       "      };\n",
       "      console.log(\"Bokeh: injecting script tag for BokehJS library: \", url);\n",
       "      document.getElementsByTagName(\"head\")[0].appendChild(s);\n",
       "    }\n",
       "  };var element = document.getElementById(\"ca70fdef-332a-4511-b12a-bc476bb8eade\");\n",
       "  if (element == null) {\n",
       "    console.log(\"Bokeh: ERROR: autoload.js configured with elementid 'ca70fdef-332a-4511-b12a-bc476bb8eade' but no matching script tag was found. \")\n",
       "    return false;\n",
       "  }\n",
       "\n",
       "  var js_urls = [\"https://cdn.pydata.org/bokeh/release/bokeh-0.12.14.min.js\", \"https://cdn.pydata.org/bokeh/release/bokeh-widgets-0.12.14.min.js\", \"https://cdn.pydata.org/bokeh/release/bokeh-tables-0.12.14.min.js\", \"https://cdn.pydata.org/bokeh/release/bokeh-gl-0.12.14.min.js\"];\n",
       "\n",
       "  var inline_js = [\n",
       "    function(Bokeh) {\n",
       "      Bokeh.set_log_level(\"info\");\n",
       "    },\n",
       "    \n",
       "    function(Bokeh) {\n",
       "      \n",
       "    },\n",
       "    function(Bokeh) {\n",
       "      console.log(\"Bokeh: injecting CSS: https://cdn.pydata.org/bokeh/release/bokeh-0.12.14.min.css\");\n",
       "      Bokeh.embed.inject_css(\"https://cdn.pydata.org/bokeh/release/bokeh-0.12.14.min.css\");\n",
       "      console.log(\"Bokeh: injecting CSS: https://cdn.pydata.org/bokeh/release/bokeh-widgets-0.12.14.min.css\");\n",
       "      Bokeh.embed.inject_css(\"https://cdn.pydata.org/bokeh/release/bokeh-widgets-0.12.14.min.css\");\n",
       "      console.log(\"Bokeh: injecting CSS: https://cdn.pydata.org/bokeh/release/bokeh-tables-0.12.14.min.css\");\n",
       "      Bokeh.embed.inject_css(\"https://cdn.pydata.org/bokeh/release/bokeh-tables-0.12.14.min.css\");\n",
       "    }\n",
       "  ];\n",
       "\n",
       "  function run_inline_js() {\n",
       "    \n",
       "    if ((root.Bokeh !== undefined) || (force === true)) {\n",
       "      for (var i = 0; i < inline_js.length; i++) {\n",
       "        inline_js[i].call(root, root.Bokeh);\n",
       "      }if (force === true) {\n",
       "        display_loaded();\n",
       "      }} else if (Date.now() < root._bokeh_timeout) {\n",
       "      setTimeout(run_inline_js, 100);\n",
       "    } else if (!root._bokeh_failed_load) {\n",
       "      console.log(\"Bokeh: BokehJS failed to load within specified timeout.\");\n",
       "      root._bokeh_failed_load = true;\n",
       "    } else if (force !== true) {\n",
       "      var cell = $(document.getElementById(\"ca70fdef-332a-4511-b12a-bc476bb8eade\")).parents('.cell').data().cell;\n",
       "      cell.output_area.append_execute_result(NB_LOAD_WARNING)\n",
       "    }\n",
       "\n",
       "  }\n",
       "\n",
       "  if (root._bokeh_is_loading === 0) {\n",
       "    console.log(\"Bokeh: BokehJS loaded, going straight to plotting\");\n",
       "    run_inline_js();\n",
       "  } else {\n",
       "    load_libs(js_urls, function() {\n",
       "      console.log(\"Bokeh: BokehJS plotting callback run at\", now());\n",
       "      run_inline_js();\n",
       "    });\n",
       "  }\n",
       "}(window));"
      ],
      "application/vnd.bokehjs_load.v0+json": "\n(function(root) {\n  function now() {\n    return new Date();\n  }\n\n  var force = true;\n\n  if (typeof (root._bokeh_onload_callbacks) === \"undefined\" || force === true) {\n    root._bokeh_onload_callbacks = [];\n    root._bokeh_is_loading = undefined;\n  }\n\n  \n\n  \n  if (typeof (root._bokeh_timeout) === \"undefined\" || force === true) {\n    root._bokeh_timeout = Date.now() + 5000;\n    root._bokeh_failed_load = false;\n  }\n\n  var NB_LOAD_WARNING = {'data': {'text/html':\n     \"<div style='background-color: #fdd'>\\n\"+\n     \"<p>\\n\"+\n     \"BokehJS does not appear to have successfully loaded. If loading BokehJS from CDN, this \\n\"+\n     \"may be due to a slow or bad network connection. Possible fixes:\\n\"+\n     \"</p>\\n\"+\n     \"<ul>\\n\"+\n     \"<li>re-rerun `output_notebook()` to attempt to load from CDN again, or</li>\\n\"+\n     \"<li>use INLINE resources instead, as so:</li>\\n\"+\n     \"</ul>\\n\"+\n     \"<code>\\n\"+\n     \"from bokeh.resources import INLINE\\n\"+\n     \"output_notebook(resources=INLINE)\\n\"+\n     \"</code>\\n\"+\n     \"</div>\"}};\n\n  function display_loaded() {\n    var el = document.getElementById(\"ca70fdef-332a-4511-b12a-bc476bb8eade\");\n    if (el != null) {\n      el.textContent = \"BokehJS is loading...\";\n    }\n    if (root.Bokeh !== undefined) {\n      if (el != null) {\n        el.textContent = \"BokehJS \" + root.Bokeh.version + \" successfully loaded.\";\n      }\n    } else if (Date.now() < root._bokeh_timeout) {\n      setTimeout(display_loaded, 100)\n    }\n  }\n\n\n  function run_callbacks() {\n    try {\n      root._bokeh_onload_callbacks.forEach(function(callback) { callback() });\n    }\n    finally {\n      delete root._bokeh_onload_callbacks\n    }\n    console.info(\"Bokeh: all callbacks have finished\");\n  }\n\n  function load_libs(js_urls, callback) {\n    root._bokeh_onload_callbacks.push(callback);\n    if (root._bokeh_is_loading > 0) {\n      console.log(\"Bokeh: BokehJS is being loaded, scheduling callback at\", now());\n      return null;\n    }\n    if (js_urls == null || js_urls.length === 0) {\n      run_callbacks();\n      return null;\n    }\n    console.log(\"Bokeh: BokehJS not loaded, scheduling load and callback at\", now());\n    root._bokeh_is_loading = js_urls.length;\n    for (var i = 0; i < js_urls.length; i++) {\n      var url = js_urls[i];\n      var s = document.createElement('script');\n      s.src = url;\n      s.async = false;\n      s.onreadystatechange = s.onload = function() {\n        root._bokeh_is_loading--;\n        if (root._bokeh_is_loading === 0) {\n          console.log(\"Bokeh: all BokehJS libraries loaded\");\n          run_callbacks()\n        }\n      };\n      s.onerror = function() {\n        console.warn(\"failed to load library \" + url);\n      };\n      console.log(\"Bokeh: injecting script tag for BokehJS library: \", url);\n      document.getElementsByTagName(\"head\")[0].appendChild(s);\n    }\n  };var element = document.getElementById(\"ca70fdef-332a-4511-b12a-bc476bb8eade\");\n  if (element == null) {\n    console.log(\"Bokeh: ERROR: autoload.js configured with elementid 'ca70fdef-332a-4511-b12a-bc476bb8eade' but no matching script tag was found. \")\n    return false;\n  }\n\n  var js_urls = [\"https://cdn.pydata.org/bokeh/release/bokeh-0.12.14.min.js\", \"https://cdn.pydata.org/bokeh/release/bokeh-widgets-0.12.14.min.js\", \"https://cdn.pydata.org/bokeh/release/bokeh-tables-0.12.14.min.js\", \"https://cdn.pydata.org/bokeh/release/bokeh-gl-0.12.14.min.js\"];\n\n  var inline_js = [\n    function(Bokeh) {\n      Bokeh.set_log_level(\"info\");\n    },\n    \n    function(Bokeh) {\n      \n    },\n    function(Bokeh) {\n      console.log(\"Bokeh: injecting CSS: https://cdn.pydata.org/bokeh/release/bokeh-0.12.14.min.css\");\n      Bokeh.embed.inject_css(\"https://cdn.pydata.org/bokeh/release/bokeh-0.12.14.min.css\");\n      console.log(\"Bokeh: injecting CSS: https://cdn.pydata.org/bokeh/release/bokeh-widgets-0.12.14.min.css\");\n      Bokeh.embed.inject_css(\"https://cdn.pydata.org/bokeh/release/bokeh-widgets-0.12.14.min.css\");\n      console.log(\"Bokeh: injecting CSS: https://cdn.pydata.org/bokeh/release/bokeh-tables-0.12.14.min.css\");\n      Bokeh.embed.inject_css(\"https://cdn.pydata.org/bokeh/release/bokeh-tables-0.12.14.min.css\");\n    }\n  ];\n\n  function run_inline_js() {\n    \n    if ((root.Bokeh !== undefined) || (force === true)) {\n      for (var i = 0; i < inline_js.length; i++) {\n        inline_js[i].call(root, root.Bokeh);\n      }if (force === true) {\n        display_loaded();\n      }} else if (Date.now() < root._bokeh_timeout) {\n      setTimeout(run_inline_js, 100);\n    } else if (!root._bokeh_failed_load) {\n      console.log(\"Bokeh: BokehJS failed to load within specified timeout.\");\n      root._bokeh_failed_load = true;\n    } else if (force !== true) {\n      var cell = $(document.getElementById(\"ca70fdef-332a-4511-b12a-bc476bb8eade\")).parents('.cell').data().cell;\n      cell.output_area.append_execute_result(NB_LOAD_WARNING)\n    }\n\n  }\n\n  if (root._bokeh_is_loading === 0) {\n    console.log(\"Bokeh: BokehJS loaded, going straight to plotting\");\n    run_inline_js();\n  } else {\n    load_libs(js_urls, function() {\n      console.log(\"Bokeh: BokehJS plotting callback run at\", now());\n      run_inline_js();\n    });\n  }\n}(window));"
     },
     "metadata": {},
     "output_type": "display_data"
    },
    {
     "data": {
      "text/html": [
       "\n",
       "<div class=\"bk-root\">\n",
       "    <div class=\"bk-plotdiv\" id=\"bce035b2-890e-4a5d-9f40-af25b9d582fe\"></div>\n",
       "</div>"
      ]
     },
     "metadata": {},
     "output_type": "display_data"
    },
    {
     "data": {
      "application/javascript": [
       "(function(root) {\n",
       "  function embed_document(root) {\n",
       "    \n",
       "  var docs_json = {\"522cc65d-5330-4423-946f-2feb0e1818aa\":{\"roots\":{\"references\":[{\"attributes\":{\"bottom_units\":\"screen\",\"fill_alpha\":{\"value\":0.5},\"fill_color\":{\"value\":\"lightgrey\"},\"left_units\":\"screen\",\"level\":\"overlay\",\"line_alpha\":{\"value\":1.0},\"line_color\":{\"value\":\"black\"},\"line_dash\":[4,4],\"line_width\":{\"value\":2},\"plot\":null,\"render_mode\":\"css\",\"right_units\":\"screen\",\"top_units\":\"screen\"},\"id\":\"9fb50f39-961d-4015-bd2c-de99d257d69e\",\"type\":\"BoxAnnotation\"},{\"attributes\":{},\"id\":\"73661720-9499-4fdf-b29b-eaa1da48eb41\",\"type\":\"PanTool\"},{\"attributes\":{},\"id\":\"76b5b369-88ab-4923-a790-379238f02330\",\"type\":\"WheelZoomTool\"},{\"attributes\":{\"overlay\":{\"id\":\"9fb50f39-961d-4015-bd2c-de99d257d69e\",\"type\":\"BoxAnnotation\"}},\"id\":\"fe635adf-58eb-42c8-b577-283421067bc8\",\"type\":\"BoxZoomTool\"},{\"attributes\":{},\"id\":\"b958120d-a3c2-4c83-b260-ffb73578d7eb\",\"type\":\"SaveTool\"},{\"attributes\":{},\"id\":\"3e92e127-b7eb-4b74-b314-b5ee64573f3e\",\"type\":\"ResetTool\"},{\"attributes\":{},\"id\":\"69cf3594-d498-4134-8a46-6a68c2da2c28\",\"type\":\"HelpTool\"},{\"attributes\":{\"source\":{\"id\":\"b201ce55-5984-4edb-bcc4-e1b8d1a61752\",\"type\":\"ColumnDataSource\"}},\"id\":\"a4156e77-b627-4606-84c4-75d7d51d50f8\",\"type\":\"CDSView\"},{\"attributes\":{\"days\":[1,2,3,4,5,6,7,8,9,10,11,12,13,14,15,16,17,18,19,20,21,22,23,24,25,26,27,28,29,30,31]},\"id\":\"c8ef78bd-4211-43fa-8ac6-2136358d3e62\",\"type\":\"DaysTicker\"},{\"attributes\":{\"days\":[1,15]},\"id\":\"2733abbc-5ccb-48e7-bdd3-d21cd3bb65c6\",\"type\":\"DaysTicker\"},{\"attributes\":{\"mantissas\":[1,2,5],\"max_interval\":500.0,\"num_minor_ticks\":0},\"id\":\"89693c50-b2a0-47f3-8152-3ecc67e95ff6\",\"type\":\"AdaptiveTicker\"},{\"attributes\":{\"days\":[1,4,7,10,13,16,19,22,25,28]},\"id\":\"e7a32409-1036-4bc7-bca4-732062705abb\",\"type\":\"DaysTicker\"},{\"attributes\":{\"base\":60,\"mantissas\":[1,2,5,10,15,20,30],\"max_interval\":1800000.0,\"min_interval\":1000.0,\"num_minor_ticks\":0},\"id\":\"042970e4-fbd7-4c9b-858e-c7bde86f6331\",\"type\":\"AdaptiveTicker\"},{\"attributes\":{},\"id\":\"edef9ad6-2995-4cb7-992a-7e9da0043c33\",\"type\":\"DatetimeTickFormatter\"},{\"attributes\":{\"days\":[1,8,15,22]},\"id\":\"19896a59-90f1-4104-b3b6-361bc19cd265\",\"type\":\"DaysTicker\"},{\"attributes\":{\"base\":24,\"mantissas\":[1,2,4,6,8,12],\"max_interval\":43200000.0,\"min_interval\":3600000.0,\"num_minor_ticks\":0},\"id\":\"f2e88395-01dc-4eea-817c-020a347e1468\",\"type\":\"AdaptiveTicker\"},{\"attributes\":{\"callback\":null,\"column_names\":[\"x\",\"y\"],\"data\":{\"x\":[1441069260025.0002,1441069262025.0002,1441084682060.0,1441100741533.0,1441116181415.0,1441132223642.9995,1441147681581.0005,1441162982027.0,1441179181849.9998,1441194482381.0,1441210682968.0,1441225981487.0,1441242183725.0,1441257480498.0002,1441273680678.9998,1441288982281.0002,1441305182500.0,1441320483163.0,1441336683573.9998,1441351981845.9995,1441368181078.0002,1441383482392.0002,1441399683374.0002,1441414981329.0,1441431183055.9998,1441446482550.0002,1441462683609.0002,1441477983210.0002,1441494182911.9998,1441509481157.0002,1441525682454.9998,1441540983005.0002,1441557183408.0,1441572481538.0002,1441588681841.0002,1441603982088.9998,1441620180224.0,1441635484003.0002,1441651661569.0002,1441666982019.0,1441683142613.0,1441698482757.0,1441714622647.9998,1441729981764.0,1441746104937.9995,1441761480743.0,1441777584713.0002,1441792980399.0,1441809066666.9998,1441824480974.9998,1441840547937.0002,1441855980789.0,1441872029006.0002,1441887481801.0002,1441903510357.9998,1441918982185.9998,1441934280197.9998,1441950483128.0002,1441965781395.0,1441981981338.9998,1441997281867.0,1442013482416.0,1442028781111.0,1442044983857.9998,1442060282519.0,1442076480423.0002,1442091782548.0002,1442107982269.9998,1442123280942.9998,1442139480705.0,1442154781477.9995,1442170982718.9998,1442186281338.0005,1442202481640.9998,1442217782515.0002,1442233982857.0005,1442249281842.9998,1442265481561.0,1442280782107.9998,1442296980929.0,1442312281890.0005,1442328480131.0,1442343780949.0,1442359983161.0002,1442375281836.0,1442391466963.0002,1442406783135.9998,1442422947243.0,1442438281640.0002,1442454428277.9998,1442469783298.0005,1442485909841.0002,1442501280396.0,1442517389585.0,1442532782855.0,1442548871361.9998,1442564281727.9998,1442580352474.9998,1442595782053.9998,1442611834746.9998,1442627282381.0,1442643315361.0,1442658780694.9998,1442674082697.9998,1442690281503.9998,1442705582040.0,1442721781451.0002,1442737083033.9998,1442753282232.9998,1442768582849.9998,1442784781621.9995,1442800082052.0,1442816282336.0,1442831581156.0002,1442847781585.0,1442863082553.0,1442879281416.0,1442894582036.0002,1442910782421.9998,1442926081566.9998,1442942282355.0,1442957581528.0,1442973783866.0002,1442989082325.0,1443005281857.9998,1443020582914.0002,1443036783390.9998,1443052081640.0002,1443068281800.0002,1443083582357.0005,1443099782232.0002,1443115081019.0,1443131272338.0005,1443146583611.0,1443162752614.9998,1443178083653.0,1443194232859.0002,1443209581421.0,1443225714996.9998,1443241082142.9995,1443257195080.0,1443272581749.0002,1443288676540.0,1443304081635.9998,1443320158118.0002,1443335580731.0,1443351639635.0002,1443367082580.0,1443383119519.0,1443398582334.0002,1443413882172.0,1443430082703.0,1443445381829.0,1443461583265.9998,1443476882777.0,1443493081875.0,1443508381488.0,1443524583407.0,1443539882613.0,1443556080611.0,1443571382841.0002,1443587582637.0002,1443602882007.0,1443619081291.9998,1443634383104.0,1443650580633.9998,1443665881838.0005,1443682081356.0,1443697381046.9998,1443713580684.0,1443728882414.0002,1443745082128.9998,1443760382019.0,1443776582257.0,1443791882533.9998,1443808082401.0,1443823380821.0002,1443839582918.9995,1443854881040.0,1443871077130.0002,1443886382817.9998,1443902558001.0,1443917881869.0,1443934038977.9995,1443949383059.0,1443965520805.9998,1443980882288.0,1443997001022.0005,1444012382907.0,1444028481508.0,1444043882378.0005,1444059964463.0002,1444075382701.9995,1444091445395.0,1444106882389.0,1444122925967.0,1444138380959.0,1444153680349.0,1444169880917.0,1444185183342.9998,1444201382133.9998,1444216680614.9998,1444232881935.9998,1444248182748.0002,1444264381842.0002,1444279681717.9998,1444295883809.9998,1444311180734.0002,1444327382444.9998,1444342681607.0002,1444358881081.9998,1444374182180.0002,1444390382789.0,1444405681737.0,1444421883257.0,1444437183005.0002,1444453381632.0,1444468682975.9998,1444484883630.0002,1444500181970.9998,1444516382220.0002,1444531682618.0002,1444547880819.0002,1444563183109.9995,1444579381592.0,1444594682712.0,1444610883059.0,1444626182506.0002,1444642362742.0002,1444657681729.0002,1444673845463.0002,1444689181889.0,1444705326163.0,1444720682524.0002,1444736806216.0,1444752182364.9998,1444768288602.0002,1444783681057.0002,1444799768551.0,1444815182468.0,1444831250205.0,1444846680411.9998,1444862731951.9998,1444878180767.0002,1444894211793.9995,1444909681000.0,1444924981305.0002,1444941181619.0,1444956480737.0,1444972682510.9995,1444987982408.0,1445004182926.0002,1445019482993.0,1445035680736.0,1445050981312.9998,1445067181387.0,1445082480960.0,1445098682885.9995,1445113980620.0,1445130182206.0005,1445145481925.0002,1445161680921.9998,1445176982331.0002,1445193181331.0002,1445208482909.0,1445224682333.0002,1445239982712.0,1445256181281.0002,1445271481897.0002,1445287681835.0,1445302983112.0,1445319181579.0,1445334481647.9998,1445350682435.9998,1445365983135.0002,1445382169873.0002,1445397481720.0002,1445413650382.9998,1445428982335.0,1445445130732.9998,1445460483465.0002,1445476612039.0,1445491981826.0002,1445508092640.0002,1445523480628.9998,1445539574600.0,1445554981946.0002,1445571054654.0005,1445586481677.9998,1445602536242.0002,1445617981154.9998,1445634017760.0002,1445649480513.9998,1445664783061.0,1445680982224.0,1445696282975.9998,1445712481013.9998,1445727782041.9998,1445743981645.0,1445759282135.9998,1445775481970.0005,1445790781757.9998,1445806981591.0,1445822282158.9998,1445838482334.0002,1445853782949.0,1445869981767.0002,1445885283377.0,1445901482111.0,1445916780559.0,1445932982793.0002,1445948280992.0,1445964480797.0,1445979782852.0002,1445995980561.0,1446011282913.0002,1446027480657.9998,1446042781996.9998,1446058982270.9998,1446074281895.0,1446090481921.9998,1446105782326.9995,1446121974819.0002,1446137280914.0002,1446153454668.0002,1446168780834.0002,1446184936743.0,1446200281484.0002,1446216417369.0,1446231782137.0002,1446247898151.0,1446263281921.9998,1446279379121.9995,1446294782996.9998,1446310859932.0002,1446326281647.0002,1446342342447.0,1446357782147.9998,1446373823789.9998,1446389283494.9998,1446404583062.0005,1446420782390.0005,1446436083013.0,1446452283441.0,1446467581878.9998,1446483781624.0,1446499081937.9995,1446515282401.0,1446530582793.9995,1446546782371.0002,1446562082977.9995,1446578282579.0,1446593582680.9998,1446609782390.9998,1446625082592.0,1446641280534.9998,1446656580481.0,1446672782249.9998,1446688082102.0002,1446704281769.0,1446719583345.9995,1446735780809.0,1446751080949.9998,1446767282242.0002,1446782582062.9998,1446798780896.0,1446814083073.9998,1446830281831.9998,1446845583184.0,1446861779760.9998,1446877082617.0002,1446893261132.0,1446908581010.9998,1446924741963.0002,1446940081417.0,1446956222458.0002,1446971581699.9998,1446987704340.0002,1447003080557.0002,1447019184499.0,1447034582506.0002,1447050666710.0002,1447066082137.0002,1447082146757.0,1447097581322.0002,1447113629119.0,1447129082829.9998,1447144382312.9998,1447160582517.9995,1447175881451.0002,1447192081812.0002,1447207380553.0,1447223580102.9998,1447238882357.0005,1447255081285.0,1447270380701.9995,1447286580631.0,1447301881567.9998,1447318083080.0,1447333382486.0002,1447349581911.0002,1447364883573.9998,1447381083031.0,1447396383027.0,1447412582006.0002,1447427883901.9998,1447444080716.0,1447459382234.0002,1447475581048.9998,1447490882385.9995,1447507083361.9998,1447522382223.0,1447538581381.0,1447553880734.9995,1447570081147.9998,1447585380651.0,1447601583693.0,1447616881489.0005,1447633065300.0002,1447648380709.0002,1447664546703.0,1447679882211.0,1447696028819.0002,1447711382619.0,1447727509125.9998,1447742882157.0002,1447758990231.0,1447774381323.0,1447790472062.9998,1447805882156.0002,1447821953552.0,1447837380989.0002,1447853434762.0002,1447868883536.0002,1447884914650.0002,1447900380980.0,1447915682941.0,1447931883404.0002,1447947182326.0002,1447963382930.0005,1447978683255.0,1447994882572.0,1448010181722.0002,1448026381580.0,1448041681724.0,1448057881225.9998,1448073181227.9998,1448089381979.0,1448104683272.0002,1448120880281.0002,1448136181197.0,1448152381257.9998,1448167681244.0,1448183882536.9998,1448199180525.0002,1448215381744.0,1448230681304.0,1448246883474.9998,1448262181834.0002,1448278381635.9998,1448293682546.9998,1448309881923.9998,1448325180123.0,1448341381005.0002,1448356680301.0002,1448372871611.0,1448388182388.0,1448404352553.0,1448419682088.9998,1448435834682.0002,1448451182038.0002,1448467314857.0005,1448482682887.0,1448498796175.0,1448514181770.9998,1448530277901.0,1448545680182.0002,1448561759151.0,1448577183602.0002,1448593240213.9998,1448608681859.0002,1448624719612.0,1448640182046.0002,1448655481937.9995,1448671681029.0002,1448686980482.9998,1448703182312.9998,1448718481965.0002,1448734680770.9998,1448749981022.0005,1448766182246.9998,1448781481763.0,1448797681041.0,1448812981135.9998,1448829183158.9998,1448844481486.0002,1448860681215.0,1448875982916.0,1448892182973.9998,1448907480745.0,1448923681215.0,1448938980944.0002,1448955183480.0,1448970482300.0002,1448986681203.0,1449001981009.0,1449018181067.9998,1449033482616.0002,1449049682290.9998,1449064982241.0002,1449081182204.0,1449096481222.0002,1449112676642.0002,1449127981526.0002,1449144158996.9998,1449159483595.0002,1449175640198.9998,1449190981006.0002,1449207120454.9998,1449222482902.9998,1449238601672.0,1449253980513.9998,1449270082742.0002,1449285480607.0002,1449301563144.0,1449316981496.0002,1449333045025.0002,1449348483279.9998,1449364526463.9998,1449379982275.0,1449395282269.9998,1449411482267.9998,1449426783409.9998,1449442981269.9998,1449458280616.0002,1449474481349.0,1449489782444.9998,1449505982546.0002,1449521281421.0,1449537481147.9998,1449552781061.0,1449568981420.0,1449584282172.0,1449600481010.9998,1449615781849.9998,1449631983359.9998,1449647282126.9998,1449663482703.0,1449678781890.0005,1449694982640.9998,1449710281969.0,1449726482058.0002,1449741782689.0002,1449757981656.0002,1449773281177.0,1449789481896.0,1449804781901.9998,1449820980720.9998,1449836281147.0002,1449852483196.0,1449867783325.0,1449883963190.0002,1449899281904.9998,1449915445659.9998,1449930781918.9995,1449946926209.0002,1449962281269.9998,1449978407817.9998,1449993782230.0002,1450009887801.0002,1450025281982.9998,1450041368093.0,1450056782565.0,1450072850850.9998,1450088280628.0002,1450104331561.0,1450119782065.9998,1450135811765.9998,1450151280668.0002,1450166580687.0002,1450182782055.0002,1450198081644.0,1450214281868.0,1450229582885.0002,1450245783430.0005,1450261082074.9998,1450277281881.0,1450292583727.0002,1450308781210.0002,1450324082901.9998,1450340281685.9998,1450355581356.0,1450371780762.0002,1450387082180.0002,1450403280211.0,1450418581359.9998,1450434781224.0,1450450082329.0,1450466281168.9998,1450481581607.0002,1450497781286.0002,1450513081286.9998,1450529281475.9998,1450544582541.0,1450560782194.9998,1450576080859.9998,1450592281598.0002,1450607582944.0002,1450623768918.9995,1450639081354.0002,1450655250894.0002,1450670582168.0002,1450686731231.0,1450702082845.0002,1450718213111.0,1450733582389.0,1450749692781.0002,1450765080284.0,1450781174689.0002,1450796581815.0,1450812656031.0,1450828081197.9998,1450844135909.9998,1450859581264.0,1450875617949.0,1450891083253.9995,1450906381697.0,1450922581680.0002,1450937882133.9998,1450954082713.0002,1450969380933.0002,1450985581540.0,1451000882085.0,1451017082229.0002,1451032380711.0,1451048581657.0002,1451063882279.0002,1451080080484.0002,1451095382176.0,1451111583242.0002,1451126882852.0002,1451143082231.0,1451158380224.0,1451174581439.0,1451189883189.0002,1451206082239.0002,1451221381670.0002,1451237582762.0002,1451252881788.0,1451269082411.0002,1451284380389.0,1451300581909.0,1451315881309.0,1451332080595.0002,1451347380881.9998,1451363575257.9998,1451378881723.0,1451395056241.0002,1451410382831.0002,1451426536682.0002,1451441881793.0002,1451458018434.0002,1451473382625.9998,1451489499275.0,1451504881154.9998,1451520980607.9998,1451536381909.9998,1451552459970.0005,1451567882388.0,1451583942172.0,1451599382722.0002,1451615422923.0002,1451630881585.9998,1451646181810.9998,1451662381699.9998,1451677683760.0002,1451693882663.0,1451709182498.0002,1451725381953.0002,1451740680541.0,1451756882984.9998,1451772180388.0,1451788382873.0002,1451803683212.0,1451819882630.0002,1451835182489.9998,1451851382797.0,1451866681795.0,1451882881583.0,1451898182762.0002,1451914381712.0,1451929681050.0002,1451945881845.0002,1451961181060.0,1451977381826.0002,1451992680930.9998,1452008881272.9998,1452024181814.0002,1452040380981.0,1452055682239.9998,1452071880958.0002,1452087182572.0,1452103378973.0,1452118680389.0,1452134860114.9998,1452150182666.9998,1452166342963.9998,1452181682006.0002,1452197822862.9998,1452213183031.0,1452229304441.0,1452244682343.9998,1452260785206.0005,1452276181466.0002,1452292266653.0,1452307681640.0002,1452323747989.9998,1452339180727.0002,1452355228084.0,1452370682274.0002,1452386709441.9998,1452402182705.0,1452417481824.0,1452433680687.9998,1452448980319.9998,1452465181678.9998,1452480481131.0,1452496681849.9998,1452511981364.9998,1452528180399.0,1452543482199.9998,1452559681543.9998,1452574982475.9998,1452591183377.0,1452606482253.0002,1452622683683.0,1452637981216.0,1452654182506.0002,1452669481437.0002,1452685681935.9998,1452700981672.0,1452717182029.9995,1452732481769.0,1452748682276.0,1452763981470.9998,1452780182239.0002,1452795483477.9995,1452811682345.0002,1452826981991.0,1452843181298.0005,1452858480319.9998,1452874665653.0,1452889981807.0,1452906146809.9998,1452921481031.0,1452937628279.0002,1452952982716.0,1452969109626.9998,1452984483267.0002,1453000590345.9995,1453015981956.9998,1453032072354.0002,1453047481765.0005,1453063552701.0002,1453078982404.9998,1453095032956.0002,1453110480142.9995,1453126514744.0,1453141982499.0,1453157282789.9998,1453173483297.0,1453188782769.9998,1453204981639.0,1453220281154.0005,1453236481088.0002,1453251780786.0002,1453267982613.0,1453283282519.0,1453299483566.9998,1453314781875.0,1453330982822.0002,1453346281003.0002,1453362481114.0005,1453377782069.0002,1453393980317.9998,1453409281831.9998,1453425481329.0,1453440781543.9998,1453456981849.0,1453472283007.0,1453488482843.9998,1453503781576.9998,1453519981371.9998,1453535282506.0002,1453551480371.9998,1453566782644.0,1453582981911.0002,1453598280291.9998,1453614471040.0,1453629780944.0002,1453645952021.0,1453661282010.0002,1453677434750.0002,1453692782908.0,1453708915246.9998,1453724281673.0005,1453740396782.0002,1453755780904.0002,1453771877984.9998,1453787283125.9998,1453803359123.0,1453818783196.0,1453834839804.0,1453850283428.0,1453866321095.9998,1453881783150.0002,1453897081022.9998,1453913283265.0005,1453928582357.0005,1453944782338.9998,1453960081915.0,1453976282183.0,1453991582597.0002,1454007781882.9998,1454023081712.0,1454039281197.0,1454054581882.9998,1454070780899.0,1454086080633.0,1454102282381.0,1454117582066.9998,1454133782848.0,1454149081689.0002,1454165283001.0,1454180583690.0002,1454196782326.0002,1454212080333.0002,1454228283128.9998,1454243582151.0,1454259780713.0002,1454275080183.0,1454291281505.0002,1454306583201.9995,1454322783201.0002,1454338082446.0002,1454354277947.0,1454369583107.9998,1454385757661.9995,1454401081194.9998,1454417238857.9998,1454432581439.0,1454448720357.0005,1454464080125.0,1454480201015.9998,1454495580781.0002,1454511681808.0,1454527083208.0002,1454543162958.0002,1454558580730.0002,1454574644364.0002,1454590080785.0,1454606126083.0,1454621580765.9998,1454636882017.9995,1454653081890.9998,1454668381888.0,1454684581742.0002,1454699880885.0002,1454716082052.0,1454731380970.9998,1454747582793.9995,1454762882423.9998,1454779082894.0002,1454794381388.0,1454810581614.9998,1454825880225.0,1454842080211.0,1454857382680.0002,1454873582632.0,1454888880991.0,1454905081381.9998,1454920382335.0,1454936582380.0,1454951880881.9998,1454968081779.0002,1454983381861.0,1454999581698.9998,1455014882875.0,1455031081062.9998,1455046382630.0002,1455062581015.9998,1455077881842.0002,1455094081798.0005,1455109381142.9995,1455125563683.0,1455140882604.0,1455157045335.0,1455172380883.9998,1455188525356.0,1455203882307.0,1455220007664.0,1455235382006.0002,1455251488932.0002,1455266882364.9998,1455282968151.0,1455298381461.9998,1455314450536.9998,1455329882053.0,1455345930809.0,1455361381260.0002,1455377412507.0,1455392883102.0002,1455408182267.9998,1455424381609.0002,1455439681267.9998,1455455883128.9998,1455471181805.0002,1455487381842.0002,1455502681917.0,1455518880786.9998,1455534182746.0005,1455550382917.0,1455565682653.0,1455581881861.0,1455597182920.0,1455613381722.0002,1455628682712.0,1455644881630.0002,1455660181201.9995,1455676383401.0,1455691681347.0,1455707881479.0,1455723182357.0005,1455739381538.0002,1455754683132.0,1455770882415.0,1455786180539.0,1455802382359.0002,1455817680551.0,1455833882635.0002,1455849182276.0,1455865369253.0002,1455880682763.0,1455896849977.0002,1455912181723.0,1455928330373.0002,1455943681837.0,1455959811725.0,1455975182368.0,1455991292493.9998,1456006683055.0002,1456022773677.0,1456038182967.0,1456054255579.0,1456069681963.9998,1456085735877.0,1456101182753.0002,1456117218264.0,1456132682911.9998,1456147982001.0,1456164181996.0002,1456179482492.0,1456195682338.9998,1456210980776.0,1456227182027.0,1456242481085.9998,1456258682716.0,1456273983215.0,1456290180418.0002,1456305482911.0002,1456321682448.0,1456336982342.9998,1456353181966.0002,1456368481639.0,1456384680837.0,1456399982744.0,1456416181748.0002,1456431483988.0,1456447681062.0005,1456462981819.9998,1456479181190.0002,1456494482689.0002,1456510681595.9998,1456525981305.0002,1456542182692.0,1456557482675.0,1456573683637.0002,1456588982112.0,1456605174777.9998,1456620481506.0002,1456636655366.0002,1456651981604.0,1456668135720.0002,1456683482998.0002,1456699617791.9998,1456714982609.0002,1456731099745.0,1456746481066.9998,1456762579687.9998,1456777982513.9998,1456794060663.0],\"y\":[280.9423869566828,280.70926340363724,280.4610036437032,280.34589942428056,280.4189001365978,281.08262827853696,280.56590311238267,280.1142266755418,279.7329969897217,279.9935159876657,280.28097050807446,280.19971980568835,279.91075194182486,279.89466252518326,279.79437718634244,280.68376299724656,279.63826498807157,280.0734359960052,277.5357438343037,277.83254528755725,279.03077158679156,279.5142243129954,278.6751316259658,278.3526013596404,277.43228006876024,276.95879430612354,276.7941400923027,277.1476508561024,276.8876858817654,278.1369476281849,275.7533790914618,276.4622111758911,276.70168986065596,276.5842507399913,275.53337867893794,275.35548078200804,275.3227184891969,276.1512071281618,276.8533342266025,276.04624673968897,276.70168986065596,276.26250568956294,276.5858246811065,277.28615260249927,277.0608467714012,276.0951643480813,275.7528471021383,276.27438364270824,276.41071556333344,276.5974407898419,276.94671750635933,276.89395403896737,276.7007116634515,276.5566204843399,277.4027722410892,277.83241781121274,276.79984955478074,276.7492504749217,276.087493290471,276.37519838333657,276.75467384706565,276.5556860007332,276.3487509780788,275.8384874324655,276.00128810403027,276.29666676371477,276.20036002831387,276.193460277986,276.40440491898545,275.9580713729314,276.58888469031365,275.98861294014335,275.92149744081604,275.52786237296846,275.93046950771463,276.39551137441305,276.56066655985944,276.50256776265576,275.89676294255344,275.7992805265225,276.0419173024348,276.67394112568803,277.29555679242816,276.91079855363614,277.1191905050578,277.30678813009445,277.04394541991076,277.1723113023752,277.1400813585716,277.04508049196437,276.5954721596402,276.56758355358687,276.88786480125543,277.3681949483728,276.6002964917146,276.38502785813535,275.86954510325813,276.1973517434598,275.8693156841762,275.5990706780304,275.04953202274606,275.022272598261,274.803531508356,275.27346783074074,275.5475459094126,275.2495135906806,275.0992969537105,274.71418959384766,275.36552103577645,275.4810554573143,275.6646295835852,275.3941269669084,275.1906948145479,274.8845132403579,275.1764421032046,275.2547054415943,274.7025909630107,274.69482065095104,274.635542867545,274.87308053447913,275.6865171311972,275.7797610053907,275.2509138663832,274.97074418688567,275.1723800768835,275.6731151794045,275.9078251471729,275.6330955431888,275.47508060334843,275.1350336950839,274.87390657946963,275.766738453678,275.62753687717225,274.47027923180747,274.2638681712918,274.1635876915841,275.7274051220024,275.77839534451306,276.1728984439851,275.8607765252581,275.5244332672864,273.971600264795,275.05442761530355,274.836508257323,275.3189442929116,275.0405123027289,273.30594510237285,273.4144319392879,274.3357349326815,275.4861259953892,275.53251296041225,275.1614064398798,275.48069126914544,276.46105520320776,276.5384624033578,276.5027352865075,275.83686350183825,275.7063544708901,276.2224485956317,276.6746169530222,275.3255032542419,276.2295470930236,276.42986651036006,275.4884406760596,276.27513491650063,276.058316154448,275.51545709186126,275.87500027152225,275.097539988532,275.51175601070156,275.8236167051065,275.86967888652066,275.9576936801524,275.4848445989778,276.5575123091468,276.0253756061333,276.11280727351925,276.668666949845,275.8254278971811,275.78986711441416,276.3296251679956,276.50884506174265,276.55602864414175,276.3225134643879,276.9467964525294,277.6147018087582,278.1344109209499,278.27388756896806,278.1752865321117,277.8845597901624,277.9179744149153,278.6963742694979,278.6919330490942,278.37782207370583,277.81935542262784,278.6316726673092,278.6713090994422,280.49569473312374,281.2467763417241,279.8093258810529,280.07454874644907,278.58326114992894,278.85072143373753,278.96206507526836,278.6428321401669,278.746703799215,278.201638958555,278.6374944686183,279.40611059731987,279.59721115580055,278.8085020200773,278.9974622508174,278.2776739276466,278.6048709884496,278.71520106498537,278.8748355544734,278.13592664699524,278.5630432311697,277.8350926053527,278.31068793076184,280.1407860685521,279.5340600927288,279.55602926376,279.38559525091125,279.0093227807234,279.08451134467765,278.344162618962,276.7390112354929,276.85511608305865,276.9763664968702,276.8855123491401,276.62653254324164,276.5841221745858,275.96504675347944,276.49895701512264,276.9622536332267,276.50544845094606,276.7646151264685,276.5459531889933,276.39601147567174,277.4337733351037,277.51897819838734,277.58904305439734,277.29801264503635,277.2520972993543,277.4536085371099,277.6734769516271,277.95940751492475,277.81034570534484,277.81889295920087,277.0775721926564,277.3296866670427,277.58066119684884,277.64493986485974,278.83162875259836,277.21665888522637,277.4465474191448,278.7867218582256,278.60970591229494,278.66820919336294,277.88056752166995,277.98182348926343,278.1285740830072,278.4886738024864,278.88374088858154,278.2137973135586,277.80881173347046,277.75204394179747,278.2836817368316,277.79849140298916,277.9227792584172,277.9391743345952,277.7019696248812,278.2808253792714,277.9678371349251,277.9277486437021,278.02545025127324,278.43883113937034,278.2935044495803,278.71490233563867,278.92974102310507,278.5924282651975,278.2124375925204,278.4909073790685,278.23065898106603,279.47958669678457,279.1724105188445,278.9022538449186,278.4152061580403,278.3243382200566,277.8976459332463,278.11767059076476,278.5488592357816,277.6655667952111,278.59993532454604,278.41098753758166,278.32368810834896,278.3652432022997,278.2982074663967,277.66983510964326,278.10499983999665,278.78364837612946,278.2506532168755,278.2315489181033,278.24221867078217,278.48227930607857,279.4134860394724,279.04350892693105,278.7733769941079,278.37739363404506,278.43434203416047,279.2978383573221,280.07845367240293,279.5842755382799,279.3238536468793,279.77115365256526,279.4230572430293,279.82390042362385,279.1151053560415,279.4458740085869,278.9932747214317,278.9745155162673,279.2843471137973,279.2927252012339,278.8066199672598,279.1370650239249,278.54882632191874,278.5047172283271,279.1441861112029,278.97087242819475,278.6660692785027,277.78679380395033,278.38347303184145,278.97367136823965,278.45280058827154,278.636790043083,278.4211743739819,277.7671440749191,278.2084829943154,279.20475438680785,278.05190320677997,278.3695478759229,278.44635767660316,278.92225221016594,279.9754149568187,280.38175353942887,279.0917368327514,278.4445604702203,279.093454535727,279.0952042979656,280.02943816117397,279.3952315016538,278.23210847070743,278.4155963319673,278.4740657731673,279.88858114937204,280.53320291543577,279.64740263116806,279.49223641452693,279.56710124866316,280.4378790398651,280.8192301939918,279.6287222867416,278.7441028108561,279.034362442724,278.88903700929154,281.498709384522,279.69839730716905,279.0518609472745,278.77845796986037,278.80788758185355,279.9339734383919,283.7182571179404,279.2709843863522,279.09224937414535,279.7117978798962,279.5198581954589,281.93441362567245,280.0589301407337,278.53691094853076,279.2358869692805,279.6241072939139,280.9088005122799,285.3391528293867,279.46972860983107,279.24937322298985,279.1999107993048,278.937900078165,284.29183549954945,281.3727106428492,279.7949025088534,279.5061680895965,279.2524498468311,278.74285817305446,280.38842308711287,278.39885646054313,278.22712324801097,278.35373333546954,278.6378998483695,286.7958600280353,281.28840194099615,278.7082235596327,278.91871292722186,279.09578846258404,281.40659581663465,285.8904811512981,279.5407734737583,279.07144715163537,279.12882679008413,278.7531806356557,289.8263963825057,281.562792761051,279.7941491965453,279.33785868940356,279.29408740349464,282.2021240487844,288.31496913733486,279.7501766863667,279.65665818901704,279.6021495060983,279.4481030645862,291.2197270060486,281.7503323431917,279.6505140874599,279.7911300818517,279.98621278822725,283.2568277779283,288.5438345058019,280.5662580743705,280.5466083857483,280.28497276231985,281.111902612993,284.3768539750121,282.29299217201907,282.56200214239107,281.7931094586504,282.3800531486341,286.3763784814069,296.25465216312426,281.92726823715117,284.5876661148983,285.1319174452606,285.8173679575296,302.15072138786627,288.77605132906785,286.8991518251731,287.97629696506357,288.03583163515196,290.71224449042205,301.951314878338,288.25749091477263,287.9673955038148,288.0469213066697,288.10469740955284,299.86131236932545,288.5791791846658,286.8428833937388,286.12083693801856,286.09018178722647,288.2016041504111,294.3580013970217,284.2300375301479,284.1360561274495,284.12216702874935,283.91943173352587,297.160949760705,285.00952733312033,285.86810551782617,284.90641349016056,283.9926359718002,286.802333858972,297.4980442054061,284.05848317072264,281.69923137272735,281.6039187843848,282.46471544756673,299.53724214601584,283.1880236738106,285.07018740541395,287.4295133345663,287.6913332436599,290.81264620229877,293.80485341611717,287.1234692801794,286.6081889159525,286.2677702576114,286.5146290797884,307.31779828328615,285.1143062663489,284.43096532687696,283.61048080153745,283.77408345780003,290.4184797412972,298.1670339289149,280.95387323057804,281.01976728881664,280.8871743358018,280.6242549911775,302.78443820026024,280.9740780055665,281.96559874915266,281.05535629722743,281.0994533130519,284.1625919173742,287.963812097789,282.05952348747275,282.1518576793412,282.22143841412014,281.99076863456526,302.57829916115634,281.50873270301554,281.69590498780275,281.61336487901866,281.94911236647795,292.3688598748007,294.49702455141363,280.8572348810753,280.7367379865959,280.67217844174615,280.21421971137494,321.22337510797814,279.65250402331196,280.81244990564545,280.73386801998384,280.4252605513674,291.22615637824987,297.47580521064936,284.2396667812266,283.69451864719764,283.0662343695049,282.0195708946429,310.8101609386534,281.57570738210984,282.76811183274117,282.31674185165645,281.2742823666325,293.88831321528517,299.28682425197405,284.2092950012065,284.56152540492707,283.35417802997574,282.4927311942724,305.98033346263924,282.7927661753599,282.00463322192087,282.57398431703325,282.59107960929805,291.532549022246,292.18970929496726,283.8861597111113,283.5614453768705,283.1392384469005,282.66272659914347,315.12238462789696,282.73002404093745,282.46837465693704,280.83294169687787,280.3781572958246,295.4215328058516,293.5472542922385,281.20521447538727,280.61171606868004,281.5944374935703,280.9536203277978,301.974367035542,281.7575618273089,281.25889004475056,281.9570358140121,281.93624099750184,289.66548522636305,286.56298951482336,283.29752240897795,283.855876576819,283.42106812605977,280.45976212129875,288.81586971685687,283.48877220919906,285.17379679710643,284.684699577781,284.04588926080686,291.63366167927984,291.9112445854746,279.28184105821134,278.89211186876884,278.4824384022003,281.66195287462864,288.02325655534975,279.22707094803485,280.14525490035936,279.66588729575636,282.26147219934984,285.9575638208808,284.45436779151476,281.7415090943732,282.0419223049896,281.47926649317895,281.71780143960706,301.8308555398894,284.3765420599625,282.8099217639381,282.9881768107638,284.1436357978991,303.68003592884776,291.79742631272944,283.7147129946528,284.10152021925455,283.4358553789153,282.91053849380216,287.5910697082474,282.0918501003158,281.50567888241073,281.69337243779904,281.77149518289036,291.1931442765794,284.3260855635795,284.23421922031207,284.4803974526297,283.8279879063415,284.5443188012045,304.9771614505996,282.51964666057165,282.3860144154267,282.25619051691876,281.85399106101755,304.8234801680229,287.6408581830842,280.7369050853465,281.65211810979355,281.94129098686574,281.3996072387168,308.7879650315952,281.40609439458365,281.1428919279471,280.67268995775385,280.49394457487745,300.8984336724294,284.06474536479203,282.1964962009042,281.74803396860506,280.6397760099224,280.9062787692579,304.35976292139014,283.57000365923824,283.5690877193232,283.4816641505271,282.1899777732789,309.5295253372693,285.247262443606,282.6370573819112,282.3332513753334,282.0299020992112,281.81034345869637,290.02589179701965,280.915818805761,280.0709251014279,279.4733715966366,279.14313798982215,287.4533512045408,284.7358910708311,280.1458218412411,280.5510594625028,280.27386482481324,280.76379676469827,320.4492977859857,280.00270328353446,281.07683633774514,281.04345261794157,280.78569228712996,300.41999279179936,284.7671119347185,282.73215332101296,283.06735302404064,282.63026388149433,282.08889481127846,309.6120002566704,281.1735717776047,281.06829683222196,280.58441071659763,280.36784727429966,304.2989241833751,282.07509428453557,280.2198378858141,279.8669919732223,279.6055659803467,280.4578923394676,307.26624662079513,279.9447848889022,280.6250467461922,280.76978734939047,280.78490278654743,308.6811078301888,284.19759694913,275.624980457044,273.3933183847009,274.0618741867668,275.5143395380327,296.0791762069273,281.62237816535753,281.7296770090126,283.19649077003686,282.2885946173045,290.4536976015684,284.8327604622617,283.1787075499536,281.7124199499458,281.27755477622804,280.61231344692334,315.5704946953912,277.14867118715796,277.39416014373273,278.24641518459555,278.90026726456597,298.9127557452566,280.0717822601417,280.03552394322156,280.8731719283048,280.84668901775325,281.808770053807,309.8286225612899,284.7778896214566,285.0839482060152,284.2104812435305,284.262124212268,323.5899534203461,286.48374632582676,283.7982910097303,283.8479678152425,283.8162991309601,287.49416647405724,321.53024203452867,283.89931732704343,284.5438347369428,283.4472667671739,282.6810954485702,338.35697381483175,284.7735572180083,283.6647756256777,283.86968353422867,283.5694292625159,288.31990619616846,306.9471992324749,283.397639271319,284.4006172099502,283.1475607681321,283.75568751308435,328.4571795741539,284.7080783593639,283.68327302362275,283.84061557368165,284.2180633648571,293.69649260298394,323.581640595364,279.5663377934459,279.40595913424875,278.5933822965558,279.2577291227081,299.8950075254303,281.3788019233051,279.9328127484811,281.0822750651254,280.55845307046974,288.5646112606272,291.33571167197636,281.3885008339391,280.96192667137285,281.6838931382866,282.73576332884267,336.0859576755964,281.3198515789957,282.7515032638051,285.0731572856552,284.2647748482563,293.7178541045189,311.0351560313905,283.89310941983973,284.96325993734246,284.8995784112687,283.41840552439885,333.59953226709223,285.2210541591327,283.2828604108342,282.5700760296201,283.1468074373446,287.6093958631733,305.5220738573873,283.9190757008445,283.49911710622223,283.05667990129626,282.64618855099684,313.9801169787241,283.20383191748306,282.8100708101471,282.69238618580334,282.8158346052063,303.3510991514957,321.40511667324074,282.3922906510975,282.66891978333564,282.64157239703735,282.4428991036361,315.3746821127726,282.77736807268946,280.85470275932363,281.5227705702218,281.2960609276522,305.11676709719427,317.28433559485023,281.92424781287855,282.4589422482277,281.2064694242838,282.5116543478622,330.5059220948227,282.8899830766001,282.2141402822907,281.91532502387895,282.1855256671147,313.52144794708664,335.90595535037875,280.56670494661563,279.469881657501,278.7618768696215,280.7881977303109,319.14197663392355,282.5001102666829,281.69890913941146,281.35249959993183,281.18304258537245,319.91121695980723,320.04100806581283,282.16767390174556,282.20887285380485,281.7444216703088,281.60001128903536,327.853414484936,282.3689291275767,280.8280091320221,280.56961146516704,280.5901366887412,313.08389183382445,322.7021365986795,281.3782488808632,282.0692078788182,282.08377692657666,281.3686736264197,353.366566790168,279.6878383797517,279.63930662778444,279.5474650729807,278.0908657265353,304.9716591180255,289.46486154194434,283.4845201203213,283.13309789372903,283.80955604710374,284.0541102367073,327.31221319920854,282.9099560660785,282.9265511374042,282.71834142532424,282.66046667708974,337.11415273756336,319.1135076834557,282.32641357102557,281.7686527569232,280.78748869942143,281.6288369086382,332.00612590146045,282.40079499968266,281.5815100684313,280.9391038626507,281.09244484804606,349.63701632805163,355.68641932863954,279.00433120303745,279.5137286530518,279.1980850280281,283.8034873201528,332.8459449291841,280.27122897170676,281.90900320162143,281.27961025008307,278.69271859600434,302.66298687394334,301.84875588553615,282.6089069602973,283.0069991873885,283.6376981099141,291.9788998497196,446.68400454695706,282.1553252240159,281.5263194005117,279.5276481029643,279.66237185154415,335.3706314991653,353.43484061037043,280.3477356564607,279.6208212664044,278.7476388713338,296.012842650487,351.5217731402461,281.27991940115373,281.38047901593825,281.78946336071397,280.6208356210128,356.3675990933944,300.3687201048811,282.0400032462861,283.73915780110076,283.45143064277545,288.01892680518756,307.0087475458401,285.10731930273744,285.18225102128605,284.745485133253,283.7411722430166,311.3176413261089,310.4864300009803,284.69144830981475,280.4158024634641,280.8221092304309,298.82946909520086,338.7595671708328,279.604428697435,278.5759065608095,278.66368748510035,278.27245022312593,345.23163693613884,321.1117605213857,278.41709454489495,278.4844217794735,278.17031943500996,301.92873315129924,336.95921246772326,277.4513134260136,279.25595605940254,277.41688073522033,278.7700118644627,350.4672206665412,326.7801654920238,280.4995244588251,280.42730692397623,280.1551979365295,306.3861800974041,342.6114264679294,282.4699666695237,282.1139216730747,280.64235376777583,280.5098900263687,334.29914171584187,314.36005025115355,280.37201544932003,279.2495101409676,278.9542112011038,324.41332691956194,378.4071762418711,279.98876677082234,280.7138042775607,280.45587133728384,277.5702827869852,335.62633790410615,314.3923830047204,280.67139725734313,278.7350721719249,276.72134235252133,313.15679200739044,362.3356186806723,280.19271839430263,280.6571662358242,279.9386532627525,281.75204380204053,327.30343658637474,304.23384954834887,284.521332609364,285.2011267431765,284.2392898246355,307.3941681448229,354.48180966849475,282.98730771988403,282.5389171286222,281.21977701943786,279.89966874609706,359.36989729025106,313.1363181887538,280.0347251855883,280.55412671362706,280.46203736610215,398.3069443605311,343.82176172988,278.9867466978322,280.1818211877965,279.69988370351984,279.5959787159449,351.7506303650327,321.9513297634805,282.9636280699438,282.2499964499144,282.0832430728805,357.68645915204996,401.5892451136649,281.4849657265122,281.7232486426779]}},\"id\":\"b201ce55-5984-4edb-bcc4-e1b8d1a61752\",\"type\":\"ColumnDataSource\"},{\"attributes\":{\"months\":[0,1,2,3,4,5,6,7,8,9,10,11]},\"id\":\"c8e96a39-d37b-4cbe-b908-a686821f3fd4\",\"type\":\"MonthsTicker\"},{\"attributes\":{\"below\":[{\"id\":\"6ca91e57-226b-47df-8436-bd829d90334f\",\"type\":\"DatetimeAxis\"}],\"left\":[{\"id\":\"8cb9855c-00ef-4535-8164-5c07781fb2fa\",\"type\":\"LinearAxis\"}],\"plot_height\":400,\"plot_width\":800,\"renderers\":[{\"id\":\"6ca91e57-226b-47df-8436-bd829d90334f\",\"type\":\"DatetimeAxis\"},{\"id\":\"2f63d1be-5c28-4e93-87d5-2ed26d7fa1b0\",\"type\":\"Grid\"},{\"id\":\"8cb9855c-00ef-4535-8164-5c07781fb2fa\",\"type\":\"LinearAxis\"},{\"id\":\"58c543bb-3e53-45e1-91c8-71109a4db7ae\",\"type\":\"Grid\"},{\"id\":\"9fb50f39-961d-4015-bd2c-de99d257d69e\",\"type\":\"BoxAnnotation\"},{\"id\":\"da7a4849-ae07-4715-9293-53b6719e7819\",\"type\":\"GlyphRenderer\"}],\"title\":{\"id\":\"b6b4549b-6cdd-4001-970f-c7a8ddb28aff\",\"type\":\"Title\"},\"toolbar\":{\"id\":\"51a4b74c-1ccc-4f70-ba5c-04cfcdc9c5f6\",\"type\":\"Toolbar\"},\"x_range\":{\"id\":\"94772b7f-5c45-4581-830e-72c3a6d8d85e\",\"type\":\"DataRange1d\"},\"x_scale\":{\"id\":\"eafe3ec7-d1be-486a-b3b9-e555a450fef7\",\"type\":\"LinearScale\"},\"y_range\":{\"id\":\"93f93732-8df3-497b-b365-fca3165753d7\",\"type\":\"DataRange1d\"},\"y_scale\":{\"id\":\"051ebbff-c185-4e7e-808a-d4ac1513bdb4\",\"type\":\"LinearScale\"}},\"id\":\"d9c30b5f-dab0-450c-a241-be2532ef5e3d\",\"subtype\":\"Figure\",\"type\":\"Plot\"},{\"attributes\":{\"months\":[0,2,4,6,8,10]},\"id\":\"3ba81b60-d4c7-4631-b02d-057b977633ed\",\"type\":\"MonthsTicker\"},{\"attributes\":{\"months\":[0,4,8]},\"id\":\"319cc0cf-996f-4432-af05-e36ba1e04fad\",\"type\":\"MonthsTicker\"},{\"attributes\":{\"plot\":null,\"text\":\"Global Irminger Sea Apex Surface Mooring - Near Surface Instrument Frame - Dissolved Oxygen\"},\"id\":\"b6b4549b-6cdd-4001-970f-c7a8ddb28aff\",\"type\":\"Title\"},{\"attributes\":{\"months\":[0,6]},\"id\":\"bf3a803d-0de1-404d-b685-a41694b9aa14\",\"type\":\"MonthsTicker\"},{\"attributes\":{\"callback\":null},\"id\":\"94772b7f-5c45-4581-830e-72c3a6d8d85e\",\"type\":\"DataRange1d\"},{\"attributes\":{},\"id\":\"4a7b1b26-a3fb-4552-b69d-66aa70b2c859\",\"type\":\"YearsTicker\"},{\"attributes\":{\"active_drag\":\"auto\",\"active_inspect\":\"auto\",\"active_scroll\":\"auto\",\"active_tap\":\"auto\",\"tools\":[{\"id\":\"73661720-9499-4fdf-b29b-eaa1da48eb41\",\"type\":\"PanTool\"},{\"id\":\"76b5b369-88ab-4923-a790-379238f02330\",\"type\":\"WheelZoomTool\"},{\"id\":\"fe635adf-58eb-42c8-b577-283421067bc8\",\"type\":\"BoxZoomTool\"},{\"id\":\"b958120d-a3c2-4c83-b260-ffb73578d7eb\",\"type\":\"SaveTool\"},{\"id\":\"3e92e127-b7eb-4b74-b314-b5ee64573f3e\",\"type\":\"ResetTool\"},{\"id\":\"69cf3594-d498-4134-8a46-6a68c2da2c28\",\"type\":\"HelpTool\"}]},\"id\":\"51a4b74c-1ccc-4f70-ba5c-04cfcdc9c5f6\",\"type\":\"Toolbar\"},{\"attributes\":{\"dimension\":1,\"plot\":{\"id\":\"d9c30b5f-dab0-450c-a241-be2532ef5e3d\",\"subtype\":\"Figure\",\"type\":\"Plot\"},\"ticker\":{\"id\":\"0ad35860-5c13-4c48-a258-51a8acb889d6\",\"type\":\"BasicTicker\"}},\"id\":\"58c543bb-3e53-45e1-91c8-71109a4db7ae\",\"type\":\"Grid\"},{\"attributes\":{},\"id\":\"eafe3ec7-d1be-486a-b3b9-e555a450fef7\",\"type\":\"LinearScale\"},{\"attributes\":{\"callback\":null},\"id\":\"93f93732-8df3-497b-b365-fca3165753d7\",\"type\":\"DataRange1d\"},{\"attributes\":{\"num_minor_ticks\":5,\"tickers\":[{\"id\":\"89693c50-b2a0-47f3-8152-3ecc67e95ff6\",\"type\":\"AdaptiveTicker\"},{\"id\":\"042970e4-fbd7-4c9b-858e-c7bde86f6331\",\"type\":\"AdaptiveTicker\"},{\"id\":\"f2e88395-01dc-4eea-817c-020a347e1468\",\"type\":\"AdaptiveTicker\"},{\"id\":\"c8ef78bd-4211-43fa-8ac6-2136358d3e62\",\"type\":\"DaysTicker\"},{\"id\":\"e7a32409-1036-4bc7-bca4-732062705abb\",\"type\":\"DaysTicker\"},{\"id\":\"19896a59-90f1-4104-b3b6-361bc19cd265\",\"type\":\"DaysTicker\"},{\"id\":\"2733abbc-5ccb-48e7-bdd3-d21cd3bb65c6\",\"type\":\"DaysTicker\"},{\"id\":\"c8e96a39-d37b-4cbe-b908-a686821f3fd4\",\"type\":\"MonthsTicker\"},{\"id\":\"3ba81b60-d4c7-4631-b02d-057b977633ed\",\"type\":\"MonthsTicker\"},{\"id\":\"319cc0cf-996f-4432-af05-e36ba1e04fad\",\"type\":\"MonthsTicker\"},{\"id\":\"bf3a803d-0de1-404d-b685-a41694b9aa14\",\"type\":\"MonthsTicker\"},{\"id\":\"4a7b1b26-a3fb-4552-b69d-66aa70b2c859\",\"type\":\"YearsTicker\"}]},\"id\":\"0e4704cd-21f0-4a50-a842-0a14836d2a8c\",\"type\":\"DatetimeTicker\"},{\"attributes\":{},\"id\":\"051ebbff-c185-4e7e-808a-d4ac1513bdb4\",\"type\":\"LinearScale\"},{\"attributes\":{\"fill_alpha\":{\"value\":0.1},\"fill_color\":{\"value\":\"#1f77b4\"},\"line_alpha\":{\"value\":0.1},\"line_color\":{\"value\":\"#1f77b4\"},\"x\":{\"field\":\"x\"},\"y\":{\"field\":\"y\"}},\"id\":\"06709b2e-5332-4dc5-b5bb-bb5d8c694e85\",\"type\":\"Circle\"},{\"attributes\":{\"plot\":{\"id\":\"d9c30b5f-dab0-450c-a241-be2532ef5e3d\",\"subtype\":\"Figure\",\"type\":\"Plot\"},\"ticker\":{\"id\":\"0e4704cd-21f0-4a50-a842-0a14836d2a8c\",\"type\":\"DatetimeTicker\"}},\"id\":\"2f63d1be-5c28-4e93-87d5-2ed26d7fa1b0\",\"type\":\"Grid\"},{\"attributes\":{\"data_source\":{\"id\":\"b201ce55-5984-4edb-bcc4-e1b8d1a61752\",\"type\":\"ColumnDataSource\"},\"glyph\":{\"id\":\"e1ad626f-3062-4839-b6f5-847d7f6afdc2\",\"type\":\"Circle\"},\"hover_glyph\":null,\"muted_glyph\":null,\"nonselection_glyph\":{\"id\":\"06709b2e-5332-4dc5-b5bb-bb5d8c694e85\",\"type\":\"Circle\"},\"selection_glyph\":null,\"view\":{\"id\":\"a4156e77-b627-4606-84c4-75d7d51d50f8\",\"type\":\"CDSView\"}},\"id\":\"da7a4849-ae07-4715-9293-53b6719e7819\",\"type\":\"GlyphRenderer\"},{\"attributes\":{\"axis_label\":\"Time (GMT)\",\"formatter\":{\"id\":\"edef9ad6-2995-4cb7-992a-7e9da0043c33\",\"type\":\"DatetimeTickFormatter\"},\"plot\":{\"id\":\"d9c30b5f-dab0-450c-a241-be2532ef5e3d\",\"subtype\":\"Figure\",\"type\":\"Plot\"},\"ticker\":{\"id\":\"0e4704cd-21f0-4a50-a842-0a14836d2a8c\",\"type\":\"DatetimeTicker\"}},\"id\":\"6ca91e57-226b-47df-8436-bd829d90334f\",\"type\":\"DatetimeAxis\"},{\"attributes\":{\"fill_alpha\":{\"value\":0.2},\"fill_color\":{\"value\":\"white\"},\"line_color\":{\"value\":\"#1f77b4\"},\"x\":{\"field\":\"x\"},\"y\":{\"field\":\"y\"}},\"id\":\"e1ad626f-3062-4839-b6f5-847d7f6afdc2\",\"type\":\"Circle\"},{\"attributes\":{},\"id\":\"d4a7ab09-778c-4bef-be6a-2962753d6f89\",\"type\":\"BasicTickFormatter\"},{\"attributes\":{\"axis_label\":\"Dissolved Oxygen (umol kg-1)\",\"formatter\":{\"id\":\"d4a7ab09-778c-4bef-be6a-2962753d6f89\",\"type\":\"BasicTickFormatter\"},\"plot\":{\"id\":\"d9c30b5f-dab0-450c-a241-be2532ef5e3d\",\"subtype\":\"Figure\",\"type\":\"Plot\"},\"ticker\":{\"id\":\"0ad35860-5c13-4c48-a258-51a8acb889d6\",\"type\":\"BasicTicker\"}},\"id\":\"8cb9855c-00ef-4535-8164-5c07781fb2fa\",\"type\":\"LinearAxis\"},{\"attributes\":{},\"id\":\"0ad35860-5c13-4c48-a258-51a8acb889d6\",\"type\":\"BasicTicker\"}],\"root_ids\":[\"d9c30b5f-dab0-450c-a241-be2532ef5e3d\"]},\"title\":\"Bokeh Application\",\"version\":\"0.12.14\"}};\n",
       "  var render_items = [{\"docid\":\"522cc65d-5330-4423-946f-2feb0e1818aa\",\"elementid\":\"bce035b2-890e-4a5d-9f40-af25b9d582fe\",\"modelid\":\"d9c30b5f-dab0-450c-a241-be2532ef5e3d\"}];\n",
       "  root.Bokeh.embed.embed_items_notebook(docs_json, render_items);\n",
       "\n",
       "  }\n",
       "  if (root.Bokeh !== undefined) {\n",
       "    embed_document(root);\n",
       "  } else {\n",
       "    var attempts = 0;\n",
       "    var timer = setInterval(function(root) {\n",
       "      if (root.Bokeh !== undefined) {\n",
       "        embed_document(root);\n",
       "        clearInterval(timer);\n",
       "      }\n",
       "      attempts++;\n",
       "      if (attempts > 100) {\n",
       "        console.log(\"Bokeh: ERROR: Unable to run BokehJS code because BokehJS library is missing\")\n",
       "        clearInterval(timer);\n",
       "      }\n",
       "    }, 10, root)\n",
       "  }\n",
       "})(window);"
      ],
      "application/vnd.bokehjs_exec.v0+json": ""
     },
     "metadata": {
      "application/vnd.bokehjs_exec.v0+json": {
       "id": "d9c30b5f-dab0-450c-a241-be2532ef5e3d"
      }
     },
     "output_type": "display_data"
    }
   ],
   "source": [
    "p = figure(width=800,\n",
    "           height=400,\n",
    "           title='Global Irminger Sea Apex Surface Mooring - Near Surface Instrument Frame - Dissolved Oxygen',\n",
    "           x_axis_label='Time (GMT)',\n",
    "           y_axis_label='Dissolved Oxygen (umol kg-1)',\n",
    "           x_axis_type='datetime')\n",
    "\n",
    "p.circle(time, oxygen, fill_color='white', fill_alpha=0.2, size=4)\n",
    "output_notebook()\n",
    "show(p)"
   ]
  },
  {
   "cell_type": "markdown",
   "metadata": {
    "colab_type": "text",
    "id": "y8ZtQuKwOkXa"
   },
   "source": [
    "Extract only the qc results."
   ]
  },
  {
   "cell_type": "code",
   "execution_count": 13,
   "metadata": {
    "colab": {
     "autoexec": {
      "startup": false,
      "wait_interval": 0
     }
    },
    "colab_type": "code",
    "id": "zVAct0znOkXb",
    "outputId": "44666e06-4679-4f5d-8dc9-e70f68615246"
   },
   "outputs": [
    {
     "data": {
      "text/html": [
       "<div>\n",
       "<style scoped>\n",
       "    .dataframe tbody tr th:only-of-type {\n",
       "        vertical-align: middle;\n",
       "    }\n",
       "\n",
       "    .dataframe tbody tr th {\n",
       "        vertical-align: top;\n",
       "    }\n",
       "\n",
       "    .dataframe thead th {\n",
       "        text-align: right;\n",
       "    }\n",
       "</style>\n",
       "<table border=\"1\" class=\"dataframe\">\n",
       "  <thead>\n",
       "    <tr style=\"text-align: right;\">\n",
       "      <th></th>\n",
       "      <th>time</th>\n",
       "      <th>dissolved_oxygen</th>\n",
       "      <th>dissolved_oxygen_qc_results</th>\n",
       "      <th>dissolved_oxygen_qc_executed</th>\n",
       "    </tr>\n",
       "  </thead>\n",
       "  <tbody>\n",
       "    <tr>\n",
       "      <th>0</th>\n",
       "      <td>2015-09-01 01:01:00.025000095</td>\n",
       "      <td>280.942387</td>\n",
       "      <td>29</td>\n",
       "      <td>29</td>\n",
       "    </tr>\n",
       "    <tr>\n",
       "      <th>1</th>\n",
       "      <td>2015-09-01 01:01:02.025000095</td>\n",
       "      <td>280.709263</td>\n",
       "      <td>29</td>\n",
       "      <td>29</td>\n",
       "    </tr>\n",
       "    <tr>\n",
       "      <th>2</th>\n",
       "      <td>2015-09-01 05:18:02.059999943</td>\n",
       "      <td>280.461004</td>\n",
       "      <td>29</td>\n",
       "      <td>29</td>\n",
       "    </tr>\n",
       "    <tr>\n",
       "      <th>3</th>\n",
       "      <td>2015-09-01 09:45:41.532999992</td>\n",
       "      <td>280.345899</td>\n",
       "      <td>29</td>\n",
       "      <td>29</td>\n",
       "    </tr>\n",
       "    <tr>\n",
       "      <th>4</th>\n",
       "      <td>2015-09-01 14:03:01.414999962</td>\n",
       "      <td>280.418900</td>\n",
       "      <td>29</td>\n",
       "      <td>29</td>\n",
       "    </tr>\n",
       "  </tbody>\n",
       "</table>\n",
       "</div>"
      ],
      "text/plain": [
       "                           time  dissolved_oxygen  \\\n",
       "0 2015-09-01 01:01:00.025000095        280.942387   \n",
       "1 2015-09-01 01:01:02.025000095        280.709263   \n",
       "2 2015-09-01 05:18:02.059999943        280.461004   \n",
       "3 2015-09-01 09:45:41.532999992        280.345899   \n",
       "4 2015-09-01 14:03:01.414999962        280.418900   \n",
       "\n",
       "   dissolved_oxygen_qc_results  dissolved_oxygen_qc_executed  \n",
       "0                           29                            29  \n",
       "1                           29                            29  \n",
       "2                           29                            29  \n",
       "3                           29                            29  \n",
       "4                           29                            29  "
      ]
     },
     "execution_count": 13,
     "metadata": {},
     "output_type": "execute_result"
    }
   ],
   "source": [
    "df = df[['time', 'dissolved_oxygen','dissolved_oxygen_qc_results','dissolved_oxygen_qc_executed']]\n",
    "df.head()"
   ]
  },
  {
   "cell_type": "markdown",
   "metadata": {
    "colab_type": "text",
    "id": "D0FhDyjIOkXc"
   },
   "source": [
    "The QC flags for all tests are OR'd together to produce a single value for each data point. So, given a qc_executed value of 29 we can see which tests were run by reversing the process:  \n",
    "\n",
    "QC table\n",
    "```\n",
    "Test name              Bit position\n",
    "                         15 14 13 12 11 10  9  8  7  6  5  4  3  2  1  0\n",
    "global_range_test         0  0  0  0  0  0  0  0  0  0  0  0  0  0  0  1\n",
    "dataqc_localrangetest     0  0  0  0  0  0  0  0  0  0  0  0  0  0  1  0\n",
    "dataqc_spiketest          0  0  0  0  0  0  0  0  0  0  0  0  0  1  0  0\n",
    "dataqc_polytrendtest      0  0  0  0  0  0  0  0  0  0  0  0  1  0  0  0\n",
    "dataqc_stuckvaluetest     0  0  0  0  0  0  0  0  0  0  0  1  0  0  0  0\n",
    "dataqc_gradienttest       0  0  0  0  0  0  0  0  0  0  1  0  0  0  0  0\n",
    "dataqc_propagateflags     0  0  0  0  0  0  0  0  1  0  0  0  0  0  0  0\n",
    "```\n",
    "\n"
   ]
  },
  {
   "cell_type": "code",
   "execution_count": 14,
   "metadata": {
    "colab": {
     "autoexec": {
      "startup": false,
      "wait_interval": 0
     }
    },
    "colab_type": "code",
    "id": "DF74wCMgOkXd",
    "outputId": "ae79ce9b-470a-488b-b63d-cc1ad323d0ae"
   },
   "outputs": [
    {
     "data": {
      "text/plain": [
       "array([0, 0, 0, 1, 1, 1, 0, 1], dtype=uint8)"
      ]
     },
     "execution_count": 14,
     "metadata": {},
     "output_type": "execute_result"
    }
   ],
   "source": [
    "np.unpackbits(np.array(29).astype('uint8'))"
   ]
  },
  {
   "cell_type": "markdown",
   "metadata": {
    "colab_type": "text",
    "id": "2a8HleGkOkXf"
   },
   "source": [
    "If you compare this result to the table above you can see that the following tests were executed:\n",
    "\n",
    "```\n",
    "global_range_test\n",
    "dataqc_spiketest\n",
    "dataqc_polytrendtest\n",
    "dataqc_stuckvaluetest\n",
    "```\n",
    "\n",
    "We can craft a function to create new booleans variables for each test run containing the pass/fail results from that test:"
   ]
  },
  {
   "cell_type": "code",
   "execution_count": 15,
   "metadata": {
    "colab": {
     "autoexec": {
      "startup": false,
      "wait_interval": 0
     }
    },
    "colab_type": "code",
    "id": "assFI-_5OkXf"
   },
   "outputs": [],
   "source": [
    "def parse_qc(df):\n",
    "    vars = [x.split('_qc_results')[0] for x in df.columns if 'qc_results' in x]\n",
    "    results = [x+'_qc_results' for x in vars]\n",
    "    executed = [x+'_qc_executed' for x in vars]\n",
    "    key_list = vars + results + executed\n",
    "\n",
    "    for var in vars:\n",
    "        qc_result = var + '_qc_results'\n",
    "        qc_executed = var + '_qc_executed'\n",
    "        names = {\n",
    "            0: var + '_global_range_test',\n",
    "            1: var + '_dataqc_localrangetest',\n",
    "            2: var + '_dataqc_spiketest',\n",
    "            3: var + '_dataqc_polytrendtest',\n",
    "            4: var + '_dataqc_stuckvaluetest',\n",
    "            5: var + '_dataqc_gradienttest',\n",
    "            7: var + '_dataqc_propagateflags',\n",
    "        }\n",
    "        # Just in case a different set of tests were run on some datapoint. *This should never happen*\n",
    "        executed = np.bitwise_or.reduce(df[qc_executed].values)\n",
    "        executed_bits = np.unpackbits(executed.astype('uint8'))\n",
    "        for index, value in enumerate(executed_bits[::-1]):\n",
    "            if value:\n",
    "                name = names.get(index)\n",
    "                mask = 2 ** index\n",
    "                values = (df[qc_result].values & mask) > 0\n",
    "                df[name] = values\n",
    "        df.drop([qc_executed, qc_result], axis=1, inplace=True)\n",
    "    return df"
   ]
  },
  {
   "cell_type": "markdown",
   "metadata": {
    "colab_type": "text",
    "id": "aypkhuJyOkXg"
   },
   "source": [
    "Run the function. The result gives us the QC algorithm result for every data point. True = test passed."
   ]
  },
  {
   "cell_type": "code",
   "execution_count": 16,
   "metadata": {
    "colab": {
     "autoexec": {
      "startup": false,
      "wait_interval": 0
     }
    },
    "colab_type": "code",
    "id": "I-SvHb7-OkXh",
    "outputId": "72cde0d1-ea8c-4ffd-c528-347d5d68aff1"
   },
   "outputs": [
    {
     "data": {
      "text/html": [
       "<div>\n",
       "<style scoped>\n",
       "    .dataframe tbody tr th:only-of-type {\n",
       "        vertical-align: middle;\n",
       "    }\n",
       "\n",
       "    .dataframe tbody tr th {\n",
       "        vertical-align: top;\n",
       "    }\n",
       "\n",
       "    .dataframe thead th {\n",
       "        text-align: right;\n",
       "    }\n",
       "</style>\n",
       "<table border=\"1\" class=\"dataframe\">\n",
       "  <thead>\n",
       "    <tr style=\"text-align: right;\">\n",
       "      <th></th>\n",
       "      <th>time</th>\n",
       "      <th>dissolved_oxygen</th>\n",
       "      <th>dissolved_oxygen_global_range_test</th>\n",
       "      <th>dissolved_oxygen_dataqc_spiketest</th>\n",
       "      <th>dissolved_oxygen_dataqc_polytrendtest</th>\n",
       "      <th>dissolved_oxygen_dataqc_stuckvaluetest</th>\n",
       "    </tr>\n",
       "  </thead>\n",
       "  <tbody>\n",
       "    <tr>\n",
       "      <th>0</th>\n",
       "      <td>2015-09-01 01:01:00.025000095</td>\n",
       "      <td>280.942387</td>\n",
       "      <td>True</td>\n",
       "      <td>True</td>\n",
       "      <td>True</td>\n",
       "      <td>True</td>\n",
       "    </tr>\n",
       "    <tr>\n",
       "      <th>1</th>\n",
       "      <td>2015-09-01 01:01:02.025000095</td>\n",
       "      <td>280.709263</td>\n",
       "      <td>True</td>\n",
       "      <td>True</td>\n",
       "      <td>True</td>\n",
       "      <td>True</td>\n",
       "    </tr>\n",
       "    <tr>\n",
       "      <th>2</th>\n",
       "      <td>2015-09-01 05:18:02.059999943</td>\n",
       "      <td>280.461004</td>\n",
       "      <td>True</td>\n",
       "      <td>True</td>\n",
       "      <td>True</td>\n",
       "      <td>True</td>\n",
       "    </tr>\n",
       "    <tr>\n",
       "      <th>3</th>\n",
       "      <td>2015-09-01 09:45:41.532999992</td>\n",
       "      <td>280.345899</td>\n",
       "      <td>True</td>\n",
       "      <td>True</td>\n",
       "      <td>True</td>\n",
       "      <td>True</td>\n",
       "    </tr>\n",
       "    <tr>\n",
       "      <th>4</th>\n",
       "      <td>2015-09-01 14:03:01.414999962</td>\n",
       "      <td>280.418900</td>\n",
       "      <td>True</td>\n",
       "      <td>True</td>\n",
       "      <td>True</td>\n",
       "      <td>True</td>\n",
       "    </tr>\n",
       "  </tbody>\n",
       "</table>\n",
       "</div>"
      ],
      "text/plain": [
       "                           time  dissolved_oxygen  \\\n",
       "0 2015-09-01 01:01:00.025000095        280.942387   \n",
       "1 2015-09-01 01:01:02.025000095        280.709263   \n",
       "2 2015-09-01 05:18:02.059999943        280.461004   \n",
       "3 2015-09-01 09:45:41.532999992        280.345899   \n",
       "4 2015-09-01 14:03:01.414999962        280.418900   \n",
       "\n",
       "   dissolved_oxygen_global_range_test  dissolved_oxygen_dataqc_spiketest  \\\n",
       "0                                True                               True   \n",
       "1                                True                               True   \n",
       "2                                True                               True   \n",
       "3                                True                               True   \n",
       "4                                True                               True   \n",
       "\n",
       "   dissolved_oxygen_dataqc_polytrendtest  \\\n",
       "0                                   True   \n",
       "1                                   True   \n",
       "2                                   True   \n",
       "3                                   True   \n",
       "4                                   True   \n",
       "\n",
       "   dissolved_oxygen_dataqc_stuckvaluetest  \n",
       "0                                    True  \n",
       "1                                    True  \n",
       "2                                    True  \n",
       "3                                    True  \n",
       "4                                    True  "
      ]
     },
     "execution_count": 16,
     "metadata": {},
     "output_type": "execute_result"
    }
   ],
   "source": [
    "df_qc = parse_qc(df)\n",
    "df_qc.head()"
   ]
  },
  {
   "cell_type": "markdown",
   "metadata": {
    "colab_type": "text",
    "id": "ZHZKmHSeOkXi"
   },
   "source": [
    "Select data points that failed the global range test, for example."
   ]
  },
  {
   "cell_type": "code",
   "execution_count": 17,
   "metadata": {
    "colab": {
     "autoexec": {
      "startup": false,
      "wait_interval": 0
     }
    },
    "colab_type": "code",
    "id": "rMRSqKejOkXi",
    "outputId": "355ee6a9-9b6a-41cc-8605-b73904b41f06"
   },
   "outputs": [
    {
     "data": {
      "text/html": [
       "<div>\n",
       "<style scoped>\n",
       "    .dataframe tbody tr th:only-of-type {\n",
       "        vertical-align: middle;\n",
       "    }\n",
       "\n",
       "    .dataframe tbody tr th {\n",
       "        vertical-align: top;\n",
       "    }\n",
       "\n",
       "    .dataframe thead th {\n",
       "        text-align: right;\n",
       "    }\n",
       "</style>\n",
       "<table border=\"1\" class=\"dataframe\">\n",
       "  <thead>\n",
       "    <tr style=\"text-align: right;\">\n",
       "      <th></th>\n",
       "      <th>time</th>\n",
       "      <th>dissolved_oxygen</th>\n",
       "      <th>dissolved_oxygen_global_range_test</th>\n",
       "      <th>dissolved_oxygen_dataqc_spiketest</th>\n",
       "      <th>dissolved_oxygen_dataqc_polytrendtest</th>\n",
       "      <th>dissolved_oxygen_dataqc_stuckvaluetest</th>\n",
       "    </tr>\n",
       "  </thead>\n",
       "  <tbody>\n",
       "    <tr>\n",
       "      <th>888</th>\n",
       "      <td>2016-02-09 15:18:01.062999725</td>\n",
       "      <td>446.684005</td>\n",
       "      <td>False</td>\n",
       "      <td>True</td>\n",
       "      <td>True</td>\n",
       "      <td>True</td>\n",
       "    </tr>\n",
       "    <tr>\n",
       "      <th>998</th>\n",
       "      <td>2016-02-29 16:16:19.687999725</td>\n",
       "      <td>401.589245</td>\n",
       "      <td>False</td>\n",
       "      <td>True</td>\n",
       "      <td>True</td>\n",
       "      <td>True</td>\n",
       "    </tr>\n",
       "  </tbody>\n",
       "</table>\n",
       "</div>"
      ],
      "text/plain": [
       "                             time  dissolved_oxygen  \\\n",
       "888 2016-02-09 15:18:01.062999725        446.684005   \n",
       "998 2016-02-29 16:16:19.687999725        401.589245   \n",
       "\n",
       "     dissolved_oxygen_global_range_test  dissolved_oxygen_dataqc_spiketest  \\\n",
       "888                               False                               True   \n",
       "998                               False                               True   \n",
       "\n",
       "     dissolved_oxygen_dataqc_polytrendtest  \\\n",
       "888                                   True   \n",
       "998                                   True   \n",
       "\n",
       "     dissolved_oxygen_dataqc_stuckvaluetest  \n",
       "888                                    True  \n",
       "998                                    True  "
      ]
     },
     "execution_count": 17,
     "metadata": {},
     "output_type": "execute_result"
    }
   ],
   "source": [
    "df_qc[df_qc['dissolved_oxygen_global_range_test'] == False]"
   ]
  },
  {
   "cell_type": "markdown",
   "metadata": {
    "colab_type": "text",
    "id": "Ab95DaTMOkXk"
   },
   "source": [
    "Plot points that failed the test in red."
   ]
  },
  {
   "cell_type": "code",
   "execution_count": 19,
   "metadata": {
    "colab": {
     "autoexec": {
      "startup": false,
      "wait_interval": 0
     }
    },
    "colab_type": "code",
    "id": "tK1YQxr6OkXk"
   },
   "outputs": [],
   "source": [
    "colormap = {False: 'red', True: 'green'}\n",
    "colors = [colormap[x] for x in df_qc['dissolved_oxygen_global_range_test']]"
   ]
  },
  {
   "cell_type": "code",
   "execution_count": 20,
   "metadata": {
    "colab": {
     "autoexec": {
      "startup": false,
      "wait_interval": 0
     }
    },
    "colab_type": "code",
    "id": "sTEUaJAcOkXl",
    "outputId": "7da5051f-0703-46bf-9288-ea5ac43b7614"
   },
   "outputs": [
    {
     "data": {
      "text/html": [
       "\n",
       "    <div class=\"bk-root\">\n",
       "        <a href=\"https://bokeh.pydata.org\" target=\"_blank\" class=\"bk-logo bk-logo-small bk-logo-notebook\"></a>\n",
       "        <span id=\"85c11827-15bb-4789-b08a-04e5c6447155\">Loading BokehJS ...</span>\n",
       "    </div>"
      ]
     },
     "metadata": {},
     "output_type": "display_data"
    },
    {
     "data": {
      "application/javascript": [
       "\n",
       "(function(root) {\n",
       "  function now() {\n",
       "    return new Date();\n",
       "  }\n",
       "\n",
       "  var force = true;\n",
       "\n",
       "  if (typeof (root._bokeh_onload_callbacks) === \"undefined\" || force === true) {\n",
       "    root._bokeh_onload_callbacks = [];\n",
       "    root._bokeh_is_loading = undefined;\n",
       "  }\n",
       "\n",
       "  var JS_MIME_TYPE = 'application/javascript';\n",
       "  var HTML_MIME_TYPE = 'text/html';\n",
       "  var EXEC_MIME_TYPE = 'application/vnd.bokehjs_exec.v0+json';\n",
       "  var CLASS_NAME = 'output_bokeh rendered_html';\n",
       "\n",
       "  /**\n",
       "   * Render data to the DOM node\n",
       "   */\n",
       "  function render(props, node) {\n",
       "    var script = document.createElement(\"script\");\n",
       "    node.appendChild(script);\n",
       "  }\n",
       "\n",
       "  /**\n",
       "   * Handle when an output is cleared or removed\n",
       "   */\n",
       "  function handleClearOutput(event, handle) {\n",
       "    var cell = handle.cell;\n",
       "\n",
       "    var id = cell.output_area._bokeh_element_id;\n",
       "    var server_id = cell.output_area._bokeh_server_id;\n",
       "    // Clean up Bokeh references\n",
       "    if (id !== undefined) {\n",
       "      Bokeh.index[id].model.document.clear();\n",
       "      delete Bokeh.index[id];\n",
       "    }\n",
       "\n",
       "    if (server_id !== undefined) {\n",
       "      // Clean up Bokeh references\n",
       "      var cmd = \"from bokeh.io.state import curstate; print(curstate().uuid_to_server['\" + server_id + \"'].get_sessions()[0].document.roots[0]._id)\";\n",
       "      cell.notebook.kernel.execute(cmd, {\n",
       "        iopub: {\n",
       "          output: function(msg) {\n",
       "            var element_id = msg.content.text.trim();\n",
       "            Bokeh.index[element_id].model.document.clear();\n",
       "            delete Bokeh.index[element_id];\n",
       "          }\n",
       "        }\n",
       "      });\n",
       "      // Destroy server and session\n",
       "      var cmd = \"import bokeh.io.notebook as ion; ion.destroy_server('\" + server_id + \"')\";\n",
       "      cell.notebook.kernel.execute(cmd);\n",
       "    }\n",
       "  }\n",
       "\n",
       "  /**\n",
       "   * Handle when a new output is added\n",
       "   */\n",
       "  function handleAddOutput(event, handle) {\n",
       "    var output_area = handle.output_area;\n",
       "    var output = handle.output;\n",
       "\n",
       "    // limit handleAddOutput to display_data with EXEC_MIME_TYPE content only\n",
       "    if ((output.output_type != \"display_data\") || (!output.data.hasOwnProperty(EXEC_MIME_TYPE))) {\n",
       "      return\n",
       "    }\n",
       "\n",
       "    var toinsert = output_area.element.find(\".\" + CLASS_NAME.split(' ')[0]);\n",
       "\n",
       "    if (output.metadata[EXEC_MIME_TYPE][\"id\"] !== undefined) {\n",
       "      toinsert[0].firstChild.textContent = output.data[JS_MIME_TYPE];\n",
       "      // store reference to embed id on output_area\n",
       "      output_area._bokeh_element_id = output.metadata[EXEC_MIME_TYPE][\"id\"];\n",
       "    }\n",
       "    if (output.metadata[EXEC_MIME_TYPE][\"server_id\"] !== undefined) {\n",
       "      var bk_div = document.createElement(\"div\");\n",
       "      bk_div.innerHTML = output.data[HTML_MIME_TYPE];\n",
       "      var script_attrs = bk_div.children[0].attributes;\n",
       "      for (var i = 0; i < script_attrs.length; i++) {\n",
       "        toinsert[0].firstChild.setAttribute(script_attrs[i].name, script_attrs[i].value);\n",
       "      }\n",
       "      // store reference to server id on output_area\n",
       "      output_area._bokeh_server_id = output.metadata[EXEC_MIME_TYPE][\"server_id\"];\n",
       "    }\n",
       "  }\n",
       "\n",
       "  function register_renderer(events, OutputArea) {\n",
       "\n",
       "    function append_mime(data, metadata, element) {\n",
       "      // create a DOM node to render to\n",
       "      var toinsert = this.create_output_subarea(\n",
       "        metadata,\n",
       "        CLASS_NAME,\n",
       "        EXEC_MIME_TYPE\n",
       "      );\n",
       "      this.keyboard_manager.register_events(toinsert);\n",
       "      // Render to node\n",
       "      var props = {data: data, metadata: metadata[EXEC_MIME_TYPE]};\n",
       "      render(props, toinsert[0]);\n",
       "      element.append(toinsert);\n",
       "      return toinsert\n",
       "    }\n",
       "\n",
       "    /* Handle when an output is cleared or removed */\n",
       "    events.on('clear_output.CodeCell', handleClearOutput);\n",
       "    events.on('delete.Cell', handleClearOutput);\n",
       "\n",
       "    /* Handle when a new output is added */\n",
       "    events.on('output_added.OutputArea', handleAddOutput);\n",
       "\n",
       "    /**\n",
       "     * Register the mime type and append_mime function with output_area\n",
       "     */\n",
       "    OutputArea.prototype.register_mime_type(EXEC_MIME_TYPE, append_mime, {\n",
       "      /* Is output safe? */\n",
       "      safe: true,\n",
       "      /* Index of renderer in `output_area.display_order` */\n",
       "      index: 0\n",
       "    });\n",
       "  }\n",
       "\n",
       "  // register the mime type if in Jupyter Notebook environment and previously unregistered\n",
       "  if (root.Jupyter !== undefined) {\n",
       "    var events = require('base/js/events');\n",
       "    var OutputArea = require('notebook/js/outputarea').OutputArea;\n",
       "\n",
       "    if (OutputArea.prototype.mime_types().indexOf(EXEC_MIME_TYPE) == -1) {\n",
       "      register_renderer(events, OutputArea);\n",
       "    }\n",
       "  }\n",
       "\n",
       "  \n",
       "  if (typeof (root._bokeh_timeout) === \"undefined\" || force === true) {\n",
       "    root._bokeh_timeout = Date.now() + 5000;\n",
       "    root._bokeh_failed_load = false;\n",
       "  }\n",
       "\n",
       "  var NB_LOAD_WARNING = {'data': {'text/html':\n",
       "     \"<div style='background-color: #fdd'>\\n\"+\n",
       "     \"<p>\\n\"+\n",
       "     \"BokehJS does not appear to have successfully loaded. If loading BokehJS from CDN, this \\n\"+\n",
       "     \"may be due to a slow or bad network connection. Possible fixes:\\n\"+\n",
       "     \"</p>\\n\"+\n",
       "     \"<ul>\\n\"+\n",
       "     \"<li>re-rerun `output_notebook()` to attempt to load from CDN again, or</li>\\n\"+\n",
       "     \"<li>use INLINE resources instead, as so:</li>\\n\"+\n",
       "     \"</ul>\\n\"+\n",
       "     \"<code>\\n\"+\n",
       "     \"from bokeh.resources import INLINE\\n\"+\n",
       "     \"output_notebook(resources=INLINE)\\n\"+\n",
       "     \"</code>\\n\"+\n",
       "     \"</div>\"}};\n",
       "\n",
       "  function display_loaded() {\n",
       "    var el = document.getElementById(\"85c11827-15bb-4789-b08a-04e5c6447155\");\n",
       "    if (el != null) {\n",
       "      el.textContent = \"BokehJS is loading...\";\n",
       "    }\n",
       "    if (root.Bokeh !== undefined) {\n",
       "      if (el != null) {\n",
       "        el.textContent = \"BokehJS \" + root.Bokeh.version + \" successfully loaded.\";\n",
       "      }\n",
       "    } else if (Date.now() < root._bokeh_timeout) {\n",
       "      setTimeout(display_loaded, 100)\n",
       "    }\n",
       "  }\n",
       "\n",
       "\n",
       "  function run_callbacks() {\n",
       "    try {\n",
       "      root._bokeh_onload_callbacks.forEach(function(callback) { callback() });\n",
       "    }\n",
       "    finally {\n",
       "      delete root._bokeh_onload_callbacks\n",
       "    }\n",
       "    console.info(\"Bokeh: all callbacks have finished\");\n",
       "  }\n",
       "\n",
       "  function load_libs(js_urls, callback) {\n",
       "    root._bokeh_onload_callbacks.push(callback);\n",
       "    if (root._bokeh_is_loading > 0) {\n",
       "      console.log(\"Bokeh: BokehJS is being loaded, scheduling callback at\", now());\n",
       "      return null;\n",
       "    }\n",
       "    if (js_urls == null || js_urls.length === 0) {\n",
       "      run_callbacks();\n",
       "      return null;\n",
       "    }\n",
       "    console.log(\"Bokeh: BokehJS not loaded, scheduling load and callback at\", now());\n",
       "    root._bokeh_is_loading = js_urls.length;\n",
       "    for (var i = 0; i < js_urls.length; i++) {\n",
       "      var url = js_urls[i];\n",
       "      var s = document.createElement('script');\n",
       "      s.src = url;\n",
       "      s.async = false;\n",
       "      s.onreadystatechange = s.onload = function() {\n",
       "        root._bokeh_is_loading--;\n",
       "        if (root._bokeh_is_loading === 0) {\n",
       "          console.log(\"Bokeh: all BokehJS libraries loaded\");\n",
       "          run_callbacks()\n",
       "        }\n",
       "      };\n",
       "      s.onerror = function() {\n",
       "        console.warn(\"failed to load library \" + url);\n",
       "      };\n",
       "      console.log(\"Bokeh: injecting script tag for BokehJS library: \", url);\n",
       "      document.getElementsByTagName(\"head\")[0].appendChild(s);\n",
       "    }\n",
       "  };var element = document.getElementById(\"85c11827-15bb-4789-b08a-04e5c6447155\");\n",
       "  if (element == null) {\n",
       "    console.log(\"Bokeh: ERROR: autoload.js configured with elementid '85c11827-15bb-4789-b08a-04e5c6447155' but no matching script tag was found. \")\n",
       "    return false;\n",
       "  }\n",
       "\n",
       "  var js_urls = [\"https://cdn.pydata.org/bokeh/release/bokeh-0.12.14.min.js\", \"https://cdn.pydata.org/bokeh/release/bokeh-widgets-0.12.14.min.js\", \"https://cdn.pydata.org/bokeh/release/bokeh-tables-0.12.14.min.js\", \"https://cdn.pydata.org/bokeh/release/bokeh-gl-0.12.14.min.js\"];\n",
       "\n",
       "  var inline_js = [\n",
       "    function(Bokeh) {\n",
       "      Bokeh.set_log_level(\"info\");\n",
       "    },\n",
       "    \n",
       "    function(Bokeh) {\n",
       "      \n",
       "    },\n",
       "    function(Bokeh) {\n",
       "      console.log(\"Bokeh: injecting CSS: https://cdn.pydata.org/bokeh/release/bokeh-0.12.14.min.css\");\n",
       "      Bokeh.embed.inject_css(\"https://cdn.pydata.org/bokeh/release/bokeh-0.12.14.min.css\");\n",
       "      console.log(\"Bokeh: injecting CSS: https://cdn.pydata.org/bokeh/release/bokeh-widgets-0.12.14.min.css\");\n",
       "      Bokeh.embed.inject_css(\"https://cdn.pydata.org/bokeh/release/bokeh-widgets-0.12.14.min.css\");\n",
       "      console.log(\"Bokeh: injecting CSS: https://cdn.pydata.org/bokeh/release/bokeh-tables-0.12.14.min.css\");\n",
       "      Bokeh.embed.inject_css(\"https://cdn.pydata.org/bokeh/release/bokeh-tables-0.12.14.min.css\");\n",
       "    }\n",
       "  ];\n",
       "\n",
       "  function run_inline_js() {\n",
       "    \n",
       "    if ((root.Bokeh !== undefined) || (force === true)) {\n",
       "      for (var i = 0; i < inline_js.length; i++) {\n",
       "        inline_js[i].call(root, root.Bokeh);\n",
       "      }if (force === true) {\n",
       "        display_loaded();\n",
       "      }} else if (Date.now() < root._bokeh_timeout) {\n",
       "      setTimeout(run_inline_js, 100);\n",
       "    } else if (!root._bokeh_failed_load) {\n",
       "      console.log(\"Bokeh: BokehJS failed to load within specified timeout.\");\n",
       "      root._bokeh_failed_load = true;\n",
       "    } else if (force !== true) {\n",
       "      var cell = $(document.getElementById(\"85c11827-15bb-4789-b08a-04e5c6447155\")).parents('.cell').data().cell;\n",
       "      cell.output_area.append_execute_result(NB_LOAD_WARNING)\n",
       "    }\n",
       "\n",
       "  }\n",
       "\n",
       "  if (root._bokeh_is_loading === 0) {\n",
       "    console.log(\"Bokeh: BokehJS loaded, going straight to plotting\");\n",
       "    run_inline_js();\n",
       "  } else {\n",
       "    load_libs(js_urls, function() {\n",
       "      console.log(\"Bokeh: BokehJS plotting callback run at\", now());\n",
       "      run_inline_js();\n",
       "    });\n",
       "  }\n",
       "}(window));"
      ],
      "application/vnd.bokehjs_load.v0+json": "\n(function(root) {\n  function now() {\n    return new Date();\n  }\n\n  var force = true;\n\n  if (typeof (root._bokeh_onload_callbacks) === \"undefined\" || force === true) {\n    root._bokeh_onload_callbacks = [];\n    root._bokeh_is_loading = undefined;\n  }\n\n  \n\n  \n  if (typeof (root._bokeh_timeout) === \"undefined\" || force === true) {\n    root._bokeh_timeout = Date.now() + 5000;\n    root._bokeh_failed_load = false;\n  }\n\n  var NB_LOAD_WARNING = {'data': {'text/html':\n     \"<div style='background-color: #fdd'>\\n\"+\n     \"<p>\\n\"+\n     \"BokehJS does not appear to have successfully loaded. If loading BokehJS from CDN, this \\n\"+\n     \"may be due to a slow or bad network connection. Possible fixes:\\n\"+\n     \"</p>\\n\"+\n     \"<ul>\\n\"+\n     \"<li>re-rerun `output_notebook()` to attempt to load from CDN again, or</li>\\n\"+\n     \"<li>use INLINE resources instead, as so:</li>\\n\"+\n     \"</ul>\\n\"+\n     \"<code>\\n\"+\n     \"from bokeh.resources import INLINE\\n\"+\n     \"output_notebook(resources=INLINE)\\n\"+\n     \"</code>\\n\"+\n     \"</div>\"}};\n\n  function display_loaded() {\n    var el = document.getElementById(\"85c11827-15bb-4789-b08a-04e5c6447155\");\n    if (el != null) {\n      el.textContent = \"BokehJS is loading...\";\n    }\n    if (root.Bokeh !== undefined) {\n      if (el != null) {\n        el.textContent = \"BokehJS \" + root.Bokeh.version + \" successfully loaded.\";\n      }\n    } else if (Date.now() < root._bokeh_timeout) {\n      setTimeout(display_loaded, 100)\n    }\n  }\n\n\n  function run_callbacks() {\n    try {\n      root._bokeh_onload_callbacks.forEach(function(callback) { callback() });\n    }\n    finally {\n      delete root._bokeh_onload_callbacks\n    }\n    console.info(\"Bokeh: all callbacks have finished\");\n  }\n\n  function load_libs(js_urls, callback) {\n    root._bokeh_onload_callbacks.push(callback);\n    if (root._bokeh_is_loading > 0) {\n      console.log(\"Bokeh: BokehJS is being loaded, scheduling callback at\", now());\n      return null;\n    }\n    if (js_urls == null || js_urls.length === 0) {\n      run_callbacks();\n      return null;\n    }\n    console.log(\"Bokeh: BokehJS not loaded, scheduling load and callback at\", now());\n    root._bokeh_is_loading = js_urls.length;\n    for (var i = 0; i < js_urls.length; i++) {\n      var url = js_urls[i];\n      var s = document.createElement('script');\n      s.src = url;\n      s.async = false;\n      s.onreadystatechange = s.onload = function() {\n        root._bokeh_is_loading--;\n        if (root._bokeh_is_loading === 0) {\n          console.log(\"Bokeh: all BokehJS libraries loaded\");\n          run_callbacks()\n        }\n      };\n      s.onerror = function() {\n        console.warn(\"failed to load library \" + url);\n      };\n      console.log(\"Bokeh: injecting script tag for BokehJS library: \", url);\n      document.getElementsByTagName(\"head\")[0].appendChild(s);\n    }\n  };var element = document.getElementById(\"85c11827-15bb-4789-b08a-04e5c6447155\");\n  if (element == null) {\n    console.log(\"Bokeh: ERROR: autoload.js configured with elementid '85c11827-15bb-4789-b08a-04e5c6447155' but no matching script tag was found. \")\n    return false;\n  }\n\n  var js_urls = [\"https://cdn.pydata.org/bokeh/release/bokeh-0.12.14.min.js\", \"https://cdn.pydata.org/bokeh/release/bokeh-widgets-0.12.14.min.js\", \"https://cdn.pydata.org/bokeh/release/bokeh-tables-0.12.14.min.js\", \"https://cdn.pydata.org/bokeh/release/bokeh-gl-0.12.14.min.js\"];\n\n  var inline_js = [\n    function(Bokeh) {\n      Bokeh.set_log_level(\"info\");\n    },\n    \n    function(Bokeh) {\n      \n    },\n    function(Bokeh) {\n      console.log(\"Bokeh: injecting CSS: https://cdn.pydata.org/bokeh/release/bokeh-0.12.14.min.css\");\n      Bokeh.embed.inject_css(\"https://cdn.pydata.org/bokeh/release/bokeh-0.12.14.min.css\");\n      console.log(\"Bokeh: injecting CSS: https://cdn.pydata.org/bokeh/release/bokeh-widgets-0.12.14.min.css\");\n      Bokeh.embed.inject_css(\"https://cdn.pydata.org/bokeh/release/bokeh-widgets-0.12.14.min.css\");\n      console.log(\"Bokeh: injecting CSS: https://cdn.pydata.org/bokeh/release/bokeh-tables-0.12.14.min.css\");\n      Bokeh.embed.inject_css(\"https://cdn.pydata.org/bokeh/release/bokeh-tables-0.12.14.min.css\");\n    }\n  ];\n\n  function run_inline_js() {\n    \n    if ((root.Bokeh !== undefined) || (force === true)) {\n      for (var i = 0; i < inline_js.length; i++) {\n        inline_js[i].call(root, root.Bokeh);\n      }if (force === true) {\n        display_loaded();\n      }} else if (Date.now() < root._bokeh_timeout) {\n      setTimeout(run_inline_js, 100);\n    } else if (!root._bokeh_failed_load) {\n      console.log(\"Bokeh: BokehJS failed to load within specified timeout.\");\n      root._bokeh_failed_load = true;\n    } else if (force !== true) {\n      var cell = $(document.getElementById(\"85c11827-15bb-4789-b08a-04e5c6447155\")).parents('.cell').data().cell;\n      cell.output_area.append_execute_result(NB_LOAD_WARNING)\n    }\n\n  }\n\n  if (root._bokeh_is_loading === 0) {\n    console.log(\"Bokeh: BokehJS loaded, going straight to plotting\");\n    run_inline_js();\n  } else {\n    load_libs(js_urls, function() {\n      console.log(\"Bokeh: BokehJS plotting callback run at\", now());\n      run_inline_js();\n    });\n  }\n}(window));"
     },
     "metadata": {},
     "output_type": "display_data"
    },
    {
     "data": {
      "text/html": [
       "\n",
       "<div class=\"bk-root\">\n",
       "    <div class=\"bk-plotdiv\" id=\"2becf99b-eb4a-4dd8-ac75-01866316c8ed\"></div>\n",
       "</div>"
      ]
     },
     "metadata": {},
     "output_type": "display_data"
    },
    {
     "data": {
      "application/javascript": [
       "(function(root) {\n",
       "  function embed_document(root) {\n",
       "    \n",
       "  var docs_json = {\"ba776ad5-e29b-4bd3-8d63-ba4a85d9e18d\":{\"roots\":{\"references\":[{\"attributes\":{\"data_source\":{\"id\":\"70250a04-7029-4fec-a101-12e7f6373ec8\",\"type\":\"ColumnDataSource\"},\"glyph\":{\"id\":\"e52ea387-192a-4590-9b42-e9f99287b49e\",\"type\":\"Circle\"},\"hover_glyph\":null,\"muted_glyph\":null,\"nonselection_glyph\":{\"id\":\"223eb379-70c8-4273-8d48-13a96edbe018\",\"type\":\"Circle\"},\"selection_glyph\":null,\"view\":{\"id\":\"dfa874c5-9927-4afd-9be4-9748924a5a29\",\"type\":\"CDSView\"}},\"id\":\"0611ed04-ab74-4c98-b270-fb6a9aebec77\",\"type\":\"GlyphRenderer\"},{\"attributes\":{\"axis_label\":\"Dissolved Oxygen (umol kg-1)\",\"formatter\":{\"id\":\"a44f8fa3-4c14-469f-9220-87c91467894f\",\"type\":\"BasicTickFormatter\"},\"plot\":{\"id\":\"39ff4562-c2e3-4f04-b1d1-b711455a903c\",\"subtype\":\"Figure\",\"type\":\"Plot\"},\"ticker\":{\"id\":\"cb3431f4-eb31-4b6c-9164-69f5ff4135e3\",\"type\":\"BasicTicker\"}},\"id\":\"9c470471-5a7e-4320-b4d4-d112d1637eac\",\"type\":\"LinearAxis\"},{\"attributes\":{\"mantissas\":[1,2,5],\"max_interval\":500.0,\"num_minor_ticks\":0},\"id\":\"a2955101-8fb8-4f54-9041-d1f073503855\",\"type\":\"AdaptiveTicker\"},{\"attributes\":{\"num_minor_ticks\":5,\"tickers\":[{\"id\":\"a2955101-8fb8-4f54-9041-d1f073503855\",\"type\":\"AdaptiveTicker\"},{\"id\":\"47f90194-169e-455b-842d-994d19f5900b\",\"type\":\"AdaptiveTicker\"},{\"id\":\"313d0ae6-6d47-4950-bdb4-df9b867201b5\",\"type\":\"AdaptiveTicker\"},{\"id\":\"924e1c6f-72d0-4518-90c5-63aee383b8e2\",\"type\":\"DaysTicker\"},{\"id\":\"1eb42ad3-6588-42a6-8f78-440c149c6b52\",\"type\":\"DaysTicker\"},{\"id\":\"23667608-8e16-4ef6-8360-63e2644d5a37\",\"type\":\"DaysTicker\"},{\"id\":\"971b6658-1fd3-49c7-9f71-25209a157b74\",\"type\":\"DaysTicker\"},{\"id\":\"97f86190-23cd-4e5a-8823-9aad89d32d3e\",\"type\":\"MonthsTicker\"},{\"id\":\"ea71f5d6-28d5-46fc-939b-fe93ae298452\",\"type\":\"MonthsTicker\"},{\"id\":\"9b6d0cab-65eb-47cd-8647-b1ec22fe0980\",\"type\":\"MonthsTicker\"},{\"id\":\"86f53cee-1ee3-40f1-a2cf-b25424565d10\",\"type\":\"MonthsTicker\"},{\"id\":\"8efce49d-1709-454f-be07-dd1d90f873c7\",\"type\":\"YearsTicker\"}]},\"id\":\"2e635e34-90a4-495b-b43e-51c766559fd0\",\"type\":\"DatetimeTicker\"},{\"attributes\":{\"days\":[1,8,15,22]},\"id\":\"23667608-8e16-4ef6-8360-63e2644d5a37\",\"type\":\"DaysTicker\"},{\"attributes\":{\"months\":[0,4,8]},\"id\":\"9b6d0cab-65eb-47cd-8647-b1ec22fe0980\",\"type\":\"MonthsTicker\"},{\"attributes\":{\"months\":[0,2,4,6,8,10]},\"id\":\"ea71f5d6-28d5-46fc-939b-fe93ae298452\",\"type\":\"MonthsTicker\"},{\"attributes\":{},\"id\":\"2420e6e6-0600-4fc1-9c7d-c8ec4640fcd5\",\"type\":\"LinearScale\"},{\"attributes\":{\"months\":[0,1,2,3,4,5,6,7,8,9,10,11]},\"id\":\"97f86190-23cd-4e5a-8823-9aad89d32d3e\",\"type\":\"MonthsTicker\"},{\"attributes\":{\"callback\":null},\"id\":\"b1a5d732-afe2-4c36-9d3a-53b00c56275a\",\"type\":\"DataRange1d\"},{\"attributes\":{\"base\":24,\"mantissas\":[1,2,4,6,8,12],\"max_interval\":43200000.0,\"min_interval\":3600000.0,\"num_minor_ticks\":0},\"id\":\"313d0ae6-6d47-4950-bdb4-df9b867201b5\",\"type\":\"AdaptiveTicker\"},{\"attributes\":{\"days\":[1,4,7,10,13,16,19,22,25,28]},\"id\":\"1eb42ad3-6588-42a6-8f78-440c149c6b52\",\"type\":\"DaysTicker\"},{\"attributes\":{\"plot\":{\"id\":\"39ff4562-c2e3-4f04-b1d1-b711455a903c\",\"subtype\":\"Figure\",\"type\":\"Plot\"},\"ticker\":{\"id\":\"2e635e34-90a4-495b-b43e-51c766559fd0\",\"type\":\"DatetimeTicker\"}},\"id\":\"e0e69b67-f81f-49a7-856b-0a45879ff4c0\",\"type\":\"Grid\"},{\"attributes\":{},\"id\":\"804f7efe-1535-4d89-a90c-02d588a8aaef\",\"type\":\"LinearScale\"},{\"attributes\":{\"fill_alpha\":{\"value\":0.1},\"fill_color\":{\"value\":\"#1f77b4\"},\"line_alpha\":{\"value\":0.1},\"line_color\":{\"value\":\"#1f77b4\"},\"x\":{\"field\":\"x\"},\"y\":{\"field\":\"y\"}},\"id\":\"223eb379-70c8-4273-8d48-13a96edbe018\",\"type\":\"Circle\"},{\"attributes\":{\"days\":[1,2,3,4,5,6,7,8,9,10,11,12,13,14,15,16,17,18,19,20,21,22,23,24,25,26,27,28,29,30,31]},\"id\":\"924e1c6f-72d0-4518-90c5-63aee383b8e2\",\"type\":\"DaysTicker\"},{\"attributes\":{\"active_drag\":\"auto\",\"active_inspect\":\"auto\",\"active_scroll\":\"auto\",\"active_tap\":\"auto\",\"tools\":[{\"id\":\"8cd74f72-5360-4622-a416-679780514a80\",\"type\":\"PanTool\"},{\"id\":\"2f5705b6-151c-40db-9fef-4da9033d4224\",\"type\":\"WheelZoomTool\"},{\"id\":\"69ed08dc-029f-4cdf-8d87-ead6fcebbc12\",\"type\":\"BoxZoomTool\"},{\"id\":\"39bd7218-c9a4-4a95-8553-9f252a7c9f24\",\"type\":\"SaveTool\"},{\"id\":\"efd00453-ee03-4633-a731-8eec48146e8f\",\"type\":\"ResetTool\"},{\"id\":\"fbd45fd8-bdb1-4356-b18d-ce14795b7889\",\"type\":\"HelpTool\"}]},\"id\":\"9e997dc9-9808-40eb-8edd-502e89cca6a4\",\"type\":\"Toolbar\"},{\"attributes\":{},\"id\":\"caa53b5e-2c00-47d3-ae76-a8768a81fcf5\",\"type\":\"DatetimeTickFormatter\"},{\"attributes\":{\"callback\":null},\"id\":\"171b9612-1815-40af-b8f0-930d56ee0479\",\"type\":\"DataRange1d\"},{\"attributes\":{\"days\":[1,15]},\"id\":\"971b6658-1fd3-49c7-9f71-25209a157b74\",\"type\":\"DaysTicker\"},{\"attributes\":{\"callback\":null,\"column_names\":[\"x\",\"y\",\"fill_color\",\"line_color\"],\"data\":{\"fill_color\":[\"green\",\"green\",\"green\",\"green\",\"green\",\"green\",\"green\",\"green\",\"green\",\"green\",\"green\",\"green\",\"green\",\"green\",\"green\",\"green\",\"green\",\"green\",\"green\",\"green\",\"green\",\"green\",\"green\",\"green\",\"green\",\"green\",\"green\",\"green\",\"green\",\"green\",\"green\",\"green\",\"green\",\"green\",\"green\",\"green\",\"green\",\"green\",\"green\",\"green\",\"green\",\"green\",\"green\",\"green\",\"green\",\"green\",\"green\",\"green\",\"green\",\"green\",\"green\",\"green\",\"green\",\"green\",\"green\",\"green\",\"green\",\"green\",\"green\",\"green\",\"green\",\"green\",\"green\",\"green\",\"green\",\"green\",\"green\",\"green\",\"green\",\"green\",\"green\",\"green\",\"green\",\"green\",\"green\",\"green\",\"green\",\"green\",\"green\",\"green\",\"green\",\"green\",\"green\",\"green\",\"green\",\"green\",\"green\",\"green\",\"green\",\"green\",\"green\",\"green\",\"green\",\"green\",\"green\",\"green\",\"green\",\"green\",\"green\",\"green\",\"green\",\"green\",\"green\",\"green\",\"green\",\"green\",\"green\",\"green\",\"green\",\"green\",\"green\",\"green\",\"green\",\"green\",\"green\",\"green\",\"green\",\"green\",\"green\",\"green\",\"green\",\"green\",\"green\",\"green\",\"green\",\"green\",\"green\",\"green\",\"green\",\"green\",\"green\",\"green\",\"green\",\"green\",\"green\",\"green\",\"green\",\"green\",\"green\",\"green\",\"green\",\"green\",\"green\",\"green\",\"green\",\"green\",\"green\",\"green\",\"green\",\"green\",\"green\",\"green\",\"green\",\"green\",\"green\",\"green\",\"green\",\"green\",\"green\",\"green\",\"green\",\"green\",\"green\",\"green\",\"green\",\"green\",\"green\",\"green\",\"green\",\"green\",\"green\",\"green\",\"green\",\"green\",\"green\",\"green\",\"green\",\"green\",\"green\",\"green\",\"green\",\"green\",\"green\",\"green\",\"green\",\"green\",\"green\",\"green\",\"green\",\"green\",\"green\",\"green\",\"green\",\"green\",\"green\",\"green\",\"green\",\"green\",\"green\",\"green\",\"green\",\"green\",\"green\",\"green\",\"green\",\"green\",\"green\",\"green\",\"green\",\"green\",\"green\",\"green\",\"green\",\"green\",\"green\",\"green\",\"green\",\"green\",\"green\",\"green\",\"green\",\"green\",\"green\",\"green\",\"green\",\"green\",\"green\",\"green\",\"green\",\"green\",\"green\",\"green\",\"green\",\"green\",\"green\",\"green\",\"green\",\"green\",\"green\",\"green\",\"green\",\"green\",\"green\",\"green\",\"green\",\"green\",\"green\",\"green\",\"green\",\"green\",\"green\",\"green\",\"green\",\"green\",\"green\",\"green\",\"green\",\"green\",\"green\",\"green\",\"green\",\"green\",\"green\",\"green\",\"green\",\"green\",\"green\",\"green\",\"green\",\"green\",\"green\",\"green\",\"green\",\"green\",\"green\",\"green\",\"green\",\"green\",\"green\",\"green\",\"green\",\"green\",\"green\",\"green\",\"green\",\"green\",\"green\",\"green\",\"green\",\"green\",\"green\",\"green\",\"green\",\"green\",\"green\",\"green\",\"green\",\"green\",\"green\",\"green\",\"green\",\"green\",\"green\",\"green\",\"green\",\"green\",\"green\",\"green\",\"green\",\"green\",\"green\",\"green\",\"green\",\"green\",\"green\",\"green\",\"green\",\"green\",\"green\",\"green\",\"green\",\"green\",\"green\",\"green\",\"green\",\"green\",\"green\",\"green\",\"green\",\"green\",\"green\",\"green\",\"green\",\"green\",\"green\",\"green\",\"green\",\"green\",\"green\",\"green\",\"green\",\"green\",\"green\",\"green\",\"green\",\"green\",\"green\",\"green\",\"green\",\"green\",\"green\",\"green\",\"green\",\"green\",\"green\",\"green\",\"green\",\"green\",\"green\",\"green\",\"green\",\"green\",\"green\",\"green\",\"green\",\"green\",\"green\",\"green\",\"green\",\"green\",\"green\",\"green\",\"green\",\"green\",\"green\",\"green\",\"green\",\"green\",\"green\",\"green\",\"green\",\"green\",\"green\",\"green\",\"green\",\"green\",\"green\",\"green\",\"green\",\"green\",\"green\",\"green\",\"green\",\"green\",\"green\",\"green\",\"green\",\"green\",\"green\",\"green\",\"green\",\"green\",\"green\",\"green\",\"green\",\"green\",\"green\",\"green\",\"green\",\"green\",\"green\",\"green\",\"green\",\"green\",\"green\",\"green\",\"green\",\"green\",\"green\",\"green\",\"green\",\"green\",\"green\",\"green\",\"green\",\"green\",\"green\",\"green\",\"green\",\"green\",\"green\",\"green\",\"green\",\"green\",\"green\",\"green\",\"green\",\"green\",\"green\",\"green\",\"green\",\"green\",\"green\",\"green\",\"green\",\"green\",\"green\",\"green\",\"green\",\"green\",\"green\",\"green\",\"green\",\"green\",\"green\",\"green\",\"green\",\"green\",\"green\",\"green\",\"green\",\"green\",\"green\",\"green\",\"green\",\"green\",\"green\",\"green\",\"green\",\"green\",\"green\",\"green\",\"green\",\"green\",\"green\",\"green\",\"green\",\"green\",\"green\",\"green\",\"green\",\"green\",\"green\",\"green\",\"green\",\"green\",\"green\",\"green\",\"green\",\"green\",\"green\",\"green\",\"green\",\"green\",\"green\",\"green\",\"green\",\"green\",\"green\",\"green\",\"green\",\"green\",\"green\",\"green\",\"green\",\"green\",\"green\",\"green\",\"green\",\"green\",\"green\",\"green\",\"green\",\"green\",\"green\",\"green\",\"green\",\"green\",\"green\",\"green\",\"green\",\"green\",\"green\",\"green\",\"green\",\"green\",\"green\",\"green\",\"green\",\"green\",\"green\",\"green\",\"green\",\"green\",\"green\",\"green\",\"green\",\"green\",\"green\",\"green\",\"green\",\"green\",\"green\",\"green\",\"green\",\"green\",\"green\",\"green\",\"green\",\"green\",\"green\",\"green\",\"green\",\"green\",\"green\",\"green\",\"green\",\"green\",\"green\",\"green\",\"green\",\"green\",\"green\",\"green\",\"green\",\"green\",\"green\",\"green\",\"green\",\"green\",\"green\",\"green\",\"green\",\"green\",\"green\",\"green\",\"green\",\"green\",\"green\",\"green\",\"green\",\"green\",\"green\",\"green\",\"green\",\"green\",\"green\",\"green\",\"green\",\"green\",\"green\",\"green\",\"green\",\"green\",\"green\",\"green\",\"green\",\"green\",\"green\",\"green\",\"green\",\"green\",\"green\",\"green\",\"green\",\"green\",\"green\",\"green\",\"green\",\"green\",\"green\",\"green\",\"green\",\"green\",\"green\",\"green\",\"green\",\"green\",\"green\",\"green\",\"green\",\"green\",\"green\",\"green\",\"green\",\"green\",\"green\",\"green\",\"green\",\"green\",\"green\",\"green\",\"green\",\"green\",\"green\",\"green\",\"green\",\"green\",\"green\",\"green\",\"green\",\"green\",\"green\",\"green\",\"green\",\"green\",\"green\",\"green\",\"green\",\"green\",\"green\",\"green\",\"green\",\"green\",\"green\",\"green\",\"green\",\"green\",\"green\",\"green\",\"green\",\"green\",\"green\",\"green\",\"green\",\"green\",\"green\",\"green\",\"green\",\"green\",\"green\",\"green\",\"green\",\"green\",\"green\",\"green\",\"green\",\"green\",\"green\",\"green\",\"green\",\"green\",\"green\",\"green\",\"green\",\"green\",\"green\",\"green\",\"green\",\"green\",\"green\",\"green\",\"green\",\"green\",\"green\",\"green\",\"green\",\"green\",\"green\",\"green\",\"green\",\"green\",\"green\",\"green\",\"green\",\"green\",\"green\",\"green\",\"green\",\"green\",\"green\",\"green\",\"green\",\"green\",\"green\",\"green\",\"green\",\"green\",\"green\",\"green\",\"green\",\"green\",\"green\",\"green\",\"green\",\"green\",\"green\",\"green\",\"green\",\"green\",\"green\",\"green\",\"green\",\"green\",\"green\",\"green\",\"green\",\"green\",\"green\",\"green\",\"green\",\"green\",\"green\",\"green\",\"green\",\"green\",\"green\",\"green\",\"green\",\"green\",\"green\",\"green\",\"green\",\"green\",\"green\",\"green\",\"green\",\"green\",\"green\",\"green\",\"green\",\"green\",\"green\",\"green\",\"green\",\"green\",\"green\",\"green\",\"green\",\"green\",\"green\",\"green\",\"green\",\"green\",\"green\",\"green\",\"green\",\"green\",\"green\",\"green\",\"green\",\"green\",\"green\",\"green\",\"green\",\"green\",\"green\",\"green\",\"green\",\"green\",\"green\",\"green\",\"green\",\"green\",\"green\",\"green\",\"green\",\"green\",\"green\",\"green\",\"green\",\"green\",\"green\",\"green\",\"green\",\"green\",\"green\",\"green\",\"green\",\"green\",\"green\",\"green\",\"green\",\"green\",\"green\",\"green\",\"green\",\"green\",\"green\",\"green\",\"green\",\"green\",\"green\",\"green\",\"green\",\"green\",\"green\",\"green\",\"green\",\"green\",\"green\",\"green\",\"green\",\"green\",\"green\",\"green\",\"green\",\"green\",\"green\",\"green\",\"green\",\"green\",\"green\",\"green\",\"green\",\"green\",\"green\",\"green\",\"green\",\"green\",\"green\",\"green\",\"green\",\"green\",\"green\",\"green\",\"green\",\"green\",\"green\",\"green\",\"green\",\"green\",\"green\",\"green\",\"green\",\"green\",\"green\",\"green\",\"green\",\"green\",\"green\",\"green\",\"green\",\"green\",\"green\",\"green\",\"green\",\"green\",\"green\",\"green\",\"green\",\"green\",\"green\",\"green\",\"green\",\"green\",\"green\",\"green\",\"red\",\"green\",\"green\",\"green\",\"green\",\"green\",\"green\",\"green\",\"green\",\"green\",\"green\",\"green\",\"green\",\"green\",\"green\",\"green\",\"green\",\"green\",\"green\",\"green\",\"green\",\"green\",\"green\",\"green\",\"green\",\"green\",\"green\",\"green\",\"green\",\"green\",\"green\",\"green\",\"green\",\"green\",\"green\",\"green\",\"green\",\"green\",\"green\",\"green\",\"green\",\"green\",\"green\",\"green\",\"green\",\"green\",\"green\",\"green\",\"green\",\"green\",\"green\",\"green\",\"green\",\"green\",\"green\",\"green\",\"green\",\"green\",\"green\",\"green\",\"green\",\"green\",\"green\",\"green\",\"green\",\"green\",\"green\",\"green\",\"green\",\"green\",\"green\",\"green\",\"green\",\"green\",\"green\",\"green\",\"green\",\"green\",\"green\",\"green\",\"green\",\"green\",\"green\",\"green\",\"green\",\"green\",\"green\",\"green\",\"green\",\"green\",\"green\",\"green\",\"green\",\"green\",\"green\",\"green\",\"green\",\"green\",\"green\",\"green\",\"green\",\"green\",\"green\",\"green\",\"green\",\"green\",\"green\",\"green\",\"green\",\"green\",\"red\",\"green\",\"green\"],\"line_color\":[\"green\",\"green\",\"green\",\"green\",\"green\",\"green\",\"green\",\"green\",\"green\",\"green\",\"green\",\"green\",\"green\",\"green\",\"green\",\"green\",\"green\",\"green\",\"green\",\"green\",\"green\",\"green\",\"green\",\"green\",\"green\",\"green\",\"green\",\"green\",\"green\",\"green\",\"green\",\"green\",\"green\",\"green\",\"green\",\"green\",\"green\",\"green\",\"green\",\"green\",\"green\",\"green\",\"green\",\"green\",\"green\",\"green\",\"green\",\"green\",\"green\",\"green\",\"green\",\"green\",\"green\",\"green\",\"green\",\"green\",\"green\",\"green\",\"green\",\"green\",\"green\",\"green\",\"green\",\"green\",\"green\",\"green\",\"green\",\"green\",\"green\",\"green\",\"green\",\"green\",\"green\",\"green\",\"green\",\"green\",\"green\",\"green\",\"green\",\"green\",\"green\",\"green\",\"green\",\"green\",\"green\",\"green\",\"green\",\"green\",\"green\",\"green\",\"green\",\"green\",\"green\",\"green\",\"green\",\"green\",\"green\",\"green\",\"green\",\"green\",\"green\",\"green\",\"green\",\"green\",\"green\",\"green\",\"green\",\"green\",\"green\",\"green\",\"green\",\"green\",\"green\",\"green\",\"green\",\"green\",\"green\",\"green\",\"green\",\"green\",\"green\",\"green\",\"green\",\"green\",\"green\",\"green\",\"green\",\"green\",\"green\",\"green\",\"green\",\"green\",\"green\",\"green\",\"green\",\"green\",\"green\",\"green\",\"green\",\"green\",\"green\",\"green\",\"green\",\"green\",\"green\",\"green\",\"green\",\"green\",\"green\",\"green\",\"green\",\"green\",\"green\",\"green\",\"green\",\"green\",\"green\",\"green\",\"green\",\"green\",\"green\",\"green\",\"green\",\"green\",\"green\",\"green\",\"green\",\"green\",\"green\",\"green\",\"green\",\"green\",\"green\",\"green\",\"green\",\"green\",\"green\",\"green\",\"green\",\"green\",\"green\",\"green\",\"green\",\"green\",\"green\",\"green\",\"green\",\"green\",\"green\",\"green\",\"green\",\"green\",\"green\",\"green\",\"green\",\"green\",\"green\",\"green\",\"green\",\"green\",\"green\",\"green\",\"green\",\"green\",\"green\",\"green\",\"green\",\"green\",\"green\",\"green\",\"green\",\"green\",\"green\",\"green\",\"green\",\"green\",\"green\",\"green\",\"green\",\"green\",\"green\",\"green\",\"green\",\"green\",\"green\",\"green\",\"green\",\"green\",\"green\",\"green\",\"green\",\"green\",\"green\",\"green\",\"green\",\"green\",\"green\",\"green\",\"green\",\"green\",\"green\",\"green\",\"green\",\"green\",\"green\",\"green\",\"green\",\"green\",\"green\",\"green\",\"green\",\"green\",\"green\",\"green\",\"green\",\"green\",\"green\",\"green\",\"green\",\"green\",\"green\",\"green\",\"green\",\"green\",\"green\",\"green\",\"green\",\"green\",\"green\",\"green\",\"green\",\"green\",\"green\",\"green\",\"green\",\"green\",\"green\",\"green\",\"green\",\"green\",\"green\",\"green\",\"green\",\"green\",\"green\",\"green\",\"green\",\"green\",\"green\",\"green\",\"green\",\"green\",\"green\",\"green\",\"green\",\"green\",\"green\",\"green\",\"green\",\"green\",\"green\",\"green\",\"green\",\"green\",\"green\",\"green\",\"green\",\"green\",\"green\",\"green\",\"green\",\"green\",\"green\",\"green\",\"green\",\"green\",\"green\",\"green\",\"green\",\"green\",\"green\",\"green\",\"green\",\"green\",\"green\",\"green\",\"green\",\"green\",\"green\",\"green\",\"green\",\"green\",\"green\",\"green\",\"green\",\"green\",\"green\",\"green\",\"green\",\"green\",\"green\",\"green\",\"green\",\"green\",\"green\",\"green\",\"green\",\"green\",\"green\",\"green\",\"green\",\"green\",\"green\",\"green\",\"green\",\"green\",\"green\",\"green\",\"green\",\"green\",\"green\",\"green\",\"green\",\"green\",\"green\",\"green\",\"green\",\"green\",\"green\",\"green\",\"green\",\"green\",\"green\",\"green\",\"green\",\"green\",\"green\",\"green\",\"green\",\"green\",\"green\",\"green\",\"green\",\"green\",\"green\",\"green\",\"green\",\"green\",\"green\",\"green\",\"green\",\"green\",\"green\",\"green\",\"green\",\"green\",\"green\",\"green\",\"green\",\"green\",\"green\",\"green\",\"green\",\"green\",\"green\",\"green\",\"green\",\"green\",\"green\",\"green\",\"green\",\"green\",\"green\",\"green\",\"green\",\"green\",\"green\",\"green\",\"green\",\"green\",\"green\",\"green\",\"green\",\"green\",\"green\",\"green\",\"green\",\"green\",\"green\",\"green\",\"green\",\"green\",\"green\",\"green\",\"green\",\"green\",\"green\",\"green\",\"green\",\"green\",\"green\",\"green\",\"green\",\"green\",\"green\",\"green\",\"green\",\"green\",\"green\",\"green\",\"green\",\"green\",\"green\",\"green\",\"green\",\"green\",\"green\",\"green\",\"green\",\"green\",\"green\",\"green\",\"green\",\"green\",\"green\",\"green\",\"green\",\"green\",\"green\",\"green\",\"green\",\"green\",\"green\",\"green\",\"green\",\"green\",\"green\",\"green\",\"green\",\"green\",\"green\",\"green\",\"green\",\"green\",\"green\",\"green\",\"green\",\"green\",\"green\",\"green\",\"green\",\"green\",\"green\",\"green\",\"green\",\"green\",\"green\",\"green\",\"green\",\"green\",\"green\",\"green\",\"green\",\"green\",\"green\",\"green\",\"green\",\"green\",\"green\",\"green\",\"green\",\"green\",\"green\",\"green\",\"green\",\"green\",\"green\",\"green\",\"green\",\"green\",\"green\",\"green\",\"green\",\"green\",\"green\",\"green\",\"green\",\"green\",\"green\",\"green\",\"green\",\"green\",\"green\",\"green\",\"green\",\"green\",\"green\",\"green\",\"green\",\"green\",\"green\",\"green\",\"green\",\"green\",\"green\",\"green\",\"green\",\"green\",\"green\",\"green\",\"green\",\"green\",\"green\",\"green\",\"green\",\"green\",\"green\",\"green\",\"green\",\"green\",\"green\",\"green\",\"green\",\"green\",\"green\",\"green\",\"green\",\"green\",\"green\",\"green\",\"green\",\"green\",\"green\",\"green\",\"green\",\"green\",\"green\",\"green\",\"green\",\"green\",\"green\",\"green\",\"green\",\"green\",\"green\",\"green\",\"green\",\"green\",\"green\",\"green\",\"green\",\"green\",\"green\",\"green\",\"green\",\"green\",\"green\",\"green\",\"green\",\"green\",\"green\",\"green\",\"green\",\"green\",\"green\",\"green\",\"green\",\"green\",\"green\",\"green\",\"green\",\"green\",\"green\",\"green\",\"green\",\"green\",\"green\",\"green\",\"green\",\"green\",\"green\",\"green\",\"green\",\"green\",\"green\",\"green\",\"green\",\"green\",\"green\",\"green\",\"green\",\"green\",\"green\",\"green\",\"green\",\"green\",\"green\",\"green\",\"green\",\"green\",\"green\",\"green\",\"green\",\"green\",\"green\",\"green\",\"green\",\"green\",\"green\",\"green\",\"green\",\"green\",\"green\",\"green\",\"green\",\"green\",\"green\",\"green\",\"green\",\"green\",\"green\",\"green\",\"green\",\"green\",\"green\",\"green\",\"green\",\"green\",\"green\",\"green\",\"green\",\"green\",\"green\",\"green\",\"green\",\"green\",\"green\",\"green\",\"green\",\"green\",\"green\",\"green\",\"green\",\"green\",\"green\",\"green\",\"green\",\"green\",\"green\",\"green\",\"green\",\"green\",\"green\",\"green\",\"green\",\"green\",\"green\",\"green\",\"green\",\"green\",\"green\",\"green\",\"green\",\"green\",\"green\",\"green\",\"green\",\"green\",\"green\",\"green\",\"green\",\"green\",\"green\",\"green\",\"green\",\"green\",\"green\",\"green\",\"green\",\"green\",\"green\",\"green\",\"green\",\"green\",\"green\",\"green\",\"green\",\"green\",\"green\",\"green\",\"green\",\"green\",\"green\",\"green\",\"green\",\"green\",\"green\",\"green\",\"green\",\"green\",\"green\",\"green\",\"green\",\"green\",\"green\",\"green\",\"green\",\"green\",\"green\",\"green\",\"green\",\"green\",\"green\",\"green\",\"green\",\"green\",\"green\",\"green\",\"green\",\"green\",\"green\",\"green\",\"green\",\"green\",\"green\",\"green\",\"green\",\"green\",\"green\",\"green\",\"green\",\"green\",\"green\",\"green\",\"green\",\"green\",\"green\",\"green\",\"green\",\"green\",\"green\",\"green\",\"green\",\"green\",\"green\",\"green\",\"green\",\"green\",\"green\",\"green\",\"green\",\"green\",\"green\",\"green\",\"green\",\"green\",\"green\",\"green\",\"green\",\"green\",\"green\",\"green\",\"green\",\"green\",\"green\",\"green\",\"green\",\"green\",\"green\",\"green\",\"green\",\"green\",\"green\",\"green\",\"green\",\"green\",\"green\",\"green\",\"green\",\"green\",\"green\",\"green\",\"green\",\"green\",\"green\",\"green\",\"green\",\"green\",\"green\",\"green\",\"green\",\"green\",\"green\",\"green\",\"green\",\"green\",\"green\",\"green\",\"green\",\"green\",\"green\",\"green\",\"green\",\"green\",\"green\",\"green\",\"green\",\"green\",\"green\",\"green\",\"green\",\"green\",\"green\",\"green\",\"green\",\"green\",\"green\",\"green\",\"green\",\"green\",\"green\",\"green\",\"green\",\"green\",\"green\",\"green\",\"green\",\"green\",\"green\",\"green\",\"green\",\"green\",\"green\",\"green\",\"green\",\"green\",\"green\",\"green\",\"green\",\"green\",\"green\",\"green\",\"green\",\"green\",\"green\",\"green\",\"green\",\"green\",\"red\",\"green\",\"green\",\"green\",\"green\",\"green\",\"green\",\"green\",\"green\",\"green\",\"green\",\"green\",\"green\",\"green\",\"green\",\"green\",\"green\",\"green\",\"green\",\"green\",\"green\",\"green\",\"green\",\"green\",\"green\",\"green\",\"green\",\"green\",\"green\",\"green\",\"green\",\"green\",\"green\",\"green\",\"green\",\"green\",\"green\",\"green\",\"green\",\"green\",\"green\",\"green\",\"green\",\"green\",\"green\",\"green\",\"green\",\"green\",\"green\",\"green\",\"green\",\"green\",\"green\",\"green\",\"green\",\"green\",\"green\",\"green\",\"green\",\"green\",\"green\",\"green\",\"green\",\"green\",\"green\",\"green\",\"green\",\"green\",\"green\",\"green\",\"green\",\"green\",\"green\",\"green\",\"green\",\"green\",\"green\",\"green\",\"green\",\"green\",\"green\",\"green\",\"green\",\"green\",\"green\",\"green\",\"green\",\"green\",\"green\",\"green\",\"green\",\"green\",\"green\",\"green\",\"green\",\"green\",\"green\",\"green\",\"green\",\"green\",\"green\",\"green\",\"green\",\"green\",\"green\",\"green\",\"green\",\"green\",\"green\",\"green\",\"red\",\"green\",\"green\"],\"x\":[1441069260025.0002,1441069262025.0002,1441084682060.0,1441100741533.0,1441116181415.0,1441132223642.9995,1441147681581.0005,1441162982027.0,1441179181849.9998,1441194482381.0,1441210682968.0,1441225981487.0,1441242183725.0,1441257480498.0002,1441273680678.9998,1441288982281.0002,1441305182500.0,1441320483163.0,1441336683573.9998,1441351981845.9995,1441368181078.0002,1441383482392.0002,1441399683374.0002,1441414981329.0,1441431183055.9998,1441446482550.0002,1441462683609.0002,1441477983210.0002,1441494182911.9998,1441509481157.0002,1441525682454.9998,1441540983005.0002,1441557183408.0,1441572481538.0002,1441588681841.0002,1441603982088.9998,1441620180224.0,1441635484003.0002,1441651661569.0002,1441666982019.0,1441683142613.0,1441698482757.0,1441714622647.9998,1441729981764.0,1441746104937.9995,1441761480743.0,1441777584713.0002,1441792980399.0,1441809066666.9998,1441824480974.9998,1441840547937.0002,1441855980789.0,1441872029006.0002,1441887481801.0002,1441903510357.9998,1441918982185.9998,1441934280197.9998,1441950483128.0002,1441965781395.0,1441981981338.9998,1441997281867.0,1442013482416.0,1442028781111.0,1442044983857.9998,1442060282519.0,1442076480423.0002,1442091782548.0002,1442107982269.9998,1442123280942.9998,1442139480705.0,1442154781477.9995,1442170982718.9998,1442186281338.0005,1442202481640.9998,1442217782515.0002,1442233982857.0005,1442249281842.9998,1442265481561.0,1442280782107.9998,1442296980929.0,1442312281890.0005,1442328480131.0,1442343780949.0,1442359983161.0002,1442375281836.0,1442391466963.0002,1442406783135.9998,1442422947243.0,1442438281640.0002,1442454428277.9998,1442469783298.0005,1442485909841.0002,1442501280396.0,1442517389585.0,1442532782855.0,1442548871361.9998,1442564281727.9998,1442580352474.9998,1442595782053.9998,1442611834746.9998,1442627282381.0,1442643315361.0,1442658780694.9998,1442674082697.9998,1442690281503.9998,1442705582040.0,1442721781451.0002,1442737083033.9998,1442753282232.9998,1442768582849.9998,1442784781621.9995,1442800082052.0,1442816282336.0,1442831581156.0002,1442847781585.0,1442863082553.0,1442879281416.0,1442894582036.0002,1442910782421.9998,1442926081566.9998,1442942282355.0,1442957581528.0,1442973783866.0002,1442989082325.0,1443005281857.9998,1443020582914.0002,1443036783390.9998,1443052081640.0002,1443068281800.0002,1443083582357.0005,1443099782232.0002,1443115081019.0,1443131272338.0005,1443146583611.0,1443162752614.9998,1443178083653.0,1443194232859.0002,1443209581421.0,1443225714996.9998,1443241082142.9995,1443257195080.0,1443272581749.0002,1443288676540.0,1443304081635.9998,1443320158118.0002,1443335580731.0,1443351639635.0002,1443367082580.0,1443383119519.0,1443398582334.0002,1443413882172.0,1443430082703.0,1443445381829.0,1443461583265.9998,1443476882777.0,1443493081875.0,1443508381488.0,1443524583407.0,1443539882613.0,1443556080611.0,1443571382841.0002,1443587582637.0002,1443602882007.0,1443619081291.9998,1443634383104.0,1443650580633.9998,1443665881838.0005,1443682081356.0,1443697381046.9998,1443713580684.0,1443728882414.0002,1443745082128.9998,1443760382019.0,1443776582257.0,1443791882533.9998,1443808082401.0,1443823380821.0002,1443839582918.9995,1443854881040.0,1443871077130.0002,1443886382817.9998,1443902558001.0,1443917881869.0,1443934038977.9995,1443949383059.0,1443965520805.9998,1443980882288.0,1443997001022.0005,1444012382907.0,1444028481508.0,1444043882378.0005,1444059964463.0002,1444075382701.9995,1444091445395.0,1444106882389.0,1444122925967.0,1444138380959.0,1444153680349.0,1444169880917.0,1444185183342.9998,1444201382133.9998,1444216680614.9998,1444232881935.9998,1444248182748.0002,1444264381842.0002,1444279681717.9998,1444295883809.9998,1444311180734.0002,1444327382444.9998,1444342681607.0002,1444358881081.9998,1444374182180.0002,1444390382789.0,1444405681737.0,1444421883257.0,1444437183005.0002,1444453381632.0,1444468682975.9998,1444484883630.0002,1444500181970.9998,1444516382220.0002,1444531682618.0002,1444547880819.0002,1444563183109.9995,1444579381592.0,1444594682712.0,1444610883059.0,1444626182506.0002,1444642362742.0002,1444657681729.0002,1444673845463.0002,1444689181889.0,1444705326163.0,1444720682524.0002,1444736806216.0,1444752182364.9998,1444768288602.0002,1444783681057.0002,1444799768551.0,1444815182468.0,1444831250205.0,1444846680411.9998,1444862731951.9998,1444878180767.0002,1444894211793.9995,1444909681000.0,1444924981305.0002,1444941181619.0,1444956480737.0,1444972682510.9995,1444987982408.0,1445004182926.0002,1445019482993.0,1445035680736.0,1445050981312.9998,1445067181387.0,1445082480960.0,1445098682885.9995,1445113980620.0,1445130182206.0005,1445145481925.0002,1445161680921.9998,1445176982331.0002,1445193181331.0002,1445208482909.0,1445224682333.0002,1445239982712.0,1445256181281.0002,1445271481897.0002,1445287681835.0,1445302983112.0,1445319181579.0,1445334481647.9998,1445350682435.9998,1445365983135.0002,1445382169873.0002,1445397481720.0002,1445413650382.9998,1445428982335.0,1445445130732.9998,1445460483465.0002,1445476612039.0,1445491981826.0002,1445508092640.0002,1445523480628.9998,1445539574600.0,1445554981946.0002,1445571054654.0005,1445586481677.9998,1445602536242.0002,1445617981154.9998,1445634017760.0002,1445649480513.9998,1445664783061.0,1445680982224.0,1445696282975.9998,1445712481013.9998,1445727782041.9998,1445743981645.0,1445759282135.9998,1445775481970.0005,1445790781757.9998,1445806981591.0,1445822282158.9998,1445838482334.0002,1445853782949.0,1445869981767.0002,1445885283377.0,1445901482111.0,1445916780559.0,1445932982793.0002,1445948280992.0,1445964480797.0,1445979782852.0002,1445995980561.0,1446011282913.0002,1446027480657.9998,1446042781996.9998,1446058982270.9998,1446074281895.0,1446090481921.9998,1446105782326.9995,1446121974819.0002,1446137280914.0002,1446153454668.0002,1446168780834.0002,1446184936743.0,1446200281484.0002,1446216417369.0,1446231782137.0002,1446247898151.0,1446263281921.9998,1446279379121.9995,1446294782996.9998,1446310859932.0002,1446326281647.0002,1446342342447.0,1446357782147.9998,1446373823789.9998,1446389283494.9998,1446404583062.0005,1446420782390.0005,1446436083013.0,1446452283441.0,1446467581878.9998,1446483781624.0,1446499081937.9995,1446515282401.0,1446530582793.9995,1446546782371.0002,1446562082977.9995,1446578282579.0,1446593582680.9998,1446609782390.9998,1446625082592.0,1446641280534.9998,1446656580481.0,1446672782249.9998,1446688082102.0002,1446704281769.0,1446719583345.9995,1446735780809.0,1446751080949.9998,1446767282242.0002,1446782582062.9998,1446798780896.0,1446814083073.9998,1446830281831.9998,1446845583184.0,1446861779760.9998,1446877082617.0002,1446893261132.0,1446908581010.9998,1446924741963.0002,1446940081417.0,1446956222458.0002,1446971581699.9998,1446987704340.0002,1447003080557.0002,1447019184499.0,1447034582506.0002,1447050666710.0002,1447066082137.0002,1447082146757.0,1447097581322.0002,1447113629119.0,1447129082829.9998,1447144382312.9998,1447160582517.9995,1447175881451.0002,1447192081812.0002,1447207380553.0,1447223580102.9998,1447238882357.0005,1447255081285.0,1447270380701.9995,1447286580631.0,1447301881567.9998,1447318083080.0,1447333382486.0002,1447349581911.0002,1447364883573.9998,1447381083031.0,1447396383027.0,1447412582006.0002,1447427883901.9998,1447444080716.0,1447459382234.0002,1447475581048.9998,1447490882385.9995,1447507083361.9998,1447522382223.0,1447538581381.0,1447553880734.9995,1447570081147.9998,1447585380651.0,1447601583693.0,1447616881489.0005,1447633065300.0002,1447648380709.0002,1447664546703.0,1447679882211.0,1447696028819.0002,1447711382619.0,1447727509125.9998,1447742882157.0002,1447758990231.0,1447774381323.0,1447790472062.9998,1447805882156.0002,1447821953552.0,1447837380989.0002,1447853434762.0002,1447868883536.0002,1447884914650.0002,1447900380980.0,1447915682941.0,1447931883404.0002,1447947182326.0002,1447963382930.0005,1447978683255.0,1447994882572.0,1448010181722.0002,1448026381580.0,1448041681724.0,1448057881225.9998,1448073181227.9998,1448089381979.0,1448104683272.0002,1448120880281.0002,1448136181197.0,1448152381257.9998,1448167681244.0,1448183882536.9998,1448199180525.0002,1448215381744.0,1448230681304.0,1448246883474.9998,1448262181834.0002,1448278381635.9998,1448293682546.9998,1448309881923.9998,1448325180123.0,1448341381005.0002,1448356680301.0002,1448372871611.0,1448388182388.0,1448404352553.0,1448419682088.9998,1448435834682.0002,1448451182038.0002,1448467314857.0005,1448482682887.0,1448498796175.0,1448514181770.9998,1448530277901.0,1448545680182.0002,1448561759151.0,1448577183602.0002,1448593240213.9998,1448608681859.0002,1448624719612.0,1448640182046.0002,1448655481937.9995,1448671681029.0002,1448686980482.9998,1448703182312.9998,1448718481965.0002,1448734680770.9998,1448749981022.0005,1448766182246.9998,1448781481763.0,1448797681041.0,1448812981135.9998,1448829183158.9998,1448844481486.0002,1448860681215.0,1448875982916.0,1448892182973.9998,1448907480745.0,1448923681215.0,1448938980944.0002,1448955183480.0,1448970482300.0002,1448986681203.0,1449001981009.0,1449018181067.9998,1449033482616.0002,1449049682290.9998,1449064982241.0002,1449081182204.0,1449096481222.0002,1449112676642.0002,1449127981526.0002,1449144158996.9998,1449159483595.0002,1449175640198.9998,1449190981006.0002,1449207120454.9998,1449222482902.9998,1449238601672.0,1449253980513.9998,1449270082742.0002,1449285480607.0002,1449301563144.0,1449316981496.0002,1449333045025.0002,1449348483279.9998,1449364526463.9998,1449379982275.0,1449395282269.9998,1449411482267.9998,1449426783409.9998,1449442981269.9998,1449458280616.0002,1449474481349.0,1449489782444.9998,1449505982546.0002,1449521281421.0,1449537481147.9998,1449552781061.0,1449568981420.0,1449584282172.0,1449600481010.9998,1449615781849.9998,1449631983359.9998,1449647282126.9998,1449663482703.0,1449678781890.0005,1449694982640.9998,1449710281969.0,1449726482058.0002,1449741782689.0002,1449757981656.0002,1449773281177.0,1449789481896.0,1449804781901.9998,1449820980720.9998,1449836281147.0002,1449852483196.0,1449867783325.0,1449883963190.0002,1449899281904.9998,1449915445659.9998,1449930781918.9995,1449946926209.0002,1449962281269.9998,1449978407817.9998,1449993782230.0002,1450009887801.0002,1450025281982.9998,1450041368093.0,1450056782565.0,1450072850850.9998,1450088280628.0002,1450104331561.0,1450119782065.9998,1450135811765.9998,1450151280668.0002,1450166580687.0002,1450182782055.0002,1450198081644.0,1450214281868.0,1450229582885.0002,1450245783430.0005,1450261082074.9998,1450277281881.0,1450292583727.0002,1450308781210.0002,1450324082901.9998,1450340281685.9998,1450355581356.0,1450371780762.0002,1450387082180.0002,1450403280211.0,1450418581359.9998,1450434781224.0,1450450082329.0,1450466281168.9998,1450481581607.0002,1450497781286.0002,1450513081286.9998,1450529281475.9998,1450544582541.0,1450560782194.9998,1450576080859.9998,1450592281598.0002,1450607582944.0002,1450623768918.9995,1450639081354.0002,1450655250894.0002,1450670582168.0002,1450686731231.0,1450702082845.0002,1450718213111.0,1450733582389.0,1450749692781.0002,1450765080284.0,1450781174689.0002,1450796581815.0,1450812656031.0,1450828081197.9998,1450844135909.9998,1450859581264.0,1450875617949.0,1450891083253.9995,1450906381697.0,1450922581680.0002,1450937882133.9998,1450954082713.0002,1450969380933.0002,1450985581540.0,1451000882085.0,1451017082229.0002,1451032380711.0,1451048581657.0002,1451063882279.0002,1451080080484.0002,1451095382176.0,1451111583242.0002,1451126882852.0002,1451143082231.0,1451158380224.0,1451174581439.0,1451189883189.0002,1451206082239.0002,1451221381670.0002,1451237582762.0002,1451252881788.0,1451269082411.0002,1451284380389.0,1451300581909.0,1451315881309.0,1451332080595.0002,1451347380881.9998,1451363575257.9998,1451378881723.0,1451395056241.0002,1451410382831.0002,1451426536682.0002,1451441881793.0002,1451458018434.0002,1451473382625.9998,1451489499275.0,1451504881154.9998,1451520980607.9998,1451536381909.9998,1451552459970.0005,1451567882388.0,1451583942172.0,1451599382722.0002,1451615422923.0002,1451630881585.9998,1451646181810.9998,1451662381699.9998,1451677683760.0002,1451693882663.0,1451709182498.0002,1451725381953.0002,1451740680541.0,1451756882984.9998,1451772180388.0,1451788382873.0002,1451803683212.0,1451819882630.0002,1451835182489.9998,1451851382797.0,1451866681795.0,1451882881583.0,1451898182762.0002,1451914381712.0,1451929681050.0002,1451945881845.0002,1451961181060.0,1451977381826.0002,1451992680930.9998,1452008881272.9998,1452024181814.0002,1452040380981.0,1452055682239.9998,1452071880958.0002,1452087182572.0,1452103378973.0,1452118680389.0,1452134860114.9998,1452150182666.9998,1452166342963.9998,1452181682006.0002,1452197822862.9998,1452213183031.0,1452229304441.0,1452244682343.9998,1452260785206.0005,1452276181466.0002,1452292266653.0,1452307681640.0002,1452323747989.9998,1452339180727.0002,1452355228084.0,1452370682274.0002,1452386709441.9998,1452402182705.0,1452417481824.0,1452433680687.9998,1452448980319.9998,1452465181678.9998,1452480481131.0,1452496681849.9998,1452511981364.9998,1452528180399.0,1452543482199.9998,1452559681543.9998,1452574982475.9998,1452591183377.0,1452606482253.0002,1452622683683.0,1452637981216.0,1452654182506.0002,1452669481437.0002,1452685681935.9998,1452700981672.0,1452717182029.9995,1452732481769.0,1452748682276.0,1452763981470.9998,1452780182239.0002,1452795483477.9995,1452811682345.0002,1452826981991.0,1452843181298.0005,1452858480319.9998,1452874665653.0,1452889981807.0,1452906146809.9998,1452921481031.0,1452937628279.0002,1452952982716.0,1452969109626.9998,1452984483267.0002,1453000590345.9995,1453015981956.9998,1453032072354.0002,1453047481765.0005,1453063552701.0002,1453078982404.9998,1453095032956.0002,1453110480142.9995,1453126514744.0,1453141982499.0,1453157282789.9998,1453173483297.0,1453188782769.9998,1453204981639.0,1453220281154.0005,1453236481088.0002,1453251780786.0002,1453267982613.0,1453283282519.0,1453299483566.9998,1453314781875.0,1453330982822.0002,1453346281003.0002,1453362481114.0005,1453377782069.0002,1453393980317.9998,1453409281831.9998,1453425481329.0,1453440781543.9998,1453456981849.0,1453472283007.0,1453488482843.9998,1453503781576.9998,1453519981371.9998,1453535282506.0002,1453551480371.9998,1453566782644.0,1453582981911.0002,1453598280291.9998,1453614471040.0,1453629780944.0002,1453645952021.0,1453661282010.0002,1453677434750.0002,1453692782908.0,1453708915246.9998,1453724281673.0005,1453740396782.0002,1453755780904.0002,1453771877984.9998,1453787283125.9998,1453803359123.0,1453818783196.0,1453834839804.0,1453850283428.0,1453866321095.9998,1453881783150.0002,1453897081022.9998,1453913283265.0005,1453928582357.0005,1453944782338.9998,1453960081915.0,1453976282183.0,1453991582597.0002,1454007781882.9998,1454023081712.0,1454039281197.0,1454054581882.9998,1454070780899.0,1454086080633.0,1454102282381.0,1454117582066.9998,1454133782848.0,1454149081689.0002,1454165283001.0,1454180583690.0002,1454196782326.0002,1454212080333.0002,1454228283128.9998,1454243582151.0,1454259780713.0002,1454275080183.0,1454291281505.0002,1454306583201.9995,1454322783201.0002,1454338082446.0002,1454354277947.0,1454369583107.9998,1454385757661.9995,1454401081194.9998,1454417238857.9998,1454432581439.0,1454448720357.0005,1454464080125.0,1454480201015.9998,1454495580781.0002,1454511681808.0,1454527083208.0002,1454543162958.0002,1454558580730.0002,1454574644364.0002,1454590080785.0,1454606126083.0,1454621580765.9998,1454636882017.9995,1454653081890.9998,1454668381888.0,1454684581742.0002,1454699880885.0002,1454716082052.0,1454731380970.9998,1454747582793.9995,1454762882423.9998,1454779082894.0002,1454794381388.0,1454810581614.9998,1454825880225.0,1454842080211.0,1454857382680.0002,1454873582632.0,1454888880991.0,1454905081381.9998,1454920382335.0,1454936582380.0,1454951880881.9998,1454968081779.0002,1454983381861.0,1454999581698.9998,1455014882875.0,1455031081062.9998,1455046382630.0002,1455062581015.9998,1455077881842.0002,1455094081798.0005,1455109381142.9995,1455125563683.0,1455140882604.0,1455157045335.0,1455172380883.9998,1455188525356.0,1455203882307.0,1455220007664.0,1455235382006.0002,1455251488932.0002,1455266882364.9998,1455282968151.0,1455298381461.9998,1455314450536.9998,1455329882053.0,1455345930809.0,1455361381260.0002,1455377412507.0,1455392883102.0002,1455408182267.9998,1455424381609.0002,1455439681267.9998,1455455883128.9998,1455471181805.0002,1455487381842.0002,1455502681917.0,1455518880786.9998,1455534182746.0005,1455550382917.0,1455565682653.0,1455581881861.0,1455597182920.0,1455613381722.0002,1455628682712.0,1455644881630.0002,1455660181201.9995,1455676383401.0,1455691681347.0,1455707881479.0,1455723182357.0005,1455739381538.0002,1455754683132.0,1455770882415.0,1455786180539.0,1455802382359.0002,1455817680551.0,1455833882635.0002,1455849182276.0,1455865369253.0002,1455880682763.0,1455896849977.0002,1455912181723.0,1455928330373.0002,1455943681837.0,1455959811725.0,1455975182368.0,1455991292493.9998,1456006683055.0002,1456022773677.0,1456038182967.0,1456054255579.0,1456069681963.9998,1456085735877.0,1456101182753.0002,1456117218264.0,1456132682911.9998,1456147982001.0,1456164181996.0002,1456179482492.0,1456195682338.9998,1456210980776.0,1456227182027.0,1456242481085.9998,1456258682716.0,1456273983215.0,1456290180418.0002,1456305482911.0002,1456321682448.0,1456336982342.9998,1456353181966.0002,1456368481639.0,1456384680837.0,1456399982744.0,1456416181748.0002,1456431483988.0,1456447681062.0005,1456462981819.9998,1456479181190.0002,1456494482689.0002,1456510681595.9998,1456525981305.0002,1456542182692.0,1456557482675.0,1456573683637.0002,1456588982112.0,1456605174777.9998,1456620481506.0002,1456636655366.0002,1456651981604.0,1456668135720.0002,1456683482998.0002,1456699617791.9998,1456714982609.0002,1456731099745.0,1456746481066.9998,1456762579687.9998,1456777982513.9998,1456794060663.0],\"y\":[280.9423869566828,280.70926340363724,280.4610036437032,280.34589942428056,280.4189001365978,281.08262827853696,280.56590311238267,280.1142266755418,279.7329969897217,279.9935159876657,280.28097050807446,280.19971980568835,279.91075194182486,279.89466252518326,279.79437718634244,280.68376299724656,279.63826498807157,280.0734359960052,277.5357438343037,277.83254528755725,279.03077158679156,279.5142243129954,278.6751316259658,278.3526013596404,277.43228006876024,276.95879430612354,276.7941400923027,277.1476508561024,276.8876858817654,278.1369476281849,275.7533790914618,276.4622111758911,276.70168986065596,276.5842507399913,275.53337867893794,275.35548078200804,275.3227184891969,276.1512071281618,276.8533342266025,276.04624673968897,276.70168986065596,276.26250568956294,276.5858246811065,277.28615260249927,277.0608467714012,276.0951643480813,275.7528471021383,276.27438364270824,276.41071556333344,276.5974407898419,276.94671750635933,276.89395403896737,276.7007116634515,276.5566204843399,277.4027722410892,277.83241781121274,276.79984955478074,276.7492504749217,276.087493290471,276.37519838333657,276.75467384706565,276.5556860007332,276.3487509780788,275.8384874324655,276.00128810403027,276.29666676371477,276.20036002831387,276.193460277986,276.40440491898545,275.9580713729314,276.58888469031365,275.98861294014335,275.92149744081604,275.52786237296846,275.93046950771463,276.39551137441305,276.56066655985944,276.50256776265576,275.89676294255344,275.7992805265225,276.0419173024348,276.67394112568803,277.29555679242816,276.91079855363614,277.1191905050578,277.30678813009445,277.04394541991076,277.1723113023752,277.1400813585716,277.04508049196437,276.5954721596402,276.56758355358687,276.88786480125543,277.3681949483728,276.6002964917146,276.38502785813535,275.86954510325813,276.1973517434598,275.8693156841762,275.5990706780304,275.04953202274606,275.022272598261,274.803531508356,275.27346783074074,275.5475459094126,275.2495135906806,275.0992969537105,274.71418959384766,275.36552103577645,275.4810554573143,275.6646295835852,275.3941269669084,275.1906948145479,274.8845132403579,275.1764421032046,275.2547054415943,274.7025909630107,274.69482065095104,274.635542867545,274.87308053447913,275.6865171311972,275.7797610053907,275.2509138663832,274.97074418688567,275.1723800768835,275.6731151794045,275.9078251471729,275.6330955431888,275.47508060334843,275.1350336950839,274.87390657946963,275.766738453678,275.62753687717225,274.47027923180747,274.2638681712918,274.1635876915841,275.7274051220024,275.77839534451306,276.1728984439851,275.8607765252581,275.5244332672864,273.971600264795,275.05442761530355,274.836508257323,275.3189442929116,275.0405123027289,273.30594510237285,273.4144319392879,274.3357349326815,275.4861259953892,275.53251296041225,275.1614064398798,275.48069126914544,276.46105520320776,276.5384624033578,276.5027352865075,275.83686350183825,275.7063544708901,276.2224485956317,276.6746169530222,275.3255032542419,276.2295470930236,276.42986651036006,275.4884406760596,276.27513491650063,276.058316154448,275.51545709186126,275.87500027152225,275.097539988532,275.51175601070156,275.8236167051065,275.86967888652066,275.9576936801524,275.4848445989778,276.5575123091468,276.0253756061333,276.11280727351925,276.668666949845,275.8254278971811,275.78986711441416,276.3296251679956,276.50884506174265,276.55602864414175,276.3225134643879,276.9467964525294,277.6147018087582,278.1344109209499,278.27388756896806,278.1752865321117,277.8845597901624,277.9179744149153,278.6963742694979,278.6919330490942,278.37782207370583,277.81935542262784,278.6316726673092,278.6713090994422,280.49569473312374,281.2467763417241,279.8093258810529,280.07454874644907,278.58326114992894,278.85072143373753,278.96206507526836,278.6428321401669,278.746703799215,278.201638958555,278.6374944686183,279.40611059731987,279.59721115580055,278.8085020200773,278.9974622508174,278.2776739276466,278.6048709884496,278.71520106498537,278.8748355544734,278.13592664699524,278.5630432311697,277.8350926053527,278.31068793076184,280.1407860685521,279.5340600927288,279.55602926376,279.38559525091125,279.0093227807234,279.08451134467765,278.344162618962,276.7390112354929,276.85511608305865,276.9763664968702,276.8855123491401,276.62653254324164,276.5841221745858,275.96504675347944,276.49895701512264,276.9622536332267,276.50544845094606,276.7646151264685,276.5459531889933,276.39601147567174,277.4337733351037,277.51897819838734,277.58904305439734,277.29801264503635,277.2520972993543,277.4536085371099,277.6734769516271,277.95940751492475,277.81034570534484,277.81889295920087,277.0775721926564,277.3296866670427,277.58066119684884,277.64493986485974,278.83162875259836,277.21665888522637,277.4465474191448,278.7867218582256,278.60970591229494,278.66820919336294,277.88056752166995,277.98182348926343,278.1285740830072,278.4886738024864,278.88374088858154,278.2137973135586,277.80881173347046,277.75204394179747,278.2836817368316,277.79849140298916,277.9227792584172,277.9391743345952,277.7019696248812,278.2808253792714,277.9678371349251,277.9277486437021,278.02545025127324,278.43883113937034,278.2935044495803,278.71490233563867,278.92974102310507,278.5924282651975,278.2124375925204,278.4909073790685,278.23065898106603,279.47958669678457,279.1724105188445,278.9022538449186,278.4152061580403,278.3243382200566,277.8976459332463,278.11767059076476,278.5488592357816,277.6655667952111,278.59993532454604,278.41098753758166,278.32368810834896,278.3652432022997,278.2982074663967,277.66983510964326,278.10499983999665,278.78364837612946,278.2506532168755,278.2315489181033,278.24221867078217,278.48227930607857,279.4134860394724,279.04350892693105,278.7733769941079,278.37739363404506,278.43434203416047,279.2978383573221,280.07845367240293,279.5842755382799,279.3238536468793,279.77115365256526,279.4230572430293,279.82390042362385,279.1151053560415,279.4458740085869,278.9932747214317,278.9745155162673,279.2843471137973,279.2927252012339,278.8066199672598,279.1370650239249,278.54882632191874,278.5047172283271,279.1441861112029,278.97087242819475,278.6660692785027,277.78679380395033,278.38347303184145,278.97367136823965,278.45280058827154,278.636790043083,278.4211743739819,277.7671440749191,278.2084829943154,279.20475438680785,278.05190320677997,278.3695478759229,278.44635767660316,278.92225221016594,279.9754149568187,280.38175353942887,279.0917368327514,278.4445604702203,279.093454535727,279.0952042979656,280.02943816117397,279.3952315016538,278.23210847070743,278.4155963319673,278.4740657731673,279.88858114937204,280.53320291543577,279.64740263116806,279.49223641452693,279.56710124866316,280.4378790398651,280.8192301939918,279.6287222867416,278.7441028108561,279.034362442724,278.88903700929154,281.498709384522,279.69839730716905,279.0518609472745,278.77845796986037,278.80788758185355,279.9339734383919,283.7182571179404,279.2709843863522,279.09224937414535,279.7117978798962,279.5198581954589,281.93441362567245,280.0589301407337,278.53691094853076,279.2358869692805,279.6241072939139,280.9088005122799,285.3391528293867,279.46972860983107,279.24937322298985,279.1999107993048,278.937900078165,284.29183549954945,281.3727106428492,279.7949025088534,279.5061680895965,279.2524498468311,278.74285817305446,280.38842308711287,278.39885646054313,278.22712324801097,278.35373333546954,278.6378998483695,286.7958600280353,281.28840194099615,278.7082235596327,278.91871292722186,279.09578846258404,281.40659581663465,285.8904811512981,279.5407734737583,279.07144715163537,279.12882679008413,278.7531806356557,289.8263963825057,281.562792761051,279.7941491965453,279.33785868940356,279.29408740349464,282.2021240487844,288.31496913733486,279.7501766863667,279.65665818901704,279.6021495060983,279.4481030645862,291.2197270060486,281.7503323431917,279.6505140874599,279.7911300818517,279.98621278822725,283.2568277779283,288.5438345058019,280.5662580743705,280.5466083857483,280.28497276231985,281.111902612993,284.3768539750121,282.29299217201907,282.56200214239107,281.7931094586504,282.3800531486341,286.3763784814069,296.25465216312426,281.92726823715117,284.5876661148983,285.1319174452606,285.8173679575296,302.15072138786627,288.77605132906785,286.8991518251731,287.97629696506357,288.03583163515196,290.71224449042205,301.951314878338,288.25749091477263,287.9673955038148,288.0469213066697,288.10469740955284,299.86131236932545,288.5791791846658,286.8428833937388,286.12083693801856,286.09018178722647,288.2016041504111,294.3580013970217,284.2300375301479,284.1360561274495,284.12216702874935,283.91943173352587,297.160949760705,285.00952733312033,285.86810551782617,284.90641349016056,283.9926359718002,286.802333858972,297.4980442054061,284.05848317072264,281.69923137272735,281.6039187843848,282.46471544756673,299.53724214601584,283.1880236738106,285.07018740541395,287.4295133345663,287.6913332436599,290.81264620229877,293.80485341611717,287.1234692801794,286.6081889159525,286.2677702576114,286.5146290797884,307.31779828328615,285.1143062663489,284.43096532687696,283.61048080153745,283.77408345780003,290.4184797412972,298.1670339289149,280.95387323057804,281.01976728881664,280.8871743358018,280.6242549911775,302.78443820026024,280.9740780055665,281.96559874915266,281.05535629722743,281.0994533130519,284.1625919173742,287.963812097789,282.05952348747275,282.1518576793412,282.22143841412014,281.99076863456526,302.57829916115634,281.50873270301554,281.69590498780275,281.61336487901866,281.94911236647795,292.3688598748007,294.49702455141363,280.8572348810753,280.7367379865959,280.67217844174615,280.21421971137494,321.22337510797814,279.65250402331196,280.81244990564545,280.73386801998384,280.4252605513674,291.22615637824987,297.47580521064936,284.2396667812266,283.69451864719764,283.0662343695049,282.0195708946429,310.8101609386534,281.57570738210984,282.76811183274117,282.31674185165645,281.2742823666325,293.88831321528517,299.28682425197405,284.2092950012065,284.56152540492707,283.35417802997574,282.4927311942724,305.98033346263924,282.7927661753599,282.00463322192087,282.57398431703325,282.59107960929805,291.532549022246,292.18970929496726,283.8861597111113,283.5614453768705,283.1392384469005,282.66272659914347,315.12238462789696,282.73002404093745,282.46837465693704,280.83294169687787,280.3781572958246,295.4215328058516,293.5472542922385,281.20521447538727,280.61171606868004,281.5944374935703,280.9536203277978,301.974367035542,281.7575618273089,281.25889004475056,281.9570358140121,281.93624099750184,289.66548522636305,286.56298951482336,283.29752240897795,283.855876576819,283.42106812605977,280.45976212129875,288.81586971685687,283.48877220919906,285.17379679710643,284.684699577781,284.04588926080686,291.63366167927984,291.9112445854746,279.28184105821134,278.89211186876884,278.4824384022003,281.66195287462864,288.02325655534975,279.22707094803485,280.14525490035936,279.66588729575636,282.26147219934984,285.9575638208808,284.45436779151476,281.7415090943732,282.0419223049896,281.47926649317895,281.71780143960706,301.8308555398894,284.3765420599625,282.8099217639381,282.9881768107638,284.1436357978991,303.68003592884776,291.79742631272944,283.7147129946528,284.10152021925455,283.4358553789153,282.91053849380216,287.5910697082474,282.0918501003158,281.50567888241073,281.69337243779904,281.77149518289036,291.1931442765794,284.3260855635795,284.23421922031207,284.4803974526297,283.8279879063415,284.5443188012045,304.9771614505996,282.51964666057165,282.3860144154267,282.25619051691876,281.85399106101755,304.8234801680229,287.6408581830842,280.7369050853465,281.65211810979355,281.94129098686574,281.3996072387168,308.7879650315952,281.40609439458365,281.1428919279471,280.67268995775385,280.49394457487745,300.8984336724294,284.06474536479203,282.1964962009042,281.74803396860506,280.6397760099224,280.9062787692579,304.35976292139014,283.57000365923824,283.5690877193232,283.4816641505271,282.1899777732789,309.5295253372693,285.247262443606,282.6370573819112,282.3332513753334,282.0299020992112,281.81034345869637,290.02589179701965,280.915818805761,280.0709251014279,279.4733715966366,279.14313798982215,287.4533512045408,284.7358910708311,280.1458218412411,280.5510594625028,280.27386482481324,280.76379676469827,320.4492977859857,280.00270328353446,281.07683633774514,281.04345261794157,280.78569228712996,300.41999279179936,284.7671119347185,282.73215332101296,283.06735302404064,282.63026388149433,282.08889481127846,309.6120002566704,281.1735717776047,281.06829683222196,280.58441071659763,280.36784727429966,304.2989241833751,282.07509428453557,280.2198378858141,279.8669919732223,279.6055659803467,280.4578923394676,307.26624662079513,279.9447848889022,280.6250467461922,280.76978734939047,280.78490278654743,308.6811078301888,284.19759694913,275.624980457044,273.3933183847009,274.0618741867668,275.5143395380327,296.0791762069273,281.62237816535753,281.7296770090126,283.19649077003686,282.2885946173045,290.4536976015684,284.8327604622617,283.1787075499536,281.7124199499458,281.27755477622804,280.61231344692334,315.5704946953912,277.14867118715796,277.39416014373273,278.24641518459555,278.90026726456597,298.9127557452566,280.0717822601417,280.03552394322156,280.8731719283048,280.84668901775325,281.808770053807,309.8286225612899,284.7778896214566,285.0839482060152,284.2104812435305,284.262124212268,323.5899534203461,286.48374632582676,283.7982910097303,283.8479678152425,283.8162991309601,287.49416647405724,321.53024203452867,283.89931732704343,284.5438347369428,283.4472667671739,282.6810954485702,338.35697381483175,284.7735572180083,283.6647756256777,283.86968353422867,283.5694292625159,288.31990619616846,306.9471992324749,283.397639271319,284.4006172099502,283.1475607681321,283.75568751308435,328.4571795741539,284.7080783593639,283.68327302362275,283.84061557368165,284.2180633648571,293.69649260298394,323.581640595364,279.5663377934459,279.40595913424875,278.5933822965558,279.2577291227081,299.8950075254303,281.3788019233051,279.9328127484811,281.0822750651254,280.55845307046974,288.5646112606272,291.33571167197636,281.3885008339391,280.96192667137285,281.6838931382866,282.73576332884267,336.0859576755964,281.3198515789957,282.7515032638051,285.0731572856552,284.2647748482563,293.7178541045189,311.0351560313905,283.89310941983973,284.96325993734246,284.8995784112687,283.41840552439885,333.59953226709223,285.2210541591327,283.2828604108342,282.5700760296201,283.1468074373446,287.6093958631733,305.5220738573873,283.9190757008445,283.49911710622223,283.05667990129626,282.64618855099684,313.9801169787241,283.20383191748306,282.8100708101471,282.69238618580334,282.8158346052063,303.3510991514957,321.40511667324074,282.3922906510975,282.66891978333564,282.64157239703735,282.4428991036361,315.3746821127726,282.77736807268946,280.85470275932363,281.5227705702218,281.2960609276522,305.11676709719427,317.28433559485023,281.92424781287855,282.4589422482277,281.2064694242838,282.5116543478622,330.5059220948227,282.8899830766001,282.2141402822907,281.91532502387895,282.1855256671147,313.52144794708664,335.90595535037875,280.56670494661563,279.469881657501,278.7618768696215,280.7881977303109,319.14197663392355,282.5001102666829,281.69890913941146,281.35249959993183,281.18304258537245,319.91121695980723,320.04100806581283,282.16767390174556,282.20887285380485,281.7444216703088,281.60001128903536,327.853414484936,282.3689291275767,280.8280091320221,280.56961146516704,280.5901366887412,313.08389183382445,322.7021365986795,281.3782488808632,282.0692078788182,282.08377692657666,281.3686736264197,353.366566790168,279.6878383797517,279.63930662778444,279.5474650729807,278.0908657265353,304.9716591180255,289.46486154194434,283.4845201203213,283.13309789372903,283.80955604710374,284.0541102367073,327.31221319920854,282.9099560660785,282.9265511374042,282.71834142532424,282.66046667708974,337.11415273756336,319.1135076834557,282.32641357102557,281.7686527569232,280.78748869942143,281.6288369086382,332.00612590146045,282.40079499968266,281.5815100684313,280.9391038626507,281.09244484804606,349.63701632805163,355.68641932863954,279.00433120303745,279.5137286530518,279.1980850280281,283.8034873201528,332.8459449291841,280.27122897170676,281.90900320162143,281.27961025008307,278.69271859600434,302.66298687394334,301.84875588553615,282.6089069602973,283.0069991873885,283.6376981099141,291.9788998497196,446.68400454695706,282.1553252240159,281.5263194005117,279.5276481029643,279.66237185154415,335.3706314991653,353.43484061037043,280.3477356564607,279.6208212664044,278.7476388713338,296.012842650487,351.5217731402461,281.27991940115373,281.38047901593825,281.78946336071397,280.6208356210128,356.3675990933944,300.3687201048811,282.0400032462861,283.73915780110076,283.45143064277545,288.01892680518756,307.0087475458401,285.10731930273744,285.18225102128605,284.745485133253,283.7411722430166,311.3176413261089,310.4864300009803,284.69144830981475,280.4158024634641,280.8221092304309,298.82946909520086,338.7595671708328,279.604428697435,278.5759065608095,278.66368748510035,278.27245022312593,345.23163693613884,321.1117605213857,278.41709454489495,278.4844217794735,278.17031943500996,301.92873315129924,336.95921246772326,277.4513134260136,279.25595605940254,277.41688073522033,278.7700118644627,350.4672206665412,326.7801654920238,280.4995244588251,280.42730692397623,280.1551979365295,306.3861800974041,342.6114264679294,282.4699666695237,282.1139216730747,280.64235376777583,280.5098900263687,334.29914171584187,314.36005025115355,280.37201544932003,279.2495101409676,278.9542112011038,324.41332691956194,378.4071762418711,279.98876677082234,280.7138042775607,280.45587133728384,277.5702827869852,335.62633790410615,314.3923830047204,280.67139725734313,278.7350721719249,276.72134235252133,313.15679200739044,362.3356186806723,280.19271839430263,280.6571662358242,279.9386532627525,281.75204380204053,327.30343658637474,304.23384954834887,284.521332609364,285.2011267431765,284.2392898246355,307.3941681448229,354.48180966849475,282.98730771988403,282.5389171286222,281.21977701943786,279.89966874609706,359.36989729025106,313.1363181887538,280.0347251855883,280.55412671362706,280.46203736610215,398.3069443605311,343.82176172988,278.9867466978322,280.1818211877965,279.69988370351984,279.5959787159449,351.7506303650327,321.9513297634805,282.9636280699438,282.2499964499144,282.0832430728805,357.68645915204996,401.5892451136649,281.4849657265122,281.7232486426779]}},\"id\":\"70250a04-7029-4fec-a101-12e7f6373ec8\",\"type\":\"ColumnDataSource\"},{\"attributes\":{\"below\":[{\"id\":\"5c908ff4-eed0-4103-b75f-1f76c07a4906\",\"type\":\"DatetimeAxis\"}],\"left\":[{\"id\":\"9c470471-5a7e-4320-b4d4-d112d1637eac\",\"type\":\"LinearAxis\"}],\"plot_height\":400,\"plot_width\":800,\"renderers\":[{\"id\":\"5c908ff4-eed0-4103-b75f-1f76c07a4906\",\"type\":\"DatetimeAxis\"},{\"id\":\"e0e69b67-f81f-49a7-856b-0a45879ff4c0\",\"type\":\"Grid\"},{\"id\":\"9c470471-5a7e-4320-b4d4-d112d1637eac\",\"type\":\"LinearAxis\"},{\"id\":\"74a685df-d855-4317-b80e-4160830f4d7b\",\"type\":\"Grid\"},{\"id\":\"8c6a946c-aba0-4855-ba47-d189e8f7272b\",\"type\":\"BoxAnnotation\"},{\"id\":\"0611ed04-ab74-4c98-b270-fb6a9aebec77\",\"type\":\"GlyphRenderer\"}],\"title\":{\"id\":\"54e33383-1647-408d-bf1d-6d8e4b35c891\",\"type\":\"Title\"},\"toolbar\":{\"id\":\"9e997dc9-9808-40eb-8edd-502e89cca6a4\",\"type\":\"Toolbar\"},\"x_range\":{\"id\":\"171b9612-1815-40af-b8f0-930d56ee0479\",\"type\":\"DataRange1d\"},\"x_scale\":{\"id\":\"2420e6e6-0600-4fc1-9c7d-c8ec4640fcd5\",\"type\":\"LinearScale\"},\"y_range\":{\"id\":\"b1a5d732-afe2-4c36-9d3a-53b00c56275a\",\"type\":\"DataRange1d\"},\"y_scale\":{\"id\":\"804f7efe-1535-4d89-a90c-02d588a8aaef\",\"type\":\"LinearScale\"}},\"id\":\"39ff4562-c2e3-4f04-b1d1-b711455a903c\",\"subtype\":\"Figure\",\"type\":\"Plot\"},{\"attributes\":{},\"id\":\"fbd45fd8-bdb1-4356-b18d-ce14795b7889\",\"type\":\"HelpTool\"},{\"attributes\":{},\"id\":\"efd00453-ee03-4633-a731-8eec48146e8f\",\"type\":\"ResetTool\"},{\"attributes\":{\"plot\":null,\"text\":\"Global Irminger Sea Apex Surface Mooring - Near Surface Instrument Frame - Dissolved Oxygen\"},\"id\":\"54e33383-1647-408d-bf1d-6d8e4b35c891\",\"type\":\"Title\"},{\"attributes\":{\"axis_label\":\"Time (GMT)\",\"formatter\":{\"id\":\"caa53b5e-2c00-47d3-ae76-a8768a81fcf5\",\"type\":\"DatetimeTickFormatter\"},\"plot\":{\"id\":\"39ff4562-c2e3-4f04-b1d1-b711455a903c\",\"subtype\":\"Figure\",\"type\":\"Plot\"},\"ticker\":{\"id\":\"2e635e34-90a4-495b-b43e-51c766559fd0\",\"type\":\"DatetimeTicker\"}},\"id\":\"5c908ff4-eed0-4103-b75f-1f76c07a4906\",\"type\":\"DatetimeAxis\"},{\"attributes\":{\"source\":{\"id\":\"70250a04-7029-4fec-a101-12e7f6373ec8\",\"type\":\"ColumnDataSource\"}},\"id\":\"dfa874c5-9927-4afd-9be4-9748924a5a29\",\"type\":\"CDSView\"},{\"attributes\":{},\"id\":\"a44f8fa3-4c14-469f-9220-87c91467894f\",\"type\":\"BasicTickFormatter\"},{\"attributes\":{\"base\":60,\"mantissas\":[1,2,5,10,15,20,30],\"max_interval\":1800000.0,\"min_interval\":1000.0,\"num_minor_ticks\":0},\"id\":\"47f90194-169e-455b-842d-994d19f5900b\",\"type\":\"AdaptiveTicker\"},{\"attributes\":{},\"id\":\"2f5705b6-151c-40db-9fef-4da9033d4224\",\"type\":\"WheelZoomTool\"},{\"attributes\":{},\"id\":\"8efce49d-1709-454f-be07-dd1d90f873c7\",\"type\":\"YearsTicker\"},{\"attributes\":{},\"id\":\"39bd7218-c9a4-4a95-8553-9f252a7c9f24\",\"type\":\"SaveTool\"},{\"attributes\":{\"overlay\":{\"id\":\"8c6a946c-aba0-4855-ba47-d189e8f7272b\",\"type\":\"BoxAnnotation\"}},\"id\":\"69ed08dc-029f-4cdf-8d87-ead6fcebbc12\",\"type\":\"BoxZoomTool\"},{\"attributes\":{},\"id\":\"8cd74f72-5360-4622-a416-679780514a80\",\"type\":\"PanTool\"},{\"attributes\":{\"bottom_units\":\"screen\",\"fill_alpha\":{\"value\":0.5},\"fill_color\":{\"value\":\"lightgrey\"},\"left_units\":\"screen\",\"level\":\"overlay\",\"line_alpha\":{\"value\":1.0},\"line_color\":{\"value\":\"black\"},\"line_dash\":[4,4],\"line_width\":{\"value\":2},\"plot\":null,\"render_mode\":\"css\",\"right_units\":\"screen\",\"top_units\":\"screen\"},\"id\":\"8c6a946c-aba0-4855-ba47-d189e8f7272b\",\"type\":\"BoxAnnotation\"},{\"attributes\":{},\"id\":\"cb3431f4-eb31-4b6c-9164-69f5ff4135e3\",\"type\":\"BasicTicker\"},{\"attributes\":{\"dimension\":1,\"plot\":{\"id\":\"39ff4562-c2e3-4f04-b1d1-b711455a903c\",\"subtype\":\"Figure\",\"type\":\"Plot\"},\"ticker\":{\"id\":\"cb3431f4-eb31-4b6c-9164-69f5ff4135e3\",\"type\":\"BasicTicker\"}},\"id\":\"74a685df-d855-4317-b80e-4160830f4d7b\",\"type\":\"Grid\"},{\"attributes\":{\"months\":[0,6]},\"id\":\"86f53cee-1ee3-40f1-a2cf-b25424565d10\",\"type\":\"MonthsTicker\"},{\"attributes\":{\"fill_alpha\":{\"value\":0.2},\"fill_color\":{\"field\":\"fill_color\"},\"line_color\":{\"field\":\"line_color\"},\"x\":{\"field\":\"x\"},\"y\":{\"field\":\"y\"}},\"id\":\"e52ea387-192a-4590-9b42-e9f99287b49e\",\"type\":\"Circle\"}],\"root_ids\":[\"39ff4562-c2e3-4f04-b1d1-b711455a903c\"]},\"title\":\"Bokeh Application\",\"version\":\"0.12.14\"}};\n",
       "  var render_items = [{\"docid\":\"ba776ad5-e29b-4bd3-8d63-ba4a85d9e18d\",\"elementid\":\"2becf99b-eb4a-4dd8-ac75-01866316c8ed\",\"modelid\":\"39ff4562-c2e3-4f04-b1d1-b711455a903c\"}];\n",
       "  root.Bokeh.embed.embed_items_notebook(docs_json, render_items);\n",
       "\n",
       "  }\n",
       "  if (root.Bokeh !== undefined) {\n",
       "    embed_document(root);\n",
       "  } else {\n",
       "    var attempts = 0;\n",
       "    var timer = setInterval(function(root) {\n",
       "      if (root.Bokeh !== undefined) {\n",
       "        embed_document(root);\n",
       "        clearInterval(timer);\n",
       "      }\n",
       "      attempts++;\n",
       "      if (attempts > 100) {\n",
       "        console.log(\"Bokeh: ERROR: Unable to run BokehJS code because BokehJS library is missing\")\n",
       "        clearInterval(timer);\n",
       "      }\n",
       "    }, 10, root)\n",
       "  }\n",
       "})(window);"
      ],
      "application/vnd.bokehjs_exec.v0+json": ""
     },
     "metadata": {
      "application/vnd.bokehjs_exec.v0+json": {
       "id": "39ff4562-c2e3-4f04-b1d1-b711455a903c"
      }
     },
     "output_type": "display_data"
    }
   ],
   "source": [
    "p = figure(width=800,\n",
    "           height=400,\n",
    "           title='Global Irminger Sea Apex Surface Mooring - Near Surface Instrument Frame - Dissolved Oxygen',\n",
    "           x_axis_label='Time (GMT)',\n",
    "           y_axis_label='Dissolved Oxygen (umol kg-1)',\n",
    "           x_axis_type='datetime')\n",
    "\n",
    "p.circle(time, oxygen, color=colors, fill_alpha=0.2, size=4)\n",
    "output_notebook()\n",
    "show(p)"
   ]
  },
  {
   "cell_type": "markdown",
   "metadata": {
    "colab_type": "text",
    "id": "I8Dc2TUdOkXn"
   },
   "source": [
    "Import annotations for 'GI01SUMO-RID16-06-DOSTAD000'. See the request_annotations.ipynb notebook for more details."
   ]
  },
  {
   "cell_type": "code",
   "execution_count": 21,
   "metadata": {
    "colab": {
     "autoexec": {
      "startup": false,
      "wait_interval": 0
     }
    },
    "colab_type": "code",
    "id": "g9yIEyVMOkXn"
   },
   "outputs": [],
   "source": [
    "import netCDF4 as nc"
   ]
  },
  {
   "cell_type": "code",
   "execution_count": 22,
   "metadata": {
    "colab": {
     "autoexec": {
      "startup": false,
      "wait_interval": 0
     }
    },
    "colab_type": "code",
    "id": "e_NSnJy-OkXo"
   },
   "outputs": [],
   "source": [
    "beginDT = int(nc.date2num(datetime.datetime.strptime(\"2012-01-01T01:00:01Z\",'%Y-%m-%dT%H:%M:%SZ'),'seconds since 1970-01-01')*1000)\n",
    "endDT = int(nc.date2num(datetime.datetime.utcnow(),'seconds since 1970-01-01')*1000)\n",
    "\n",
    "anno_base_url = 'https://ooinet.oceanobservatories.org/api/m2m/12580/anno/find?' # base url and port for annotations\n",
    "\n",
    "params = { # define parameters\n",
    "    'beginDT':beginDT,\n",
    "    'endDT':endDT,\n",
    "    'refdes':'GI01SUMO-RID16-06-DOSTAD000'\n",
    "}\n",
    "\n",
    "r = requests.get(anno_base_url, params=params,auth=(username, token)) # send request for annotations\n",
    "\n",
    "anno_data = pd.read_json(json.dumps(r.json())) # convert json response to pandas dataframe"
   ]
  },
  {
   "cell_type": "markdown",
   "metadata": {
    "colab_type": "text",
    "id": "mtl4hHV3OkXp"
   },
   "source": [
    "Set up a function to convert the annotation milliseconds since 1970, which is a different time schema than is used for data, which is in seconds since 1900."
   ]
  },
  {
   "cell_type": "code",
   "execution_count": 23,
   "metadata": {
    "colab": {
     "autoexec": {
      "startup": false,
      "wait_interval": 0
     }
    },
    "colab_type": "code",
    "id": "Jndq2wtoOkXp"
   },
   "outputs": [],
   "source": [
    "def convert_time(time_stamp):\n",
    "    try: \n",
    "        time_stamp = (int(time_stamp)) / 1000\n",
    "        time_stamp = nc.num2date(time_stamp,'seconds since 1970-01-01')\n",
    "    except:\n",
    "        pass\n",
    "    return time_stamp\n",
    "\n",
    "# convert time stamps\n",
    "anno_data['beginDT'] = anno_data['beginDT'].apply(convert_time)\n",
    "anno_data['endDT'] = anno_data['endDT'].apply(convert_time)"
   ]
  },
  {
   "cell_type": "markdown",
   "metadata": {
    "colab_type": "text",
    "id": "gbuZm0gdOkXq"
   },
   "source": [
    "Print the annotations."
   ]
  },
  {
   "cell_type": "code",
   "execution_count": 24,
   "metadata": {
    "colab": {
     "autoexec": {
      "startup": false,
      "wait_interval": 0
     }
    },
    "colab_type": "code",
    "id": "T1sOYtK3OkXq",
    "outputId": "00264a6d-779f-42f2-e311-10a4f0466f7f"
   },
   "outputs": [
    {
     "name": "stdout",
     "output_type": "stream",
     "text": [
      "0\n",
      "Deployment 1: Status data sent from the buoy included leak detects in the buoy well, drop in battery voltage, and loss of wind turbine input. Upon recovery, the buoy was primarily intact but several instruments were damaged and/or missing. Ice build-up on the tower is speculated to be the cause for much of the damage. No telemetered or recovered_host data expected. Functional instruments could continue to collect data using internal battery power and storage cards.\n",
      "start time: 2015-02-15 00:00:00\n",
      "end time: 2015-08-22 00:00:00 \n",
      "\n",
      "1\n",
      "Deployment 2: A period of violent weather caused power outages on multiple instruments. No telemetered or recovered_host data expected. Functional instruments could continue to collect data using internal battery power and storage cards. Upon recovery, the buoy well was flooded.\n",
      "start time: 2016-01-27 00:00:00\n",
      "end time: 2016-07-19 00:00:00 \n",
      "\n",
      "2\n",
      "Deployment 3: Wind turbines were disabled due to evidence of ice build-up on the surface buoy tower. The platform's battery charge state declined steadily. As of 2017-01-15, all DCLs were shut down and the telemetry schedule was reduced to conserve power. Battery-powered instruments should continue to collect data. UPDATE 2017-04-07: With increasing daylight at this location, sufficient power was generated by solar panels to re-establish limited high-bandwidth telemetry and data transmission. UPDATE: at recovery, wind turbines were missing their hubs and blades, and one solar panel was missing.\n",
      "start time: 2016-12-27 00:00:00\n",
      "end time: 2017-04-07 00:00:00 \n",
      "\n",
      "3\n",
      "Deployment 4: at 10:03 UTC on 12 October 2017 the Irminger Sea Surface Mooring stopped all communications. At recovery, the surface buoy was missing but the subsurface portion of the mooring was recovered. The cause of the damage is unknown.\n",
      "start time: 2017-10-12 00:00:00\n",
      "end time: 2018-06-14 08:02:00 \n",
      "\n",
      "4\n",
      "Deployment 2: Dissolved oxygen noise increased, possibly from biofouling.\n",
      "start time: 2015-11-07 00:00:00\n",
      "end time: 2016-07-19 00:00:00 \n",
      "\n"
     ]
    }
   ],
   "source": [
    "for i in range(len((anno_data['annotation'].values))):\n",
    "    print(i)\n",
    "    print(anno_data['annotation'].iloc[i])\n",
    "    print('start time:', anno_data['beginDT'].iloc[i])\n",
    "    print('end time:', anno_data['endDT'].iloc[i],'\\n')"
   ]
  },
  {
   "cell_type": "markdown",
   "metadata": {
    "colab_type": "text",
    "id": "JpG6PJ-hOkXr"
   },
   "source": [
    "Select information from the fourth annotation and create the final plot."
   ]
  },
  {
   "cell_type": "code",
   "execution_count": 25,
   "metadata": {
    "colab": {
     "autoexec": {
      "startup": false,
      "wait_interval": 0
     }
    },
    "colab_type": "code",
    "id": "yY8gXfYpOkXr"
   },
   "outputs": [],
   "source": [
    "anno_start_time = anno_data['beginDT'].iloc[4]\n",
    "anno = anno_data['annotation'].iloc[4]"
   ]
  },
  {
   "cell_type": "code",
   "execution_count": 26,
   "metadata": {
    "colab": {
     "autoexec": {
      "startup": false,
      "wait_interval": 0
     }
    },
    "colab_type": "code",
    "id": "TMmxgHR9OkXs",
    "outputId": "0407faa2-be3a-4e0d-d8ec-a9e1b4146f0c"
   },
   "outputs": [
    {
     "data": {
      "text/html": [
       "\n",
       "    <div class=\"bk-root\">\n",
       "        <a href=\"https://bokeh.pydata.org\" target=\"_blank\" class=\"bk-logo bk-logo-small bk-logo-notebook\"></a>\n",
       "        <span id=\"b2d0eaa2-47bd-418c-acff-0d6078dc256d\">Loading BokehJS ...</span>\n",
       "    </div>"
      ]
     },
     "metadata": {},
     "output_type": "display_data"
    },
    {
     "data": {
      "application/javascript": [
       "\n",
       "(function(root) {\n",
       "  function now() {\n",
       "    return new Date();\n",
       "  }\n",
       "\n",
       "  var force = true;\n",
       "\n",
       "  if (typeof (root._bokeh_onload_callbacks) === \"undefined\" || force === true) {\n",
       "    root._bokeh_onload_callbacks = [];\n",
       "    root._bokeh_is_loading = undefined;\n",
       "  }\n",
       "\n",
       "  var JS_MIME_TYPE = 'application/javascript';\n",
       "  var HTML_MIME_TYPE = 'text/html';\n",
       "  var EXEC_MIME_TYPE = 'application/vnd.bokehjs_exec.v0+json';\n",
       "  var CLASS_NAME = 'output_bokeh rendered_html';\n",
       "\n",
       "  /**\n",
       "   * Render data to the DOM node\n",
       "   */\n",
       "  function render(props, node) {\n",
       "    var script = document.createElement(\"script\");\n",
       "    node.appendChild(script);\n",
       "  }\n",
       "\n",
       "  /**\n",
       "   * Handle when an output is cleared or removed\n",
       "   */\n",
       "  function handleClearOutput(event, handle) {\n",
       "    var cell = handle.cell;\n",
       "\n",
       "    var id = cell.output_area._bokeh_element_id;\n",
       "    var server_id = cell.output_area._bokeh_server_id;\n",
       "    // Clean up Bokeh references\n",
       "    if (id !== undefined) {\n",
       "      Bokeh.index[id].model.document.clear();\n",
       "      delete Bokeh.index[id];\n",
       "    }\n",
       "\n",
       "    if (server_id !== undefined) {\n",
       "      // Clean up Bokeh references\n",
       "      var cmd = \"from bokeh.io.state import curstate; print(curstate().uuid_to_server['\" + server_id + \"'].get_sessions()[0].document.roots[0]._id)\";\n",
       "      cell.notebook.kernel.execute(cmd, {\n",
       "        iopub: {\n",
       "          output: function(msg) {\n",
       "            var element_id = msg.content.text.trim();\n",
       "            Bokeh.index[element_id].model.document.clear();\n",
       "            delete Bokeh.index[element_id];\n",
       "          }\n",
       "        }\n",
       "      });\n",
       "      // Destroy server and session\n",
       "      var cmd = \"import bokeh.io.notebook as ion; ion.destroy_server('\" + server_id + \"')\";\n",
       "      cell.notebook.kernel.execute(cmd);\n",
       "    }\n",
       "  }\n",
       "\n",
       "  /**\n",
       "   * Handle when a new output is added\n",
       "   */\n",
       "  function handleAddOutput(event, handle) {\n",
       "    var output_area = handle.output_area;\n",
       "    var output = handle.output;\n",
       "\n",
       "    // limit handleAddOutput to display_data with EXEC_MIME_TYPE content only\n",
       "    if ((output.output_type != \"display_data\") || (!output.data.hasOwnProperty(EXEC_MIME_TYPE))) {\n",
       "      return\n",
       "    }\n",
       "\n",
       "    var toinsert = output_area.element.find(\".\" + CLASS_NAME.split(' ')[0]);\n",
       "\n",
       "    if (output.metadata[EXEC_MIME_TYPE][\"id\"] !== undefined) {\n",
       "      toinsert[0].firstChild.textContent = output.data[JS_MIME_TYPE];\n",
       "      // store reference to embed id on output_area\n",
       "      output_area._bokeh_element_id = output.metadata[EXEC_MIME_TYPE][\"id\"];\n",
       "    }\n",
       "    if (output.metadata[EXEC_MIME_TYPE][\"server_id\"] !== undefined) {\n",
       "      var bk_div = document.createElement(\"div\");\n",
       "      bk_div.innerHTML = output.data[HTML_MIME_TYPE];\n",
       "      var script_attrs = bk_div.children[0].attributes;\n",
       "      for (var i = 0; i < script_attrs.length; i++) {\n",
       "        toinsert[0].firstChild.setAttribute(script_attrs[i].name, script_attrs[i].value);\n",
       "      }\n",
       "      // store reference to server id on output_area\n",
       "      output_area._bokeh_server_id = output.metadata[EXEC_MIME_TYPE][\"server_id\"];\n",
       "    }\n",
       "  }\n",
       "\n",
       "  function register_renderer(events, OutputArea) {\n",
       "\n",
       "    function append_mime(data, metadata, element) {\n",
       "      // create a DOM node to render to\n",
       "      var toinsert = this.create_output_subarea(\n",
       "        metadata,\n",
       "        CLASS_NAME,\n",
       "        EXEC_MIME_TYPE\n",
       "      );\n",
       "      this.keyboard_manager.register_events(toinsert);\n",
       "      // Render to node\n",
       "      var props = {data: data, metadata: metadata[EXEC_MIME_TYPE]};\n",
       "      render(props, toinsert[0]);\n",
       "      element.append(toinsert);\n",
       "      return toinsert\n",
       "    }\n",
       "\n",
       "    /* Handle when an output is cleared or removed */\n",
       "    events.on('clear_output.CodeCell', handleClearOutput);\n",
       "    events.on('delete.Cell', handleClearOutput);\n",
       "\n",
       "    /* Handle when a new output is added */\n",
       "    events.on('output_added.OutputArea', handleAddOutput);\n",
       "\n",
       "    /**\n",
       "     * Register the mime type and append_mime function with output_area\n",
       "     */\n",
       "    OutputArea.prototype.register_mime_type(EXEC_MIME_TYPE, append_mime, {\n",
       "      /* Is output safe? */\n",
       "      safe: true,\n",
       "      /* Index of renderer in `output_area.display_order` */\n",
       "      index: 0\n",
       "    });\n",
       "  }\n",
       "\n",
       "  // register the mime type if in Jupyter Notebook environment and previously unregistered\n",
       "  if (root.Jupyter !== undefined) {\n",
       "    var events = require('base/js/events');\n",
       "    var OutputArea = require('notebook/js/outputarea').OutputArea;\n",
       "\n",
       "    if (OutputArea.prototype.mime_types().indexOf(EXEC_MIME_TYPE) == -1) {\n",
       "      register_renderer(events, OutputArea);\n",
       "    }\n",
       "  }\n",
       "\n",
       "  \n",
       "  if (typeof (root._bokeh_timeout) === \"undefined\" || force === true) {\n",
       "    root._bokeh_timeout = Date.now() + 5000;\n",
       "    root._bokeh_failed_load = false;\n",
       "  }\n",
       "\n",
       "  var NB_LOAD_WARNING = {'data': {'text/html':\n",
       "     \"<div style='background-color: #fdd'>\\n\"+\n",
       "     \"<p>\\n\"+\n",
       "     \"BokehJS does not appear to have successfully loaded. If loading BokehJS from CDN, this \\n\"+\n",
       "     \"may be due to a slow or bad network connection. Possible fixes:\\n\"+\n",
       "     \"</p>\\n\"+\n",
       "     \"<ul>\\n\"+\n",
       "     \"<li>re-rerun `output_notebook()` to attempt to load from CDN again, or</li>\\n\"+\n",
       "     \"<li>use INLINE resources instead, as so:</li>\\n\"+\n",
       "     \"</ul>\\n\"+\n",
       "     \"<code>\\n\"+\n",
       "     \"from bokeh.resources import INLINE\\n\"+\n",
       "     \"output_notebook(resources=INLINE)\\n\"+\n",
       "     \"</code>\\n\"+\n",
       "     \"</div>\"}};\n",
       "\n",
       "  function display_loaded() {\n",
       "    var el = document.getElementById(\"b2d0eaa2-47bd-418c-acff-0d6078dc256d\");\n",
       "    if (el != null) {\n",
       "      el.textContent = \"BokehJS is loading...\";\n",
       "    }\n",
       "    if (root.Bokeh !== undefined) {\n",
       "      if (el != null) {\n",
       "        el.textContent = \"BokehJS \" + root.Bokeh.version + \" successfully loaded.\";\n",
       "      }\n",
       "    } else if (Date.now() < root._bokeh_timeout) {\n",
       "      setTimeout(display_loaded, 100)\n",
       "    }\n",
       "  }\n",
       "\n",
       "\n",
       "  function run_callbacks() {\n",
       "    try {\n",
       "      root._bokeh_onload_callbacks.forEach(function(callback) { callback() });\n",
       "    }\n",
       "    finally {\n",
       "      delete root._bokeh_onload_callbacks\n",
       "    }\n",
       "    console.info(\"Bokeh: all callbacks have finished\");\n",
       "  }\n",
       "\n",
       "  function load_libs(js_urls, callback) {\n",
       "    root._bokeh_onload_callbacks.push(callback);\n",
       "    if (root._bokeh_is_loading > 0) {\n",
       "      console.log(\"Bokeh: BokehJS is being loaded, scheduling callback at\", now());\n",
       "      return null;\n",
       "    }\n",
       "    if (js_urls == null || js_urls.length === 0) {\n",
       "      run_callbacks();\n",
       "      return null;\n",
       "    }\n",
       "    console.log(\"Bokeh: BokehJS not loaded, scheduling load and callback at\", now());\n",
       "    root._bokeh_is_loading = js_urls.length;\n",
       "    for (var i = 0; i < js_urls.length; i++) {\n",
       "      var url = js_urls[i];\n",
       "      var s = document.createElement('script');\n",
       "      s.src = url;\n",
       "      s.async = false;\n",
       "      s.onreadystatechange = s.onload = function() {\n",
       "        root._bokeh_is_loading--;\n",
       "        if (root._bokeh_is_loading === 0) {\n",
       "          console.log(\"Bokeh: all BokehJS libraries loaded\");\n",
       "          run_callbacks()\n",
       "        }\n",
       "      };\n",
       "      s.onerror = function() {\n",
       "        console.warn(\"failed to load library \" + url);\n",
       "      };\n",
       "      console.log(\"Bokeh: injecting script tag for BokehJS library: \", url);\n",
       "      document.getElementsByTagName(\"head\")[0].appendChild(s);\n",
       "    }\n",
       "  };var element = document.getElementById(\"b2d0eaa2-47bd-418c-acff-0d6078dc256d\");\n",
       "  if (element == null) {\n",
       "    console.log(\"Bokeh: ERROR: autoload.js configured with elementid 'b2d0eaa2-47bd-418c-acff-0d6078dc256d' but no matching script tag was found. \")\n",
       "    return false;\n",
       "  }\n",
       "\n",
       "  var js_urls = [\"https://cdn.pydata.org/bokeh/release/bokeh-0.12.14.min.js\", \"https://cdn.pydata.org/bokeh/release/bokeh-widgets-0.12.14.min.js\", \"https://cdn.pydata.org/bokeh/release/bokeh-tables-0.12.14.min.js\", \"https://cdn.pydata.org/bokeh/release/bokeh-gl-0.12.14.min.js\"];\n",
       "\n",
       "  var inline_js = [\n",
       "    function(Bokeh) {\n",
       "      Bokeh.set_log_level(\"info\");\n",
       "    },\n",
       "    \n",
       "    function(Bokeh) {\n",
       "      \n",
       "    },\n",
       "    function(Bokeh) {\n",
       "      console.log(\"Bokeh: injecting CSS: https://cdn.pydata.org/bokeh/release/bokeh-0.12.14.min.css\");\n",
       "      Bokeh.embed.inject_css(\"https://cdn.pydata.org/bokeh/release/bokeh-0.12.14.min.css\");\n",
       "      console.log(\"Bokeh: injecting CSS: https://cdn.pydata.org/bokeh/release/bokeh-widgets-0.12.14.min.css\");\n",
       "      Bokeh.embed.inject_css(\"https://cdn.pydata.org/bokeh/release/bokeh-widgets-0.12.14.min.css\");\n",
       "      console.log(\"Bokeh: injecting CSS: https://cdn.pydata.org/bokeh/release/bokeh-tables-0.12.14.min.css\");\n",
       "      Bokeh.embed.inject_css(\"https://cdn.pydata.org/bokeh/release/bokeh-tables-0.12.14.min.css\");\n",
       "    }\n",
       "  ];\n",
       "\n",
       "  function run_inline_js() {\n",
       "    \n",
       "    if ((root.Bokeh !== undefined) || (force === true)) {\n",
       "      for (var i = 0; i < inline_js.length; i++) {\n",
       "        inline_js[i].call(root, root.Bokeh);\n",
       "      }if (force === true) {\n",
       "        display_loaded();\n",
       "      }} else if (Date.now() < root._bokeh_timeout) {\n",
       "      setTimeout(run_inline_js, 100);\n",
       "    } else if (!root._bokeh_failed_load) {\n",
       "      console.log(\"Bokeh: BokehJS failed to load within specified timeout.\");\n",
       "      root._bokeh_failed_load = true;\n",
       "    } else if (force !== true) {\n",
       "      var cell = $(document.getElementById(\"b2d0eaa2-47bd-418c-acff-0d6078dc256d\")).parents('.cell').data().cell;\n",
       "      cell.output_area.append_execute_result(NB_LOAD_WARNING)\n",
       "    }\n",
       "\n",
       "  }\n",
       "\n",
       "  if (root._bokeh_is_loading === 0) {\n",
       "    console.log(\"Bokeh: BokehJS loaded, going straight to plotting\");\n",
       "    run_inline_js();\n",
       "  } else {\n",
       "    load_libs(js_urls, function() {\n",
       "      console.log(\"Bokeh: BokehJS plotting callback run at\", now());\n",
       "      run_inline_js();\n",
       "    });\n",
       "  }\n",
       "}(window));"
      ],
      "application/vnd.bokehjs_load.v0+json": "\n(function(root) {\n  function now() {\n    return new Date();\n  }\n\n  var force = true;\n\n  if (typeof (root._bokeh_onload_callbacks) === \"undefined\" || force === true) {\n    root._bokeh_onload_callbacks = [];\n    root._bokeh_is_loading = undefined;\n  }\n\n  \n\n  \n  if (typeof (root._bokeh_timeout) === \"undefined\" || force === true) {\n    root._bokeh_timeout = Date.now() + 5000;\n    root._bokeh_failed_load = false;\n  }\n\n  var NB_LOAD_WARNING = {'data': {'text/html':\n     \"<div style='background-color: #fdd'>\\n\"+\n     \"<p>\\n\"+\n     \"BokehJS does not appear to have successfully loaded. If loading BokehJS from CDN, this \\n\"+\n     \"may be due to a slow or bad network connection. Possible fixes:\\n\"+\n     \"</p>\\n\"+\n     \"<ul>\\n\"+\n     \"<li>re-rerun `output_notebook()` to attempt to load from CDN again, or</li>\\n\"+\n     \"<li>use INLINE resources instead, as so:</li>\\n\"+\n     \"</ul>\\n\"+\n     \"<code>\\n\"+\n     \"from bokeh.resources import INLINE\\n\"+\n     \"output_notebook(resources=INLINE)\\n\"+\n     \"</code>\\n\"+\n     \"</div>\"}};\n\n  function display_loaded() {\n    var el = document.getElementById(\"b2d0eaa2-47bd-418c-acff-0d6078dc256d\");\n    if (el != null) {\n      el.textContent = \"BokehJS is loading...\";\n    }\n    if (root.Bokeh !== undefined) {\n      if (el != null) {\n        el.textContent = \"BokehJS \" + root.Bokeh.version + \" successfully loaded.\";\n      }\n    } else if (Date.now() < root._bokeh_timeout) {\n      setTimeout(display_loaded, 100)\n    }\n  }\n\n\n  function run_callbacks() {\n    try {\n      root._bokeh_onload_callbacks.forEach(function(callback) { callback() });\n    }\n    finally {\n      delete root._bokeh_onload_callbacks\n    }\n    console.info(\"Bokeh: all callbacks have finished\");\n  }\n\n  function load_libs(js_urls, callback) {\n    root._bokeh_onload_callbacks.push(callback);\n    if (root._bokeh_is_loading > 0) {\n      console.log(\"Bokeh: BokehJS is being loaded, scheduling callback at\", now());\n      return null;\n    }\n    if (js_urls == null || js_urls.length === 0) {\n      run_callbacks();\n      return null;\n    }\n    console.log(\"Bokeh: BokehJS not loaded, scheduling load and callback at\", now());\n    root._bokeh_is_loading = js_urls.length;\n    for (var i = 0; i < js_urls.length; i++) {\n      var url = js_urls[i];\n      var s = document.createElement('script');\n      s.src = url;\n      s.async = false;\n      s.onreadystatechange = s.onload = function() {\n        root._bokeh_is_loading--;\n        if (root._bokeh_is_loading === 0) {\n          console.log(\"Bokeh: all BokehJS libraries loaded\");\n          run_callbacks()\n        }\n      };\n      s.onerror = function() {\n        console.warn(\"failed to load library \" + url);\n      };\n      console.log(\"Bokeh: injecting script tag for BokehJS library: \", url);\n      document.getElementsByTagName(\"head\")[0].appendChild(s);\n    }\n  };var element = document.getElementById(\"b2d0eaa2-47bd-418c-acff-0d6078dc256d\");\n  if (element == null) {\n    console.log(\"Bokeh: ERROR: autoload.js configured with elementid 'b2d0eaa2-47bd-418c-acff-0d6078dc256d' but no matching script tag was found. \")\n    return false;\n  }\n\n  var js_urls = [\"https://cdn.pydata.org/bokeh/release/bokeh-0.12.14.min.js\", \"https://cdn.pydata.org/bokeh/release/bokeh-widgets-0.12.14.min.js\", \"https://cdn.pydata.org/bokeh/release/bokeh-tables-0.12.14.min.js\", \"https://cdn.pydata.org/bokeh/release/bokeh-gl-0.12.14.min.js\"];\n\n  var inline_js = [\n    function(Bokeh) {\n      Bokeh.set_log_level(\"info\");\n    },\n    \n    function(Bokeh) {\n      \n    },\n    function(Bokeh) {\n      console.log(\"Bokeh: injecting CSS: https://cdn.pydata.org/bokeh/release/bokeh-0.12.14.min.css\");\n      Bokeh.embed.inject_css(\"https://cdn.pydata.org/bokeh/release/bokeh-0.12.14.min.css\");\n      console.log(\"Bokeh: injecting CSS: https://cdn.pydata.org/bokeh/release/bokeh-widgets-0.12.14.min.css\");\n      Bokeh.embed.inject_css(\"https://cdn.pydata.org/bokeh/release/bokeh-widgets-0.12.14.min.css\");\n      console.log(\"Bokeh: injecting CSS: https://cdn.pydata.org/bokeh/release/bokeh-tables-0.12.14.min.css\");\n      Bokeh.embed.inject_css(\"https://cdn.pydata.org/bokeh/release/bokeh-tables-0.12.14.min.css\");\n    }\n  ];\n\n  function run_inline_js() {\n    \n    if ((root.Bokeh !== undefined) || (force === true)) {\n      for (var i = 0; i < inline_js.length; i++) {\n        inline_js[i].call(root, root.Bokeh);\n      }if (force === true) {\n        display_loaded();\n      }} else if (Date.now() < root._bokeh_timeout) {\n      setTimeout(run_inline_js, 100);\n    } else if (!root._bokeh_failed_load) {\n      console.log(\"Bokeh: BokehJS failed to load within specified timeout.\");\n      root._bokeh_failed_load = true;\n    } else if (force !== true) {\n      var cell = $(document.getElementById(\"b2d0eaa2-47bd-418c-acff-0d6078dc256d\")).parents('.cell').data().cell;\n      cell.output_area.append_execute_result(NB_LOAD_WARNING)\n    }\n\n  }\n\n  if (root._bokeh_is_loading === 0) {\n    console.log(\"Bokeh: BokehJS loaded, going straight to plotting\");\n    run_inline_js();\n  } else {\n    load_libs(js_urls, function() {\n      console.log(\"Bokeh: BokehJS plotting callback run at\", now());\n      run_inline_js();\n    });\n  }\n}(window));"
     },
     "metadata": {},
     "output_type": "display_data"
    },
    {
     "data": {
      "text/html": [
       "\n",
       "<div class=\"bk-root\">\n",
       "    <div class=\"bk-plotdiv\" id=\"57df2820-ad51-477a-a29f-fcae3a9c8fd7\"></div>\n",
       "</div>"
      ]
     },
     "metadata": {},
     "output_type": "display_data"
    },
    {
     "data": {
      "application/javascript": [
       "(function(root) {\n",
       "  function embed_document(root) {\n",
       "    \n",
       "  var docs_json = {\"d99e3d48-cecc-406c-8522-44cd929a4d7e\":{\"roots\":{\"references\":[{\"attributes\":{\"dimension\":1,\"plot\":{\"id\":\"0259120e-1b41-460e-a4c3-479c19dad17e\",\"subtype\":\"Figure\",\"type\":\"Plot\"},\"ticker\":{\"id\":\"7b1934b6-8412-4321-b15c-7ab67d4a3858\",\"type\":\"BasicTicker\"}},\"id\":\"5597a5a5-2fe0-4b9e-83b3-426ee44e484f\",\"type\":\"Grid\"},{\"attributes\":{\"days\":[1,4,7,10,13,16,19,22,25,28]},\"id\":\"399205fb-0ae9-44ac-bbbf-036e38bca6c8\",\"type\":\"DaysTicker\"},{\"attributes\":{},\"id\":\"7b1934b6-8412-4321-b15c-7ab67d4a3858\",\"type\":\"BasicTicker\"},{\"attributes\":{\"callback\":null},\"id\":\"d80548d0-5231-4b24-ab0d-c9c89b5f6cec\",\"type\":\"DataRange1d\"},{\"attributes\":{\"line_color\":\"#1f77b4\",\"line_width\":10,\"x\":{\"field\":\"x\"},\"y\":{\"field\":\"y\"}},\"id\":\"b6aad96d-8871-478d-89a9-6954d808244e\",\"type\":\"Line\"},{\"attributes\":{\"data_source\":{\"id\":\"54a9c305-6597-4d64-be12-6396c701eada\",\"type\":\"ColumnDataSource\"},\"glyph\":{\"id\":\"799058e9-c839-4c08-84c1-af4d2d20c539\",\"type\":\"Circle\"},\"hover_glyph\":null,\"muted_glyph\":null,\"nonselection_glyph\":{\"id\":\"97efbf3a-e4e0-45c8-b0b0-756951a1cc99\",\"type\":\"Circle\"},\"selection_glyph\":null,\"view\":{\"id\":\"aa1da80b-46b0-47ba-9148-707590235f57\",\"type\":\"CDSView\"}},\"id\":\"dfa11571-f0a9-4d0c-8547-b8974cf637c0\",\"type\":\"GlyphRenderer\"},{\"attributes\":{\"callback\":null,\"column_names\":[\"x\",\"y\"],\"data\":{\"x\":[1446854400000.0,1456794060663.0],\"y\":[263.30594510237285,263.30594510237285]}},\"id\":\"65f8beee-35fd-47fd-95d3-b0a87da61d25\",\"type\":\"ColumnDataSource\"},{\"attributes\":{},\"id\":\"4d1c3d91-48aa-4671-a180-1a9aa8f9bd9d\",\"type\":\"LinearScale\"},{\"attributes\":{\"mantissas\":[1,2,5],\"max_interval\":500.0,\"num_minor_ticks\":0},\"id\":\"db2ff1e9-ad4e-4fcd-b4d4-988cca326ae1\",\"type\":\"AdaptiveTicker\"},{\"attributes\":{\"months\":[0,1,2,3,4,5,6,7,8,9,10,11]},\"id\":\"0b9a0fe8-4034-4959-8818-bd20ce0913d2\",\"type\":\"MonthsTicker\"},{\"attributes\":{\"bottom_units\":\"screen\",\"fill_alpha\":{\"value\":0.5},\"fill_color\":{\"value\":\"lightgrey\"},\"left_units\":\"screen\",\"level\":\"overlay\",\"line_alpha\":{\"value\":1.0},\"line_color\":{\"value\":\"black\"},\"line_dash\":[4,4],\"line_width\":{\"value\":2},\"plot\":null,\"render_mode\":\"css\",\"right_units\":\"screen\",\"top_units\":\"screen\"},\"id\":\"6d14ad17-db03-4cb2-b0ee-c108e8d81c46\",\"type\":\"BoxAnnotation\"},{\"attributes\":{},\"id\":\"27914024-6e14-40b7-9f6c-6685f26979f6\",\"type\":\"DatetimeTickFormatter\"},{\"attributes\":{\"fill_alpha\":{\"value\":0.1},\"fill_color\":{\"value\":\"#1f77b4\"},\"line_alpha\":{\"value\":0.1},\"line_color\":{\"value\":\"#1f77b4\"},\"x\":{\"field\":\"x\"},\"y\":{\"field\":\"y\"}},\"id\":\"97efbf3a-e4e0-45c8-b0b0-756951a1cc99\",\"type\":\"Circle\"},{\"attributes\":{\"base\":24,\"mantissas\":[1,2,4,6,8,12],\"max_interval\":43200000.0,\"min_interval\":3600000.0,\"num_minor_ticks\":0},\"id\":\"4923e428-2f8f-4c71-8ce7-9af46ecab5df\",\"type\":\"AdaptiveTicker\"},{\"attributes\":{\"source\":{\"id\":\"54a9c305-6597-4d64-be12-6396c701eada\",\"type\":\"ColumnDataSource\"}},\"id\":\"aa1da80b-46b0-47ba-9148-707590235f57\",\"type\":\"CDSView\"},{\"attributes\":{\"days\":[1,8,15,22]},\"id\":\"2d16b59f-0e55-456b-85ea-2a3b026c9df4\",\"type\":\"DaysTicker\"},{\"attributes\":{\"overlay\":{\"id\":\"6d14ad17-db03-4cb2-b0ee-c108e8d81c46\",\"type\":\"BoxAnnotation\"}},\"id\":\"5241c902-459e-43bb-ac61-0eb826a06340\",\"type\":\"BoxZoomTool\"},{\"attributes\":{\"callback\":null,\"column_names\":[\"x\",\"y\",\"fill_color\",\"line_color\"],\"data\":{\"fill_color\":[\"green\",\"green\",\"green\",\"green\",\"green\",\"green\",\"green\",\"green\",\"green\",\"green\",\"green\",\"green\",\"green\",\"green\",\"green\",\"green\",\"green\",\"green\",\"green\",\"green\",\"green\",\"green\",\"green\",\"green\",\"green\",\"green\",\"green\",\"green\",\"green\",\"green\",\"green\",\"green\",\"green\",\"green\",\"green\",\"green\",\"green\",\"green\",\"green\",\"green\",\"green\",\"green\",\"green\",\"green\",\"green\",\"green\",\"green\",\"green\",\"green\",\"green\",\"green\",\"green\",\"green\",\"green\",\"green\",\"green\",\"green\",\"green\",\"green\",\"green\",\"green\",\"green\",\"green\",\"green\",\"green\",\"green\",\"green\",\"green\",\"green\",\"green\",\"green\",\"green\",\"green\",\"green\",\"green\",\"green\",\"green\",\"green\",\"green\",\"green\",\"green\",\"green\",\"green\",\"green\",\"green\",\"green\",\"green\",\"green\",\"green\",\"green\",\"green\",\"green\",\"green\",\"green\",\"green\",\"green\",\"green\",\"green\",\"green\",\"green\",\"green\",\"green\",\"green\",\"green\",\"green\",\"green\",\"green\",\"green\",\"green\",\"green\",\"green\",\"green\",\"green\",\"green\",\"green\",\"green\",\"green\",\"green\",\"green\",\"green\",\"green\",\"green\",\"green\",\"green\",\"green\",\"green\",\"green\",\"green\",\"green\",\"green\",\"green\",\"green\",\"green\",\"green\",\"green\",\"green\",\"green\",\"green\",\"green\",\"green\",\"green\",\"green\",\"green\",\"green\",\"green\",\"green\",\"green\",\"green\",\"green\",\"green\",\"green\",\"green\",\"green\",\"green\",\"green\",\"green\",\"green\",\"green\",\"green\",\"green\",\"green\",\"green\",\"green\",\"green\",\"green\",\"green\",\"green\",\"green\",\"green\",\"green\",\"green\",\"green\",\"green\",\"green\",\"green\",\"green\",\"green\",\"green\",\"green\",\"green\",\"green\",\"green\",\"green\",\"green\",\"green\",\"green\",\"green\",\"green\",\"green\",\"green\",\"green\",\"green\",\"green\",\"green\",\"green\",\"green\",\"green\",\"green\",\"green\",\"green\",\"green\",\"green\",\"green\",\"green\",\"green\",\"green\",\"green\",\"green\",\"green\",\"green\",\"green\",\"green\",\"green\",\"green\",\"green\",\"green\",\"green\",\"green\",\"green\",\"green\",\"green\",\"green\",\"green\",\"green\",\"green\",\"green\",\"green\",\"green\",\"green\",\"green\",\"green\",\"green\",\"green\",\"green\",\"green\",\"green\",\"green\",\"green\",\"green\",\"green\",\"green\",\"green\",\"green\",\"green\",\"green\",\"green\",\"green\",\"green\",\"green\",\"green\",\"green\",\"green\",\"green\",\"green\",\"green\",\"green\",\"green\",\"green\",\"green\",\"green\",\"green\",\"green\",\"green\",\"green\",\"green\",\"green\",\"green\",\"green\",\"green\",\"green\",\"green\",\"green\",\"green\",\"green\",\"green\",\"green\",\"green\",\"green\",\"green\",\"green\",\"green\",\"green\",\"green\",\"green\",\"green\",\"green\",\"green\",\"green\",\"green\",\"green\",\"green\",\"green\",\"green\",\"green\",\"green\",\"green\",\"green\",\"green\",\"green\",\"green\",\"green\",\"green\",\"green\",\"green\",\"green\",\"green\",\"green\",\"green\",\"green\",\"green\",\"green\",\"green\",\"green\",\"green\",\"green\",\"green\",\"green\",\"green\",\"green\",\"green\",\"green\",\"green\",\"green\",\"green\",\"green\",\"green\",\"green\",\"green\",\"green\",\"green\",\"green\",\"green\",\"green\",\"green\",\"green\",\"green\",\"green\",\"green\",\"green\",\"green\",\"green\",\"green\",\"green\",\"green\",\"green\",\"green\",\"green\",\"green\",\"green\",\"green\",\"green\",\"green\",\"green\",\"green\",\"green\",\"green\",\"green\",\"green\",\"green\",\"green\",\"green\",\"green\",\"green\",\"green\",\"green\",\"green\",\"green\",\"green\",\"green\",\"green\",\"green\",\"green\",\"green\",\"green\",\"green\",\"green\",\"green\",\"green\",\"green\",\"green\",\"green\",\"green\",\"green\",\"green\",\"green\",\"green\",\"green\",\"green\",\"green\",\"green\",\"green\",\"green\",\"green\",\"green\",\"green\",\"green\",\"green\",\"green\",\"green\",\"green\",\"green\",\"green\",\"green\",\"green\",\"green\",\"green\",\"green\",\"green\",\"green\",\"green\",\"green\",\"green\",\"green\",\"green\",\"green\",\"green\",\"green\",\"green\",\"green\",\"green\",\"green\",\"green\",\"green\",\"green\",\"green\",\"green\",\"green\",\"green\",\"green\",\"green\",\"green\",\"green\",\"green\",\"green\",\"green\",\"green\",\"green\",\"green\",\"green\",\"green\",\"green\",\"green\",\"green\",\"green\",\"green\",\"green\",\"green\",\"green\",\"green\",\"green\",\"green\",\"green\",\"green\",\"green\",\"green\",\"green\",\"green\",\"green\",\"green\",\"green\",\"green\",\"green\",\"green\",\"green\",\"green\",\"green\",\"green\",\"green\",\"green\",\"green\",\"green\",\"green\",\"green\",\"green\",\"green\",\"green\",\"green\",\"green\",\"green\",\"green\",\"green\",\"green\",\"green\",\"green\",\"green\",\"green\",\"green\",\"green\",\"green\",\"green\",\"green\",\"green\",\"green\",\"green\",\"green\",\"green\",\"green\",\"green\",\"green\",\"green\",\"green\",\"green\",\"green\",\"green\",\"green\",\"green\",\"green\",\"green\",\"green\",\"green\",\"green\",\"green\",\"green\",\"green\",\"green\",\"green\",\"green\",\"green\",\"green\",\"green\",\"green\",\"green\",\"green\",\"green\",\"green\",\"green\",\"green\",\"green\",\"green\",\"green\",\"green\",\"green\",\"green\",\"green\",\"green\",\"green\",\"green\",\"green\",\"green\",\"green\",\"green\",\"green\",\"green\",\"green\",\"green\",\"green\",\"green\",\"green\",\"green\",\"green\",\"green\",\"green\",\"green\",\"green\",\"green\",\"green\",\"green\",\"green\",\"green\",\"green\",\"green\",\"green\",\"green\",\"green\",\"green\",\"green\",\"green\",\"green\",\"green\",\"green\",\"green\",\"green\",\"green\",\"green\",\"green\",\"green\",\"green\",\"green\",\"green\",\"green\",\"green\",\"green\",\"green\",\"green\",\"green\",\"green\",\"green\",\"green\",\"green\",\"green\",\"green\",\"green\",\"green\",\"green\",\"green\",\"green\",\"green\",\"green\",\"green\",\"green\",\"green\",\"green\",\"green\",\"green\",\"green\",\"green\",\"green\",\"green\",\"green\",\"green\",\"green\",\"green\",\"green\",\"green\",\"green\",\"green\",\"green\",\"green\",\"green\",\"green\",\"green\",\"green\",\"green\",\"green\",\"green\",\"green\",\"green\",\"green\",\"green\",\"green\",\"green\",\"green\",\"green\",\"green\",\"green\",\"green\",\"green\",\"green\",\"green\",\"green\",\"green\",\"green\",\"green\",\"green\",\"green\",\"green\",\"green\",\"green\",\"green\",\"green\",\"green\",\"green\",\"green\",\"green\",\"green\",\"green\",\"green\",\"green\",\"green\",\"green\",\"green\",\"green\",\"green\",\"green\",\"green\",\"green\",\"green\",\"green\",\"green\",\"green\",\"green\",\"green\",\"green\",\"green\",\"green\",\"green\",\"green\",\"green\",\"green\",\"green\",\"green\",\"green\",\"green\",\"green\",\"green\",\"green\",\"green\",\"green\",\"green\",\"green\",\"green\",\"green\",\"green\",\"green\",\"green\",\"green\",\"green\",\"green\",\"green\",\"green\",\"green\",\"green\",\"green\",\"green\",\"green\",\"green\",\"green\",\"green\",\"green\",\"green\",\"green\",\"green\",\"green\",\"green\",\"green\",\"green\",\"green\",\"green\",\"green\",\"green\",\"green\",\"green\",\"green\",\"green\",\"green\",\"green\",\"green\",\"green\",\"green\",\"green\",\"green\",\"green\",\"green\",\"green\",\"green\",\"green\",\"green\",\"green\",\"green\",\"green\",\"green\",\"green\",\"green\",\"green\",\"green\",\"green\",\"green\",\"green\",\"green\",\"green\",\"green\",\"green\",\"green\",\"green\",\"green\",\"green\",\"green\",\"green\",\"green\",\"green\",\"green\",\"green\",\"green\",\"green\",\"green\",\"green\",\"green\",\"green\",\"green\",\"green\",\"green\",\"green\",\"green\",\"green\",\"green\",\"green\",\"green\",\"green\",\"green\",\"green\",\"green\",\"green\",\"green\",\"green\",\"green\",\"green\",\"green\",\"green\",\"green\",\"green\",\"green\",\"green\",\"green\",\"green\",\"green\",\"green\",\"green\",\"green\",\"green\",\"green\",\"green\",\"green\",\"green\",\"green\",\"green\",\"green\",\"green\",\"green\",\"green\",\"green\",\"green\",\"green\",\"green\",\"green\",\"green\",\"green\",\"green\",\"green\",\"green\",\"green\",\"green\",\"green\",\"green\",\"green\",\"green\",\"green\",\"green\",\"green\",\"green\",\"green\",\"green\",\"green\",\"green\",\"green\",\"green\",\"green\",\"green\",\"green\",\"green\",\"green\",\"green\",\"green\",\"green\",\"green\",\"green\",\"green\",\"green\",\"green\",\"green\",\"green\",\"green\",\"green\",\"green\",\"green\",\"green\",\"green\",\"green\",\"green\",\"green\",\"green\",\"green\",\"green\",\"green\",\"green\",\"green\",\"green\",\"green\",\"green\",\"green\",\"green\",\"green\",\"green\",\"green\",\"green\",\"green\",\"green\",\"green\",\"green\",\"green\",\"green\",\"green\",\"green\",\"green\",\"green\",\"green\",\"green\",\"green\",\"green\",\"red\",\"green\",\"green\",\"green\",\"green\",\"green\",\"green\",\"green\",\"green\",\"green\",\"green\",\"green\",\"green\",\"green\",\"green\",\"green\",\"green\",\"green\",\"green\",\"green\",\"green\",\"green\",\"green\",\"green\",\"green\",\"green\",\"green\",\"green\",\"green\",\"green\",\"green\",\"green\",\"green\",\"green\",\"green\",\"green\",\"green\",\"green\",\"green\",\"green\",\"green\",\"green\",\"green\",\"green\",\"green\",\"green\",\"green\",\"green\",\"green\",\"green\",\"green\",\"green\",\"green\",\"green\",\"green\",\"green\",\"green\",\"green\",\"green\",\"green\",\"green\",\"green\",\"green\",\"green\",\"green\",\"green\",\"green\",\"green\",\"green\",\"green\",\"green\",\"green\",\"green\",\"green\",\"green\",\"green\",\"green\",\"green\",\"green\",\"green\",\"green\",\"green\",\"green\",\"green\",\"green\",\"green\",\"green\",\"green\",\"green\",\"green\",\"green\",\"green\",\"green\",\"green\",\"green\",\"green\",\"green\",\"green\",\"green\",\"green\",\"green\",\"green\",\"green\",\"green\",\"green\",\"green\",\"green\",\"green\",\"green\",\"green\",\"red\",\"green\",\"green\"],\"line_color\":[\"green\",\"green\",\"green\",\"green\",\"green\",\"green\",\"green\",\"green\",\"green\",\"green\",\"green\",\"green\",\"green\",\"green\",\"green\",\"green\",\"green\",\"green\",\"green\",\"green\",\"green\",\"green\",\"green\",\"green\",\"green\",\"green\",\"green\",\"green\",\"green\",\"green\",\"green\",\"green\",\"green\",\"green\",\"green\",\"green\",\"green\",\"green\",\"green\",\"green\",\"green\",\"green\",\"green\",\"green\",\"green\",\"green\",\"green\",\"green\",\"green\",\"green\",\"green\",\"green\",\"green\",\"green\",\"green\",\"green\",\"green\",\"green\",\"green\",\"green\",\"green\",\"green\",\"green\",\"green\",\"green\",\"green\",\"green\",\"green\",\"green\",\"green\",\"green\",\"green\",\"green\",\"green\",\"green\",\"green\",\"green\",\"green\",\"green\",\"green\",\"green\",\"green\",\"green\",\"green\",\"green\",\"green\",\"green\",\"green\",\"green\",\"green\",\"green\",\"green\",\"green\",\"green\",\"green\",\"green\",\"green\",\"green\",\"green\",\"green\",\"green\",\"green\",\"green\",\"green\",\"green\",\"green\",\"green\",\"green\",\"green\",\"green\",\"green\",\"green\",\"green\",\"green\",\"green\",\"green\",\"green\",\"green\",\"green\",\"green\",\"green\",\"green\",\"green\",\"green\",\"green\",\"green\",\"green\",\"green\",\"green\",\"green\",\"green\",\"green\",\"green\",\"green\",\"green\",\"green\",\"green\",\"green\",\"green\",\"green\",\"green\",\"green\",\"green\",\"green\",\"green\",\"green\",\"green\",\"green\",\"green\",\"green\",\"green\",\"green\",\"green\",\"green\",\"green\",\"green\",\"green\",\"green\",\"green\",\"green\",\"green\",\"green\",\"green\",\"green\",\"green\",\"green\",\"green\",\"green\",\"green\",\"green\",\"green\",\"green\",\"green\",\"green\",\"green\",\"green\",\"green\",\"green\",\"green\",\"green\",\"green\",\"green\",\"green\",\"green\",\"green\",\"green\",\"green\",\"green\",\"green\",\"green\",\"green\",\"green\",\"green\",\"green\",\"green\",\"green\",\"green\",\"green\",\"green\",\"green\",\"green\",\"green\",\"green\",\"green\",\"green\",\"green\",\"green\",\"green\",\"green\",\"green\",\"green\",\"green\",\"green\",\"green\",\"green\",\"green\",\"green\",\"green\",\"green\",\"green\",\"green\",\"green\",\"green\",\"green\",\"green\",\"green\",\"green\",\"green\",\"green\",\"green\",\"green\",\"green\",\"green\",\"green\",\"green\",\"green\",\"green\",\"green\",\"green\",\"green\",\"green\",\"green\",\"green\",\"green\",\"green\",\"green\",\"green\",\"green\",\"green\",\"green\",\"green\",\"green\",\"green\",\"green\",\"green\",\"green\",\"green\",\"green\",\"green\",\"green\",\"green\",\"green\",\"green\",\"green\",\"green\",\"green\",\"green\",\"green\",\"green\",\"green\",\"green\",\"green\",\"green\",\"green\",\"green\",\"green\",\"green\",\"green\",\"green\",\"green\",\"green\",\"green\",\"green\",\"green\",\"green\",\"green\",\"green\",\"green\",\"green\",\"green\",\"green\",\"green\",\"green\",\"green\",\"green\",\"green\",\"green\",\"green\",\"green\",\"green\",\"green\",\"green\",\"green\",\"green\",\"green\",\"green\",\"green\",\"green\",\"green\",\"green\",\"green\",\"green\",\"green\",\"green\",\"green\",\"green\",\"green\",\"green\",\"green\",\"green\",\"green\",\"green\",\"green\",\"green\",\"green\",\"green\",\"green\",\"green\",\"green\",\"green\",\"green\",\"green\",\"green\",\"green\",\"green\",\"green\",\"green\",\"green\",\"green\",\"green\",\"green\",\"green\",\"green\",\"green\",\"green\",\"green\",\"green\",\"green\",\"green\",\"green\",\"green\",\"green\",\"green\",\"green\",\"green\",\"green\",\"green\",\"green\",\"green\",\"green\",\"green\",\"green\",\"green\",\"green\",\"green\",\"green\",\"green\",\"green\",\"green\",\"green\",\"green\",\"green\",\"green\",\"green\",\"green\",\"green\",\"green\",\"green\",\"green\",\"green\",\"green\",\"green\",\"green\",\"green\",\"green\",\"green\",\"green\",\"green\",\"green\",\"green\",\"green\",\"green\",\"green\",\"green\",\"green\",\"green\",\"green\",\"green\",\"green\",\"green\",\"green\",\"green\",\"green\",\"green\",\"green\",\"green\",\"green\",\"green\",\"green\",\"green\",\"green\",\"green\",\"green\",\"green\",\"green\",\"green\",\"green\",\"green\",\"green\",\"green\",\"green\",\"green\",\"green\",\"green\",\"green\",\"green\",\"green\",\"green\",\"green\",\"green\",\"green\",\"green\",\"green\",\"green\",\"green\",\"green\",\"green\",\"green\",\"green\",\"green\",\"green\",\"green\",\"green\",\"green\",\"green\",\"green\",\"green\",\"green\",\"green\",\"green\",\"green\",\"green\",\"green\",\"green\",\"green\",\"green\",\"green\",\"green\",\"green\",\"green\",\"green\",\"green\",\"green\",\"green\",\"green\",\"green\",\"green\",\"green\",\"green\",\"green\",\"green\",\"green\",\"green\",\"green\",\"green\",\"green\",\"green\",\"green\",\"green\",\"green\",\"green\",\"green\",\"green\",\"green\",\"green\",\"green\",\"green\",\"green\",\"green\",\"green\",\"green\",\"green\",\"green\",\"green\",\"green\",\"green\",\"green\",\"green\",\"green\",\"green\",\"green\",\"green\",\"green\",\"green\",\"green\",\"green\",\"green\",\"green\",\"green\",\"green\",\"green\",\"green\",\"green\",\"green\",\"green\",\"green\",\"green\",\"green\",\"green\",\"green\",\"green\",\"green\",\"green\",\"green\",\"green\",\"green\",\"green\",\"green\",\"green\",\"green\",\"green\",\"green\",\"green\",\"green\",\"green\",\"green\",\"green\",\"green\",\"green\",\"green\",\"green\",\"green\",\"green\",\"green\",\"green\",\"green\",\"green\",\"green\",\"green\",\"green\",\"green\",\"green\",\"green\",\"green\",\"green\",\"green\",\"green\",\"green\",\"green\",\"green\",\"green\",\"green\",\"green\",\"green\",\"green\",\"green\",\"green\",\"green\",\"green\",\"green\",\"green\",\"green\",\"green\",\"green\",\"green\",\"green\",\"green\",\"green\",\"green\",\"green\",\"green\",\"green\",\"green\",\"green\",\"green\",\"green\",\"green\",\"green\",\"green\",\"green\",\"green\",\"green\",\"green\",\"green\",\"green\",\"green\",\"green\",\"green\",\"green\",\"green\",\"green\",\"green\",\"green\",\"green\",\"green\",\"green\",\"green\",\"green\",\"green\",\"green\",\"green\",\"green\",\"green\",\"green\",\"green\",\"green\",\"green\",\"green\",\"green\",\"green\",\"green\",\"green\",\"green\",\"green\",\"green\",\"green\",\"green\",\"green\",\"green\",\"green\",\"green\",\"green\",\"green\",\"green\",\"green\",\"green\",\"green\",\"green\",\"green\",\"green\",\"green\",\"green\",\"green\",\"green\",\"green\",\"green\",\"green\",\"green\",\"green\",\"green\",\"green\",\"green\",\"green\",\"green\",\"green\",\"green\",\"green\",\"green\",\"green\",\"green\",\"green\",\"green\",\"green\",\"green\",\"green\",\"green\",\"green\",\"green\",\"green\",\"green\",\"green\",\"green\",\"green\",\"green\",\"green\",\"green\",\"green\",\"green\",\"green\",\"green\",\"green\",\"green\",\"green\",\"green\",\"green\",\"green\",\"green\",\"green\",\"green\",\"green\",\"green\",\"green\",\"green\",\"green\",\"green\",\"green\",\"green\",\"green\",\"green\",\"green\",\"green\",\"green\",\"green\",\"green\",\"green\",\"green\",\"green\",\"green\",\"green\",\"green\",\"green\",\"green\",\"green\",\"green\",\"green\",\"green\",\"green\",\"green\",\"green\",\"green\",\"green\",\"green\",\"green\",\"green\",\"green\",\"green\",\"green\",\"green\",\"green\",\"green\",\"green\",\"green\",\"green\",\"green\",\"green\",\"green\",\"green\",\"green\",\"green\",\"green\",\"green\",\"green\",\"green\",\"green\",\"green\",\"green\",\"green\",\"green\",\"green\",\"green\",\"green\",\"green\",\"green\",\"green\",\"green\",\"green\",\"green\",\"green\",\"green\",\"green\",\"green\",\"green\",\"green\",\"green\",\"green\",\"green\",\"green\",\"green\",\"green\",\"green\",\"green\",\"green\",\"green\",\"green\",\"green\",\"green\",\"green\",\"green\",\"green\",\"green\",\"green\",\"green\",\"green\",\"green\",\"green\",\"green\",\"green\",\"green\",\"green\",\"green\",\"green\",\"green\",\"green\",\"green\",\"green\",\"green\",\"green\",\"green\",\"green\",\"green\",\"green\",\"green\",\"green\",\"green\",\"green\",\"green\",\"green\",\"green\",\"green\",\"green\",\"green\",\"green\",\"green\",\"green\",\"green\",\"green\",\"green\",\"green\",\"green\",\"green\",\"green\",\"green\",\"green\",\"green\",\"green\",\"green\",\"green\",\"green\",\"green\",\"green\",\"green\",\"green\",\"green\",\"green\",\"green\",\"green\",\"green\",\"green\",\"green\",\"green\",\"green\",\"green\",\"green\",\"green\",\"green\",\"green\",\"green\",\"green\",\"green\",\"green\",\"green\",\"green\",\"green\",\"green\",\"green\",\"green\",\"green\",\"green\",\"green\",\"green\",\"green\",\"green\",\"green\",\"green\",\"green\",\"green\",\"green\",\"green\",\"green\",\"green\",\"green\",\"green\",\"green\",\"green\",\"green\",\"green\",\"green\",\"green\",\"green\",\"green\",\"green\",\"green\",\"green\",\"green\",\"green\",\"green\",\"green\",\"green\",\"red\",\"green\",\"green\",\"green\",\"green\",\"green\",\"green\",\"green\",\"green\",\"green\",\"green\",\"green\",\"green\",\"green\",\"green\",\"green\",\"green\",\"green\",\"green\",\"green\",\"green\",\"green\",\"green\",\"green\",\"green\",\"green\",\"green\",\"green\",\"green\",\"green\",\"green\",\"green\",\"green\",\"green\",\"green\",\"green\",\"green\",\"green\",\"green\",\"green\",\"green\",\"green\",\"green\",\"green\",\"green\",\"green\",\"green\",\"green\",\"green\",\"green\",\"green\",\"green\",\"green\",\"green\",\"green\",\"green\",\"green\",\"green\",\"green\",\"green\",\"green\",\"green\",\"green\",\"green\",\"green\",\"green\",\"green\",\"green\",\"green\",\"green\",\"green\",\"green\",\"green\",\"green\",\"green\",\"green\",\"green\",\"green\",\"green\",\"green\",\"green\",\"green\",\"green\",\"green\",\"green\",\"green\",\"green\",\"green\",\"green\",\"green\",\"green\",\"green\",\"green\",\"green\",\"green\",\"green\",\"green\",\"green\",\"green\",\"green\",\"green\",\"green\",\"green\",\"green\",\"green\",\"green\",\"green\",\"green\",\"green\",\"green\",\"red\",\"green\",\"green\"],\"x\":[1441069260025.0002,1441069262025.0002,1441084682060.0,1441100741533.0,1441116181415.0,1441132223642.9995,1441147681581.0005,1441162982027.0,1441179181849.9998,1441194482381.0,1441210682968.0,1441225981487.0,1441242183725.0,1441257480498.0002,1441273680678.9998,1441288982281.0002,1441305182500.0,1441320483163.0,1441336683573.9998,1441351981845.9995,1441368181078.0002,1441383482392.0002,1441399683374.0002,1441414981329.0,1441431183055.9998,1441446482550.0002,1441462683609.0002,1441477983210.0002,1441494182911.9998,1441509481157.0002,1441525682454.9998,1441540983005.0002,1441557183408.0,1441572481538.0002,1441588681841.0002,1441603982088.9998,1441620180224.0,1441635484003.0002,1441651661569.0002,1441666982019.0,1441683142613.0,1441698482757.0,1441714622647.9998,1441729981764.0,1441746104937.9995,1441761480743.0,1441777584713.0002,1441792980399.0,1441809066666.9998,1441824480974.9998,1441840547937.0002,1441855980789.0,1441872029006.0002,1441887481801.0002,1441903510357.9998,1441918982185.9998,1441934280197.9998,1441950483128.0002,1441965781395.0,1441981981338.9998,1441997281867.0,1442013482416.0,1442028781111.0,1442044983857.9998,1442060282519.0,1442076480423.0002,1442091782548.0002,1442107982269.9998,1442123280942.9998,1442139480705.0,1442154781477.9995,1442170982718.9998,1442186281338.0005,1442202481640.9998,1442217782515.0002,1442233982857.0005,1442249281842.9998,1442265481561.0,1442280782107.9998,1442296980929.0,1442312281890.0005,1442328480131.0,1442343780949.0,1442359983161.0002,1442375281836.0,1442391466963.0002,1442406783135.9998,1442422947243.0,1442438281640.0002,1442454428277.9998,1442469783298.0005,1442485909841.0002,1442501280396.0,1442517389585.0,1442532782855.0,1442548871361.9998,1442564281727.9998,1442580352474.9998,1442595782053.9998,1442611834746.9998,1442627282381.0,1442643315361.0,1442658780694.9998,1442674082697.9998,1442690281503.9998,1442705582040.0,1442721781451.0002,1442737083033.9998,1442753282232.9998,1442768582849.9998,1442784781621.9995,1442800082052.0,1442816282336.0,1442831581156.0002,1442847781585.0,1442863082553.0,1442879281416.0,1442894582036.0002,1442910782421.9998,1442926081566.9998,1442942282355.0,1442957581528.0,1442973783866.0002,1442989082325.0,1443005281857.9998,1443020582914.0002,1443036783390.9998,1443052081640.0002,1443068281800.0002,1443083582357.0005,1443099782232.0002,1443115081019.0,1443131272338.0005,1443146583611.0,1443162752614.9998,1443178083653.0,1443194232859.0002,1443209581421.0,1443225714996.9998,1443241082142.9995,1443257195080.0,1443272581749.0002,1443288676540.0,1443304081635.9998,1443320158118.0002,1443335580731.0,1443351639635.0002,1443367082580.0,1443383119519.0,1443398582334.0002,1443413882172.0,1443430082703.0,1443445381829.0,1443461583265.9998,1443476882777.0,1443493081875.0,1443508381488.0,1443524583407.0,1443539882613.0,1443556080611.0,1443571382841.0002,1443587582637.0002,1443602882007.0,1443619081291.9998,1443634383104.0,1443650580633.9998,1443665881838.0005,1443682081356.0,1443697381046.9998,1443713580684.0,1443728882414.0002,1443745082128.9998,1443760382019.0,1443776582257.0,1443791882533.9998,1443808082401.0,1443823380821.0002,1443839582918.9995,1443854881040.0,1443871077130.0002,1443886382817.9998,1443902558001.0,1443917881869.0,1443934038977.9995,1443949383059.0,1443965520805.9998,1443980882288.0,1443997001022.0005,1444012382907.0,1444028481508.0,1444043882378.0005,1444059964463.0002,1444075382701.9995,1444091445395.0,1444106882389.0,1444122925967.0,1444138380959.0,1444153680349.0,1444169880917.0,1444185183342.9998,1444201382133.9998,1444216680614.9998,1444232881935.9998,1444248182748.0002,1444264381842.0002,1444279681717.9998,1444295883809.9998,1444311180734.0002,1444327382444.9998,1444342681607.0002,1444358881081.9998,1444374182180.0002,1444390382789.0,1444405681737.0,1444421883257.0,1444437183005.0002,1444453381632.0,1444468682975.9998,1444484883630.0002,1444500181970.9998,1444516382220.0002,1444531682618.0002,1444547880819.0002,1444563183109.9995,1444579381592.0,1444594682712.0,1444610883059.0,1444626182506.0002,1444642362742.0002,1444657681729.0002,1444673845463.0002,1444689181889.0,1444705326163.0,1444720682524.0002,1444736806216.0,1444752182364.9998,1444768288602.0002,1444783681057.0002,1444799768551.0,1444815182468.0,1444831250205.0,1444846680411.9998,1444862731951.9998,1444878180767.0002,1444894211793.9995,1444909681000.0,1444924981305.0002,1444941181619.0,1444956480737.0,1444972682510.9995,1444987982408.0,1445004182926.0002,1445019482993.0,1445035680736.0,1445050981312.9998,1445067181387.0,1445082480960.0,1445098682885.9995,1445113980620.0,1445130182206.0005,1445145481925.0002,1445161680921.9998,1445176982331.0002,1445193181331.0002,1445208482909.0,1445224682333.0002,1445239982712.0,1445256181281.0002,1445271481897.0002,1445287681835.0,1445302983112.0,1445319181579.0,1445334481647.9998,1445350682435.9998,1445365983135.0002,1445382169873.0002,1445397481720.0002,1445413650382.9998,1445428982335.0,1445445130732.9998,1445460483465.0002,1445476612039.0,1445491981826.0002,1445508092640.0002,1445523480628.9998,1445539574600.0,1445554981946.0002,1445571054654.0005,1445586481677.9998,1445602536242.0002,1445617981154.9998,1445634017760.0002,1445649480513.9998,1445664783061.0,1445680982224.0,1445696282975.9998,1445712481013.9998,1445727782041.9998,1445743981645.0,1445759282135.9998,1445775481970.0005,1445790781757.9998,1445806981591.0,1445822282158.9998,1445838482334.0002,1445853782949.0,1445869981767.0002,1445885283377.0,1445901482111.0,1445916780559.0,1445932982793.0002,1445948280992.0,1445964480797.0,1445979782852.0002,1445995980561.0,1446011282913.0002,1446027480657.9998,1446042781996.9998,1446058982270.9998,1446074281895.0,1446090481921.9998,1446105782326.9995,1446121974819.0002,1446137280914.0002,1446153454668.0002,1446168780834.0002,1446184936743.0,1446200281484.0002,1446216417369.0,1446231782137.0002,1446247898151.0,1446263281921.9998,1446279379121.9995,1446294782996.9998,1446310859932.0002,1446326281647.0002,1446342342447.0,1446357782147.9998,1446373823789.9998,1446389283494.9998,1446404583062.0005,1446420782390.0005,1446436083013.0,1446452283441.0,1446467581878.9998,1446483781624.0,1446499081937.9995,1446515282401.0,1446530582793.9995,1446546782371.0002,1446562082977.9995,1446578282579.0,1446593582680.9998,1446609782390.9998,1446625082592.0,1446641280534.9998,1446656580481.0,1446672782249.9998,1446688082102.0002,1446704281769.0,1446719583345.9995,1446735780809.0,1446751080949.9998,1446767282242.0002,1446782582062.9998,1446798780896.0,1446814083073.9998,1446830281831.9998,1446845583184.0,1446861779760.9998,1446877082617.0002,1446893261132.0,1446908581010.9998,1446924741963.0002,1446940081417.0,1446956222458.0002,1446971581699.9998,1446987704340.0002,1447003080557.0002,1447019184499.0,1447034582506.0002,1447050666710.0002,1447066082137.0002,1447082146757.0,1447097581322.0002,1447113629119.0,1447129082829.9998,1447144382312.9998,1447160582517.9995,1447175881451.0002,1447192081812.0002,1447207380553.0,1447223580102.9998,1447238882357.0005,1447255081285.0,1447270380701.9995,1447286580631.0,1447301881567.9998,1447318083080.0,1447333382486.0002,1447349581911.0002,1447364883573.9998,1447381083031.0,1447396383027.0,1447412582006.0002,1447427883901.9998,1447444080716.0,1447459382234.0002,1447475581048.9998,1447490882385.9995,1447507083361.9998,1447522382223.0,1447538581381.0,1447553880734.9995,1447570081147.9998,1447585380651.0,1447601583693.0,1447616881489.0005,1447633065300.0002,1447648380709.0002,1447664546703.0,1447679882211.0,1447696028819.0002,1447711382619.0,1447727509125.9998,1447742882157.0002,1447758990231.0,1447774381323.0,1447790472062.9998,1447805882156.0002,1447821953552.0,1447837380989.0002,1447853434762.0002,1447868883536.0002,1447884914650.0002,1447900380980.0,1447915682941.0,1447931883404.0002,1447947182326.0002,1447963382930.0005,1447978683255.0,1447994882572.0,1448010181722.0002,1448026381580.0,1448041681724.0,1448057881225.9998,1448073181227.9998,1448089381979.0,1448104683272.0002,1448120880281.0002,1448136181197.0,1448152381257.9998,1448167681244.0,1448183882536.9998,1448199180525.0002,1448215381744.0,1448230681304.0,1448246883474.9998,1448262181834.0002,1448278381635.9998,1448293682546.9998,1448309881923.9998,1448325180123.0,1448341381005.0002,1448356680301.0002,1448372871611.0,1448388182388.0,1448404352553.0,1448419682088.9998,1448435834682.0002,1448451182038.0002,1448467314857.0005,1448482682887.0,1448498796175.0,1448514181770.9998,1448530277901.0,1448545680182.0002,1448561759151.0,1448577183602.0002,1448593240213.9998,1448608681859.0002,1448624719612.0,1448640182046.0002,1448655481937.9995,1448671681029.0002,1448686980482.9998,1448703182312.9998,1448718481965.0002,1448734680770.9998,1448749981022.0005,1448766182246.9998,1448781481763.0,1448797681041.0,1448812981135.9998,1448829183158.9998,1448844481486.0002,1448860681215.0,1448875982916.0,1448892182973.9998,1448907480745.0,1448923681215.0,1448938980944.0002,1448955183480.0,1448970482300.0002,1448986681203.0,1449001981009.0,1449018181067.9998,1449033482616.0002,1449049682290.9998,1449064982241.0002,1449081182204.0,1449096481222.0002,1449112676642.0002,1449127981526.0002,1449144158996.9998,1449159483595.0002,1449175640198.9998,1449190981006.0002,1449207120454.9998,1449222482902.9998,1449238601672.0,1449253980513.9998,1449270082742.0002,1449285480607.0002,1449301563144.0,1449316981496.0002,1449333045025.0002,1449348483279.9998,1449364526463.9998,1449379982275.0,1449395282269.9998,1449411482267.9998,1449426783409.9998,1449442981269.9998,1449458280616.0002,1449474481349.0,1449489782444.9998,1449505982546.0002,1449521281421.0,1449537481147.9998,1449552781061.0,1449568981420.0,1449584282172.0,1449600481010.9998,1449615781849.9998,1449631983359.9998,1449647282126.9998,1449663482703.0,1449678781890.0005,1449694982640.9998,1449710281969.0,1449726482058.0002,1449741782689.0002,1449757981656.0002,1449773281177.0,1449789481896.0,1449804781901.9998,1449820980720.9998,1449836281147.0002,1449852483196.0,1449867783325.0,1449883963190.0002,1449899281904.9998,1449915445659.9998,1449930781918.9995,1449946926209.0002,1449962281269.9998,1449978407817.9998,1449993782230.0002,1450009887801.0002,1450025281982.9998,1450041368093.0,1450056782565.0,1450072850850.9998,1450088280628.0002,1450104331561.0,1450119782065.9998,1450135811765.9998,1450151280668.0002,1450166580687.0002,1450182782055.0002,1450198081644.0,1450214281868.0,1450229582885.0002,1450245783430.0005,1450261082074.9998,1450277281881.0,1450292583727.0002,1450308781210.0002,1450324082901.9998,1450340281685.9998,1450355581356.0,1450371780762.0002,1450387082180.0002,1450403280211.0,1450418581359.9998,1450434781224.0,1450450082329.0,1450466281168.9998,1450481581607.0002,1450497781286.0002,1450513081286.9998,1450529281475.9998,1450544582541.0,1450560782194.9998,1450576080859.9998,1450592281598.0002,1450607582944.0002,1450623768918.9995,1450639081354.0002,1450655250894.0002,1450670582168.0002,1450686731231.0,1450702082845.0002,1450718213111.0,1450733582389.0,1450749692781.0002,1450765080284.0,1450781174689.0002,1450796581815.0,1450812656031.0,1450828081197.9998,1450844135909.9998,1450859581264.0,1450875617949.0,1450891083253.9995,1450906381697.0,1450922581680.0002,1450937882133.9998,1450954082713.0002,1450969380933.0002,1450985581540.0,1451000882085.0,1451017082229.0002,1451032380711.0,1451048581657.0002,1451063882279.0002,1451080080484.0002,1451095382176.0,1451111583242.0002,1451126882852.0002,1451143082231.0,1451158380224.0,1451174581439.0,1451189883189.0002,1451206082239.0002,1451221381670.0002,1451237582762.0002,1451252881788.0,1451269082411.0002,1451284380389.0,1451300581909.0,1451315881309.0,1451332080595.0002,1451347380881.9998,1451363575257.9998,1451378881723.0,1451395056241.0002,1451410382831.0002,1451426536682.0002,1451441881793.0002,1451458018434.0002,1451473382625.9998,1451489499275.0,1451504881154.9998,1451520980607.9998,1451536381909.9998,1451552459970.0005,1451567882388.0,1451583942172.0,1451599382722.0002,1451615422923.0002,1451630881585.9998,1451646181810.9998,1451662381699.9998,1451677683760.0002,1451693882663.0,1451709182498.0002,1451725381953.0002,1451740680541.0,1451756882984.9998,1451772180388.0,1451788382873.0002,1451803683212.0,1451819882630.0002,1451835182489.9998,1451851382797.0,1451866681795.0,1451882881583.0,1451898182762.0002,1451914381712.0,1451929681050.0002,1451945881845.0002,1451961181060.0,1451977381826.0002,1451992680930.9998,1452008881272.9998,1452024181814.0002,1452040380981.0,1452055682239.9998,1452071880958.0002,1452087182572.0,1452103378973.0,1452118680389.0,1452134860114.9998,1452150182666.9998,1452166342963.9998,1452181682006.0002,1452197822862.9998,1452213183031.0,1452229304441.0,1452244682343.9998,1452260785206.0005,1452276181466.0002,1452292266653.0,1452307681640.0002,1452323747989.9998,1452339180727.0002,1452355228084.0,1452370682274.0002,1452386709441.9998,1452402182705.0,1452417481824.0,1452433680687.9998,1452448980319.9998,1452465181678.9998,1452480481131.0,1452496681849.9998,1452511981364.9998,1452528180399.0,1452543482199.9998,1452559681543.9998,1452574982475.9998,1452591183377.0,1452606482253.0002,1452622683683.0,1452637981216.0,1452654182506.0002,1452669481437.0002,1452685681935.9998,1452700981672.0,1452717182029.9995,1452732481769.0,1452748682276.0,1452763981470.9998,1452780182239.0002,1452795483477.9995,1452811682345.0002,1452826981991.0,1452843181298.0005,1452858480319.9998,1452874665653.0,1452889981807.0,1452906146809.9998,1452921481031.0,1452937628279.0002,1452952982716.0,1452969109626.9998,1452984483267.0002,1453000590345.9995,1453015981956.9998,1453032072354.0002,1453047481765.0005,1453063552701.0002,1453078982404.9998,1453095032956.0002,1453110480142.9995,1453126514744.0,1453141982499.0,1453157282789.9998,1453173483297.0,1453188782769.9998,1453204981639.0,1453220281154.0005,1453236481088.0002,1453251780786.0002,1453267982613.0,1453283282519.0,1453299483566.9998,1453314781875.0,1453330982822.0002,1453346281003.0002,1453362481114.0005,1453377782069.0002,1453393980317.9998,1453409281831.9998,1453425481329.0,1453440781543.9998,1453456981849.0,1453472283007.0,1453488482843.9998,1453503781576.9998,1453519981371.9998,1453535282506.0002,1453551480371.9998,1453566782644.0,1453582981911.0002,1453598280291.9998,1453614471040.0,1453629780944.0002,1453645952021.0,1453661282010.0002,1453677434750.0002,1453692782908.0,1453708915246.9998,1453724281673.0005,1453740396782.0002,1453755780904.0002,1453771877984.9998,1453787283125.9998,1453803359123.0,1453818783196.0,1453834839804.0,1453850283428.0,1453866321095.9998,1453881783150.0002,1453897081022.9998,1453913283265.0005,1453928582357.0005,1453944782338.9998,1453960081915.0,1453976282183.0,1453991582597.0002,1454007781882.9998,1454023081712.0,1454039281197.0,1454054581882.9998,1454070780899.0,1454086080633.0,1454102282381.0,1454117582066.9998,1454133782848.0,1454149081689.0002,1454165283001.0,1454180583690.0002,1454196782326.0002,1454212080333.0002,1454228283128.9998,1454243582151.0,1454259780713.0002,1454275080183.0,1454291281505.0002,1454306583201.9995,1454322783201.0002,1454338082446.0002,1454354277947.0,1454369583107.9998,1454385757661.9995,1454401081194.9998,1454417238857.9998,1454432581439.0,1454448720357.0005,1454464080125.0,1454480201015.9998,1454495580781.0002,1454511681808.0,1454527083208.0002,1454543162958.0002,1454558580730.0002,1454574644364.0002,1454590080785.0,1454606126083.0,1454621580765.9998,1454636882017.9995,1454653081890.9998,1454668381888.0,1454684581742.0002,1454699880885.0002,1454716082052.0,1454731380970.9998,1454747582793.9995,1454762882423.9998,1454779082894.0002,1454794381388.0,1454810581614.9998,1454825880225.0,1454842080211.0,1454857382680.0002,1454873582632.0,1454888880991.0,1454905081381.9998,1454920382335.0,1454936582380.0,1454951880881.9998,1454968081779.0002,1454983381861.0,1454999581698.9998,1455014882875.0,1455031081062.9998,1455046382630.0002,1455062581015.9998,1455077881842.0002,1455094081798.0005,1455109381142.9995,1455125563683.0,1455140882604.0,1455157045335.0,1455172380883.9998,1455188525356.0,1455203882307.0,1455220007664.0,1455235382006.0002,1455251488932.0002,1455266882364.9998,1455282968151.0,1455298381461.9998,1455314450536.9998,1455329882053.0,1455345930809.0,1455361381260.0002,1455377412507.0,1455392883102.0002,1455408182267.9998,1455424381609.0002,1455439681267.9998,1455455883128.9998,1455471181805.0002,1455487381842.0002,1455502681917.0,1455518880786.9998,1455534182746.0005,1455550382917.0,1455565682653.0,1455581881861.0,1455597182920.0,1455613381722.0002,1455628682712.0,1455644881630.0002,1455660181201.9995,1455676383401.0,1455691681347.0,1455707881479.0,1455723182357.0005,1455739381538.0002,1455754683132.0,1455770882415.0,1455786180539.0,1455802382359.0002,1455817680551.0,1455833882635.0002,1455849182276.0,1455865369253.0002,1455880682763.0,1455896849977.0002,1455912181723.0,1455928330373.0002,1455943681837.0,1455959811725.0,1455975182368.0,1455991292493.9998,1456006683055.0002,1456022773677.0,1456038182967.0,1456054255579.0,1456069681963.9998,1456085735877.0,1456101182753.0002,1456117218264.0,1456132682911.9998,1456147982001.0,1456164181996.0002,1456179482492.0,1456195682338.9998,1456210980776.0,1456227182027.0,1456242481085.9998,1456258682716.0,1456273983215.0,1456290180418.0002,1456305482911.0002,1456321682448.0,1456336982342.9998,1456353181966.0002,1456368481639.0,1456384680837.0,1456399982744.0,1456416181748.0002,1456431483988.0,1456447681062.0005,1456462981819.9998,1456479181190.0002,1456494482689.0002,1456510681595.9998,1456525981305.0002,1456542182692.0,1456557482675.0,1456573683637.0002,1456588982112.0,1456605174777.9998,1456620481506.0002,1456636655366.0002,1456651981604.0,1456668135720.0002,1456683482998.0002,1456699617791.9998,1456714982609.0002,1456731099745.0,1456746481066.9998,1456762579687.9998,1456777982513.9998,1456794060663.0],\"y\":[280.9423869566828,280.70926340363724,280.4610036437032,280.34589942428056,280.4189001365978,281.08262827853696,280.56590311238267,280.1142266755418,279.7329969897217,279.9935159876657,280.28097050807446,280.19971980568835,279.91075194182486,279.89466252518326,279.79437718634244,280.68376299724656,279.63826498807157,280.0734359960052,277.5357438343037,277.83254528755725,279.03077158679156,279.5142243129954,278.6751316259658,278.3526013596404,277.43228006876024,276.95879430612354,276.7941400923027,277.1476508561024,276.8876858817654,278.1369476281849,275.7533790914618,276.4622111758911,276.70168986065596,276.5842507399913,275.53337867893794,275.35548078200804,275.3227184891969,276.1512071281618,276.8533342266025,276.04624673968897,276.70168986065596,276.26250568956294,276.5858246811065,277.28615260249927,277.0608467714012,276.0951643480813,275.7528471021383,276.27438364270824,276.41071556333344,276.5974407898419,276.94671750635933,276.89395403896737,276.7007116634515,276.5566204843399,277.4027722410892,277.83241781121274,276.79984955478074,276.7492504749217,276.087493290471,276.37519838333657,276.75467384706565,276.5556860007332,276.3487509780788,275.8384874324655,276.00128810403027,276.29666676371477,276.20036002831387,276.193460277986,276.40440491898545,275.9580713729314,276.58888469031365,275.98861294014335,275.92149744081604,275.52786237296846,275.93046950771463,276.39551137441305,276.56066655985944,276.50256776265576,275.89676294255344,275.7992805265225,276.0419173024348,276.67394112568803,277.29555679242816,276.91079855363614,277.1191905050578,277.30678813009445,277.04394541991076,277.1723113023752,277.1400813585716,277.04508049196437,276.5954721596402,276.56758355358687,276.88786480125543,277.3681949483728,276.6002964917146,276.38502785813535,275.86954510325813,276.1973517434598,275.8693156841762,275.5990706780304,275.04953202274606,275.022272598261,274.803531508356,275.27346783074074,275.5475459094126,275.2495135906806,275.0992969537105,274.71418959384766,275.36552103577645,275.4810554573143,275.6646295835852,275.3941269669084,275.1906948145479,274.8845132403579,275.1764421032046,275.2547054415943,274.7025909630107,274.69482065095104,274.635542867545,274.87308053447913,275.6865171311972,275.7797610053907,275.2509138663832,274.97074418688567,275.1723800768835,275.6731151794045,275.9078251471729,275.6330955431888,275.47508060334843,275.1350336950839,274.87390657946963,275.766738453678,275.62753687717225,274.47027923180747,274.2638681712918,274.1635876915841,275.7274051220024,275.77839534451306,276.1728984439851,275.8607765252581,275.5244332672864,273.971600264795,275.05442761530355,274.836508257323,275.3189442929116,275.0405123027289,273.30594510237285,273.4144319392879,274.3357349326815,275.4861259953892,275.53251296041225,275.1614064398798,275.48069126914544,276.46105520320776,276.5384624033578,276.5027352865075,275.83686350183825,275.7063544708901,276.2224485956317,276.6746169530222,275.3255032542419,276.2295470930236,276.42986651036006,275.4884406760596,276.27513491650063,276.058316154448,275.51545709186126,275.87500027152225,275.097539988532,275.51175601070156,275.8236167051065,275.86967888652066,275.9576936801524,275.4848445989778,276.5575123091468,276.0253756061333,276.11280727351925,276.668666949845,275.8254278971811,275.78986711441416,276.3296251679956,276.50884506174265,276.55602864414175,276.3225134643879,276.9467964525294,277.6147018087582,278.1344109209499,278.27388756896806,278.1752865321117,277.8845597901624,277.9179744149153,278.6963742694979,278.6919330490942,278.37782207370583,277.81935542262784,278.6316726673092,278.6713090994422,280.49569473312374,281.2467763417241,279.8093258810529,280.07454874644907,278.58326114992894,278.85072143373753,278.96206507526836,278.6428321401669,278.746703799215,278.201638958555,278.6374944686183,279.40611059731987,279.59721115580055,278.8085020200773,278.9974622508174,278.2776739276466,278.6048709884496,278.71520106498537,278.8748355544734,278.13592664699524,278.5630432311697,277.8350926053527,278.31068793076184,280.1407860685521,279.5340600927288,279.55602926376,279.38559525091125,279.0093227807234,279.08451134467765,278.344162618962,276.7390112354929,276.85511608305865,276.9763664968702,276.8855123491401,276.62653254324164,276.5841221745858,275.96504675347944,276.49895701512264,276.9622536332267,276.50544845094606,276.7646151264685,276.5459531889933,276.39601147567174,277.4337733351037,277.51897819838734,277.58904305439734,277.29801264503635,277.2520972993543,277.4536085371099,277.6734769516271,277.95940751492475,277.81034570534484,277.81889295920087,277.0775721926564,277.3296866670427,277.58066119684884,277.64493986485974,278.83162875259836,277.21665888522637,277.4465474191448,278.7867218582256,278.60970591229494,278.66820919336294,277.88056752166995,277.98182348926343,278.1285740830072,278.4886738024864,278.88374088858154,278.2137973135586,277.80881173347046,277.75204394179747,278.2836817368316,277.79849140298916,277.9227792584172,277.9391743345952,277.7019696248812,278.2808253792714,277.9678371349251,277.9277486437021,278.02545025127324,278.43883113937034,278.2935044495803,278.71490233563867,278.92974102310507,278.5924282651975,278.2124375925204,278.4909073790685,278.23065898106603,279.47958669678457,279.1724105188445,278.9022538449186,278.4152061580403,278.3243382200566,277.8976459332463,278.11767059076476,278.5488592357816,277.6655667952111,278.59993532454604,278.41098753758166,278.32368810834896,278.3652432022997,278.2982074663967,277.66983510964326,278.10499983999665,278.78364837612946,278.2506532168755,278.2315489181033,278.24221867078217,278.48227930607857,279.4134860394724,279.04350892693105,278.7733769941079,278.37739363404506,278.43434203416047,279.2978383573221,280.07845367240293,279.5842755382799,279.3238536468793,279.77115365256526,279.4230572430293,279.82390042362385,279.1151053560415,279.4458740085869,278.9932747214317,278.9745155162673,279.2843471137973,279.2927252012339,278.8066199672598,279.1370650239249,278.54882632191874,278.5047172283271,279.1441861112029,278.97087242819475,278.6660692785027,277.78679380395033,278.38347303184145,278.97367136823965,278.45280058827154,278.636790043083,278.4211743739819,277.7671440749191,278.2084829943154,279.20475438680785,278.05190320677997,278.3695478759229,278.44635767660316,278.92225221016594,279.9754149568187,280.38175353942887,279.0917368327514,278.4445604702203,279.093454535727,279.0952042979656,280.02943816117397,279.3952315016538,278.23210847070743,278.4155963319673,278.4740657731673,279.88858114937204,280.53320291543577,279.64740263116806,279.49223641452693,279.56710124866316,280.4378790398651,280.8192301939918,279.6287222867416,278.7441028108561,279.034362442724,278.88903700929154,281.498709384522,279.69839730716905,279.0518609472745,278.77845796986037,278.80788758185355,279.9339734383919,283.7182571179404,279.2709843863522,279.09224937414535,279.7117978798962,279.5198581954589,281.93441362567245,280.0589301407337,278.53691094853076,279.2358869692805,279.6241072939139,280.9088005122799,285.3391528293867,279.46972860983107,279.24937322298985,279.1999107993048,278.937900078165,284.29183549954945,281.3727106428492,279.7949025088534,279.5061680895965,279.2524498468311,278.74285817305446,280.38842308711287,278.39885646054313,278.22712324801097,278.35373333546954,278.6378998483695,286.7958600280353,281.28840194099615,278.7082235596327,278.91871292722186,279.09578846258404,281.40659581663465,285.8904811512981,279.5407734737583,279.07144715163537,279.12882679008413,278.7531806356557,289.8263963825057,281.562792761051,279.7941491965453,279.33785868940356,279.29408740349464,282.2021240487844,288.31496913733486,279.7501766863667,279.65665818901704,279.6021495060983,279.4481030645862,291.2197270060486,281.7503323431917,279.6505140874599,279.7911300818517,279.98621278822725,283.2568277779283,288.5438345058019,280.5662580743705,280.5466083857483,280.28497276231985,281.111902612993,284.3768539750121,282.29299217201907,282.56200214239107,281.7931094586504,282.3800531486341,286.3763784814069,296.25465216312426,281.92726823715117,284.5876661148983,285.1319174452606,285.8173679575296,302.15072138786627,288.77605132906785,286.8991518251731,287.97629696506357,288.03583163515196,290.71224449042205,301.951314878338,288.25749091477263,287.9673955038148,288.0469213066697,288.10469740955284,299.86131236932545,288.5791791846658,286.8428833937388,286.12083693801856,286.09018178722647,288.2016041504111,294.3580013970217,284.2300375301479,284.1360561274495,284.12216702874935,283.91943173352587,297.160949760705,285.00952733312033,285.86810551782617,284.90641349016056,283.9926359718002,286.802333858972,297.4980442054061,284.05848317072264,281.69923137272735,281.6039187843848,282.46471544756673,299.53724214601584,283.1880236738106,285.07018740541395,287.4295133345663,287.6913332436599,290.81264620229877,293.80485341611717,287.1234692801794,286.6081889159525,286.2677702576114,286.5146290797884,307.31779828328615,285.1143062663489,284.43096532687696,283.61048080153745,283.77408345780003,290.4184797412972,298.1670339289149,280.95387323057804,281.01976728881664,280.8871743358018,280.6242549911775,302.78443820026024,280.9740780055665,281.96559874915266,281.05535629722743,281.0994533130519,284.1625919173742,287.963812097789,282.05952348747275,282.1518576793412,282.22143841412014,281.99076863456526,302.57829916115634,281.50873270301554,281.69590498780275,281.61336487901866,281.94911236647795,292.3688598748007,294.49702455141363,280.8572348810753,280.7367379865959,280.67217844174615,280.21421971137494,321.22337510797814,279.65250402331196,280.81244990564545,280.73386801998384,280.4252605513674,291.22615637824987,297.47580521064936,284.2396667812266,283.69451864719764,283.0662343695049,282.0195708946429,310.8101609386534,281.57570738210984,282.76811183274117,282.31674185165645,281.2742823666325,293.88831321528517,299.28682425197405,284.2092950012065,284.56152540492707,283.35417802997574,282.4927311942724,305.98033346263924,282.7927661753599,282.00463322192087,282.57398431703325,282.59107960929805,291.532549022246,292.18970929496726,283.8861597111113,283.5614453768705,283.1392384469005,282.66272659914347,315.12238462789696,282.73002404093745,282.46837465693704,280.83294169687787,280.3781572958246,295.4215328058516,293.5472542922385,281.20521447538727,280.61171606868004,281.5944374935703,280.9536203277978,301.974367035542,281.7575618273089,281.25889004475056,281.9570358140121,281.93624099750184,289.66548522636305,286.56298951482336,283.29752240897795,283.855876576819,283.42106812605977,280.45976212129875,288.81586971685687,283.48877220919906,285.17379679710643,284.684699577781,284.04588926080686,291.63366167927984,291.9112445854746,279.28184105821134,278.89211186876884,278.4824384022003,281.66195287462864,288.02325655534975,279.22707094803485,280.14525490035936,279.66588729575636,282.26147219934984,285.9575638208808,284.45436779151476,281.7415090943732,282.0419223049896,281.47926649317895,281.71780143960706,301.8308555398894,284.3765420599625,282.8099217639381,282.9881768107638,284.1436357978991,303.68003592884776,291.79742631272944,283.7147129946528,284.10152021925455,283.4358553789153,282.91053849380216,287.5910697082474,282.0918501003158,281.50567888241073,281.69337243779904,281.77149518289036,291.1931442765794,284.3260855635795,284.23421922031207,284.4803974526297,283.8279879063415,284.5443188012045,304.9771614505996,282.51964666057165,282.3860144154267,282.25619051691876,281.85399106101755,304.8234801680229,287.6408581830842,280.7369050853465,281.65211810979355,281.94129098686574,281.3996072387168,308.7879650315952,281.40609439458365,281.1428919279471,280.67268995775385,280.49394457487745,300.8984336724294,284.06474536479203,282.1964962009042,281.74803396860506,280.6397760099224,280.9062787692579,304.35976292139014,283.57000365923824,283.5690877193232,283.4816641505271,282.1899777732789,309.5295253372693,285.247262443606,282.6370573819112,282.3332513753334,282.0299020992112,281.81034345869637,290.02589179701965,280.915818805761,280.0709251014279,279.4733715966366,279.14313798982215,287.4533512045408,284.7358910708311,280.1458218412411,280.5510594625028,280.27386482481324,280.76379676469827,320.4492977859857,280.00270328353446,281.07683633774514,281.04345261794157,280.78569228712996,300.41999279179936,284.7671119347185,282.73215332101296,283.06735302404064,282.63026388149433,282.08889481127846,309.6120002566704,281.1735717776047,281.06829683222196,280.58441071659763,280.36784727429966,304.2989241833751,282.07509428453557,280.2198378858141,279.8669919732223,279.6055659803467,280.4578923394676,307.26624662079513,279.9447848889022,280.6250467461922,280.76978734939047,280.78490278654743,308.6811078301888,284.19759694913,275.624980457044,273.3933183847009,274.0618741867668,275.5143395380327,296.0791762069273,281.62237816535753,281.7296770090126,283.19649077003686,282.2885946173045,290.4536976015684,284.8327604622617,283.1787075499536,281.7124199499458,281.27755477622804,280.61231344692334,315.5704946953912,277.14867118715796,277.39416014373273,278.24641518459555,278.90026726456597,298.9127557452566,280.0717822601417,280.03552394322156,280.8731719283048,280.84668901775325,281.808770053807,309.8286225612899,284.7778896214566,285.0839482060152,284.2104812435305,284.262124212268,323.5899534203461,286.48374632582676,283.7982910097303,283.8479678152425,283.8162991309601,287.49416647405724,321.53024203452867,283.89931732704343,284.5438347369428,283.4472667671739,282.6810954485702,338.35697381483175,284.7735572180083,283.6647756256777,283.86968353422867,283.5694292625159,288.31990619616846,306.9471992324749,283.397639271319,284.4006172099502,283.1475607681321,283.75568751308435,328.4571795741539,284.7080783593639,283.68327302362275,283.84061557368165,284.2180633648571,293.69649260298394,323.581640595364,279.5663377934459,279.40595913424875,278.5933822965558,279.2577291227081,299.8950075254303,281.3788019233051,279.9328127484811,281.0822750651254,280.55845307046974,288.5646112606272,291.33571167197636,281.3885008339391,280.96192667137285,281.6838931382866,282.73576332884267,336.0859576755964,281.3198515789957,282.7515032638051,285.0731572856552,284.2647748482563,293.7178541045189,311.0351560313905,283.89310941983973,284.96325993734246,284.8995784112687,283.41840552439885,333.59953226709223,285.2210541591327,283.2828604108342,282.5700760296201,283.1468074373446,287.6093958631733,305.5220738573873,283.9190757008445,283.49911710622223,283.05667990129626,282.64618855099684,313.9801169787241,283.20383191748306,282.8100708101471,282.69238618580334,282.8158346052063,303.3510991514957,321.40511667324074,282.3922906510975,282.66891978333564,282.64157239703735,282.4428991036361,315.3746821127726,282.77736807268946,280.85470275932363,281.5227705702218,281.2960609276522,305.11676709719427,317.28433559485023,281.92424781287855,282.4589422482277,281.2064694242838,282.5116543478622,330.5059220948227,282.8899830766001,282.2141402822907,281.91532502387895,282.1855256671147,313.52144794708664,335.90595535037875,280.56670494661563,279.469881657501,278.7618768696215,280.7881977303109,319.14197663392355,282.5001102666829,281.69890913941146,281.35249959993183,281.18304258537245,319.91121695980723,320.04100806581283,282.16767390174556,282.20887285380485,281.7444216703088,281.60001128903536,327.853414484936,282.3689291275767,280.8280091320221,280.56961146516704,280.5901366887412,313.08389183382445,322.7021365986795,281.3782488808632,282.0692078788182,282.08377692657666,281.3686736264197,353.366566790168,279.6878383797517,279.63930662778444,279.5474650729807,278.0908657265353,304.9716591180255,289.46486154194434,283.4845201203213,283.13309789372903,283.80955604710374,284.0541102367073,327.31221319920854,282.9099560660785,282.9265511374042,282.71834142532424,282.66046667708974,337.11415273756336,319.1135076834557,282.32641357102557,281.7686527569232,280.78748869942143,281.6288369086382,332.00612590146045,282.40079499968266,281.5815100684313,280.9391038626507,281.09244484804606,349.63701632805163,355.68641932863954,279.00433120303745,279.5137286530518,279.1980850280281,283.8034873201528,332.8459449291841,280.27122897170676,281.90900320162143,281.27961025008307,278.69271859600434,302.66298687394334,301.84875588553615,282.6089069602973,283.0069991873885,283.6376981099141,291.9788998497196,446.68400454695706,282.1553252240159,281.5263194005117,279.5276481029643,279.66237185154415,335.3706314991653,353.43484061037043,280.3477356564607,279.6208212664044,278.7476388713338,296.012842650487,351.5217731402461,281.27991940115373,281.38047901593825,281.78946336071397,280.6208356210128,356.3675990933944,300.3687201048811,282.0400032462861,283.73915780110076,283.45143064277545,288.01892680518756,307.0087475458401,285.10731930273744,285.18225102128605,284.745485133253,283.7411722430166,311.3176413261089,310.4864300009803,284.69144830981475,280.4158024634641,280.8221092304309,298.82946909520086,338.7595671708328,279.604428697435,278.5759065608095,278.66368748510035,278.27245022312593,345.23163693613884,321.1117605213857,278.41709454489495,278.4844217794735,278.17031943500996,301.92873315129924,336.95921246772326,277.4513134260136,279.25595605940254,277.41688073522033,278.7700118644627,350.4672206665412,326.7801654920238,280.4995244588251,280.42730692397623,280.1551979365295,306.3861800974041,342.6114264679294,282.4699666695237,282.1139216730747,280.64235376777583,280.5098900263687,334.29914171584187,314.36005025115355,280.37201544932003,279.2495101409676,278.9542112011038,324.41332691956194,378.4071762418711,279.98876677082234,280.7138042775607,280.45587133728384,277.5702827869852,335.62633790410615,314.3923830047204,280.67139725734313,278.7350721719249,276.72134235252133,313.15679200739044,362.3356186806723,280.19271839430263,280.6571662358242,279.9386532627525,281.75204380204053,327.30343658637474,304.23384954834887,284.521332609364,285.2011267431765,284.2392898246355,307.3941681448229,354.48180966849475,282.98730771988403,282.5389171286222,281.21977701943786,279.89966874609706,359.36989729025106,313.1363181887538,280.0347251855883,280.55412671362706,280.46203736610215,398.3069443605311,343.82176172988,278.9867466978322,280.1818211877965,279.69988370351984,279.5959787159449,351.7506303650327,321.9513297634805,282.9636280699438,282.2499964499144,282.0832430728805,357.68645915204996,401.5892451136649,281.4849657265122,281.7232486426779]}},\"id\":\"54a9c305-6597-4d64-be12-6396c701eada\",\"type\":\"ColumnDataSource\"},{\"attributes\":{\"fill_alpha\":{\"value\":0.2},\"fill_color\":{\"field\":\"fill_color\"},\"line_color\":{\"field\":\"line_color\"},\"x\":{\"field\":\"x\"},\"y\":{\"field\":\"y\"}},\"id\":\"799058e9-c839-4c08-84c1-af4d2d20c539\",\"type\":\"Circle\"},{\"attributes\":{\"months\":[0,2,4,6,8,10]},\"id\":\"5b5b903b-381b-4eb2-992e-d1c382543e95\",\"type\":\"MonthsTicker\"},{\"attributes\":{},\"id\":\"6e149113-fc21-49be-b1b3-7d180af1e506\",\"type\":\"YearsTicker\"},{\"attributes\":{\"months\":[0,6]},\"id\":\"fb2d6cc2-5e40-461b-91f8-be1959d44690\",\"type\":\"MonthsTicker\"},{\"attributes\":{\"days\":[1,2,3,4,5,6,7,8,9,10,11,12,13,14,15,16,17,18,19,20,21,22,23,24,25,26,27,28,29,30,31]},\"id\":\"e1e5393b-bc49-4424-b026-3551eb1cb6ab\",\"type\":\"DaysTicker\"},{\"attributes\":{\"axis_label\":\"Time (GMT)\",\"formatter\":{\"id\":\"27914024-6e14-40b7-9f6c-6685f26979f6\",\"type\":\"DatetimeTickFormatter\"},\"plot\":{\"id\":\"0259120e-1b41-460e-a4c3-479c19dad17e\",\"subtype\":\"Figure\",\"type\":\"Plot\"},\"ticker\":{\"id\":\"e5ac5c9d-144b-4e80-956a-ce65a1c767ab\",\"type\":\"DatetimeTicker\"}},\"id\":\"94e7fa5f-736c-4940-b64a-d8abbf4a9e23\",\"type\":\"DatetimeAxis\"},{\"attributes\":{\"items\":[{\"id\":\"61629740-b474-4106-8584-d9753a80d6b2\",\"type\":\"LegendItem\"}],\"location\":\"top_left\",\"plot\":{\"id\":\"0259120e-1b41-460e-a4c3-479c19dad17e\",\"subtype\":\"Figure\",\"type\":\"Plot\"}},\"id\":\"57cacd01-24a7-426e-94bb-1814ee0ce4dd\",\"type\":\"Legend\"},{\"attributes\":{\"base\":60,\"mantissas\":[1,2,5,10,15,20,30],\"max_interval\":1800000.0,\"min_interval\":1000.0,\"num_minor_ticks\":0},\"id\":\"3609138e-823f-4364-89f5-c5f70ee03d66\",\"type\":\"AdaptiveTicker\"},{\"attributes\":{\"plot\":{\"id\":\"0259120e-1b41-460e-a4c3-479c19dad17e\",\"subtype\":\"Figure\",\"type\":\"Plot\"},\"ticker\":{\"id\":\"e5ac5c9d-144b-4e80-956a-ce65a1c767ab\",\"type\":\"DatetimeTicker\"}},\"id\":\"29d86eea-6e68-491a-9890-7e31044fc3ec\",\"type\":\"Grid\"},{\"attributes\":{\"line_alpha\":0.1,\"line_color\":\"#1f77b4\",\"line_width\":10,\"x\":{\"field\":\"x\"},\"y\":{\"field\":\"y\"}},\"id\":\"b9d5cb7f-2906-4f80-9fbd-3ffa4a7c4d7d\",\"type\":\"Line\"},{\"attributes\":{\"callback\":null},\"id\":\"dc128039-9042-4484-bb8c-02c78dadcaee\",\"type\":\"DataRange1d\"},{\"attributes\":{\"months\":[0,4,8]},\"id\":\"945f9ac0-fe68-4d8e-aa15-766dcc136994\",\"type\":\"MonthsTicker\"},{\"attributes\":{\"axis_label\":\"Dissolved Oxygen (umol kg-1)\",\"formatter\":{\"id\":\"7c737dde-c5ed-4a42-858a-0b00af44fdf0\",\"type\":\"BasicTickFormatter\"},\"plot\":{\"id\":\"0259120e-1b41-460e-a4c3-479c19dad17e\",\"subtype\":\"Figure\",\"type\":\"Plot\"},\"ticker\":{\"id\":\"7b1934b6-8412-4321-b15c-7ab67d4a3858\",\"type\":\"BasicTicker\"}},\"id\":\"a538ff88-07b7-46e9-a72c-4e949d3ab9f6\",\"type\":\"LinearAxis\"},{\"attributes\":{\"num_minor_ticks\":5,\"tickers\":[{\"id\":\"db2ff1e9-ad4e-4fcd-b4d4-988cca326ae1\",\"type\":\"AdaptiveTicker\"},{\"id\":\"3609138e-823f-4364-89f5-c5f70ee03d66\",\"type\":\"AdaptiveTicker\"},{\"id\":\"4923e428-2f8f-4c71-8ce7-9af46ecab5df\",\"type\":\"AdaptiveTicker\"},{\"id\":\"e1e5393b-bc49-4424-b026-3551eb1cb6ab\",\"type\":\"DaysTicker\"},{\"id\":\"399205fb-0ae9-44ac-bbbf-036e38bca6c8\",\"type\":\"DaysTicker\"},{\"id\":\"2d16b59f-0e55-456b-85ea-2a3b026c9df4\",\"type\":\"DaysTicker\"},{\"id\":\"f0346eb2-eecc-4103-947d-06cc83b8ff20\",\"type\":\"DaysTicker\"},{\"id\":\"0b9a0fe8-4034-4959-8818-bd20ce0913d2\",\"type\":\"MonthsTicker\"},{\"id\":\"5b5b903b-381b-4eb2-992e-d1c382543e95\",\"type\":\"MonthsTicker\"},{\"id\":\"945f9ac0-fe68-4d8e-aa15-766dcc136994\",\"type\":\"MonthsTicker\"},{\"id\":\"fb2d6cc2-5e40-461b-91f8-be1959d44690\",\"type\":\"MonthsTicker\"},{\"id\":\"6e149113-fc21-49be-b1b3-7d180af1e506\",\"type\":\"YearsTicker\"}]},\"id\":\"e5ac5c9d-144b-4e80-956a-ce65a1c767ab\",\"type\":\"DatetimeTicker\"},{\"attributes\":{},\"id\":\"354fa0b0-38f1-49f3-a067-abd4fa14f96d\",\"type\":\"ResetTool\"},{\"attributes\":{},\"id\":\"594b4eef-6c27-47bc-9580-c5968826d4ce\",\"type\":\"SaveTool\"},{\"attributes\":{\"days\":[1,15]},\"id\":\"f0346eb2-eecc-4103-947d-06cc83b8ff20\",\"type\":\"DaysTicker\"},{\"attributes\":{},\"id\":\"d649174a-0659-47a6-b842-cd2d5dbea62e\",\"type\":\"HelpTool\"},{\"attributes\":{\"label\":{\"value\":\"Annotation: Deployment 2: Dissolved oxygen noise increased, possibly from biofouling.\"},\"renderers\":[{\"id\":\"bd928ab5-632f-4212-906d-a777b64840eb\",\"type\":\"GlyphRenderer\"}]},\"id\":\"61629740-b474-4106-8584-d9753a80d6b2\",\"type\":\"LegendItem\"},{\"attributes\":{},\"id\":\"07fb2fe0-0d30-43d4-9baf-5613b24fefc7\",\"type\":\"PanTool\"},{\"attributes\":{},\"id\":\"964e9734-cd00-405f-9bac-25cdee8f3898\",\"type\":\"LinearScale\"},{\"attributes\":{},\"id\":\"7c737dde-c5ed-4a42-858a-0b00af44fdf0\",\"type\":\"BasicTickFormatter\"},{\"attributes\":{\"data_source\":{\"id\":\"65f8beee-35fd-47fd-95d3-b0a87da61d25\",\"type\":\"ColumnDataSource\"},\"glyph\":{\"id\":\"b6aad96d-8871-478d-89a9-6954d808244e\",\"type\":\"Line\"},\"hover_glyph\":null,\"muted_glyph\":null,\"nonselection_glyph\":{\"id\":\"b9d5cb7f-2906-4f80-9fbd-3ffa4a7c4d7d\",\"type\":\"Line\"},\"selection_glyph\":null,\"view\":{\"id\":\"c5f90667-e647-4313-891b-ec48a7b29541\",\"type\":\"CDSView\"}},\"id\":\"bd928ab5-632f-4212-906d-a777b64840eb\",\"type\":\"GlyphRenderer\"},{\"attributes\":{},\"id\":\"4470a15c-2159-4ca4-97a0-958eac9ef82c\",\"type\":\"WheelZoomTool\"},{\"attributes\":{\"active_drag\":\"auto\",\"active_inspect\":\"auto\",\"active_scroll\":\"auto\",\"active_tap\":\"auto\",\"tools\":[{\"id\":\"07fb2fe0-0d30-43d4-9baf-5613b24fefc7\",\"type\":\"PanTool\"},{\"id\":\"4470a15c-2159-4ca4-97a0-958eac9ef82c\",\"type\":\"WheelZoomTool\"},{\"id\":\"5241c902-459e-43bb-ac61-0eb826a06340\",\"type\":\"BoxZoomTool\"},{\"id\":\"594b4eef-6c27-47bc-9580-c5968826d4ce\",\"type\":\"SaveTool\"},{\"id\":\"354fa0b0-38f1-49f3-a067-abd4fa14f96d\",\"type\":\"ResetTool\"},{\"id\":\"d649174a-0659-47a6-b842-cd2d5dbea62e\",\"type\":\"HelpTool\"}]},\"id\":\"92452bab-91ae-456e-88f3-5dc7f0c1b4c5\",\"type\":\"Toolbar\"},{\"attributes\":{\"below\":[{\"id\":\"94e7fa5f-736c-4940-b64a-d8abbf4a9e23\",\"type\":\"DatetimeAxis\"}],\"left\":[{\"id\":\"a538ff88-07b7-46e9-a72c-4e949d3ab9f6\",\"type\":\"LinearAxis\"}],\"plot_height\":400,\"plot_width\":800,\"renderers\":[{\"id\":\"94e7fa5f-736c-4940-b64a-d8abbf4a9e23\",\"type\":\"DatetimeAxis\"},{\"id\":\"29d86eea-6e68-491a-9890-7e31044fc3ec\",\"type\":\"Grid\"},{\"id\":\"a538ff88-07b7-46e9-a72c-4e949d3ab9f6\",\"type\":\"LinearAxis\"},{\"id\":\"5597a5a5-2fe0-4b9e-83b3-426ee44e484f\",\"type\":\"Grid\"},{\"id\":\"6d14ad17-db03-4cb2-b0ee-c108e8d81c46\",\"type\":\"BoxAnnotation\"},{\"id\":\"57cacd01-24a7-426e-94bb-1814ee0ce4dd\",\"type\":\"Legend\"},{\"id\":\"bd928ab5-632f-4212-906d-a777b64840eb\",\"type\":\"GlyphRenderer\"},{\"id\":\"dfa11571-f0a9-4d0c-8547-b8974cf637c0\",\"type\":\"GlyphRenderer\"}],\"title\":{\"id\":\"d4134079-9f5d-42aa-bbd3-0aad70f051ce\",\"type\":\"Title\"},\"toolbar\":{\"id\":\"92452bab-91ae-456e-88f3-5dc7f0c1b4c5\",\"type\":\"Toolbar\"},\"x_range\":{\"id\":\"dc128039-9042-4484-bb8c-02c78dadcaee\",\"type\":\"DataRange1d\"},\"x_scale\":{\"id\":\"4d1c3d91-48aa-4671-a180-1a9aa8f9bd9d\",\"type\":\"LinearScale\"},\"y_range\":{\"id\":\"d80548d0-5231-4b24-ab0d-c9c89b5f6cec\",\"type\":\"DataRange1d\"},\"y_scale\":{\"id\":\"964e9734-cd00-405f-9bac-25cdee8f3898\",\"type\":\"LinearScale\"}},\"id\":\"0259120e-1b41-460e-a4c3-479c19dad17e\",\"subtype\":\"Figure\",\"type\":\"Plot\"},{\"attributes\":{\"plot\":null,\"text\":\"Global Irminger Sea Apex Surface Mooring - Near Surface Instrument Frame - Dissolved Oxygen\"},\"id\":\"d4134079-9f5d-42aa-bbd3-0aad70f051ce\",\"type\":\"Title\"},{\"attributes\":{\"source\":{\"id\":\"65f8beee-35fd-47fd-95d3-b0a87da61d25\",\"type\":\"ColumnDataSource\"}},\"id\":\"c5f90667-e647-4313-891b-ec48a7b29541\",\"type\":\"CDSView\"}],\"root_ids\":[\"0259120e-1b41-460e-a4c3-479c19dad17e\"]},\"title\":\"Bokeh Application\",\"version\":\"0.12.14\"}};\n",
       "  var render_items = [{\"docid\":\"d99e3d48-cecc-406c-8522-44cd929a4d7e\",\"elementid\":\"57df2820-ad51-477a-a29f-fcae3a9c8fd7\",\"modelid\":\"0259120e-1b41-460e-a4c3-479c19dad17e\"}];\n",
       "  root.Bokeh.embed.embed_items_notebook(docs_json, render_items);\n",
       "\n",
       "  }\n",
       "  if (root.Bokeh !== undefined) {\n",
       "    embed_document(root);\n",
       "  } else {\n",
       "    var attempts = 0;\n",
       "    var timer = setInterval(function(root) {\n",
       "      if (root.Bokeh !== undefined) {\n",
       "        embed_document(root);\n",
       "        clearInterval(timer);\n",
       "      }\n",
       "      attempts++;\n",
       "      if (attempts > 100) {\n",
       "        console.log(\"Bokeh: ERROR: Unable to run BokehJS code because BokehJS library is missing\")\n",
       "        clearInterval(timer);\n",
       "      }\n",
       "    }, 10, root)\n",
       "  }\n",
       "})(window);"
      ],
      "application/vnd.bokehjs_exec.v0+json": ""
     },
     "metadata": {
      "application/vnd.bokehjs_exec.v0+json": {
       "id": "0259120e-1b41-460e-a4c3-479c19dad17e"
      }
     },
     "output_type": "display_data"
    }
   ],
   "source": [
    "p = figure(width=800,\n",
    "           height=400,\n",
    "           title='Global Irminger Sea Apex Surface Mooring - Near Surface Instrument Frame - Dissolved Oxygen',\n",
    "           x_axis_label='Time (GMT)',\n",
    "           y_axis_label='Dissolved Oxygen (umol kg-1)',\n",
    "           x_axis_type='datetime')\n",
    "\n",
    "p.line([anno_start_time,time[-1]], [(min(oxygen)-10),(min(oxygen)-10)], line_width=10, legend='Annotation: '+anno)\n",
    "p.circle(time, oxygen, color=colors, fill_alpha=0.2, size=4)\n",
    "p.legend.location = \"top_left\"\n",
    "\n",
    "output_notebook()\n",
    "show(p)\n"
   ]
  },
  {
   "cell_type": "markdown",
   "metadata": {
    "colab_type": "text",
    "id": "j0FoRzROOkXu"
   },
   "source": [
    "Optionally, you can save the plot as an html file for sharing."
   ]
  },
  {
   "cell_type": "code",
   "execution_count": 27,
   "metadata": {
    "colab": {
     "autoexec": {
      "startup": false,
      "wait_interval": 0
     }
    },
    "colab_type": "code",
    "id": "bOtDJJ7SOkXu",
    "outputId": "25d794dd-2b76-4659-b85c-1311fe69db34"
   },
   "outputs": [
    {
     "data": {
      "text/plain": [
       "'/home/jovyan/2018-data-workshops/geology/examples/extras/plot.html'"
      ]
     },
     "execution_count": 27,
     "metadata": {},
     "output_type": "execute_result"
    }
   ],
   "source": [
    "output_file(os.getcwd())\n",
    "save(p, filename='plot.html')"
   ]
  },
  {
   "cell_type": "markdown",
   "metadata": {
    "colab": {
     "autoexec": {
      "startup": false,
      "wait_interval": 0
     }
    },
    "colab_type": "code",
    "id": "9hb9GEIHOkXw"
   },
   "source": [
    "This example was developed by Friedrich Knuth."
   ]
  }
 ],
 "metadata": {
  "colab": {
   "default_view": {},
   "name": "Example 11 - Deciphering OOI Data Quality Flags",
   "provenance": [],
   "version": "0.3.2",
   "views": {}
  },
  "kernelspec": {
   "display_name": "Python 3",
   "language": "python",
   "name": "python3"
  },
  "language_info": {
   "codemirror_mode": {
    "name": "ipython",
    "version": 3
   },
   "file_extension": ".py",
   "mimetype": "text/x-python",
   "name": "python",
   "nbconvert_exporter": "python",
   "pygments_lexer": "ipython3",
   "version": "3.6.5"
  }
 },
 "nbformat": 4,
 "nbformat_minor": 2
}
