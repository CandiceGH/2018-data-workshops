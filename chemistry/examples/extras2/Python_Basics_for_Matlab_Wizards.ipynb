{
 "cells": [
  {
   "cell_type": "markdown",
   "metadata": {
    "colab_type": "text",
    "id": "d4QNLHg06nPY",
    "slideshow": {
     "slide_type": "slide"
    }
   },
   "source": [
    "# Python Basics for Matlab Wizards\n",
    "*Compiled by Sage Lichtenwalner, Rutgers University, June 5, 2018*\n",
    "\n",
    "*Revised by Lori Garzio (to work with Pangeo), Rutgers University, July 10, 2018*\n",
    "\n",
    "Welcome to Python.  \n",
    "\n",
    "In this example, we will highlight some of the basics of programming in Python, along with some tips and tricks for those more familiar with Matlab.  There are a number of additional resources at the bottom I encourage you to check out.\n",
    "\n",
    "This example was written in Google's Colaboratory environment and was modified to work in a [Pangeo environment](http://pangeo-data.org/), but it could be run in any [Jupyter Notebook](http://jupyter.org) environment.  You can also try these commands directly on the Python command line, though your results may vary.  For more information about Google Colab, check out their [Hello, Colaboratory](https://colab.research.google.com/notebooks/welcome.ipynb) introduction and the [Overview](https://colab.research.google.com/notebooks/basic_features_overview.ipynb)."
   ]
  },
  {
   "cell_type": "markdown",
   "metadata": {
    "colab_type": "text",
    "id": "An6oaKTN7_Le",
    "slideshow": {
     "slide_type": "slide"
    }
   },
   "source": [
    "## Some Basics\n",
    "\n",
    "To execute the code in a cell click the **Play** icon on the left, type **Cmd/Ctrl+Enter** to run the cell in place or type **Shift+Enter** to run the cell and move focus to the next cell."
   ]
  },
  {
   "cell_type": "code",
   "execution_count": 1,
   "metadata": {
    "colab": {
     "autoexec": {
      "startup": false,
      "wait_interval": 0
     },
     "base_uri": "https://localhost:8080/",
     "height": 35
    },
    "colab_type": "code",
    "executionInfo": {
     "elapsed": 824,
     "status": "ok",
     "timestamp": 1528212432358,
     "user": {
      "displayName": "Sage Lichtenwalner",
      "photoUrl": "https://lh3.googleusercontent.com/a/default-user=s128",
      "userId": "107661401208389246829"
     },
     "user_tz": 240
    },
    "id": "5-29lQE-LRyL",
    "outputId": "806b9851-2baf-4d25-ab59-743a3943068f"
   },
   "outputs": [
    {
     "data": {
      "text/plain": [
       "4"
      ]
     },
     "execution_count": 1,
     "metadata": {},
     "output_type": "execute_result"
    }
   ],
   "source": [
    "2+2"
   ]
  },
  {
   "cell_type": "code",
   "execution_count": 2,
   "metadata": {
    "colab": {
     "autoexec": {
      "startup": false,
      "wait_interval": 0
     },
     "base_uri": "https://localhost:8080/",
     "height": 35
    },
    "colab_type": "code",
    "executionInfo": {
     "elapsed": 453,
     "status": "ok",
     "timestamp": 1528212432876,
     "user": {
      "displayName": "Sage Lichtenwalner",
      "photoUrl": "https://lh3.googleusercontent.com/a/default-user=s128",
      "userId": "107661401208389246829"
     },
     "user_tz": 240
    },
    "id": "mcAoNbxaFJEH",
    "outputId": "a58cb636-6c30-4905-a591-2a67562bbbfb",
    "slideshow": {
     "slide_type": "slide"
    }
   },
   "outputs": [
    {
     "data": {
      "text/plain": [
       "int"
      ]
     },
     "execution_count": 2,
     "metadata": {},
     "output_type": "execute_result"
    }
   ],
   "source": [
    "# Variable assignment\n",
    "x = 4\n",
    "\n",
    "# What kind of object is this?\n",
    "type(x)"
   ]
  },
  {
   "cell_type": "code",
   "execution_count": 3,
   "metadata": {
    "colab": {
     "autoexec": {
      "startup": false,
      "wait_interval": 0
     },
     "base_uri": "https://localhost:8080/",
     "height": 35
    },
    "colab_type": "code",
    "executionInfo": {
     "elapsed": 314,
     "status": "ok",
     "timestamp": 1528212433257,
     "user": {
      "displayName": "Sage Lichtenwalner",
      "photoUrl": "https://lh3.googleusercontent.com/a/default-user=s128",
      "userId": "107661401208389246829"
     },
     "user_tz": 240
    },
    "id": "mkLng08dFfh4",
    "outputId": "a60cf9ae-7a14-44f4-adda-beb57ae1ed26",
    "slideshow": {
     "slide_type": "slide"
    }
   },
   "outputs": [
    {
     "data": {
      "text/plain": [
       "float"
      ]
     },
     "execution_count": 3,
     "metadata": {},
     "output_type": "execute_result"
    }
   ],
   "source": [
    "# Float \n",
    "y = 1.25\n",
    "type(y)"
   ]
  },
  {
   "cell_type": "code",
   "execution_count": 4,
   "metadata": {
    "colab": {
     "autoexec": {
      "startup": false,
      "wait_interval": 0
     },
     "base_uri": "https://localhost:8080/",
     "height": 35
    },
    "colab_type": "code",
    "executionInfo": {
     "elapsed": 320,
     "status": "ok",
     "timestamp": 1528212433652,
     "user": {
      "displayName": "Sage Lichtenwalner",
      "photoUrl": "https://lh3.googleusercontent.com/a/default-user=s128",
      "userId": "107661401208389246829"
     },
     "user_tz": 240
    },
    "id": "8M-GN9kvGXOI",
    "outputId": "10057e2f-4457-4779-ae52-0739cb4cfff2"
   },
   "outputs": [
    {
     "data": {
      "text/plain": [
       "str"
      ]
     },
     "execution_count": 4,
     "metadata": {},
     "output_type": "execute_result"
    }
   ],
   "source": [
    "# String\n",
    "z = 'Python is great'\n",
    "type(z)"
   ]
  },
  {
   "cell_type": "code",
   "execution_count": 5,
   "metadata": {
    "colab": {
     "autoexec": {
      "startup": false,
      "wait_interval": 0
     },
     "base_uri": "https://localhost:8080/",
     "height": 53
    },
    "colab_type": "code",
    "executionInfo": {
     "elapsed": 294,
     "status": "ok",
     "timestamp": 1528212434014,
     "user": {
      "displayName": "Sage Lichtenwalner",
      "photoUrl": "https://lh3.googleusercontent.com/a/default-user=s128",
      "userId": "107661401208389246829"
     },
     "user_tz": 240
    },
    "id": "rbULmpXCFJIZ",
    "outputId": "07651d84-8d89-41d8-bb64-57fea0caaa42",
    "slideshow": {
     "slide_type": "slide"
    }
   },
   "outputs": [
    {
     "name": "stdout",
     "output_type": "stream",
     "text": [
      "5.25\n",
      "3.2\n"
     ]
    }
   ],
   "source": [
    "# We can do some basic math\n",
    "print( x + y )\n",
    "print( x/y )"
   ]
  },
  {
   "cell_type": "markdown",
   "metadata": {
    "colab_type": "text",
    "id": "i4k796DieJ0_"
   },
   "source": [
    "**By default the Colab/Jupyter environment will print out the output from the last line** without having to specify the `print` command.  \n",
    "\n",
    "However, if we want to output the result from additional lines (as we did above), we need to use `print` on each line.  Note, Python 3 requires parentheses around the print command, but it is optional in Python 2.\n",
    "\n",
    "Sometimes, we will want to suppress the output from the last line.  To do this, simply add a semi-colon \"`;`\" at the end."
   ]
  },
  {
   "cell_type": "markdown",
   "metadata": {
    "colab_type": "text",
    "id": "orHJ8GIUGgGb",
    "slideshow": {
     "slide_type": "slide"
    }
   },
   "source": [
    "## Beware of type conflicts\n",
    "\n",
    "Sometimes the result you expect is not what you get.  That's especially the case when mixing object types, like integers and floats, or numbers and strings.  Sometimes there are differences between the Python version you are running.   You can switch Python versions by going to *Runtime -> Change runtime type* in the menu. "
   ]
  },
  {
   "cell_type": "code",
   "execution_count": 12,
   "metadata": {
    "colab": {
     "autoexec": {
      "startup": false,
      "wait_interval": 0
     },
     "base_uri": "https://localhost:8080/",
     "height": 71
    },
    "colab_type": "code",
    "executionInfo": {
     "elapsed": 373,
     "status": "ok",
     "timestamp": 1528212434934,
     "user": {
      "displayName": "Sage Lichtenwalner",
      "photoUrl": "https://lh3.googleusercontent.com/a/default-user=s128",
      "userId": "107661401208389246829"
     },
     "user_tz": 240
    },
    "id": "_UHcn8VGFJMB",
    "outputId": "bb51f1e0-d8b8-4067-b644-12f84ac10c27"
   },
   "outputs": [
    {
     "name": "stdout",
     "output_type": "stream",
     "text": [
      "7.0\n",
      "7.666666666666667\n",
      "7.666666666666667\n"
     ]
    }
   ],
   "source": [
    "# Dividing two ints results in an int\n",
    "print( 21/3 ) # Two integers\n",
    "print( 23/3 ) # In Python 2 the (incorrect) result is an integer. In Python 3 this works as expected.\n",
    "print( 23.0/3.0 ) # Two floats results in a float"
   ]
  },
  {
   "cell_type": "code",
   "execution_count": 13,
   "metadata": {
    "colab": {
     "autoexec": {
      "startup": false,
      "wait_interval": 0
     },
     "base_uri": "https://localhost:8080/",
     "height": 172
    },
    "colab_type": "code",
    "executionInfo": {
     "elapsed": 471,
     "status": "error",
     "timestamp": 1528212435465,
     "user": {
      "displayName": "Sage Lichtenwalner",
      "photoUrl": "https://lh3.googleusercontent.com/a/default-user=s128",
      "userId": "107661401208389246829"
     },
     "user_tz": 240
    },
    "id": "IGtw_babGjrI",
    "outputId": "c68b4b46-63ce-465e-fb9d-0b45fa108f79",
    "slideshow": {
     "slide_type": "slide"
    }
   },
   "outputs": [
    {
     "ename": "TypeError",
     "evalue": "must be str, not int",
     "output_type": "error",
     "traceback": [
      "\u001b[0;31m---------------------------------------------------------------------------\u001b[0m",
      "\u001b[0;31mTypeError\u001b[0m                                 Traceback (most recent call last)",
      "\u001b[0;32m<ipython-input-13-e74f1b1777f6>\u001b[0m in \u001b[0;36m<module>\u001b[0;34m()\u001b[0m\n\u001b[1;32m      1\u001b[0m \u001b[0;31m# You can't concatenate strings and ints\u001b[0m\u001b[0;34m\u001b[0m\u001b[0;34m\u001b[0m\u001b[0m\n\u001b[0;32m----> 2\u001b[0;31m \u001b[0mprint\u001b[0m\u001b[0;34m(\u001b[0m \u001b[0mz\u001b[0m \u001b[0;34m+\u001b[0m \u001b[0mx\u001b[0m \u001b[0;34m)\u001b[0m\u001b[0;34m\u001b[0m\u001b[0m\n\u001b[0m",
      "\u001b[0;31mTypeError\u001b[0m: must be str, not int"
     ]
    }
   ],
   "source": [
    "# You can't concatenate strings and ints\n",
    "print( z + x )"
   ]
  },
  {
   "cell_type": "code",
   "execution_count": 14,
   "metadata": {
    "colab": {
     "autoexec": {
      "startup": false,
      "wait_interval": 0
     },
     "base_uri": "https://localhost:8080/",
     "height": 35
    },
    "colab_type": "code",
    "executionInfo": {
     "elapsed": 262,
     "status": "ok",
     "timestamp": 1528211885801,
     "user": {
      "displayName": "Sage Lichtenwalner",
      "photoUrl": "https://lh3.googleusercontent.com/a/default-user=s128",
      "userId": "107661401208389246829"
     },
     "user_tz": 240
    },
    "id": "rM6bosozKpXq",
    "outputId": "0790fdb0-8216-4702-b8de-2ae06c83764e",
    "slideshow": {
     "slide_type": "fragment"
    }
   },
   "outputs": [
    {
     "name": "stdout",
     "output_type": "stream",
     "text": [
      "Python is greatPython is greatPython is greatPython is great\n"
     ]
    }
   ],
   "source": [
    "# But you can multiply them\n",
    "print( z * x )"
   ]
  },
  {
   "cell_type": "code",
   "execution_count": 15,
   "metadata": {
    "colab": {
     "autoexec": {
      "startup": false,
      "wait_interval": 0
     },
     "base_uri": "https://localhost:8080/",
     "height": 35
    },
    "colab_type": "code",
    "executionInfo": {
     "elapsed": 272,
     "status": "ok",
     "timestamp": 1528211886398,
     "user": {
      "displayName": "Sage Lichtenwalner",
      "photoUrl": "https://lh3.googleusercontent.com/a/default-user=s128",
      "userId": "107661401208389246829"
     },
     "user_tz": 240
    },
    "id": "-4d39NFwFJPV",
    "outputId": "85583100-da94-4280-f400-83581f98f89f",
    "slideshow": {
     "slide_type": "slide"
    }
   },
   "outputs": [
    {
     "name": "stdout",
     "output_type": "stream",
     "text": [
      "Python is great 4 you\n"
     ]
    }
   ],
   "source": [
    "# Convert an int into a string\n",
    "print( z + ' ' + str(x) + ' you' )"
   ]
  },
  {
   "cell_type": "code",
   "execution_count": 16,
   "metadata": {
    "colab": {
     "autoexec": {
      "startup": false,
      "wait_interval": 0
     },
     "base_uri": "https://localhost:8080/",
     "height": 35
    },
    "colab_type": "code",
    "executionInfo": {
     "elapsed": 296,
     "status": "ok",
     "timestamp": 1528212436177,
     "user": {
      "displayName": "Sage Lichtenwalner",
      "photoUrl": "https://lh3.googleusercontent.com/a/default-user=s128",
      "userId": "107661401208389246829"
     },
     "user_tz": 240
    },
    "id": "74GTd4WnFJSk",
    "outputId": "11bd38ca-462d-47a6-ae72-25ff4490ec95",
    "slideshow": {
     "slide_type": "fragment"
    }
   },
   "outputs": [
    {
     "name": "stdout",
     "output_type": "stream",
     "text": [
      "Python is great 4 you\n"
     ]
    }
   ],
   "source": [
    "# A better way\n",
    "print( 'Python is great %s you' % x )"
   ]
  },
  {
   "cell_type": "markdown",
   "metadata": {
    "colab_type": "text",
    "id": "3HdSyw3bHmyG",
    "slideshow": {
     "slide_type": "slide"
    }
   },
   "source": [
    "## Fun with Lists"
   ]
  },
  {
   "cell_type": "code",
   "execution_count": 17,
   "metadata": {
    "colab": {
     "autoexec": {
      "startup": false,
      "wait_interval": 0
     }
    },
    "colab_type": "code",
    "id": "XC1RvchhFJWj",
    "slideshow": {
     "slide_type": "fragment"
    }
   },
   "outputs": [],
   "source": [
    "my_list = [3, 4, 5, 9, 12]"
   ]
  },
  {
   "cell_type": "markdown",
   "metadata": {
    "colab_type": "text",
    "id": "YJHVvATWcJPo"
   },
   "source": [
    "Remember, Python uses 0-based indexing, so to grab the first element you use \"0\" and the last element would n-1.  (In Matlab you would use 1 to n.)"
   ]
  },
  {
   "cell_type": "code",
   "execution_count": 18,
   "metadata": {
    "colab": {
     "autoexec": {
      "startup": false,
      "wait_interval": 0
     },
     "base_uri": "https://localhost:8080/",
     "height": 35
    },
    "colab_type": "code",
    "executionInfo": {
     "elapsed": 288,
     "status": "ok",
     "timestamp": 1528212437569,
     "user": {
      "displayName": "Sage Lichtenwalner",
      "photoUrl": "https://lh3.googleusercontent.com/a/default-user=s128",
      "userId": "107661401208389246829"
     },
     "user_tz": 240
    },
    "id": "OPANp_LKHsVu",
    "outputId": "b39f2570-898b-4664-ee4e-d8f565938a8a",
    "slideshow": {
     "slide_type": "fragment"
    }
   },
   "outputs": [
    {
     "data": {
      "text/plain": [
       "3"
      ]
     },
     "execution_count": 18,
     "metadata": {},
     "output_type": "execute_result"
    }
   ],
   "source": [
    "# The fist item\n",
    "my_list[0]"
   ]
  },
  {
   "cell_type": "code",
   "execution_count": 19,
   "metadata": {
    "colab": {
     "autoexec": {
      "startup": false,
      "wait_interval": 0
     },
     "base_uri": "https://localhost:8080/",
     "height": 35
    },
    "colab_type": "code",
    "executionInfo": {
     "elapsed": 313,
     "status": "ok",
     "timestamp": 1528212438091,
     "user": {
      "displayName": "Sage Lichtenwalner",
      "photoUrl": "https://lh3.googleusercontent.com/a/default-user=s128",
      "userId": "107661401208389246829"
     },
     "user_tz": 240
    },
    "id": "rFUURuohHsZF",
    "outputId": "cd590b25-2adc-4822-bc85-dbf6cde89eae",
    "slideshow": {
     "slide_type": "fragment"
    }
   },
   "outputs": [
    {
     "data": {
      "text/plain": [
       "12"
      ]
     },
     "execution_count": 19,
     "metadata": {},
     "output_type": "execute_result"
    }
   ],
   "source": [
    "# The last item\n",
    "my_list[-1]"
   ]
  },
  {
   "cell_type": "code",
   "execution_count": 20,
   "metadata": {
    "colab": {
     "autoexec": {
      "startup": false,
      "wait_interval": 0
     },
     "base_uri": "https://localhost:8080/",
     "height": 35
    },
    "colab_type": "code",
    "executionInfo": {
     "elapsed": 293,
     "status": "ok",
     "timestamp": 1528212438449,
     "user": {
      "displayName": "Sage Lichtenwalner",
      "photoUrl": "https://lh3.googleusercontent.com/a/default-user=s128",
      "userId": "107661401208389246829"
     },
     "user_tz": 240
    },
    "id": "ZTwGl-knHwHq",
    "outputId": "441cf27b-b733-4ad9-fbe0-e395c85dd425",
    "slideshow": {
     "slide_type": "slide"
    }
   },
   "outputs": [
    {
     "data": {
      "text/plain": [
       "[5, 9]"
      ]
     },
     "execution_count": 20,
     "metadata": {},
     "output_type": "execute_result"
    }
   ],
   "source": [
    "# Extract a subset\n",
    "my_list[2:4]"
   ]
  },
  {
   "cell_type": "code",
   "execution_count": 21,
   "metadata": {
    "colab": {
     "autoexec": {
      "startup": false,
      "wait_interval": 0
     },
     "base_uri": "https://localhost:8080/",
     "height": 35
    },
    "colab_type": "code",
    "executionInfo": {
     "elapsed": 356,
     "status": "ok",
     "timestamp": 1528212438870,
     "user": {
      "displayName": "Sage Lichtenwalner",
      "photoUrl": "https://lh3.googleusercontent.com/a/default-user=s128",
      "userId": "107661401208389246829"
     },
     "user_tz": 240
    },
    "id": "GW_TT32XIDS_",
    "outputId": "406164e8-b319-46c9-a4bd-5c8db0a04d2c",
    "slideshow": {
     "slide_type": "slide"
    }
   },
   "outputs": [
    {
     "data": {
      "text/plain": [
       "[3, 4, 5, 99, 12]"
      ]
     },
     "execution_count": 21,
     "metadata": {},
     "output_type": "execute_result"
    }
   ],
   "source": [
    "# Update a value\n",
    "my_list[3] = 99\n",
    "my_list"
   ]
  },
  {
   "cell_type": "code",
   "execution_count": 22,
   "metadata": {
    "colab": {
     "autoexec": {
      "startup": false,
      "wait_interval": 0
     },
     "base_uri": "https://localhost:8080/",
     "height": 71
    },
    "colab_type": "code",
    "executionInfo": {
     "elapsed": 324,
     "status": "ok",
     "timestamp": 1528212439261,
     "user": {
      "displayName": "Sage Lichtenwalner",
      "photoUrl": "https://lh3.googleusercontent.com/a/default-user=s128",
      "userId": "107661401208389246829"
     },
     "user_tz": 240
    },
    "id": "1Dbw-ivOHsc8",
    "outputId": "dbfab65d-726b-4acb-ce16-7834bf9f5a1a",
    "slideshow": {
     "slide_type": "slide"
    }
   },
   "outputs": [
    {
     "name": "stdout",
     "output_type": "stream",
     "text": [
      "[3, 4, 5, 99, 12]\n",
      "[66, 4, 5, 99, 12]\n",
      "[66, 4, 5, 99, 12]\n"
     ]
    }
   ],
   "source": [
    "# Warning, Python variables are object references and not copies by default\n",
    "my_second_list = my_list\n",
    "print( my_second_list )\n",
    "\n",
    "my_second_list[0] = 66\n",
    "print( my_second_list )\n",
    "print( my_list ) # The first list has been overwritten"
   ]
  },
  {
   "cell_type": "code",
   "execution_count": 23,
   "metadata": {
    "colab": {
     "autoexec": {
      "startup": false,
      "wait_interval": 0
     },
     "base_uri": "https://localhost:8080/",
     "height": 53
    },
    "colab_type": "code",
    "executionInfo": {
     "elapsed": 331,
     "status": "ok",
     "timestamp": 1528212439660,
     "user": {
      "displayName": "Sage Lichtenwalner",
      "photoUrl": "https://lh3.googleusercontent.com/a/default-user=s128",
      "userId": "107661401208389246829"
     },
     "user_tz": 240
    },
    "id": "PRVQpgaJIWuW",
    "outputId": "b3adb142-e584-47b8-af97-5563a94dab47",
    "slideshow": {
     "slide_type": "slide"
    }
   },
   "outputs": [
    {
     "name": "stdout",
     "output_type": "stream",
     "text": [
      "[66, 4, 5, 9, 12]\n",
      "[3, 4, 5, 9, 12]\n"
     ]
    }
   ],
   "source": [
    "# To avoid this, create a copy of the list, which keeps the original intact\n",
    "my_list = [3, 4, 5, 9, 12]\n",
    "my_second_list = list(my_list) # You can also use copy.copy() or my_list[:]\n",
    "\n",
    "my_second_list[0] = 66\n",
    "print( my_second_list )\n",
    "print( my_list )"
   ]
  },
  {
   "cell_type": "markdown",
   "metadata": {
    "colab_type": "text",
    "id": "SoXxwrfKI69_",
    "slideshow": {
     "slide_type": "slide"
    }
   },
   "source": [
    "## Dictionaries"
   ]
  },
  {
   "cell_type": "code",
   "execution_count": 24,
   "metadata": {
    "colab": {
     "autoexec": {
      "startup": false,
      "wait_interval": 0
     },
     "base_uri": "https://localhost:8080/",
     "height": 35
    },
    "colab_type": "code",
    "executionInfo": {
     "elapsed": 274,
     "status": "ok",
     "timestamp": 1528212440259,
     "user": {
      "displayName": "Sage Lichtenwalner",
      "photoUrl": "https://lh3.googleusercontent.com/a/default-user=s128",
      "userId": "107661401208389246829"
     },
     "user_tz": 240
    },
    "id": "nqwCadXuI8UQ",
    "outputId": "16841ca7-3c03-497e-9e35-ffc38a623b56"
   },
   "outputs": [
    {
     "data": {
      "text/plain": [
       "{'temperature': 21, 'salinity': 35, 'sensor': 'CTD 23'}"
      ]
     },
     "execution_count": 24,
     "metadata": {},
     "output_type": "execute_result"
    }
   ],
   "source": [
    "my_dict = {'temperature': 21, 'salinity':35, 'sensor':'CTD 23'}\n",
    "my_dict"
   ]
  },
  {
   "cell_type": "code",
   "execution_count": 25,
   "metadata": {
    "colab": {
     "autoexec": {
      "startup": false,
      "wait_interval": 0
     },
     "base_uri": "https://localhost:8080/",
     "height": 35
    },
    "colab_type": "code",
    "executionInfo": {
     "elapsed": 268,
     "status": "ok",
     "timestamp": 1528212440648,
     "user": {
      "displayName": "Sage Lichtenwalner",
      "photoUrl": "https://lh3.googleusercontent.com/a/default-user=s128",
      "userId": "107661401208389246829"
     },
     "user_tz": 240
    },
    "id": "aIOWIErZJOIl",
    "outputId": "548267b5-8eee-4064-9763-f888c6499c72",
    "slideshow": {
     "slide_type": "fragment"
    }
   },
   "outputs": [
    {
     "data": {
      "text/plain": [
       "'CTD 23'"
      ]
     },
     "execution_count": 25,
     "metadata": {},
     "output_type": "execute_result"
    }
   ],
   "source": [
    "# Accessing a key/value pair\n",
    "my_dict['sensor']"
   ]
  },
  {
   "cell_type": "code",
   "execution_count": 26,
   "metadata": {
    "colab": {
     "autoexec": {
      "startup": false,
      "wait_interval": 0
     },
     "base_uri": "https://localhost:8080/",
     "height": 35
    },
    "colab_type": "code",
    "executionInfo": {
     "elapsed": 329,
     "status": "ok",
     "timestamp": 1528212441161,
     "user": {
      "displayName": "Sage Lichtenwalner",
      "photoUrl": "https://lh3.googleusercontent.com/a/default-user=s128",
      "userId": "107661401208389246829"
     },
     "user_tz": 240
    },
    "id": "f21eZxc4JYSI",
    "outputId": "f70434ec-6962-4070-8fdf-c108721c89b0",
    "slideshow": {
     "slide_type": "slide"
    }
   },
   "outputs": [
    {
     "data": {
      "text/plain": [
       "dict_keys(['temperature', 'salinity', 'sensor'])"
      ]
     },
     "execution_count": 26,
     "metadata": {},
     "output_type": "execute_result"
    }
   ],
   "source": [
    "# Grab a list of dictionary keys\n",
    "my_dict.keys()"
   ]
  },
  {
   "cell_type": "markdown",
   "metadata": {
    "colab_type": "text",
    "id": "W-zF-yXvW-1r",
    "slideshow": {
     "slide_type": "slide"
    }
   },
   "source": [
    "## Functions, Conditions and Loops\n",
    "If you're familiar with how to do these in Matlab or R, it's all very similar, just with a different syntax.  Remember, Python uses spaces to group together sub-elements, rather than parentheses, curly braces, or end statements.  Traditionally, you can use 2 or 4 spaces to indent lines."
   ]
  },
  {
   "cell_type": "code",
   "execution_count": 27,
   "metadata": {
    "colab": {
     "autoexec": {
      "startup": false,
      "wait_interval": 0
     },
     "base_uri": "https://localhost:8080/",
     "height": 143
    },
    "colab_type": "code",
    "executionInfo": {
     "elapsed": 275,
     "status": "ok",
     "timestamp": 1528212442293,
     "user": {
      "displayName": "Sage Lichtenwalner",
      "photoUrl": "https://lh3.googleusercontent.com/a/default-user=s128",
      "userId": "107661401208389246829"
     },
     "user_tz": 240
    },
    "id": "WYpQMyh1W__m",
    "outputId": "5e888838-94f4-4340-cfb1-62de145541fc"
   },
   "outputs": [
    {
     "name": "stdout",
     "output_type": "stream",
     "text": [
      "Running my_func\n",
      "0\n",
      "1\n",
      "2\n",
      "3\n",
      "Running my_func\n",
      "Not a number\n"
     ]
    }
   ],
   "source": [
    "def my_func(number):\n",
    "  print('Running my_func')\n",
    "  if type(number)==int:\n",
    "    for i in range(number):\n",
    "      print(i)\n",
    "  else:\n",
    "    print(\"Not a number\")\n",
    "\n",
    "my_func(4)\n",
    "my_func('hi')"
   ]
  },
  {
   "cell_type": "markdown",
   "metadata": {
    "colab_type": "text",
    "id": "HGGLpgTuJqO3",
    "slideshow": {
     "slide_type": "slide"
    }
   },
   "source": [
    "## NumPy\n",
    "NumPy is an essential library for working with scientific data.  It provides an array object that is very similar to Matlab's array functionality, allowing you to perform mathematical calculations or run linear algebra routines."
   ]
  },
  {
   "cell_type": "code",
   "execution_count": 28,
   "metadata": {
    "colab": {
     "autoexec": {
      "startup": false,
      "wait_interval": 0
     }
    },
    "colab_type": "code",
    "id": "RgbHEs9sMTye"
   },
   "outputs": [],
   "source": [
    "import numpy as np"
   ]
  },
  {
   "cell_type": "code",
   "execution_count": 29,
   "metadata": {
    "colab": {
     "autoexec": {
      "startup": false,
      "wait_interval": 0
     },
     "base_uri": "https://localhost:8080/",
     "height": 71
    },
    "colab_type": "code",
    "executionInfo": {
     "elapsed": 322,
     "status": "ok",
     "timestamp": 1528212443705,
     "user": {
      "displayName": "Sage Lichtenwalner",
      "photoUrl": "https://lh3.googleusercontent.com/a/default-user=s128",
      "userId": "107661401208389246829"
     },
     "user_tz": 240
    },
    "id": "J5QovFhQMfPd",
    "outputId": "b7c5883b-9db3-4967-81e5-0b11492e4d4b",
    "slideshow": {
     "slide_type": "slide"
    }
   },
   "outputs": [
    {
     "name": "stdout",
     "output_type": "stream",
     "text": [
      "[1 2 3]\n",
      "<class 'numpy.ndarray'>\n",
      "int64\n"
     ]
    }
   ],
   "source": [
    "# NumPy has its own data types\n",
    "xi = np.array([1, 2, 3], dtype=np.int) # We could also specify np.float\n",
    "print(xi)\n",
    "print(type(xi))\n",
    "print(xi.dtype)"
   ]
  },
  {
   "cell_type": "code",
   "execution_count": 30,
   "metadata": {
    "colab": {
     "autoexec": {
      "startup": false,
      "wait_interval": 0
     },
     "base_uri": "https://localhost:8080/",
     "height": 35
    },
    "colab_type": "code",
    "executionInfo": {
     "elapsed": 266,
     "status": "ok",
     "timestamp": 1528212444041,
     "user": {
      "displayName": "Sage Lichtenwalner",
      "photoUrl": "https://lh3.googleusercontent.com/a/default-user=s128",
      "userId": "107661401208389246829"
     },
     "user_tz": 240
    },
    "id": "CB81YTcTbo4_",
    "outputId": "218d5b5f-b14c-4a26-c1d9-bcd81c043fcb",
    "slideshow": {
     "slide_type": "slide"
    }
   },
   "outputs": [
    {
     "data": {
      "text/plain": [
       "array([2, 4, 6])"
      ]
     },
     "execution_count": 30,
     "metadata": {},
     "output_type": "execute_result"
    }
   ],
   "source": [
    "# Let's add the arrays\n",
    "xi+xi"
   ]
  },
  {
   "cell_type": "code",
   "execution_count": 31,
   "metadata": {
    "colab": {
     "autoexec": {
      "startup": false,
      "wait_interval": 0
     },
     "base_uri": "https://localhost:8080/",
     "height": 35
    },
    "colab_type": "code",
    "executionInfo": {
     "elapsed": 269,
     "status": "ok",
     "timestamp": 1528212444440,
     "user": {
      "displayName": "Sage Lichtenwalner",
      "photoUrl": "https://lh3.googleusercontent.com/a/default-user=s128",
      "userId": "107661401208389246829"
     },
     "user_tz": 240
    },
    "id": "vj7-jFpDbwct",
    "outputId": "0b230d8d-b722-4580-c141-cb98d2e371ed",
    "slideshow": {
     "slide_type": "fragment"
    }
   },
   "outputs": [
    {
     "data": {
      "text/plain": [
       "array([1, 4, 9])"
      ]
     },
     "execution_count": 31,
     "metadata": {},
     "output_type": "execute_result"
    }
   ],
   "source": [
    "# Multiplication is easy too.  \n",
    "# Note this is equivalent to xi.*xi in Matlab\n",
    "xi*xi"
   ]
  },
  {
   "cell_type": "code",
   "execution_count": 32,
   "metadata": {
    "colab": {
     "autoexec": {
      "startup": false,
      "wait_interval": 0
     },
     "base_uri": "https://localhost:8080/",
     "height": 35
    },
    "colab_type": "code",
    "executionInfo": {
     "elapsed": 284,
     "status": "ok",
     "timestamp": 1528212444863,
     "user": {
      "displayName": "Sage Lichtenwalner",
      "photoUrl": "https://lh3.googleusercontent.com/a/default-user=s128",
      "userId": "107661401208389246829"
     },
     "user_tz": 240
    },
    "id": "EMRCcHk8frOb",
    "outputId": "6b654ea4-9fc6-4bc0-9ec1-9b7b61d50063"
   },
   "outputs": [
    {
     "data": {
      "text/plain": [
       "14"
      ]
     },
     "execution_count": 32,
     "metadata": {},
     "output_type": "execute_result"
    }
   ],
   "source": [
    "# Inner product\n",
    "# Matlab equivalent: x*x'\n",
    "np.inner(xi,xi)"
   ]
  },
  {
   "cell_type": "code",
   "execution_count": 33,
   "metadata": {
    "colab": {
     "autoexec": {
      "startup": false,
      "wait_interval": 0
     },
     "base_uri": "https://localhost:8080/",
     "height": 71
    },
    "colab_type": "code",
    "executionInfo": {
     "elapsed": 290,
     "status": "ok",
     "timestamp": 1528212445214,
     "user": {
      "displayName": "Sage Lichtenwalner",
      "photoUrl": "https://lh3.googleusercontent.com/a/default-user=s128",
      "userId": "107661401208389246829"
     },
     "user_tz": 240
    },
    "id": "fi8FEKC-fss0",
    "outputId": "e899ef98-898a-43fa-a61e-81ffa68e7de7"
   },
   "outputs": [
    {
     "data": {
      "text/plain": [
       "array([[1, 2, 3],\n",
       "       [2, 4, 6],\n",
       "       [3, 6, 9]])"
      ]
     },
     "execution_count": 33,
     "metadata": {},
     "output_type": "execute_result"
    }
   ],
   "source": [
    "# Outer product\n",
    "# Matlab equivalent: x'*x\n",
    "np.outer(xi,xi)"
   ]
  },
  {
   "cell_type": "code",
   "execution_count": 34,
   "metadata": {
    "colab": {
     "autoexec": {
      "startup": false,
      "wait_interval": 0
     },
     "base_uri": "https://localhost:8080/",
     "height": 35
    },
    "colab_type": "code",
    "executionInfo": {
     "elapsed": 306,
     "status": "ok",
     "timestamp": 1528212445659,
     "user": {
      "displayName": "Sage Lichtenwalner",
      "photoUrl": "https://lh3.googleusercontent.com/a/default-user=s128",
      "userId": "107661401208389246829"
     },
     "user_tz": 240
    },
    "id": "b_c7zv5Ee_Ls",
    "outputId": "4f6cb819-cf6a-46e4-b272-004a0054044c"
   },
   "outputs": [
    {
     "data": {
      "text/plain": [
       "array([0, 0, 0])"
      ]
     },
     "execution_count": 34,
     "metadata": {},
     "output_type": "execute_result"
    }
   ],
   "source": [
    "# Cross product\n",
    "np.cross(xi,xi)"
   ]
  },
  {
   "cell_type": "code",
   "execution_count": 35,
   "metadata": {
    "colab": {
     "autoexec": {
      "startup": false,
      "wait_interval": 0
     },
     "base_uri": "https://localhost:8080/",
     "height": 89
    },
    "colab_type": "code",
    "executionInfo": {
     "elapsed": 310,
     "status": "ok",
     "timestamp": 1528212446038,
     "user": {
      "displayName": "Sage Lichtenwalner",
      "photoUrl": "https://lh3.googleusercontent.com/a/default-user=s128",
      "userId": "107661401208389246829"
     },
     "user_tz": 240
    },
    "id": "HwZAlZe7MT1I",
    "outputId": "10409f80-21da-439d-d110-c6bcb63bd5fa",
    "slideshow": {
     "slide_type": "slide"
    }
   },
   "outputs": [
    {
     "data": {
      "text/plain": [
       "array([[0., 0., 0., 0., 0.],\n",
       "       [0., 0., 0., 0., 0.],\n",
       "       [0., 0., 0., 0., 0.],\n",
       "       [0., 0., 0., 0., 0.]])"
      ]
     },
     "execution_count": 35,
     "metadata": {},
     "output_type": "execute_result"
    }
   ],
   "source": [
    "# Initialize an array of zeros\n",
    "x = np.zeros(shape=(4,5))\n",
    "x"
   ]
  },
  {
   "cell_type": "code",
   "execution_count": 36,
   "metadata": {
    "colab": {
     "autoexec": {
      "startup": false,
      "wait_interval": 0
     },
     "base_uri": "https://localhost:8080/",
     "height": 89
    },
    "colab_type": "code",
    "executionInfo": {
     "elapsed": 281,
     "status": "ok",
     "timestamp": 1528212446384,
     "user": {
      "displayName": "Sage Lichtenwalner",
      "photoUrl": "https://lh3.googleusercontent.com/a/default-user=s128",
      "userId": "107661401208389246829"
     },
     "user_tz": 240
    },
    "id": "lUMc4VtAMT3Y",
    "outputId": "f80a7c56-7767-4b98-e101-a7819d2cd36d",
    "slideshow": {
     "slide_type": "fragment"
    }
   },
   "outputs": [
    {
     "data": {
      "text/plain": [
       "array([[2., 2., 2., 2., 2.],\n",
       "       [2., 2., 2., 2., 2.],\n",
       "       [2., 2., 2., 2., 2.],\n",
       "       [2., 2., 2., 2., 2.]])"
      ]
     },
     "execution_count": 36,
     "metadata": {},
     "output_type": "execute_result"
    }
   ],
   "source": [
    "y = x+2\n",
    "y"
   ]
  },
  {
   "cell_type": "code",
   "execution_count": 37,
   "metadata": {
    "colab": {
     "autoexec": {
      "startup": false,
      "wait_interval": 0
     },
     "base_uri": "https://localhost:8080/",
     "height": 89
    },
    "colab_type": "code",
    "executionInfo": {
     "elapsed": 384,
     "status": "ok",
     "timestamp": 1528212446831,
     "user": {
      "displayName": "Sage Lichtenwalner",
      "photoUrl": "https://lh3.googleusercontent.com/a/default-user=s128",
      "userId": "107661401208389246829"
     },
     "user_tz": 240
    },
    "id": "rznlVs4qiX7N",
    "outputId": "3c55b57d-cd19-4d10-8381-3649693e7e78",
    "slideshow": {
     "slide_type": "slide"
    }
   },
   "outputs": [
    {
     "name": "stdout",
     "output_type": "stream",
     "text": [
      "(3,)\n",
      "3\n",
      "(4, 5)\n",
      "20\n"
     ]
    }
   ],
   "source": [
    "# Array dimensions\n",
    "print( xi.shape )\n",
    "print( xi.size )\n",
    "print( y.shape )\n",
    "print( y.size )"
   ]
  },
  {
   "cell_type": "code",
   "execution_count": 38,
   "metadata": {
    "colab": {
     "autoexec": {
      "startup": false,
      "wait_interval": 0
     },
     "base_uri": "https://localhost:8080/",
     "height": 89
    },
    "colab_type": "code",
    "executionInfo": {
     "elapsed": 296,
     "status": "ok",
     "timestamp": 1528212447197,
     "user": {
      "displayName": "Sage Lichtenwalner",
      "photoUrl": "https://lh3.googleusercontent.com/a/default-user=s128",
      "userId": "107661401208389246829"
     },
     "user_tz": 240
    },
    "id": "mSy2pWymMT5z",
    "outputId": "cda2242b-b1a2-43c4-e7bc-dd97d33720eb",
    "slideshow": {
     "slide_type": "slide"
    }
   },
   "outputs": [
    {
     "data": {
      "text/plain": [
       "array([[1., 3., 5., 3., 2.],\n",
       "       [1., 2., 3., 2., 4.],\n",
       "       [5., 1., 4., 1., 4.],\n",
       "       [3., 5., 5., 3., 5.]])"
      ]
     },
     "execution_count": 38,
     "metadata": {},
     "output_type": "execute_result"
    }
   ],
   "source": [
    "# Random numbers\n",
    "z = np.round(np.random.random(x.shape)*5)\n",
    "z"
   ]
  },
  {
   "cell_type": "code",
   "execution_count": 39,
   "metadata": {
    "colab": {
     "autoexec": {
      "startup": false,
      "wait_interval": 0
     },
     "base_uri": "https://localhost:8080/",
     "height": 53
    },
    "colab_type": "code",
    "executionInfo": {
     "elapsed": 285,
     "status": "ok",
     "timestamp": 1528212447547,
     "user": {
      "displayName": "Sage Lichtenwalner",
      "photoUrl": "https://lh3.googleusercontent.com/a/default-user=s128",
      "userId": "107661401208389246829"
     },
     "user_tz": 240
    },
    "id": "r8XfChg2MfLr",
    "outputId": "4f6c72d0-9f46-4f2f-af8b-2ba0c2cf3ff7",
    "slideshow": {
     "slide_type": "slide"
    }
   },
   "outputs": [
    {
     "data": {
      "text/plain": [
       "array([[5., 4., 4.],\n",
       "       [3., 5., 5.]])"
      ]
     },
     "execution_count": 39,
     "metadata": {},
     "output_type": "execute_result"
    }
   ],
   "source": [
    "# Slicing\n",
    "z[2:4, ::2] # Extract 2-4 on the first axis (columns), stride of 2 on the second axis(rows)"
   ]
  },
  {
   "cell_type": "code",
   "execution_count": 40,
   "metadata": {
    "colab": {
     "autoexec": {
      "startup": false,
      "wait_interval": 0
     },
     "base_uri": "https://localhost:8080/",
     "height": 35
    },
    "colab_type": "code",
    "executionInfo": {
     "elapsed": 322,
     "status": "ok",
     "timestamp": 1528212447931,
     "user": {
      "displayName": "Sage Lichtenwalner",
      "photoUrl": "https://lh3.googleusercontent.com/a/default-user=s128",
      "userId": "107661401208389246829"
     },
     "user_tz": 240
    },
    "id": "yCnDA7_9MT_c",
    "outputId": "115a4fca-93f0-4a91-b85d-cc7b91f05f04",
    "slideshow": {
     "slide_type": "slide"
    }
   },
   "outputs": [
    {
     "data": {
      "text/plain": [
       "array([14., 12., 15., 21.])"
      ]
     },
     "execution_count": 40,
     "metadata": {},
     "output_type": "execute_result"
    }
   ],
   "source": [
    "# Sum the rows\n",
    "z_sum = z.sum(axis=1)\n",
    "z_sum"
   ]
  },
  {
   "cell_type": "code",
   "execution_count": 41,
   "metadata": {
    "colab": {
     "autoexec": {
      "startup": false,
      "wait_interval": 0
     },
     "base_uri": "https://localhost:8080/",
     "height": 107
    },
    "colab_type": "code",
    "executionInfo": {
     "elapsed": 359,
     "status": "ok",
     "timestamp": 1528212448354,
     "user": {
      "displayName": "Sage Lichtenwalner",
      "photoUrl": "https://lh3.googleusercontent.com/a/default-user=s128",
      "userId": "107661401208389246829"
     },
     "user_tz": 240
    },
    "id": "fbQk-FXSMfJf",
    "outputId": "06d27704-5dc4-485b-cc86-50ee7a0f16a6",
    "slideshow": {
     "slide_type": "slide"
    }
   },
   "outputs": [
    {
     "data": {
      "text/plain": [
       "array([[28., 24., 30., 42.],\n",
       "       [28., 24., 30., 42.],\n",
       "       [28., 24., 30., 42.],\n",
       "       [28., 24., 30., 42.],\n",
       "       [28., 24., 30., 42.]])"
      ]
     },
     "execution_count": 41,
     "metadata": {},
     "output_type": "execute_result"
    }
   ],
   "source": [
    "# Matrix multiplication\n",
    "y.transpose() * z_sum"
   ]
  },
  {
   "cell_type": "code",
   "execution_count": 42,
   "metadata": {
    "colab": {
     "autoexec": {
      "startup": false,
      "wait_interval": 0
     },
     "base_uri": "https://localhost:8080/",
     "height": 35
    },
    "colab_type": "code",
    "executionInfo": {
     "elapsed": 278,
     "status": "ok",
     "timestamp": 1528212448699,
     "user": {
      "displayName": "Sage Lichtenwalner",
      "photoUrl": "https://lh3.googleusercontent.com/a/default-user=s128",
      "userId": "107661401208389246829"
     },
     "user_tz": 240
    },
    "id": "KVqJK5ItMfTz",
    "outputId": "5c11d610-2b6d-46a1-a2a1-86b9231368dd",
    "slideshow": {
     "slide_type": "slide"
    }
   },
   "outputs": [
    {
     "data": {
      "text/plain": [
       "array([ 0.99060736, -0.53657292,  0.65028784,  0.83665564])"
      ]
     },
     "execution_count": 42,
     "metadata": {},
     "output_type": "execute_result"
    }
   ],
   "source": [
    "# Several universal functions are included (e.g. sin, cos, exp)\n",
    "np.sin(z_sum)"
   ]
  },
  {
   "cell_type": "markdown",
   "metadata": {
    "colab_type": "text",
    "id": "rjT_Lud-JrK_",
    "slideshow": {
     "slide_type": "slide"
    }
   },
   "source": [
    "## SciPy\n",
    "The SciPy library includes a huge collection of mathematical algorithms, functions and constants to enable scientific computing.  \n",
    "\n",
    "It is build upon NumPy, so data is typically expected to be in a NumPy array format.  Some useful features include:\n",
    "* **constants** - Physical and mathematical constants\n",
    "* **fftpack** - Fast Fourier Transorms\n",
    "* **integrate** - Integration and ODE solvers\n",
    "* **interpolate** - Interpolation and smoothing\n",
    "* **io** - File Input and Output\n",
    "* **linalg** - Linear algebra\n",
    "* **signal** - Signal processing\n",
    "* **stats** - Statistics\n",
    "\n",
    "For more information, check out the [SciPy Tutorial](https://docs.scipy.org/doc/scipy/reference/tutorial/index.html)\n"
   ]
  },
  {
   "cell_type": "markdown",
   "metadata": {
    "colab_type": "text",
    "id": "Aah8lhgyJtu_",
    "slideshow": {
     "slide_type": "slide"
    }
   },
   "source": [
    "## Pandas\n",
    "[Pandas](https://pandas.pydata.org) is great for working with spreadsheet like tables, like Excel or CSV files.  \n",
    "\n",
    "However, it is not great for multidimensional arrays (e.g. x,y,z).  For that you should use [Xarray](http://xarray.pydata.org).\n",
    "\n",
    "For this example, we will demonstrate the power of pandas to quickly load a datafile and play with ut using some archived meteorological data from [NDBC 44025](http://www.ndbc.noaa.gov/station_history.php?station=44025)."
   ]
  },
  {
   "cell_type": "code",
   "execution_count": 43,
   "metadata": {
    "colab": {
     "autoexec": {
      "startup": false,
      "wait_interval": 0
     }
    },
    "colab_type": "code",
    "id": "9SximVYnJtSK"
   },
   "outputs": [],
   "source": [
    "import pandas as pd"
   ]
  },
  {
   "cell_type": "code",
   "execution_count": 46,
   "metadata": {
    "colab": {
     "autoexec": {
      "startup": false,
      "wait_interval": 0
     }
    },
    "colab_type": "code",
    "id": "f7DysKQEMfWS",
    "slideshow": {
     "slide_type": "slide"
    }
   },
   "outputs": [],
   "source": [
    "url = 'http://www.ndbc.noaa.gov/view_text_file.php?filename=44025h2017.txt.gz&dir=data/historical/stdmet/'\n",
    "ndbc = pd.read_csv(url,sep='\\s+',skiprows=[1])"
   ]
  },
  {
   "cell_type": "code",
   "execution_count": 47,
   "metadata": {
    "colab": {
     "autoexec": {
      "startup": false,
      "wait_interval": 0
     },
     "base_uri": "https://localhost:8080/",
     "height": 204
    },
    "colab_type": "code",
    "executionInfo": {
     "elapsed": 643,
     "status": "ok",
     "timestamp": 1528212452396,
     "user": {
      "displayName": "Sage Lichtenwalner",
      "photoUrl": "https://lh3.googleusercontent.com/a/default-user=s128",
      "userId": "107661401208389246829"
     },
     "user_tz": 240
    },
    "id": "jJ3ZbPv5cUTi",
    "outputId": "8b0dbbd6-6be5-4f8d-d968-ffa39349f301",
    "slideshow": {
     "slide_type": "fragment"
    }
   },
   "outputs": [
    {
     "data": {
      "text/html": [
       "<div>\n",
       "<style scoped>\n",
       "    .dataframe tbody tr th:only-of-type {\n",
       "        vertical-align: middle;\n",
       "    }\n",
       "\n",
       "    .dataframe tbody tr th {\n",
       "        vertical-align: top;\n",
       "    }\n",
       "\n",
       "    .dataframe thead th {\n",
       "        text-align: right;\n",
       "    }\n",
       "</style>\n",
       "<table border=\"1\" class=\"dataframe\">\n",
       "  <thead>\n",
       "    <tr style=\"text-align: right;\">\n",
       "      <th></th>\n",
       "      <th>#YY</th>\n",
       "      <th>MM</th>\n",
       "      <th>DD</th>\n",
       "      <th>hh</th>\n",
       "      <th>mm</th>\n",
       "      <th>WDIR</th>\n",
       "      <th>WSPD</th>\n",
       "      <th>GST</th>\n",
       "      <th>WVHT</th>\n",
       "      <th>DPD</th>\n",
       "      <th>APD</th>\n",
       "      <th>MWD</th>\n",
       "      <th>PRES</th>\n",
       "      <th>ATMP</th>\n",
       "      <th>WTMP</th>\n",
       "      <th>DEWP</th>\n",
       "      <th>VIS</th>\n",
       "      <th>TIDE</th>\n",
       "    </tr>\n",
       "  </thead>\n",
       "  <tbody>\n",
       "    <tr>\n",
       "      <th>0</th>\n",
       "      <td>2016</td>\n",
       "      <td>12</td>\n",
       "      <td>31</td>\n",
       "      <td>23</td>\n",
       "      <td>50</td>\n",
       "      <td>207</td>\n",
       "      <td>15.2</td>\n",
       "      <td>18.2</td>\n",
       "      <td>2.95</td>\n",
       "      <td>6.67</td>\n",
       "      <td>5.78</td>\n",
       "      <td>223</td>\n",
       "      <td>1014.3</td>\n",
       "      <td>8.8</td>\n",
       "      <td>8.8</td>\n",
       "      <td>999.0</td>\n",
       "      <td>99.0</td>\n",
       "      <td>99.0</td>\n",
       "    </tr>\n",
       "    <tr>\n",
       "      <th>1</th>\n",
       "      <td>2017</td>\n",
       "      <td>1</td>\n",
       "      <td>1</td>\n",
       "      <td>0</td>\n",
       "      <td>50</td>\n",
       "      <td>215</td>\n",
       "      <td>14.7</td>\n",
       "      <td>19.4</td>\n",
       "      <td>3.42</td>\n",
       "      <td>7.69</td>\n",
       "      <td>6.20</td>\n",
       "      <td>220</td>\n",
       "      <td>1013.9</td>\n",
       "      <td>9.1</td>\n",
       "      <td>8.8</td>\n",
       "      <td>999.0</td>\n",
       "      <td>99.0</td>\n",
       "      <td>99.0</td>\n",
       "    </tr>\n",
       "    <tr>\n",
       "      <th>2</th>\n",
       "      <td>2017</td>\n",
       "      <td>1</td>\n",
       "      <td>1</td>\n",
       "      <td>1</td>\n",
       "      <td>50</td>\n",
       "      <td>217</td>\n",
       "      <td>14.4</td>\n",
       "      <td>18.3</td>\n",
       "      <td>3.47</td>\n",
       "      <td>7.69</td>\n",
       "      <td>6.11</td>\n",
       "      <td>225</td>\n",
       "      <td>1013.3</td>\n",
       "      <td>9.1</td>\n",
       "      <td>8.8</td>\n",
       "      <td>999.0</td>\n",
       "      <td>99.0</td>\n",
       "      <td>99.0</td>\n",
       "    </tr>\n",
       "    <tr>\n",
       "      <th>3</th>\n",
       "      <td>2017</td>\n",
       "      <td>1</td>\n",
       "      <td>1</td>\n",
       "      <td>2</td>\n",
       "      <td>50</td>\n",
       "      <td>228</td>\n",
       "      <td>14.9</td>\n",
       "      <td>18.7</td>\n",
       "      <td>3.31</td>\n",
       "      <td>8.33</td>\n",
       "      <td>6.17</td>\n",
       "      <td>203</td>\n",
       "      <td>1013.0</td>\n",
       "      <td>8.7</td>\n",
       "      <td>8.8</td>\n",
       "      <td>999.0</td>\n",
       "      <td>99.0</td>\n",
       "      <td>99.0</td>\n",
       "    </tr>\n",
       "    <tr>\n",
       "      <th>4</th>\n",
       "      <td>2017</td>\n",
       "      <td>1</td>\n",
       "      <td>1</td>\n",
       "      <td>3</td>\n",
       "      <td>50</td>\n",
       "      <td>228</td>\n",
       "      <td>15.4</td>\n",
       "      <td>19.6</td>\n",
       "      <td>3.81</td>\n",
       "      <td>8.33</td>\n",
       "      <td>6.47</td>\n",
       "      <td>219</td>\n",
       "      <td>1012.7</td>\n",
       "      <td>8.9</td>\n",
       "      <td>8.8</td>\n",
       "      <td>999.0</td>\n",
       "      <td>99.0</td>\n",
       "      <td>99.0</td>\n",
       "    </tr>\n",
       "  </tbody>\n",
       "</table>\n",
       "</div>"
      ],
      "text/plain": [
       "    #YY  MM  DD  hh  mm  WDIR  WSPD   GST  WVHT   DPD   APD  MWD    PRES  \\\n",
       "0  2016  12  31  23  50   207  15.2  18.2  2.95  6.67  5.78  223  1014.3   \n",
       "1  2017   1   1   0  50   215  14.7  19.4  3.42  7.69  6.20  220  1013.9   \n",
       "2  2017   1   1   1  50   217  14.4  18.3  3.47  7.69  6.11  225  1013.3   \n",
       "3  2017   1   1   2  50   228  14.9  18.7  3.31  8.33  6.17  203  1013.0   \n",
       "4  2017   1   1   3  50   228  15.4  19.6  3.81  8.33  6.47  219  1012.7   \n",
       "\n",
       "   ATMP  WTMP   DEWP   VIS  TIDE  \n",
       "0   8.8   8.8  999.0  99.0  99.0  \n",
       "1   9.1   8.8  999.0  99.0  99.0  \n",
       "2   9.1   8.8  999.0  99.0  99.0  \n",
       "3   8.7   8.8  999.0  99.0  99.0  \n",
       "4   8.9   8.8  999.0  99.0  99.0  "
      ]
     },
     "execution_count": 47,
     "metadata": {},
     "output_type": "execute_result"
    }
   ],
   "source": [
    "ndbc.head()"
   ]
  },
  {
   "cell_type": "code",
   "execution_count": 48,
   "metadata": {
    "colab": {
     "autoexec": {
      "startup": false,
      "wait_interval": 0
     },
     "base_uri": "https://localhost:8080/",
     "height": 89
    },
    "colab_type": "code",
    "executionInfo": {
     "elapsed": 295,
     "status": "ok",
     "timestamp": 1528212452763,
     "user": {
      "displayName": "Sage Lichtenwalner",
      "photoUrl": "https://lh3.googleusercontent.com/a/default-user=s128",
      "userId": "107661401208389246829"
     },
     "user_tz": 240
    },
    "id": "Fg55FJendrPW",
    "outputId": "073a572f-a28f-4ec7-fdc6-be028a982692",
    "slideshow": {
     "slide_type": "slide"
    }
   },
   "outputs": [
    {
     "data": {
      "text/plain": [
       "0    207\n",
       "1    215\n",
       "2    217\n",
       "Name: WDIR, dtype: int64"
      ]
     },
     "execution_count": 48,
     "metadata": {},
     "output_type": "execute_result"
    }
   ],
   "source": [
    "ndbc['WDIR'].head(3) # Just the first 3 elements of one variable"
   ]
  },
  {
   "cell_type": "code",
   "execution_count": 49,
   "metadata": {
    "colab": {
     "autoexec": {
      "startup": false,
      "wait_interval": 0
     },
     "base_uri": "https://localhost:8080/",
     "height": 359
    },
    "colab_type": "code",
    "executionInfo": {
     "elapsed": 276,
     "status": "ok",
     "timestamp": 1528212453104,
     "user": {
      "displayName": "Sage Lichtenwalner",
      "photoUrl": "https://lh3.googleusercontent.com/a/default-user=s128",
      "userId": "107661401208389246829"
     },
     "user_tz": 240
    },
    "id": "c-imuA6FdzM0",
    "outputId": "4a5958f9-2c40-4e53-8146-5d89d41b74f8",
    "slideshow": {
     "slide_type": "slide"
    }
   },
   "outputs": [
    {
     "data": {
      "text/plain": [
       "#YY     2016.999881\n",
       "MM         6.489590\n",
       "DD        15.862344\n",
       "hh        11.486377\n",
       "mm        49.999405\n",
       "WDIR     196.579179\n",
       "WSPD       6.805033\n",
       "GST        8.313195\n",
       "WVHT       1.378846\n",
       "DPD        7.616221\n",
       "APD        5.236626\n",
       "MWD      164.758953\n",
       "PRES    1016.071767\n",
       "ATMP      12.123629\n",
       "WTMP      13.502344\n",
       "DEWP     903.288043\n",
       "VIS       99.000000\n",
       "TIDE      99.000000\n",
       "dtype: float64"
      ]
     },
     "execution_count": 49,
     "metadata": {},
     "output_type": "execute_result"
    }
   ],
   "source": [
    "# Take the mean of each column\n",
    "ndbc.mean(axis=0)"
   ]
  },
  {
   "cell_type": "code",
   "execution_count": 50,
   "metadata": {
    "colab": {
     "autoexec": {
      "startup": false,
      "wait_interval": 0
     },
     "base_uri": "https://localhost:8080/",
     "height": 269
    },
    "colab_type": "code",
    "executionInfo": {
     "elapsed": 264,
     "status": "ok",
     "timestamp": 1528212453442,
     "user": {
      "displayName": "Sage Lichtenwalner",
      "photoUrl": "https://lh3.googleusercontent.com/a/default-user=s128",
      "userId": "107661401208389246829"
     },
     "user_tz": 240
    },
    "id": "Iy6LC85OeJ84",
    "outputId": "3c1b54a7-780f-49ca-d2f0-f6aaf44b83bf",
    "slideshow": {
     "slide_type": "slide"
    }
   },
   "outputs": [
    {
     "data": {
      "text/plain": [
       "MM\n",
       "1     8.140457\n",
       "2     7.449776\n",
       "3     8.694054\n",
       "4     5.682033\n",
       "5     6.117862\n",
       "6     5.843759\n",
       "7     4.857459\n",
       "8     5.061417\n",
       "9     6.074028\n",
       "10    6.949866\n",
       "11    7.986890\n",
       "12    8.059005\n",
       "Name: WSPD, dtype: float64"
      ]
     },
     "execution_count": 50,
     "metadata": {},
     "output_type": "execute_result"
    }
   ],
   "source": [
    "# Monthly means\n",
    "ndbc['WSPD'].groupby(ndbc['MM']).mean()"
   ]
  },
  {
   "cell_type": "code",
   "execution_count": 58,
   "metadata": {},
   "outputs": [],
   "source": [
    "# Import the Seaborn package for nice plotting defaults\n",
    "import seaborn as sns\n",
    "sns.set()"
   ]
  },
  {
   "cell_type": "code",
   "execution_count": 59,
   "metadata": {
    "colab": {
     "autoexec": {
      "startup": false,
      "wait_interval": 0
     },
     "base_uri": "https://localhost:8080/",
     "height": 361
    },
    "colab_type": "code",
    "executionInfo": {
     "elapsed": 385,
     "status": "ok",
     "timestamp": 1528212453904,
     "user": {
      "displayName": "Sage Lichtenwalner",
      "photoUrl": "https://lh3.googleusercontent.com/a/default-user=s128",
      "userId": "107661401208389246829"
     },
     "user_tz": 240
    },
    "id": "dxdEyOv9eeWk",
    "outputId": "c0cd3405-3b7c-41f4-828e-1e1afdde652b",
    "slideshow": {
     "slide_type": "slide"
    }
   },
   "outputs": [
    {
     "data": {
      "image/png": "[encoded data removed]",
      "text/plain": [
       "<Figure size 432x288 with 1 Axes>"
      ]
     },
     "metadata": {},
     "output_type": "display_data"
    }
   ],
   "source": [
    "# Basic plotting is bulit into Pandas\n",
    "ndbc['WSPD'].groupby(ndbc['MM']).mean().plot();"
   ]
  },
  {
   "cell_type": "code",
   "execution_count": 60,
   "metadata": {
    "colab": {
     "autoexec": {
      "startup": false,
      "wait_interval": 0
     },
     "base_uri": "https://localhost:8080/",
     "height": 348
    },
    "colab_type": "code",
    "executionInfo": {
     "elapsed": 643,
     "status": "ok",
     "timestamp": 1528212454696,
     "user": {
      "displayName": "Sage Lichtenwalner",
      "photoUrl": "https://lh3.googleusercontent.com/a/default-user=s128",
      "userId": "107661401208389246829"
     },
     "user_tz": 240
    },
    "id": "3_33NESWY7lE",
    "outputId": "ea598d03-4207-4658-e7d7-3966bdadc5db",
    "slideshow": {
     "slide_type": "slide"
    }
   },
   "outputs": [
    {
     "data": {
      "image/png": "[encoded data removed]",
      "text/plain": [
       "<Figure size 432x288 with 1 Axes>"
      ]
     },
     "metadata": {},
     "output_type": "display_data"
    }
   ],
   "source": [
    "# Create a datetime vector\n",
    "from datetime import datetime\n",
    "df = pd.DataFrame({'year': ndbc['#YY'], 'month': ndbc['MM'], 'day': ndbc['DD'], 'hour': ndbc['hh'], 'minute': ndbc['mm']})\n",
    "ndbc['datetime'] = pd.to_datetime(df)\n",
    "\n",
    "# Change the array index to use the datetime column\n",
    "ndbc = ndbc.set_index('datetime')\n",
    "\n",
    "# Now we can easily plot the Air Temperature vs. datetime!\n",
    "ndbc['ATMP'].plot();"
   ]
  },
  {
   "cell_type": "code",
   "execution_count": 61,
   "metadata": {
    "colab": {
     "autoexec": {
      "startup": false,
      "wait_interval": 0
     },
     "base_uri": "https://localhost:8080/",
     "height": 322
    },
    "colab_type": "code",
    "executionInfo": {
     "elapsed": 529,
     "status": "ok",
     "timestamp": 1528212455293,
     "user": {
      "displayName": "Sage Lichtenwalner",
      "photoUrl": "https://lh3.googleusercontent.com/a/default-user=s128",
      "userId": "107661401208389246829"
     },
     "user_tz": 240
    },
    "id": "PVvwlgF-Y7lF",
    "outputId": "f49bf9c1-d407-4c98-b239-79e4bb4bb770",
    "slideshow": {
     "slide_type": "slide"
    }
   },
   "outputs": [
    {
     "data": {
      "text/html": [
       "<div>\n",
       "<style scoped>\n",
       "    .dataframe tbody tr th:only-of-type {\n",
       "        vertical-align: middle;\n",
       "    }\n",
       "\n",
       "    .dataframe tbody tr th {\n",
       "        vertical-align: top;\n",
       "    }\n",
       "\n",
       "    .dataframe thead th {\n",
       "        text-align: right;\n",
       "    }\n",
       "</style>\n",
       "<table border=\"1\" class=\"dataframe\">\n",
       "  <thead>\n",
       "    <tr style=\"text-align: right;\">\n",
       "      <th></th>\n",
       "      <th>#YY</th>\n",
       "      <th>MM</th>\n",
       "      <th>DD</th>\n",
       "      <th>hh</th>\n",
       "      <th>mm</th>\n",
       "      <th>WDIR</th>\n",
       "      <th>WSPD</th>\n",
       "      <th>GST</th>\n",
       "      <th>WVHT</th>\n",
       "      <th>DPD</th>\n",
       "      <th>APD</th>\n",
       "      <th>MWD</th>\n",
       "      <th>PRES</th>\n",
       "      <th>ATMP</th>\n",
       "      <th>WTMP</th>\n",
       "      <th>DEWP</th>\n",
       "      <th>VIS</th>\n",
       "      <th>TIDE</th>\n",
       "    </tr>\n",
       "  </thead>\n",
       "  <tbody>\n",
       "    <tr>\n",
       "      <th>count</th>\n",
       "      <td>8405.000000</td>\n",
       "      <td>8405.000000</td>\n",
       "      <td>8405.000000</td>\n",
       "      <td>8405.000000</td>\n",
       "      <td>8405.000000</td>\n",
       "      <td>8405.000000</td>\n",
       "      <td>8405.000000</td>\n",
       "      <td>8405.000000</td>\n",
       "      <td>8405.000000</td>\n",
       "      <td>8405.000000</td>\n",
       "      <td>8405.000000</td>\n",
       "      <td>8405.000000</td>\n",
       "      <td>8405.000000</td>\n",
       "      <td>8405.000000</td>\n",
       "      <td>8405.000000</td>\n",
       "      <td>8405.000000</td>\n",
       "      <td>8405.0</td>\n",
       "      <td>8405.0</td>\n",
       "    </tr>\n",
       "    <tr>\n",
       "      <th>mean</th>\n",
       "      <td>2016.999881</td>\n",
       "      <td>6.489590</td>\n",
       "      <td>15.862344</td>\n",
       "      <td>11.486377</td>\n",
       "      <td>49.999405</td>\n",
       "      <td>196.579179</td>\n",
       "      <td>6.805033</td>\n",
       "      <td>8.313195</td>\n",
       "      <td>1.378846</td>\n",
       "      <td>7.616221</td>\n",
       "      <td>5.236626</td>\n",
       "      <td>164.758953</td>\n",
       "      <td>1016.071767</td>\n",
       "      <td>12.123629</td>\n",
       "      <td>13.502344</td>\n",
       "      <td>903.288043</td>\n",
       "      <td>99.0</td>\n",
       "      <td>99.0</td>\n",
       "    </tr>\n",
       "    <tr>\n",
       "      <th>std</th>\n",
       "      <td>0.010908</td>\n",
       "      <td>3.506544</td>\n",
       "      <td>8.663989</td>\n",
       "      <td>6.925693</td>\n",
       "      <td>0.054538</td>\n",
       "      <td>99.891368</td>\n",
       "      <td>3.513243</td>\n",
       "      <td>4.283560</td>\n",
       "      <td>1.982873</td>\n",
       "      <td>3.924234</td>\n",
       "      <td>2.112808</td>\n",
       "      <td>72.208377</td>\n",
       "      <td>8.328311</td>\n",
       "      <td>7.642789</td>\n",
       "      <td>6.218949</td>\n",
       "      <td>291.313517</td>\n",
       "      <td>0.0</td>\n",
       "      <td>0.0</td>\n",
       "    </tr>\n",
       "    <tr>\n",
       "      <th>min</th>\n",
       "      <td>2016.000000</td>\n",
       "      <td>1.000000</td>\n",
       "      <td>1.000000</td>\n",
       "      <td>0.000000</td>\n",
       "      <td>45.000000</td>\n",
       "      <td>1.000000</td>\n",
       "      <td>0.000000</td>\n",
       "      <td>0.100000</td>\n",
       "      <td>0.200000</td>\n",
       "      <td>2.470000</td>\n",
       "      <td>2.880000</td>\n",
       "      <td>1.000000</td>\n",
       "      <td>977.100000</td>\n",
       "      <td>-8.400000</td>\n",
       "      <td>4.300000</td>\n",
       "      <td>-0.500000</td>\n",
       "      <td>99.0</td>\n",
       "      <td>99.0</td>\n",
       "    </tr>\n",
       "    <tr>\n",
       "      <th>25%</th>\n",
       "      <td>2017.000000</td>\n",
       "      <td>3.000000</td>\n",
       "      <td>8.000000</td>\n",
       "      <td>5.000000</td>\n",
       "      <td>50.000000</td>\n",
       "      <td>105.000000</td>\n",
       "      <td>4.200000</td>\n",
       "      <td>5.100000</td>\n",
       "      <td>0.830000</td>\n",
       "      <td>5.560000</td>\n",
       "      <td>4.400000</td>\n",
       "      <td>114.000000</td>\n",
       "      <td>1011.700000</td>\n",
       "      <td>6.500000</td>\n",
       "      <td>7.500000</td>\n",
       "      <td>999.000000</td>\n",
       "      <td>99.0</td>\n",
       "      <td>99.0</td>\n",
       "    </tr>\n",
       "    <tr>\n",
       "      <th>50%</th>\n",
       "      <td>2017.000000</td>\n",
       "      <td>6.000000</td>\n",
       "      <td>16.000000</td>\n",
       "      <td>11.000000</td>\n",
       "      <td>50.000000</td>\n",
       "      <td>212.000000</td>\n",
       "      <td>6.300000</td>\n",
       "      <td>7.600000</td>\n",
       "      <td>1.170000</td>\n",
       "      <td>7.140000</td>\n",
       "      <td>4.970000</td>\n",
       "      <td>154.000000</td>\n",
       "      <td>1015.800000</td>\n",
       "      <td>11.700000</td>\n",
       "      <td>13.000000</td>\n",
       "      <td>999.000000</td>\n",
       "      <td>99.0</td>\n",
       "      <td>99.0</td>\n",
       "    </tr>\n",
       "    <tr>\n",
       "      <th>75%</th>\n",
       "      <td>2017.000000</td>\n",
       "      <td>10.000000</td>\n",
       "      <td>23.000000</td>\n",
       "      <td>17.000000</td>\n",
       "      <td>50.000000</td>\n",
       "      <td>280.000000</td>\n",
       "      <td>9.100000</td>\n",
       "      <td>11.000000</td>\n",
       "      <td>1.690000</td>\n",
       "      <td>9.090000</td>\n",
       "      <td>5.760000</td>\n",
       "      <td>196.000000</td>\n",
       "      <td>1021.200000</td>\n",
       "      <td>19.400000</td>\n",
       "      <td>19.500000</td>\n",
       "      <td>999.000000</td>\n",
       "      <td>99.0</td>\n",
       "      <td>99.0</td>\n",
       "    </tr>\n",
       "    <tr>\n",
       "      <th>max</th>\n",
       "      <td>2017.000000</td>\n",
       "      <td>12.000000</td>\n",
       "      <td>31.000000</td>\n",
       "      <td>23.000000</td>\n",
       "      <td>50.000000</td>\n",
       "      <td>360.000000</td>\n",
       "      <td>20.400000</td>\n",
       "      <td>27.000000</td>\n",
       "      <td>99.000000</td>\n",
       "      <td>99.000000</td>\n",
       "      <td>99.000000</td>\n",
       "      <td>999.000000</td>\n",
       "      <td>1041.500000</td>\n",
       "      <td>26.300000</td>\n",
       "      <td>26.900000</td>\n",
       "      <td>999.000000</td>\n",
       "      <td>99.0</td>\n",
       "      <td>99.0</td>\n",
       "    </tr>\n",
       "  </tbody>\n",
       "</table>\n",
       "</div>"
      ],
      "text/plain": [
       "               #YY           MM           DD           hh           mm  \\\n",
       "count  8405.000000  8405.000000  8405.000000  8405.000000  8405.000000   \n",
       "mean   2016.999881     6.489590    15.862344    11.486377    49.999405   \n",
       "std       0.010908     3.506544     8.663989     6.925693     0.054538   \n",
       "min    2016.000000     1.000000     1.000000     0.000000    45.000000   \n",
       "25%    2017.000000     3.000000     8.000000     5.000000    50.000000   \n",
       "50%    2017.000000     6.000000    16.000000    11.000000    50.000000   \n",
       "75%    2017.000000    10.000000    23.000000    17.000000    50.000000   \n",
       "max    2017.000000    12.000000    31.000000    23.000000    50.000000   \n",
       "\n",
       "              WDIR         WSPD          GST         WVHT          DPD  \\\n",
       "count  8405.000000  8405.000000  8405.000000  8405.000000  8405.000000   \n",
       "mean    196.579179     6.805033     8.313195     1.378846     7.616221   \n",
       "std      99.891368     3.513243     4.283560     1.982873     3.924234   \n",
       "min       1.000000     0.000000     0.100000     0.200000     2.470000   \n",
       "25%     105.000000     4.200000     5.100000     0.830000     5.560000   \n",
       "50%     212.000000     6.300000     7.600000     1.170000     7.140000   \n",
       "75%     280.000000     9.100000    11.000000     1.690000     9.090000   \n",
       "max     360.000000    20.400000    27.000000    99.000000    99.000000   \n",
       "\n",
       "               APD          MWD         PRES         ATMP         WTMP  \\\n",
       "count  8405.000000  8405.000000  8405.000000  8405.000000  8405.000000   \n",
       "mean      5.236626   164.758953  1016.071767    12.123629    13.502344   \n",
       "std       2.112808    72.208377     8.328311     7.642789     6.218949   \n",
       "min       2.880000     1.000000   977.100000    -8.400000     4.300000   \n",
       "25%       4.400000   114.000000  1011.700000     6.500000     7.500000   \n",
       "50%       4.970000   154.000000  1015.800000    11.700000    13.000000   \n",
       "75%       5.760000   196.000000  1021.200000    19.400000    19.500000   \n",
       "max      99.000000   999.000000  1041.500000    26.300000    26.900000   \n",
       "\n",
       "              DEWP     VIS    TIDE  \n",
       "count  8405.000000  8405.0  8405.0  \n",
       "mean    903.288043    99.0    99.0  \n",
       "std     291.313517     0.0     0.0  \n",
       "min      -0.500000    99.0    99.0  \n",
       "25%     999.000000    99.0    99.0  \n",
       "50%     999.000000    99.0    99.0  \n",
       "75%     999.000000    99.0    99.0  \n",
       "max     999.000000    99.0    99.0  "
      ]
     },
     "execution_count": 61,
     "metadata": {},
     "output_type": "execute_result"
    }
   ],
   "source": [
    "# Pandas even lest you do a whole bunch of quick analysis in one line\n",
    "ndbc.describe()"
   ]
  },
  {
   "cell_type": "markdown",
   "metadata": {
    "colab_type": "text",
    "id": "SAqDEedZgGUU",
    "slideshow": {
     "slide_type": "slide"
    }
   },
   "source": [
    "## Matplotlib\n",
    "\n",
    "[Matplotlib](https://matplotlib.org) is the Matlab-like equivalent to plotting in Python.\n",
    "\n",
    "Remember, you can add a semi-colon to the last line to supress unwanted output, which often happens when using matplotlib."
   ]
  },
  {
   "cell_type": "code",
   "execution_count": 62,
   "metadata": {
    "colab": {
     "autoexec": {
      "startup": false,
      "wait_interval": 0
     }
    },
    "colab_type": "code",
    "id": "EnVWP7GBY7lG"
   },
   "outputs": [],
   "source": [
    "import matplotlib.pyplot as plt"
   ]
  },
  {
   "cell_type": "code",
   "execution_count": 63,
   "metadata": {
    "colab": {
     "autoexec": {
      "startup": false,
      "wait_interval": 0
     },
     "base_uri": "https://localhost:8080/",
     "height": 347
    },
    "colab_type": "code",
    "executionInfo": {
     "elapsed": 404,
     "status": "ok",
     "timestamp": 1528212456302,
     "user": {
      "displayName": "Sage Lichtenwalner",
      "photoUrl": "https://lh3.googleusercontent.com/a/default-user=s128",
      "userId": "107661401208389246829"
     },
     "user_tz": 240
    },
    "id": "XR8QRziGfOjT",
    "outputId": "f76b9d52-1a68-4ba5-8e6f-f1f0d0b9040e",
    "slideshow": {
     "slide_type": "slide"
    }
   },
   "outputs": [
    {
     "data": {
      "image/png": "[encoded data removed]",
      "text/plain": [
       "<Figure size 432x288 with 1 Axes>"
      ]
     },
     "metadata": {},
     "output_type": "display_data"
    }
   ],
   "source": [
    "# Let's make a simple plot\n",
    "t = np.linspace(0,10,100)\n",
    "y = np.cos(t)*np.sin(t)\n",
    "\n",
    "plt.plot(t, y, '-rs'); # Line with red squares"
   ]
  },
  {
   "cell_type": "code",
   "execution_count": 66,
   "metadata": {
    "colab": {
     "autoexec": {
      "startup": false,
      "wait_interval": 0
     },
     "base_uri": "https://localhost:8080/",
     "height": 376
    },
    "colab_type": "code",
    "executionInfo": {
     "elapsed": 646,
     "status": "ok",
     "timestamp": 1528212456982,
     "user": {
      "displayName": "Sage Lichtenwalner",
      "photoUrl": "https://lh3.googleusercontent.com/a/default-user=s128",
      "userId": "107661401208389246829"
     },
     "user_tz": 240
    },
    "id": "CJ93ezI5hJNB",
    "outputId": "88d59099-d30f-4b05-9689-def1f3d1fc03",
    "slideshow": {
     "slide_type": "slide"
    }
   },
   "outputs": [
    {
     "data": {
      "image/png": "[encoded data removed]",
      "text/plain": [
       "<Figure size 432x288 with 1 Axes>"
      ]
     },
     "metadata": {},
     "output_type": "display_data"
    }
   ],
   "source": [
    "# A slightly more advanced example\n",
    "mu, sigma = 100, 15\n",
    "x = mu + sigma * np.random.randn(100)\n",
    "\n",
    "plt.plot(x,'r.') #Red dots\n",
    "plt.xlabel('Smarts')\n",
    "plt.ylabel('Probability')\n",
    "plt.title('Histogram of IQ')\n",
    "plt.text(10, 135, r'$\\mu=100, \\ \\sigma=15$'); #Annotations can support LaTex"
   ]
  },
  {
   "cell_type": "markdown",
   "metadata": {
    "colab_type": "text",
    "id": "iihaQuTFjaP1"
   },
   "source": [
    "For more, check out the great list of [Matplotlib Examples](https://matplotlib.org/gallery/index.html), and also check out the [Seaborn](https://seaborn.pydata.org) library, which provides a great set of defaults to make your plots look better.  (Google Colab includes this by default.)"
   ]
  },
  {
   "cell_type": "markdown",
   "metadata": {
    "colab_type": "text",
    "id": "bLpTzP346rF-",
    "slideshow": {
     "slide_type": "slide"
    }
   },
   "source": [
    "## Additional Resources\n",
    "\n",
    "* [NumPy for Matlab users](https://docs.scipy.org/doc/numpy/user/numpy-for-matlab-users.html) - A quick introduction from SciPy\n",
    "* [NumPy for Matlab users Cheatsheet](http://mathesaurus.sourceforge.net/matlab-numpy.html)\n",
    "* [MATLAB vs. Python: Top Reasons to Choose MATLAB](https://www.mathworks.com/products/matlab/matlab-vs-python.html) - For another perspective\n",
    "* [Pangeo Python Basics Tutorial](https://github.com/pangeo-data/pangeo-tutorial-sea-2018/blob/master/notebooks/1.0.scientific_python_ecosystem.ipynb)  - Many of the above examples come from this.\n",
    "* [Python for Matlab Users](http://researchcomputing.github.io/meetup_fall_2014/pdfs/fall2014_meetup13_python_matlab.pdf) - A meetup presentation from CSU.  This is a good overview.  Some of the above examples also come from this.\n",
    "* [Pyzo Python vs. Matlab](http://www.pyzo.org/python_vs_matlab.html)\n",
    "* [Webinar: Python for MATLAB Users, What You Need to Know](https://www.youtube.com/watch?v=YkCegjtoHFQ)\n",
    "* [Python Graph Gallery](https://python-graph-gallery.com) - For when you need more inspiration"
   ]
  }
 ],
 "metadata": {
  "colab": {
   "default_view": {},
   "name": "Python Basics for Matlab Wizards.ipynb",
   "provenance": [],
   "toc_visible": true,
   "version": "0.3.2",
   "views": {}
  },
  "kernelspec": {
   "display_name": "Python 3",
   "language": "python",
   "name": "python3"
  },
  "language_info": {
   "codemirror_mode": {
    "name": "ipython",
    "version": 3
   },
   "file_extension": ".py",
   "mimetype": "text/x-python",
   "name": "python",
   "nbconvert_exporter": "python",
   "pygments_lexer": "ipython3",
   "version": "3.6.5"
  }
 },
 "nbformat": 4,
 "nbformat_minor": 2
}
