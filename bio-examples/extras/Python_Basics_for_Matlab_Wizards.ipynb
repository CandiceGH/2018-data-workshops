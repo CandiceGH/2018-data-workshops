{
  "nbformat": 4,
  "nbformat_minor": 0,
  "metadata": {
    "colab": {
      "name": "Python Basics for Matlab Wizards.ipynb",
      "version": "0.3.2",
      "views": {},
      "default_view": {},
      "provenance": [],
      "toc_visible": true
    },
    "kernelspec": {
      "name": "python3",
      "display_name": "Python 3"
    }
  },
  "cells": [
    {
      "metadata": {
        "id": "d4QNLHg06nPY",
        "colab_type": "text",
        "slideshow": {
          "slide_type": "slide"
        }
      },
      "cell_type": "markdown",
      "source": [
        "# Python Basics for Matlab Wizards\n",
        "*Compiled by Sage Lichtenwalner, Rutgers University, June 5, 2018*\n",
        "\n",
        "Welcome to Python.  \n",
        "\n",
        "In this example, we will highlight some of the basics of programming in Python, along with some tips and tricks for those more familiar with Matlab.  There are a number of additional resources at the bottom I encourage you to check out.\n",
        "\n",
        "This example was written in Google's Colaboratory environment, but it could be run in any [Jupyter Notebook](http://jupyter.org) environment.  You can also try these commands directly on the Python command line, though your results may vary.  For more information about Google Colab, check out their [Hello, Colaboratory](https://colab.research.google.com/notebooks/welcome.ipynb) introduction and the [Overview](https://colab.research.google.com/notebooks/basic_features_overview.ipynb)."
      ]
    },
    {
      "metadata": {
        "id": "An6oaKTN7_Le",
        "colab_type": "text",
        "slideshow": {
          "slide_type": "slide"
        }
      },
      "cell_type": "markdown",
      "source": [
        "## Some Basics\n",
        "\n",
        "To execute the code in a cell click the **Play** icon on the left, type **Cmd/Ctrl+Enter** to run the cell in place or type **Shift+Enter** to run the cell and move focus to the next cell."
      ]
    },
    {
      "metadata": {
        "id": "5-29lQE-LRyL",
        "colab_type": "code",
        "colab": {
          "autoexec": {
            "startup": false,
            "wait_interval": 0
          },
          "base_uri": "https://localhost:8080/",
          "height": 35
        },
        "outputId": "806b9851-2baf-4d25-ab59-743a3943068f",
        "executionInfo": {
          "status": "ok",
          "timestamp": 1528212432358,
          "user_tz": 240,
          "elapsed": 824,
          "user": {
            "displayName": "Sage Lichtenwalner",
            "photoUrl": "https://lh3.googleusercontent.com/a/default-user=s128",
            "userId": "107661401208389246829"
          }
        }
      },
      "cell_type": "code",
      "source": [
        "2+2"
      ],
      "execution_count": 1,
      "outputs": [
        {
          "output_type": "execute_result",
          "data": {
            "text/plain": [
              "4"
            ]
          },
          "metadata": {
            "tags": []
          },
          "execution_count": 1
        }
      ]
    },
    {
      "metadata": {
        "id": "mcAoNbxaFJEH",
        "colab_type": "code",
        "slideshow": {
          "slide_type": "slide"
        },
        "colab": {
          "autoexec": {
            "startup": false,
            "wait_interval": 0
          },
          "base_uri": "https://localhost:8080/",
          "height": 35
        },
        "outputId": "a58cb636-6c30-4905-a591-2a67562bbbfb",
        "executionInfo": {
          "status": "ok",
          "timestamp": 1528212432876,
          "user_tz": 240,
          "elapsed": 453,
          "user": {
            "displayName": "Sage Lichtenwalner",
            "photoUrl": "https://lh3.googleusercontent.com/a/default-user=s128",
            "userId": "107661401208389246829"
          }
        }
      },
      "cell_type": "code",
      "source": [
        "# Variable assignment\n",
        "x = 4\n",
        "\n",
        "# What kind of object is this?\n",
        "type(x)"
      ],
      "execution_count": 2,
      "outputs": [
        {
          "output_type": "execute_result",
          "data": {
            "text/plain": [
              "int"
            ]
          },
          "metadata": {
            "tags": []
          },
          "execution_count": 2
        }
      ]
    },
    {
      "metadata": {
        "id": "mkLng08dFfh4",
        "colab_type": "code",
        "slideshow": {
          "slide_type": "slide"
        },
        "colab": {
          "autoexec": {
            "startup": false,
            "wait_interval": 0
          },
          "base_uri": "https://localhost:8080/",
          "height": 35
        },
        "outputId": "a60cf9ae-7a14-44f4-adda-beb57ae1ed26",
        "executionInfo": {
          "status": "ok",
          "timestamp": 1528212433257,
          "user_tz": 240,
          "elapsed": 314,
          "user": {
            "displayName": "Sage Lichtenwalner",
            "photoUrl": "https://lh3.googleusercontent.com/a/default-user=s128",
            "userId": "107661401208389246829"
          }
        }
      },
      "cell_type": "code",
      "source": [
        "# Float \n",
        "y = 1.25\n",
        "type(y)"
      ],
      "execution_count": 3,
      "outputs": [
        {
          "output_type": "execute_result",
          "data": {
            "text/plain": [
              "float"
            ]
          },
          "metadata": {
            "tags": []
          },
          "execution_count": 3
        }
      ]
    },
    {
      "metadata": {
        "id": "8M-GN9kvGXOI",
        "colab_type": "code",
        "colab": {
          "autoexec": {
            "startup": false,
            "wait_interval": 0
          },
          "base_uri": "https://localhost:8080/",
          "height": 35
        },
        "outputId": "10057e2f-4457-4779-ae52-0739cb4cfff2",
        "executionInfo": {
          "status": "ok",
          "timestamp": 1528212433652,
          "user_tz": 240,
          "elapsed": 320,
          "user": {
            "displayName": "Sage Lichtenwalner",
            "photoUrl": "https://lh3.googleusercontent.com/a/default-user=s128",
            "userId": "107661401208389246829"
          }
        }
      },
      "cell_type": "code",
      "source": [
        "# String\n",
        "z = 'Python is great'\n",
        "type(z)"
      ],
      "execution_count": 4,
      "outputs": [
        {
          "output_type": "execute_result",
          "data": {
            "text/plain": [
              "str"
            ]
          },
          "metadata": {
            "tags": []
          },
          "execution_count": 4
        }
      ]
    },
    {
      "metadata": {
        "id": "rbULmpXCFJIZ",
        "colab_type": "code",
        "slideshow": {
          "slide_type": "slide"
        },
        "colab": {
          "autoexec": {
            "startup": false,
            "wait_interval": 0
          },
          "base_uri": "https://localhost:8080/",
          "height": 53
        },
        "outputId": "07651d84-8d89-41d8-bb64-57fea0caaa42",
        "executionInfo": {
          "status": "ok",
          "timestamp": 1528212434014,
          "user_tz": 240,
          "elapsed": 294,
          "user": {
            "displayName": "Sage Lichtenwalner",
            "photoUrl": "https://lh3.googleusercontent.com/a/default-user=s128",
            "userId": "107661401208389246829"
          }
        }
      },
      "cell_type": "code",
      "source": [
        "# We can do some basic math\n",
        "print( x + y )\n",
        "print( x/y )"
      ],
      "execution_count": 5,
      "outputs": [
        {
          "output_type": "stream",
          "text": [
            "5.25\n",
            "3.2\n"
          ],
          "name": "stdout"
        }
      ]
    },
    {
      "metadata": {
        "id": "i4k796DieJ0_",
        "colab_type": "text"
      },
      "cell_type": "markdown",
      "source": [
        "**By default the Colab/Jupyter environment will print out the output from the last line** without having to specify the `print` command.  \n",
        "\n",
        "However, if we want to output the result from additional lines (as we did above), we need to use `print` on each line.  Note, Python 3 requires parentheses around the print command, but it is optional in Python 2.\n",
        "\n",
        "Sometimes, we will want to suppress the output from the last line.  To do this, simply add a semi-colon \"`;`\" at the end."
      ]
    },
    {
      "metadata": {
        "id": "dKclDV4zhgWu",
        "colab_type": "code",
        "colab": {
          "autoexec": {
            "startup": false,
            "wait_interval": 0
          },
          "base_uri": "https://localhost:8080/",
          "height": 107
        },
        "outputId": "c3477763-8786-4e06-9a6d-e3d8329ace0c",
        "executionInfo": {
          "status": "ok",
          "timestamp": 1528212434361,
          "user_tz": 240,
          "elapsed": 272,
          "user": {
            "displayName": "Sage Lichtenwalner",
            "photoUrl": "https://lh3.googleusercontent.com/a/default-user=s128",
            "userId": "107661401208389246829"
          }
        }
      },
      "cell_type": "code",
      "source": [
        "# Find out what variables you already have in memory\n",
        "whos"
      ],
      "execution_count": 6,
      "outputs": [
        {
          "output_type": "stream",
          "text": [
            "Variable   Type     Data/Info\n",
            "-----------------------------\n",
            "x          int      4\n",
            "y          float    1.25\n",
            "z          str      Python is great\n"
          ],
          "name": "stdout"
        }
      ]
    },
    {
      "metadata": {
        "id": "orHJ8GIUGgGb",
        "colab_type": "text",
        "slideshow": {
          "slide_type": "slide"
        }
      },
      "cell_type": "markdown",
      "source": [
        "## Beware of type conflicts\n",
        "\n",
        "Sometimes the result you expect is not what you get.  That's especially the case when mixing object types, like integers and floats, or numbers and strings.  Sometimes there are differences between the Python version you are running.   You can switch Python versions by going to *Runtime -> Change runtime type* in the menu. "
      ]
    },
    {
      "metadata": {
        "id": "_UHcn8VGFJMB",
        "colab_type": "code",
        "colab": {
          "autoexec": {
            "startup": false,
            "wait_interval": 0
          },
          "base_uri": "https://localhost:8080/",
          "height": 71
        },
        "outputId": "bb51f1e0-d8b8-4067-b644-12f84ac10c27",
        "executionInfo": {
          "status": "ok",
          "timestamp": 1528212434934,
          "user_tz": 240,
          "elapsed": 373,
          "user": {
            "displayName": "Sage Lichtenwalner",
            "photoUrl": "https://lh3.googleusercontent.com/a/default-user=s128",
            "userId": "107661401208389246829"
          }
        }
      },
      "cell_type": "code",
      "source": [
        "# Dividing two ints results in an int\n",
        "print( 21/3 ) # Two integers\n",
        "print( 23/3 ) # In Python 2 the (incorrect) result is an integer. In Python 3 this works as expected.\n",
        "print( 23.0/3.0 ) # Two floats results in a float"
      ],
      "execution_count": 7,
      "outputs": [
        {
          "output_type": "stream",
          "text": [
            "7.0\n",
            "7.666666666666667\n",
            "7.666666666666667\n"
          ],
          "name": "stdout"
        }
      ]
    },
    {
      "metadata": {
        "id": "IGtw_babGjrI",
        "colab_type": "code",
        "slideshow": {
          "slide_type": "slide"
        },
        "colab": {
          "autoexec": {
            "startup": false,
            "wait_interval": 0
          },
          "base_uri": "https://localhost:8080/",
          "height": 172
        },
        "outputId": "c68b4b46-63ce-465e-fb9d-0b45fa108f79",
        "executionInfo": {
          "status": "error",
          "timestamp": 1528212435465,
          "user_tz": 240,
          "elapsed": 471,
          "user": {
            "displayName": "Sage Lichtenwalner",
            "photoUrl": "https://lh3.googleusercontent.com/a/default-user=s128",
            "userId": "107661401208389246829"
          }
        }
      },
      "cell_type": "code",
      "source": [
        "# You can't concatenate strings and ints\n",
        "print( z + x )"
      ],
      "execution_count": 8,
      "outputs": [
        {
          "output_type": "error",
          "ename": "TypeError",
          "evalue": "ignored",
          "traceback": [
            "\u001b[0;31m---------------------------------------------------------------------------\u001b[0m",
            "\u001b[0;31mTypeError\u001b[0m                                 Traceback (most recent call last)",
            "\u001b[0;32m<ipython-input-8-46cb8bf52bc5>\u001b[0m in \u001b[0;36m<module>\u001b[0;34m()\u001b[0m\n\u001b[0;32m----> 1\u001b[0;31m \u001b[0mprint\u001b[0m\u001b[0;34m(\u001b[0m \u001b[0mz\u001b[0m \u001b[0;34m+\u001b[0m \u001b[0mx\u001b[0m \u001b[0;34m)\u001b[0m\u001b[0;34m\u001b[0m\u001b[0m\n\u001b[0m",
            "\u001b[0;31mTypeError\u001b[0m: must be str, not int"
          ]
        }
      ]
    },
    {
      "metadata": {
        "id": "rM6bosozKpXq",
        "colab_type": "code",
        "slideshow": {
          "slide_type": "fragment"
        },
        "colab": {
          "autoexec": {
            "startup": false,
            "wait_interval": 0
          },
          "base_uri": "https://localhost:8080/",
          "height": 35
        },
        "outputId": "0790fdb0-8216-4702-b8de-2ae06c83764e",
        "executionInfo": {
          "status": "ok",
          "timestamp": 1528211885801,
          "user_tz": 240,
          "elapsed": 262,
          "user": {
            "displayName": "Sage Lichtenwalner",
            "photoUrl": "https://lh3.googleusercontent.com/a/default-user=s128",
            "userId": "107661401208389246829"
          }
        }
      },
      "cell_type": "code",
      "source": [
        "# But you can multiply them\n",
        "print( z * x )"
      ],
      "execution_count": 10,
      "outputs": [
        {
          "output_type": "stream",
          "text": [
            "Python is greatPython is greatPython is greatPython is great\n"
          ],
          "name": "stdout"
        }
      ]
    },
    {
      "metadata": {
        "id": "-4d39NFwFJPV",
        "colab_type": "code",
        "slideshow": {
          "slide_type": "slide"
        },
        "colab": {
          "autoexec": {
            "startup": false,
            "wait_interval": 0
          },
          "base_uri": "https://localhost:8080/",
          "height": 35
        },
        "outputId": "85583100-da94-4280-f400-83581f98f89f",
        "executionInfo": {
          "status": "ok",
          "timestamp": 1528211886398,
          "user_tz": 240,
          "elapsed": 272,
          "user": {
            "displayName": "Sage Lichtenwalner",
            "photoUrl": "https://lh3.googleusercontent.com/a/default-user=s128",
            "userId": "107661401208389246829"
          }
        }
      },
      "cell_type": "code",
      "source": [
        "# Convert an int into a string\n",
        "print( z + ' ' + str(x) + ' you' )"
      ],
      "execution_count": 11,
      "outputs": [
        {
          "output_type": "stream",
          "text": [
            "Python is great 4 you\n"
          ],
          "name": "stdout"
        }
      ]
    },
    {
      "metadata": {
        "id": "74GTd4WnFJSk",
        "colab_type": "code",
        "slideshow": {
          "slide_type": "fragment"
        },
        "colab": {
          "autoexec": {
            "startup": false,
            "wait_interval": 0
          },
          "base_uri": "https://localhost:8080/",
          "height": 35
        },
        "outputId": "11bd38ca-462d-47a6-ae72-25ff4490ec95",
        "executionInfo": {
          "status": "ok",
          "timestamp": 1528212436177,
          "user_tz": 240,
          "elapsed": 296,
          "user": {
            "displayName": "Sage Lichtenwalner",
            "photoUrl": "https://lh3.googleusercontent.com/a/default-user=s128",
            "userId": "107661401208389246829"
          }
        }
      },
      "cell_type": "code",
      "source": [
        "# A better way\n",
        "print( 'Python is great %s you' % x )"
      ],
      "execution_count": 9,
      "outputs": [
        {
          "output_type": "stream",
          "text": [
            "Python is great 4 you\n"
          ],
          "name": "stdout"
        }
      ]
    },
    {
      "metadata": {
        "id": "3HdSyw3bHmyG",
        "colab_type": "text",
        "slideshow": {
          "slide_type": "slide"
        }
      },
      "cell_type": "markdown",
      "source": [
        "## Fun with Lists"
      ]
    },
    {
      "metadata": {
        "id": "XC1RvchhFJWj",
        "colab_type": "code",
        "slideshow": {
          "slide_type": "fragment"
        },
        "colab": {
          "autoexec": {
            "startup": false,
            "wait_interval": 0
          }
        }
      },
      "cell_type": "code",
      "source": [
        "my_list = [3, 4, 5, 9, 12]"
      ],
      "execution_count": 0,
      "outputs": []
    },
    {
      "metadata": {
        "id": "YJHVvATWcJPo",
        "colab_type": "text"
      },
      "cell_type": "markdown",
      "source": [
        "Remember, Python uses 0-based indexing, so to grab the first element you use \"0\" and the last element would n-1.  (In Matlab you would use 1 to n.)"
      ]
    },
    {
      "metadata": {
        "id": "OPANp_LKHsVu",
        "colab_type": "code",
        "slideshow": {
          "slide_type": "fragment"
        },
        "colab": {
          "autoexec": {
            "startup": false,
            "wait_interval": 0
          },
          "base_uri": "https://localhost:8080/",
          "height": 35
        },
        "outputId": "b39f2570-898b-4664-ee4e-d8f565938a8a",
        "executionInfo": {
          "status": "ok",
          "timestamp": 1528212437569,
          "user_tz": 240,
          "elapsed": 288,
          "user": {
            "displayName": "Sage Lichtenwalner",
            "photoUrl": "https://lh3.googleusercontent.com/a/default-user=s128",
            "userId": "107661401208389246829"
          }
        }
      },
      "cell_type": "code",
      "source": [
        "# The fist item\n",
        "my_list[0]"
      ],
      "execution_count": 11,
      "outputs": [
        {
          "output_type": "execute_result",
          "data": {
            "text/plain": [
              "3"
            ]
          },
          "metadata": {
            "tags": []
          },
          "execution_count": 11
        }
      ]
    },
    {
      "metadata": {
        "id": "rFUURuohHsZF",
        "colab_type": "code",
        "slideshow": {
          "slide_type": "fragment"
        },
        "colab": {
          "autoexec": {
            "startup": false,
            "wait_interval": 0
          },
          "base_uri": "https://localhost:8080/",
          "height": 35
        },
        "outputId": "cd590b25-2adc-4822-bc85-dbf6cde89eae",
        "executionInfo": {
          "status": "ok",
          "timestamp": 1528212438091,
          "user_tz": 240,
          "elapsed": 313,
          "user": {
            "displayName": "Sage Lichtenwalner",
            "photoUrl": "https://lh3.googleusercontent.com/a/default-user=s128",
            "userId": "107661401208389246829"
          }
        }
      },
      "cell_type": "code",
      "source": [
        "# The last item\n",
        "my_list[-1]"
      ],
      "execution_count": 12,
      "outputs": [
        {
          "output_type": "execute_result",
          "data": {
            "text/plain": [
              "12"
            ]
          },
          "metadata": {
            "tags": []
          },
          "execution_count": 12
        }
      ]
    },
    {
      "metadata": {
        "id": "ZTwGl-knHwHq",
        "colab_type": "code",
        "slideshow": {
          "slide_type": "slide"
        },
        "colab": {
          "autoexec": {
            "startup": false,
            "wait_interval": 0
          },
          "base_uri": "https://localhost:8080/",
          "height": 35
        },
        "outputId": "441cf27b-b733-4ad9-fbe0-e395c85dd425",
        "executionInfo": {
          "status": "ok",
          "timestamp": 1528212438449,
          "user_tz": 240,
          "elapsed": 293,
          "user": {
            "displayName": "Sage Lichtenwalner",
            "photoUrl": "https://lh3.googleusercontent.com/a/default-user=s128",
            "userId": "107661401208389246829"
          }
        }
      },
      "cell_type": "code",
      "source": [
        "# Extract a subset\n",
        "my_list[2:4]"
      ],
      "execution_count": 13,
      "outputs": [
        {
          "output_type": "execute_result",
          "data": {
            "text/plain": [
              "[5, 9]"
            ]
          },
          "metadata": {
            "tags": []
          },
          "execution_count": 13
        }
      ]
    },
    {
      "metadata": {
        "id": "GW_TT32XIDS_",
        "colab_type": "code",
        "slideshow": {
          "slide_type": "slide"
        },
        "colab": {
          "autoexec": {
            "startup": false,
            "wait_interval": 0
          },
          "base_uri": "https://localhost:8080/",
          "height": 35
        },
        "outputId": "406164e8-b319-46c9-a4bd-5c8db0a04d2c",
        "executionInfo": {
          "status": "ok",
          "timestamp": 1528212438870,
          "user_tz": 240,
          "elapsed": 356,
          "user": {
            "displayName": "Sage Lichtenwalner",
            "photoUrl": "https://lh3.googleusercontent.com/a/default-user=s128",
            "userId": "107661401208389246829"
          }
        }
      },
      "cell_type": "code",
      "source": [
        "# Update a value\n",
        "my_list[3] = 99\n",
        "my_list"
      ],
      "execution_count": 14,
      "outputs": [
        {
          "output_type": "execute_result",
          "data": {
            "text/plain": [
              "[3, 4, 5, 99, 12]"
            ]
          },
          "metadata": {
            "tags": []
          },
          "execution_count": 14
        }
      ]
    },
    {
      "metadata": {
        "id": "1Dbw-ivOHsc8",
        "colab_type": "code",
        "slideshow": {
          "slide_type": "slide"
        },
        "colab": {
          "autoexec": {
            "startup": false,
            "wait_interval": 0
          },
          "base_uri": "https://localhost:8080/",
          "height": 71
        },
        "outputId": "dbfab65d-726b-4acb-ce16-7834bf9f5a1a",
        "executionInfo": {
          "status": "ok",
          "timestamp": 1528212439261,
          "user_tz": 240,
          "elapsed": 324,
          "user": {
            "displayName": "Sage Lichtenwalner",
            "photoUrl": "https://lh3.googleusercontent.com/a/default-user=s128",
            "userId": "107661401208389246829"
          }
        }
      },
      "cell_type": "code",
      "source": [
        "# Warning, Python variables are object references and not copies by default\n",
        "my_second_list = my_list\n",
        "print( my_second_list )\n",
        "\n",
        "my_second_list[0] = 66\n",
        "print( my_second_list )\n",
        "print( my_list ) # The first list has been overwritten"
      ],
      "execution_count": 15,
      "outputs": [
        {
          "output_type": "stream",
          "text": [
            "[3, 4, 5, 99, 12]\n",
            "[66, 4, 5, 99, 12]\n",
            "[66, 4, 5, 99, 12]\n"
          ],
          "name": "stdout"
        }
      ]
    },
    {
      "metadata": {
        "id": "PRVQpgaJIWuW",
        "colab_type": "code",
        "slideshow": {
          "slide_type": "slide"
        },
        "colab": {
          "autoexec": {
            "startup": false,
            "wait_interval": 0
          },
          "base_uri": "https://localhost:8080/",
          "height": 53
        },
        "outputId": "b3adb142-e584-47b8-af97-5563a94dab47",
        "executionInfo": {
          "status": "ok",
          "timestamp": 1528212439660,
          "user_tz": 240,
          "elapsed": 331,
          "user": {
            "displayName": "Sage Lichtenwalner",
            "photoUrl": "https://lh3.googleusercontent.com/a/default-user=s128",
            "userId": "107661401208389246829"
          }
        }
      },
      "cell_type": "code",
      "source": [
        "# To avoid this, create a copy of the list, which keeps the original intact\n",
        "my_list = [3, 4, 5, 9, 12]\n",
        "my_second_list = list(my_list) # You can also use copy.copy() or my_list[:]\n",
        "\n",
        "my_second_list[0] = 66\n",
        "print( my_second_list )\n",
        "print( my_list )"
      ],
      "execution_count": 16,
      "outputs": [
        {
          "output_type": "stream",
          "text": [
            "[66, 4, 5, 9, 12]\n",
            "[3, 4, 5, 9, 12]\n"
          ],
          "name": "stdout"
        }
      ]
    },
    {
      "metadata": {
        "id": "SoXxwrfKI69_",
        "colab_type": "text",
        "slideshow": {
          "slide_type": "slide"
        }
      },
      "cell_type": "markdown",
      "source": [
        "## Dictionaries"
      ]
    },
    {
      "metadata": {
        "id": "nqwCadXuI8UQ",
        "colab_type": "code",
        "colab": {
          "autoexec": {
            "startup": false,
            "wait_interval": 0
          },
          "base_uri": "https://localhost:8080/",
          "height": 35
        },
        "outputId": "16841ca7-3c03-497e-9e35-ffc38a623b56",
        "executionInfo": {
          "status": "ok",
          "timestamp": 1528212440259,
          "user_tz": 240,
          "elapsed": 274,
          "user": {
            "displayName": "Sage Lichtenwalner",
            "photoUrl": "https://lh3.googleusercontent.com/a/default-user=s128",
            "userId": "107661401208389246829"
          }
        }
      },
      "cell_type": "code",
      "source": [
        "my_dict = {'temperature': 21, 'salinity':35, 'sensor':'CTD 23'}\n",
        "my_dict"
      ],
      "execution_count": 17,
      "outputs": [
        {
          "output_type": "execute_result",
          "data": {
            "text/plain": [
              "{'salinity': 35, 'sensor': 'CTD 23', 'temperature': 21}"
            ]
          },
          "metadata": {
            "tags": []
          },
          "execution_count": 17
        }
      ]
    },
    {
      "metadata": {
        "id": "aIOWIErZJOIl",
        "colab_type": "code",
        "slideshow": {
          "slide_type": "fragment"
        },
        "colab": {
          "autoexec": {
            "startup": false,
            "wait_interval": 0
          },
          "base_uri": "https://localhost:8080/",
          "height": 35
        },
        "outputId": "548267b5-8eee-4064-9763-f888c6499c72",
        "executionInfo": {
          "status": "ok",
          "timestamp": 1528212440648,
          "user_tz": 240,
          "elapsed": 268,
          "user": {
            "displayName": "Sage Lichtenwalner",
            "photoUrl": "https://lh3.googleusercontent.com/a/default-user=s128",
            "userId": "107661401208389246829"
          }
        }
      },
      "cell_type": "code",
      "source": [
        "# Accessing a key/value pair\n",
        "my_dict['sensor']"
      ],
      "execution_count": 18,
      "outputs": [
        {
          "output_type": "execute_result",
          "data": {
            "text/plain": [
              "'CTD 23'"
            ]
          },
          "metadata": {
            "tags": []
          },
          "execution_count": 18
        }
      ]
    },
    {
      "metadata": {
        "id": "f21eZxc4JYSI",
        "colab_type": "code",
        "slideshow": {
          "slide_type": "slide"
        },
        "colab": {
          "autoexec": {
            "startup": false,
            "wait_interval": 0
          },
          "base_uri": "https://localhost:8080/",
          "height": 35
        },
        "outputId": "f70434ec-6962-4070-8fdf-c108721c89b0",
        "executionInfo": {
          "status": "ok",
          "timestamp": 1528212441161,
          "user_tz": 240,
          "elapsed": 329,
          "user": {
            "displayName": "Sage Lichtenwalner",
            "photoUrl": "https://lh3.googleusercontent.com/a/default-user=s128",
            "userId": "107661401208389246829"
          }
        }
      },
      "cell_type": "code",
      "source": [
        "# Grab a list of dictionary keys\n",
        "my_dict.keys()"
      ],
      "execution_count": 19,
      "outputs": [
        {
          "output_type": "execute_result",
          "data": {
            "text/plain": [
              "dict_keys(['temperature', 'salinity', 'sensor'])"
            ]
          },
          "metadata": {
            "tags": []
          },
          "execution_count": 19
        }
      ]
    },
    {
      "metadata": {
        "id": "W-zF-yXvW-1r",
        "colab_type": "text",
        "slideshow": {
          "slide_type": "slide"
        }
      },
      "cell_type": "markdown",
      "source": [
        "## Functions, Conditions and Loops"
      ]
    },
    {
      "metadata": {
        "id": "gP3XFAFIc8pA",
        "colab_type": "text"
      },
      "cell_type": "markdown",
      "source": [
        "If you're familiar with how to do these in Matlab or R, it's all very similar, just with a different syntax.  Remember, Python uses spaces to group together sub-elements, rather than parentheses, curly braces, or end statements.  Traditionally, you can use 2 or 4 spaces to indent lines."
      ]
    },
    {
      "metadata": {
        "id": "WYpQMyh1W__m",
        "colab_type": "code",
        "colab": {
          "autoexec": {
            "startup": false,
            "wait_interval": 0
          },
          "base_uri": "https://localhost:8080/",
          "height": 143
        },
        "outputId": "5e888838-94f4-4340-cfb1-62de145541fc",
        "executionInfo": {
          "status": "ok",
          "timestamp": 1528212442293,
          "user_tz": 240,
          "elapsed": 275,
          "user": {
            "displayName": "Sage Lichtenwalner",
            "photoUrl": "https://lh3.googleusercontent.com/a/default-user=s128",
            "userId": "107661401208389246829"
          }
        }
      },
      "cell_type": "code",
      "source": [
        "def my_func(number):\n",
        "  print('Running my_func')\n",
        "  if type(number)==int:\n",
        "    for i in range(number):\n",
        "      print(i)\n",
        "  else:\n",
        "    print(\"Not a number\")\n",
        "\n",
        "my_func(4)\n",
        "my_func('hi')"
      ],
      "execution_count": 20,
      "outputs": [
        {
          "output_type": "stream",
          "text": [
            "Running my_func\n",
            "0\n",
            "1\n",
            "2\n",
            "3\n",
            "Running my_func\n",
            "Not a number\n"
          ],
          "name": "stdout"
        }
      ]
    },
    {
      "metadata": {
        "id": "HGGLpgTuJqO3",
        "colab_type": "text",
        "slideshow": {
          "slide_type": "slide"
        }
      },
      "cell_type": "markdown",
      "source": [
        "## NumPy\n",
        "NumPy is an essential library for working with scientific data.  It provides an array object that is very similar to Matlab's array functionality, allowing you to perform mathematical calculations or run linear algebra routines."
      ]
    },
    {
      "metadata": {
        "id": "RgbHEs9sMTye",
        "colab_type": "code",
        "colab": {
          "autoexec": {
            "startup": false,
            "wait_interval": 0
          }
        }
      },
      "cell_type": "code",
      "source": [
        "import numpy as np"
      ],
      "execution_count": 0,
      "outputs": []
    },
    {
      "metadata": {
        "id": "J5QovFhQMfPd",
        "colab_type": "code",
        "slideshow": {
          "slide_type": "slide"
        },
        "colab": {
          "autoexec": {
            "startup": false,
            "wait_interval": 0
          },
          "base_uri": "https://localhost:8080/",
          "height": 71
        },
        "outputId": "b7c5883b-9db3-4967-81e5-0b11492e4d4b",
        "executionInfo": {
          "status": "ok",
          "timestamp": 1528212443705,
          "user_tz": 240,
          "elapsed": 322,
          "user": {
            "displayName": "Sage Lichtenwalner",
            "photoUrl": "https://lh3.googleusercontent.com/a/default-user=s128",
            "userId": "107661401208389246829"
          }
        }
      },
      "cell_type": "code",
      "source": [
        "# NumPy has its own data types\n",
        "xi = np.array([1, 2, 3], dtype=np.int) # We could also specify np.float\n",
        "print(xi)\n",
        "print(type(xi))\n",
        "print(xi.dtype)"
      ],
      "execution_count": 22,
      "outputs": [
        {
          "output_type": "stream",
          "text": [
            "[1 2 3]\n",
            "<class 'numpy.ndarray'>\n",
            "int64\n"
          ],
          "name": "stdout"
        }
      ]
    },
    {
      "metadata": {
        "id": "CB81YTcTbo4_",
        "colab_type": "code",
        "slideshow": {
          "slide_type": "slide"
        },
        "colab": {
          "autoexec": {
            "startup": false,
            "wait_interval": 0
          },
          "base_uri": "https://localhost:8080/",
          "height": 35
        },
        "outputId": "218d5b5f-b14c-4a26-c1d9-bcd81c043fcb",
        "executionInfo": {
          "status": "ok",
          "timestamp": 1528212444041,
          "user_tz": 240,
          "elapsed": 266,
          "user": {
            "displayName": "Sage Lichtenwalner",
            "photoUrl": "https://lh3.googleusercontent.com/a/default-user=s128",
            "userId": "107661401208389246829"
          }
        }
      },
      "cell_type": "code",
      "source": [
        "# Let's add the arrays\n",
        "xi+xi"
      ],
      "execution_count": 23,
      "outputs": [
        {
          "output_type": "execute_result",
          "data": {
            "text/plain": [
              "array([2, 4, 6])"
            ]
          },
          "metadata": {
            "tags": []
          },
          "execution_count": 23
        }
      ]
    },
    {
      "metadata": {
        "id": "vj7-jFpDbwct",
        "colab_type": "code",
        "slideshow": {
          "slide_type": "fragment"
        },
        "colab": {
          "autoexec": {
            "startup": false,
            "wait_interval": 0
          },
          "base_uri": "https://localhost:8080/",
          "height": 35
        },
        "outputId": "0b230d8d-b722-4580-c141-cb98d2e371ed",
        "executionInfo": {
          "status": "ok",
          "timestamp": 1528212444440,
          "user_tz": 240,
          "elapsed": 269,
          "user": {
            "displayName": "Sage Lichtenwalner",
            "photoUrl": "https://lh3.googleusercontent.com/a/default-user=s128",
            "userId": "107661401208389246829"
          }
        }
      },
      "cell_type": "code",
      "source": [
        "# Multiplication is easy too.  \n",
        "# Note this is equivalent to xi.*xi in Matlab\n",
        "xi*xi"
      ],
      "execution_count": 24,
      "outputs": [
        {
          "output_type": "execute_result",
          "data": {
            "text/plain": [
              "array([1, 4, 9])"
            ]
          },
          "metadata": {
            "tags": []
          },
          "execution_count": 24
        }
      ]
    },
    {
      "metadata": {
        "id": "EMRCcHk8frOb",
        "colab_type": "code",
        "colab": {
          "autoexec": {
            "startup": false,
            "wait_interval": 0
          },
          "base_uri": "https://localhost:8080/",
          "height": 35
        },
        "outputId": "6b654ea4-9fc6-4bc0-9ec1-9b7b61d50063",
        "executionInfo": {
          "status": "ok",
          "timestamp": 1528212444863,
          "user_tz": 240,
          "elapsed": 284,
          "user": {
            "displayName": "Sage Lichtenwalner",
            "photoUrl": "https://lh3.googleusercontent.com/a/default-user=s128",
            "userId": "107661401208389246829"
          }
        }
      },
      "cell_type": "code",
      "source": [
        "# Inner product\n",
        "# Matlab equivalent: x*x'\n",
        "np.inner(xi,xi)"
      ],
      "execution_count": 25,
      "outputs": [
        {
          "output_type": "execute_result",
          "data": {
            "text/plain": [
              "14"
            ]
          },
          "metadata": {
            "tags": []
          },
          "execution_count": 25
        }
      ]
    },
    {
      "metadata": {
        "id": "fi8FEKC-fss0",
        "colab_type": "code",
        "colab": {
          "autoexec": {
            "startup": false,
            "wait_interval": 0
          },
          "base_uri": "https://localhost:8080/",
          "height": 71
        },
        "outputId": "e899ef98-898a-43fa-a61e-81ffa68e7de7",
        "executionInfo": {
          "status": "ok",
          "timestamp": 1528212445214,
          "user_tz": 240,
          "elapsed": 290,
          "user": {
            "displayName": "Sage Lichtenwalner",
            "photoUrl": "https://lh3.googleusercontent.com/a/default-user=s128",
            "userId": "107661401208389246829"
          }
        }
      },
      "cell_type": "code",
      "source": [
        "# Outer product\n",
        "# Matlab equivalent: x'*x\n",
        "np.outer(xi,xi)"
      ],
      "execution_count": 26,
      "outputs": [
        {
          "output_type": "execute_result",
          "data": {
            "text/plain": [
              "array([[1, 2, 3],\n",
              "       [2, 4, 6],\n",
              "       [3, 6, 9]])"
            ]
          },
          "metadata": {
            "tags": []
          },
          "execution_count": 26
        }
      ]
    },
    {
      "metadata": {
        "id": "b_c7zv5Ee_Ls",
        "colab_type": "code",
        "colab": {
          "autoexec": {
            "startup": false,
            "wait_interval": 0
          },
          "base_uri": "https://localhost:8080/",
          "height": 35
        },
        "outputId": "4f6cb819-cf6a-46e4-b272-004a0054044c",
        "executionInfo": {
          "status": "ok",
          "timestamp": 1528212445659,
          "user_tz": 240,
          "elapsed": 306,
          "user": {
            "displayName": "Sage Lichtenwalner",
            "photoUrl": "https://lh3.googleusercontent.com/a/default-user=s128",
            "userId": "107661401208389246829"
          }
        }
      },
      "cell_type": "code",
      "source": [
        "# Cross product\n",
        "np.cross(xi,xi)"
      ],
      "execution_count": 27,
      "outputs": [
        {
          "output_type": "execute_result",
          "data": {
            "text/plain": [
              "array([0, 0, 0])"
            ]
          },
          "metadata": {
            "tags": []
          },
          "execution_count": 27
        }
      ]
    },
    {
      "metadata": {
        "id": "HwZAlZe7MT1I",
        "colab_type": "code",
        "slideshow": {
          "slide_type": "slide"
        },
        "colab": {
          "autoexec": {
            "startup": false,
            "wait_interval": 0
          },
          "base_uri": "https://localhost:8080/",
          "height": 89
        },
        "outputId": "10409f80-21da-439d-d110-c6bcb63bd5fa",
        "executionInfo": {
          "status": "ok",
          "timestamp": 1528212446038,
          "user_tz": 240,
          "elapsed": 310,
          "user": {
            "displayName": "Sage Lichtenwalner",
            "photoUrl": "https://lh3.googleusercontent.com/a/default-user=s128",
            "userId": "107661401208389246829"
          }
        }
      },
      "cell_type": "code",
      "source": [
        "# Initialize an array of zeros\n",
        "x = np.zeros(shape=(4,5))\n",
        "x"
      ],
      "execution_count": 28,
      "outputs": [
        {
          "output_type": "execute_result",
          "data": {
            "text/plain": [
              "array([[0., 0., 0., 0., 0.],\n",
              "       [0., 0., 0., 0., 0.],\n",
              "       [0., 0., 0., 0., 0.],\n",
              "       [0., 0., 0., 0., 0.]])"
            ]
          },
          "metadata": {
            "tags": []
          },
          "execution_count": 28
        }
      ]
    },
    {
      "metadata": {
        "id": "lUMc4VtAMT3Y",
        "colab_type": "code",
        "slideshow": {
          "slide_type": "fragment"
        },
        "colab": {
          "autoexec": {
            "startup": false,
            "wait_interval": 0
          },
          "base_uri": "https://localhost:8080/",
          "height": 89
        },
        "outputId": "f80a7c56-7767-4b98-e101-a7819d2cd36d",
        "executionInfo": {
          "status": "ok",
          "timestamp": 1528212446384,
          "user_tz": 240,
          "elapsed": 281,
          "user": {
            "displayName": "Sage Lichtenwalner",
            "photoUrl": "https://lh3.googleusercontent.com/a/default-user=s128",
            "userId": "107661401208389246829"
          }
        }
      },
      "cell_type": "code",
      "source": [
        "y = x+2\n",
        "y"
      ],
      "execution_count": 29,
      "outputs": [
        {
          "output_type": "execute_result",
          "data": {
            "text/plain": [
              "array([[2., 2., 2., 2., 2.],\n",
              "       [2., 2., 2., 2., 2.],\n",
              "       [2., 2., 2., 2., 2.],\n",
              "       [2., 2., 2., 2., 2.]])"
            ]
          },
          "metadata": {
            "tags": []
          },
          "execution_count": 29
        }
      ]
    },
    {
      "metadata": {
        "id": "rznlVs4qiX7N",
        "colab_type": "code",
        "slideshow": {
          "slide_type": "slide"
        },
        "colab": {
          "autoexec": {
            "startup": false,
            "wait_interval": 0
          },
          "base_uri": "https://localhost:8080/",
          "height": 89
        },
        "outputId": "3c55b57d-cd19-4d10-8381-3649693e7e78",
        "executionInfo": {
          "status": "ok",
          "timestamp": 1528212446831,
          "user_tz": 240,
          "elapsed": 384,
          "user": {
            "displayName": "Sage Lichtenwalner",
            "photoUrl": "https://lh3.googleusercontent.com/a/default-user=s128",
            "userId": "107661401208389246829"
          }
        }
      },
      "cell_type": "code",
      "source": [
        "# Array dimensions\n",
        "print( xi.shape )\n",
        "print( xi.size )\n",
        "print( y.shape )\n",
        "print( y.size )"
      ],
      "execution_count": 30,
      "outputs": [
        {
          "output_type": "stream",
          "text": [
            "(3,)\n",
            "3\n",
            "(4, 5)\n",
            "20\n"
          ],
          "name": "stdout"
        }
      ]
    },
    {
      "metadata": {
        "id": "mSy2pWymMT5z",
        "colab_type": "code",
        "slideshow": {
          "slide_type": "slide"
        },
        "colab": {
          "autoexec": {
            "startup": false,
            "wait_interval": 0
          },
          "base_uri": "https://localhost:8080/",
          "height": 89
        },
        "outputId": "cda2242b-b1a2-43c4-e7bc-dd97d33720eb",
        "executionInfo": {
          "status": "ok",
          "timestamp": 1528212447197,
          "user_tz": 240,
          "elapsed": 296,
          "user": {
            "displayName": "Sage Lichtenwalner",
            "photoUrl": "https://lh3.googleusercontent.com/a/default-user=s128",
            "userId": "107661401208389246829"
          }
        }
      },
      "cell_type": "code",
      "source": [
        "# Random numbers\n",
        "z = np.round(np.random.random(x.shape)*5)\n",
        "z"
      ],
      "execution_count": 31,
      "outputs": [
        {
          "output_type": "execute_result",
          "data": {
            "text/plain": [
              "array([[0., 4., 2., 1., 1.],\n",
              "       [4., 2., 1., 2., 2.],\n",
              "       [2., 3., 5., 2., 1.],\n",
              "       [4., 2., 0., 3., 0.]])"
            ]
          },
          "metadata": {
            "tags": []
          },
          "execution_count": 31
        }
      ]
    },
    {
      "metadata": {
        "id": "r8XfChg2MfLr",
        "colab_type": "code",
        "slideshow": {
          "slide_type": "slide"
        },
        "colab": {
          "autoexec": {
            "startup": false,
            "wait_interval": 0
          },
          "base_uri": "https://localhost:8080/",
          "height": 53
        },
        "outputId": "4f6c72d0-9f46-4f2f-af8b-2ba0c2cf3ff7",
        "executionInfo": {
          "status": "ok",
          "timestamp": 1528212447547,
          "user_tz": 240,
          "elapsed": 285,
          "user": {
            "displayName": "Sage Lichtenwalner",
            "photoUrl": "https://lh3.googleusercontent.com/a/default-user=s128",
            "userId": "107661401208389246829"
          }
        }
      },
      "cell_type": "code",
      "source": [
        "# Slicing\n",
        "z[2:4, ::2] # Extract 2-4 on the first axis (columns), stride of 2 on the second axis(rows)"
      ],
      "execution_count": 32,
      "outputs": [
        {
          "output_type": "execute_result",
          "data": {
            "text/plain": [
              "array([[2., 5., 1.],\n",
              "       [4., 0., 0.]])"
            ]
          },
          "metadata": {
            "tags": []
          },
          "execution_count": 32
        }
      ]
    },
    {
      "metadata": {
        "id": "yCnDA7_9MT_c",
        "colab_type": "code",
        "slideshow": {
          "slide_type": "slide"
        },
        "colab": {
          "autoexec": {
            "startup": false,
            "wait_interval": 0
          },
          "base_uri": "https://localhost:8080/",
          "height": 35
        },
        "outputId": "115a4fca-93f0-4a91-b85d-cc7b91f05f04",
        "executionInfo": {
          "status": "ok",
          "timestamp": 1528212447931,
          "user_tz": 240,
          "elapsed": 322,
          "user": {
            "displayName": "Sage Lichtenwalner",
            "photoUrl": "https://lh3.googleusercontent.com/a/default-user=s128",
            "userId": "107661401208389246829"
          }
        }
      },
      "cell_type": "code",
      "source": [
        "# Sum the rows\n",
        "z_sum = z.sum(axis=1)\n",
        "z_sum"
      ],
      "execution_count": 33,
      "outputs": [
        {
          "output_type": "execute_result",
          "data": {
            "text/plain": [
              "array([ 8., 11., 13.,  9.])"
            ]
          },
          "metadata": {
            "tags": []
          },
          "execution_count": 33
        }
      ]
    },
    {
      "metadata": {
        "id": "fbQk-FXSMfJf",
        "colab_type": "code",
        "slideshow": {
          "slide_type": "slide"
        },
        "colab": {
          "autoexec": {
            "startup": false,
            "wait_interval": 0
          },
          "base_uri": "https://localhost:8080/",
          "height": 107
        },
        "outputId": "06d27704-5dc4-485b-cc86-50ee7a0f16a6",
        "executionInfo": {
          "status": "ok",
          "timestamp": 1528212448354,
          "user_tz": 240,
          "elapsed": 359,
          "user": {
            "displayName": "Sage Lichtenwalner",
            "photoUrl": "https://lh3.googleusercontent.com/a/default-user=s128",
            "userId": "107661401208389246829"
          }
        }
      },
      "cell_type": "code",
      "source": [
        "# Matrix multiplication\n",
        "y.transpose() * z_sum"
      ],
      "execution_count": 34,
      "outputs": [
        {
          "output_type": "execute_result",
          "data": {
            "text/plain": [
              "array([[16., 22., 26., 18.],\n",
              "       [16., 22., 26., 18.],\n",
              "       [16., 22., 26., 18.],\n",
              "       [16., 22., 26., 18.],\n",
              "       [16., 22., 26., 18.]])"
            ]
          },
          "metadata": {
            "tags": []
          },
          "execution_count": 34
        }
      ]
    },
    {
      "metadata": {
        "id": "KVqJK5ItMfTz",
        "colab_type": "code",
        "slideshow": {
          "slide_type": "slide"
        },
        "colab": {
          "autoexec": {
            "startup": false,
            "wait_interval": 0
          },
          "base_uri": "https://localhost:8080/",
          "height": 35
        },
        "outputId": "5c11d610-2b6d-46a1-a2a1-86b9231368dd",
        "executionInfo": {
          "status": "ok",
          "timestamp": 1528212448699,
          "user_tz": 240,
          "elapsed": 278,
          "user": {
            "displayName": "Sage Lichtenwalner",
            "photoUrl": "https://lh3.googleusercontent.com/a/default-user=s128",
            "userId": "107661401208389246829"
          }
        }
      },
      "cell_type": "code",
      "source": [
        "# Several universal functions are included (e.g. sin, cos, exp)\n",
        "np.sin(z_sum)"
      ],
      "execution_count": 35,
      "outputs": [
        {
          "output_type": "execute_result",
          "data": {
            "text/plain": [
              "array([ 0.98935825, -0.99999021,  0.42016704,  0.41211849])"
            ]
          },
          "metadata": {
            "tags": []
          },
          "execution_count": 35
        }
      ]
    },
    {
      "metadata": {
        "id": "rjT_Lud-JrK_",
        "colab_type": "text",
        "slideshow": {
          "slide_type": "slide"
        }
      },
      "cell_type": "markdown",
      "source": [
        "## SciPy\n",
        "The SciPy library includes a huge collection of mathematical algorithms, functions and constants to enable scientific computing.  \n",
        "\n",
        "It is build upon NumPy, so data is typically expected to be in a NumPy array format.  Some useful features include:\n",
        "* **constants** - Physical and mathematical constants\n",
        "* **fftpack** - Fast Fourier Transorms\n",
        "* **integrate** - Integration and ODE solvers\n",
        "* **interpolate** - Interpolation and smoothing\n",
        "* **io** - File Input and Output\n",
        "* **linalg** - Linear algebra\n",
        "* **signal** - Signal processing\n",
        "* **stats** - Statistics\n",
        "\n",
        "For more information, check out the [SciPy Tutorial](https://docs.scipy.org/doc/scipy/reference/tutorial/index.html)\n"
      ]
    },
    {
      "metadata": {
        "id": "Aah8lhgyJtu_",
        "colab_type": "text",
        "slideshow": {
          "slide_type": "slide"
        }
      },
      "cell_type": "markdown",
      "source": [
        "## Pandas\n",
        "[Pandas](https://pandas.pydata.org) is great for working with spreadsheet like tables, like Excel or CSV files.  \n",
        "\n",
        "However, it is not great for multidimensional arrays (e.g. x,y,z).  For that you should use [Xarray](http://xarray.pydata.org).\n",
        "\n",
        "For this example, we will demonstrate the power of pandas to quickly load a datafile and play with ut using some archived meteorological data from [NDBC 44025](http://www.ndbc.noaa.gov/station_history.php?station=44025)."
      ]
    },
    {
      "metadata": {
        "id": "9SximVYnJtSK",
        "colab_type": "code",
        "colab": {
          "autoexec": {
            "startup": false,
            "wait_interval": 0
          }
        }
      },
      "cell_type": "code",
      "source": [
        "import pandas as pd"
      ],
      "execution_count": 0,
      "outputs": []
    },
    {
      "metadata": {
        "id": "f7DysKQEMfWS",
        "colab_type": "code",
        "slideshow": {
          "slide_type": "slide"
        },
        "colab": {
          "autoexec": {
            "startup": false,
            "wait_interval": 0
          }
        }
      },
      "cell_type": "code",
      "source": [
        "url = 'http://www.ndbc.noaa.gov/view_text_file.php?filename=44025h2017.txt.gz&dir=data/historical/stdmet/'\n",
        "ndbc = pd.read_csv(url,sep='\\s+',skiprows=[1])"
      ],
      "execution_count": 0,
      "outputs": []
    },
    {
      "metadata": {
        "id": "jJ3ZbPv5cUTi",
        "colab_type": "code",
        "slideshow": {
          "slide_type": "fragment"
        },
        "colab": {
          "autoexec": {
            "startup": false,
            "wait_interval": 0
          },
          "base_uri": "https://localhost:8080/",
          "height": 204
        },
        "outputId": "8b0dbbd6-6be5-4f8d-d968-ffa39349f301",
        "executionInfo": {
          "status": "ok",
          "timestamp": 1528212452396,
          "user_tz": 240,
          "elapsed": 643,
          "user": {
            "displayName": "Sage Lichtenwalner",
            "photoUrl": "https://lh3.googleusercontent.com/a/default-user=s128",
            "userId": "107661401208389246829"
          }
        }
      },
      "cell_type": "code",
      "source": [
        "ndbc.head()"
      ],
      "execution_count": 38,
      "outputs": [
        {
          "output_type": "execute_result",
          "data": {
            "text/html": [
              "<div>\n",
              "<style scoped>\n",
              "    .dataframe tbody tr th:only-of-type {\n",
              "        vertical-align: middle;\n",
              "    }\n",
              "\n",
              "    .dataframe tbody tr th {\n",
              "        vertical-align: top;\n",
              "    }\n",
              "\n",
              "    .dataframe thead th {\n",
              "        text-align: right;\n",
              "    }\n",
              "</style>\n",
              "<table border=\"1\" class=\"dataframe\">\n",
              "  <thead>\n",
              "    <tr style=\"text-align: right;\">\n",
              "      <th></th>\n",
              "      <th>#YY</th>\n",
              "      <th>MM</th>\n",
              "      <th>DD</th>\n",
              "      <th>hh</th>\n",
              "      <th>mm</th>\n",
              "      <th>WDIR</th>\n",
              "      <th>WSPD</th>\n",
              "      <th>GST</th>\n",
              "      <th>WVHT</th>\n",
              "      <th>DPD</th>\n",
              "      <th>APD</th>\n",
              "      <th>MWD</th>\n",
              "      <th>PRES</th>\n",
              "      <th>ATMP</th>\n",
              "      <th>WTMP</th>\n",
              "      <th>DEWP</th>\n",
              "      <th>VIS</th>\n",
              "      <th>TIDE</th>\n",
              "    </tr>\n",
              "  </thead>\n",
              "  <tbody>\n",
              "    <tr>\n",
              "      <th>0</th>\n",
              "      <td>2016</td>\n",
              "      <td>12</td>\n",
              "      <td>31</td>\n",
              "      <td>23</td>\n",
              "      <td>50</td>\n",
              "      <td>207</td>\n",
              "      <td>15.2</td>\n",
              "      <td>18.2</td>\n",
              "      <td>2.95</td>\n",
              "      <td>6.67</td>\n",
              "      <td>5.78</td>\n",
              "      <td>223</td>\n",
              "      <td>1014.3</td>\n",
              "      <td>8.8</td>\n",
              "      <td>8.8</td>\n",
              "      <td>999.0</td>\n",
              "      <td>99.0</td>\n",
              "      <td>99.0</td>\n",
              "    </tr>\n",
              "    <tr>\n",
              "      <th>1</th>\n",
              "      <td>2017</td>\n",
              "      <td>1</td>\n",
              "      <td>1</td>\n",
              "      <td>0</td>\n",
              "      <td>50</td>\n",
              "      <td>215</td>\n",
              "      <td>14.7</td>\n",
              "      <td>19.4</td>\n",
              "      <td>3.42</td>\n",
              "      <td>7.69</td>\n",
              "      <td>6.20</td>\n",
              "      <td>220</td>\n",
              "      <td>1013.9</td>\n",
              "      <td>9.1</td>\n",
              "      <td>8.8</td>\n",
              "      <td>999.0</td>\n",
              "      <td>99.0</td>\n",
              "      <td>99.0</td>\n",
              "    </tr>\n",
              "    <tr>\n",
              "      <th>2</th>\n",
              "      <td>2017</td>\n",
              "      <td>1</td>\n",
              "      <td>1</td>\n",
              "      <td>1</td>\n",
              "      <td>50</td>\n",
              "      <td>217</td>\n",
              "      <td>14.4</td>\n",
              "      <td>18.3</td>\n",
              "      <td>3.47</td>\n",
              "      <td>7.69</td>\n",
              "      <td>6.11</td>\n",
              "      <td>225</td>\n",
              "      <td>1013.3</td>\n",
              "      <td>9.1</td>\n",
              "      <td>8.8</td>\n",
              "      <td>999.0</td>\n",
              "      <td>99.0</td>\n",
              "      <td>99.0</td>\n",
              "    </tr>\n",
              "    <tr>\n",
              "      <th>3</th>\n",
              "      <td>2017</td>\n",
              "      <td>1</td>\n",
              "      <td>1</td>\n",
              "      <td>2</td>\n",
              "      <td>50</td>\n",
              "      <td>228</td>\n",
              "      <td>14.9</td>\n",
              "      <td>18.7</td>\n",
              "      <td>3.31</td>\n",
              "      <td>8.33</td>\n",
              "      <td>6.17</td>\n",
              "      <td>203</td>\n",
              "      <td>1013.0</td>\n",
              "      <td>8.7</td>\n",
              "      <td>8.8</td>\n",
              "      <td>999.0</td>\n",
              "      <td>99.0</td>\n",
              "      <td>99.0</td>\n",
              "    </tr>\n",
              "    <tr>\n",
              "      <th>4</th>\n",
              "      <td>2017</td>\n",
              "      <td>1</td>\n",
              "      <td>1</td>\n",
              "      <td>3</td>\n",
              "      <td>50</td>\n",
              "      <td>228</td>\n",
              "      <td>15.4</td>\n",
              "      <td>19.6</td>\n",
              "      <td>3.81</td>\n",
              "      <td>8.33</td>\n",
              "      <td>6.47</td>\n",
              "      <td>219</td>\n",
              "      <td>1012.7</td>\n",
              "      <td>8.9</td>\n",
              "      <td>8.8</td>\n",
              "      <td>999.0</td>\n",
              "      <td>99.0</td>\n",
              "      <td>99.0</td>\n",
              "    </tr>\n",
              "  </tbody>\n",
              "</table>\n",
              "</div>"
            ],
            "text/plain": [
              "    #YY  MM  DD  hh  mm  WDIR  WSPD   GST  WVHT   DPD   APD  MWD    PRES  \\\n",
              "0  2016  12  31  23  50   207  15.2  18.2  2.95  6.67  5.78  223  1014.3   \n",
              "1  2017   1   1   0  50   215  14.7  19.4  3.42  7.69  6.20  220  1013.9   \n",
              "2  2017   1   1   1  50   217  14.4  18.3  3.47  7.69  6.11  225  1013.3   \n",
              "3  2017   1   1   2  50   228  14.9  18.7  3.31  8.33  6.17  203  1013.0   \n",
              "4  2017   1   1   3  50   228  15.4  19.6  3.81  8.33  6.47  219  1012.7   \n",
              "\n",
              "   ATMP  WTMP   DEWP   VIS  TIDE  \n",
              "0   8.8   8.8  999.0  99.0  99.0  \n",
              "1   9.1   8.8  999.0  99.0  99.0  \n",
              "2   9.1   8.8  999.0  99.0  99.0  \n",
              "3   8.7   8.8  999.0  99.0  99.0  \n",
              "4   8.9   8.8  999.0  99.0  99.0  "
            ]
          },
          "metadata": {
            "tags": []
          },
          "execution_count": 38
        }
      ]
    },
    {
      "metadata": {
        "id": "Fg55FJendrPW",
        "colab_type": "code",
        "slideshow": {
          "slide_type": "slide"
        },
        "colab": {
          "autoexec": {
            "startup": false,
            "wait_interval": 0
          },
          "base_uri": "https://localhost:8080/",
          "height": 89
        },
        "outputId": "073a572f-a28f-4ec7-fdc6-be028a982692",
        "executionInfo": {
          "status": "ok",
          "timestamp": 1528212452763,
          "user_tz": 240,
          "elapsed": 295,
          "user": {
            "displayName": "Sage Lichtenwalner",
            "photoUrl": "https://lh3.googleusercontent.com/a/default-user=s128",
            "userId": "107661401208389246829"
          }
        }
      },
      "cell_type": "code",
      "source": [
        "ndbc['WDIR'].head(3) # Just the first 3 elements of one variable"
      ],
      "execution_count": 39,
      "outputs": [
        {
          "output_type": "execute_result",
          "data": {
            "text/plain": [
              "0    207\n",
              "1    215\n",
              "2    217\n",
              "Name: WDIR, dtype: int64"
            ]
          },
          "metadata": {
            "tags": []
          },
          "execution_count": 39
        }
      ]
    },
    {
      "metadata": {
        "id": "c-imuA6FdzM0",
        "colab_type": "code",
        "slideshow": {
          "slide_type": "slide"
        },
        "colab": {
          "autoexec": {
            "startup": false,
            "wait_interval": 0
          },
          "base_uri": "https://localhost:8080/",
          "height": 359
        },
        "outputId": "4a5958f9-2c40-4e53-8146-5d89d41b74f8",
        "executionInfo": {
          "status": "ok",
          "timestamp": 1528212453104,
          "user_tz": 240,
          "elapsed": 276,
          "user": {
            "displayName": "Sage Lichtenwalner",
            "photoUrl": "https://lh3.googleusercontent.com/a/default-user=s128",
            "userId": "107661401208389246829"
          }
        }
      },
      "cell_type": "code",
      "source": [
        "# Take the mean of each column\n",
        "ndbc.mean(axis=0)"
      ],
      "execution_count": 40,
      "outputs": [
        {
          "output_type": "execute_result",
          "data": {
            "text/plain": [
              "#YY     2016.999881\n",
              "MM         6.489590\n",
              "DD        15.862344\n",
              "hh        11.486377\n",
              "mm        49.999405\n",
              "WDIR     196.579179\n",
              "WSPD       6.805033\n",
              "GST        8.313195\n",
              "WVHT       1.378846\n",
              "DPD        7.616221\n",
              "APD        5.236626\n",
              "MWD      164.758953\n",
              "PRES    1016.071767\n",
              "ATMP      12.123629\n",
              "WTMP      13.502344\n",
              "DEWP     903.288043\n",
              "VIS       99.000000\n",
              "TIDE      99.000000\n",
              "dtype: float64"
            ]
          },
          "metadata": {
            "tags": []
          },
          "execution_count": 40
        }
      ]
    },
    {
      "metadata": {
        "id": "Iy6LC85OeJ84",
        "colab_type": "code",
        "slideshow": {
          "slide_type": "slide"
        },
        "colab": {
          "autoexec": {
            "startup": false,
            "wait_interval": 0
          },
          "base_uri": "https://localhost:8080/",
          "height": 269
        },
        "outputId": "3c1b54a7-780f-49ca-d2f0-f6aaf44b83bf",
        "executionInfo": {
          "status": "ok",
          "timestamp": 1528212453442,
          "user_tz": 240,
          "elapsed": 264,
          "user": {
            "displayName": "Sage Lichtenwalner",
            "photoUrl": "https://lh3.googleusercontent.com/a/default-user=s128",
            "userId": "107661401208389246829"
          }
        }
      },
      "cell_type": "code",
      "source": [
        "# Monthly means\n",
        "ndbc['WSPD'].groupby(ndbc['MM']).mean()"
      ],
      "execution_count": 41,
      "outputs": [
        {
          "output_type": "execute_result",
          "data": {
            "text/plain": [
              "MM\n",
              "1     8.140457\n",
              "2     7.449776\n",
              "3     8.694054\n",
              "4     5.682033\n",
              "5     6.117862\n",
              "6     5.843759\n",
              "7     4.857459\n",
              "8     5.061417\n",
              "9     6.074028\n",
              "10    6.949866\n",
              "11    7.986890\n",
              "12    8.059005\n",
              "Name: WSPD, dtype: float64"
            ]
          },
          "metadata": {
            "tags": []
          },
          "execution_count": 41
        }
      ]
    },
    {
      "metadata": {
        "id": "dxdEyOv9eeWk",
        "colab_type": "code",
        "slideshow": {
          "slide_type": "slide"
        },
        "colab": {
          "autoexec": {
            "startup": false,
            "wait_interval": 0
          },
          "base_uri": "https://localhost:8080/",
          "height": 361
        },
        "outputId": "c0cd3405-3b7c-41f4-828e-1e1afdde652b",
        "executionInfo": {
          "status": "ok",
          "timestamp": 1528212453904,
          "user_tz": 240,
          "elapsed": 385,
          "user": {
            "displayName": "Sage Lichtenwalner",
            "photoUrl": "https://lh3.googleusercontent.com/a/default-user=s128",
            "userId": "107661401208389246829"
          }
        }
      },
      "cell_type": "code",
      "source": [
        "# Basic plotting is bulit into Pandas\n",
        "ndbc['WSPD'].groupby(ndbc['MM']).mean().plot();"
      ],
      "execution_count": 42,
      "outputs": [
        {
          "output_type": "display_data",
          "data": {
            "image/png": "[encoded data removed]",
            "text/plain": [
              "<matplotlib.figure.Figure at 0x7fbac33aed30>"
            ]
          },
          "metadata": {
            "tags": []
          }
        }
      ]
    },
    {
      "metadata": {
        "id": "3_33NESWY7lE",
        "colab_type": "code",
        "slideshow": {
          "slide_type": "slide"
        },
        "colab": {
          "autoexec": {
            "startup": false,
            "wait_interval": 0
          },
          "base_uri": "https://localhost:8080/",
          "height": 348
        },
        "outputId": "ea598d03-4207-4658-e7d7-3966bdadc5db",
        "executionInfo": {
          "status": "ok",
          "timestamp": 1528212454696,
          "user_tz": 240,
          "elapsed": 643,
          "user": {
            "displayName": "Sage Lichtenwalner",
            "photoUrl": "https://lh3.googleusercontent.com/a/default-user=s128",
            "userId": "107661401208389246829"
          }
        }
      },
      "cell_type": "code",
      "source": [
        "# Create a datetime vector\n",
        "from datetime import datetime\n",
        "df = pd.DataFrame({'year': ndbc['#YY'], 'month': ndbc['MM'], 'day': ndbc['DD'], 'hour': ndbc['hh'], 'minute': ndbc['mm']})\n",
        "ndbc['datetime'] = pd.to_datetime(df)\n",
        "\n",
        "# Change the array index to use the datetime column\n",
        "ndbc = ndbc.set_index('datetime')\n",
        "\n",
        "# Now we can easily plot the Air Temperature vs. datetime!\n",
        "ndbc['ATMP'].plot();"
      ],
      "execution_count": 43,
      "outputs": [
        {
          "output_type": "display_data",
          "data": {
            "image/png": "[encoded data removed]",
            "text/plain": [
              "<matplotlib.figure.Figure at 0x7fbac33aee10>"
            ]
          },
          "metadata": {
            "tags": []
          }
        }
      ]
    },
    {
      "metadata": {
        "id": "PVvwlgF-Y7lF",
        "colab_type": "code",
        "slideshow": {
          "slide_type": "slide"
        },
        "colab": {
          "autoexec": {
            "startup": false,
            "wait_interval": 0
          },
          "base_uri": "https://localhost:8080/",
          "height": 322
        },
        "outputId": "f49bf9c1-d407-4c98-b239-79e4bb4bb770",
        "executionInfo": {
          "status": "ok",
          "timestamp": 1528212455293,
          "user_tz": 240,
          "elapsed": 529,
          "user": {
            "displayName": "Sage Lichtenwalner",
            "photoUrl": "https://lh3.googleusercontent.com/a/default-user=s128",
            "userId": "107661401208389246829"
          }
        }
      },
      "cell_type": "code",
      "source": [
        "# Pandas even lest you do a whole bunch of quick analysis in one line\n",
        "ndbc.describe()"
      ],
      "execution_count": 44,
      "outputs": [
        {
          "output_type": "execute_result",
          "data": {
            "text/html": [
              "<div>\n",
              "<style scoped>\n",
              "    .dataframe tbody tr th:only-of-type {\n",
              "        vertical-align: middle;\n",
              "    }\n",
              "\n",
              "    .dataframe tbody tr th {\n",
              "        vertical-align: top;\n",
              "    }\n",
              "\n",
              "    .dataframe thead th {\n",
              "        text-align: right;\n",
              "    }\n",
              "</style>\n",
              "<table border=\"1\" class=\"dataframe\">\n",
              "  <thead>\n",
              "    <tr style=\"text-align: right;\">\n",
              "      <th></th>\n",
              "      <th>#YY</th>\n",
              "      <th>MM</th>\n",
              "      <th>DD</th>\n",
              "      <th>hh</th>\n",
              "      <th>mm</th>\n",
              "      <th>WDIR</th>\n",
              "      <th>WSPD</th>\n",
              "      <th>GST</th>\n",
              "      <th>WVHT</th>\n",
              "      <th>DPD</th>\n",
              "      <th>APD</th>\n",
              "      <th>MWD</th>\n",
              "      <th>PRES</th>\n",
              "      <th>ATMP</th>\n",
              "      <th>WTMP</th>\n",
              "      <th>DEWP</th>\n",
              "      <th>VIS</th>\n",
              "      <th>TIDE</th>\n",
              "    </tr>\n",
              "  </thead>\n",
              "  <tbody>\n",
              "    <tr>\n",
              "      <th>count</th>\n",
              "      <td>8405.000000</td>\n",
              "      <td>8405.000000</td>\n",
              "      <td>8405.000000</td>\n",
              "      <td>8405.000000</td>\n",
              "      <td>8405.000000</td>\n",
              "      <td>8405.000000</td>\n",
              "      <td>8405.000000</td>\n",
              "      <td>8405.000000</td>\n",
              "      <td>8405.000000</td>\n",
              "      <td>8405.000000</td>\n",
              "      <td>8405.000000</td>\n",
              "      <td>8405.000000</td>\n",
              "      <td>8405.000000</td>\n",
              "      <td>8405.000000</td>\n",
              "      <td>8405.000000</td>\n",
              "      <td>8405.000000</td>\n",
              "      <td>8405.0</td>\n",
              "      <td>8405.0</td>\n",
              "    </tr>\n",
              "    <tr>\n",
              "      <th>mean</th>\n",
              "      <td>2016.999881</td>\n",
              "      <td>6.489590</td>\n",
              "      <td>15.862344</td>\n",
              "      <td>11.486377</td>\n",
              "      <td>49.999405</td>\n",
              "      <td>196.579179</td>\n",
              "      <td>6.805033</td>\n",
              "      <td>8.313195</td>\n",
              "      <td>1.378846</td>\n",
              "      <td>7.616221</td>\n",
              "      <td>5.236626</td>\n",
              "      <td>164.758953</td>\n",
              "      <td>1016.071767</td>\n",
              "      <td>12.123629</td>\n",
              "      <td>13.502344</td>\n",
              "      <td>903.288043</td>\n",
              "      <td>99.0</td>\n",
              "      <td>99.0</td>\n",
              "    </tr>\n",
              "    <tr>\n",
              "      <th>std</th>\n",
              "      <td>0.010908</td>\n",
              "      <td>3.506544</td>\n",
              "      <td>8.663989</td>\n",
              "      <td>6.925693</td>\n",
              "      <td>0.054538</td>\n",
              "      <td>99.891368</td>\n",
              "      <td>3.513243</td>\n",
              "      <td>4.283560</td>\n",
              "      <td>1.982873</td>\n",
              "      <td>3.924234</td>\n",
              "      <td>2.112808</td>\n",
              "      <td>72.208377</td>\n",
              "      <td>8.328311</td>\n",
              "      <td>7.642789</td>\n",
              "      <td>6.218949</td>\n",
              "      <td>291.313517</td>\n",
              "      <td>0.0</td>\n",
              "      <td>0.0</td>\n",
              "    </tr>\n",
              "    <tr>\n",
              "      <th>min</th>\n",
              "      <td>2016.000000</td>\n",
              "      <td>1.000000</td>\n",
              "      <td>1.000000</td>\n",
              "      <td>0.000000</td>\n",
              "      <td>45.000000</td>\n",
              "      <td>1.000000</td>\n",
              "      <td>0.000000</td>\n",
              "      <td>0.100000</td>\n",
              "      <td>0.200000</td>\n",
              "      <td>2.470000</td>\n",
              "      <td>2.880000</td>\n",
              "      <td>1.000000</td>\n",
              "      <td>977.100000</td>\n",
              "      <td>-8.400000</td>\n",
              "      <td>4.300000</td>\n",
              "      <td>-0.500000</td>\n",
              "      <td>99.0</td>\n",
              "      <td>99.0</td>\n",
              "    </tr>\n",
              "    <tr>\n",
              "      <th>25%</th>\n",
              "      <td>2017.000000</td>\n",
              "      <td>3.000000</td>\n",
              "      <td>8.000000</td>\n",
              "      <td>5.000000</td>\n",
              "      <td>50.000000</td>\n",
              "      <td>105.000000</td>\n",
              "      <td>4.200000</td>\n",
              "      <td>5.100000</td>\n",
              "      <td>0.830000</td>\n",
              "      <td>5.560000</td>\n",
              "      <td>4.400000</td>\n",
              "      <td>114.000000</td>\n",
              "      <td>1011.700000</td>\n",
              "      <td>6.500000</td>\n",
              "      <td>7.500000</td>\n",
              "      <td>999.000000</td>\n",
              "      <td>99.0</td>\n",
              "      <td>99.0</td>\n",
              "    </tr>\n",
              "    <tr>\n",
              "      <th>50%</th>\n",
              "      <td>2017.000000</td>\n",
              "      <td>6.000000</td>\n",
              "      <td>16.000000</td>\n",
              "      <td>11.000000</td>\n",
              "      <td>50.000000</td>\n",
              "      <td>212.000000</td>\n",
              "      <td>6.300000</td>\n",
              "      <td>7.600000</td>\n",
              "      <td>1.170000</td>\n",
              "      <td>7.140000</td>\n",
              "      <td>4.970000</td>\n",
              "      <td>154.000000</td>\n",
              "      <td>1015.800000</td>\n",
              "      <td>11.700000</td>\n",
              "      <td>13.000000</td>\n",
              "      <td>999.000000</td>\n",
              "      <td>99.0</td>\n",
              "      <td>99.0</td>\n",
              "    </tr>\n",
              "    <tr>\n",
              "      <th>75%</th>\n",
              "      <td>2017.000000</td>\n",
              "      <td>10.000000</td>\n",
              "      <td>23.000000</td>\n",
              "      <td>17.000000</td>\n",
              "      <td>50.000000</td>\n",
              "      <td>280.000000</td>\n",
              "      <td>9.100000</td>\n",
              "      <td>11.000000</td>\n",
              "      <td>1.690000</td>\n",
              "      <td>9.090000</td>\n",
              "      <td>5.760000</td>\n",
              "      <td>196.000000</td>\n",
              "      <td>1021.200000</td>\n",
              "      <td>19.400000</td>\n",
              "      <td>19.500000</td>\n",
              "      <td>999.000000</td>\n",
              "      <td>99.0</td>\n",
              "      <td>99.0</td>\n",
              "    </tr>\n",
              "    <tr>\n",
              "      <th>max</th>\n",
              "      <td>2017.000000</td>\n",
              "      <td>12.000000</td>\n",
              "      <td>31.000000</td>\n",
              "      <td>23.000000</td>\n",
              "      <td>50.000000</td>\n",
              "      <td>360.000000</td>\n",
              "      <td>20.400000</td>\n",
              "      <td>27.000000</td>\n",
              "      <td>99.000000</td>\n",
              "      <td>99.000000</td>\n",
              "      <td>99.000000</td>\n",
              "      <td>999.000000</td>\n",
              "      <td>1041.500000</td>\n",
              "      <td>26.300000</td>\n",
              "      <td>26.900000</td>\n",
              "      <td>999.000000</td>\n",
              "      <td>99.0</td>\n",
              "      <td>99.0</td>\n",
              "    </tr>\n",
              "  </tbody>\n",
              "</table>\n",
              "</div>"
            ],
            "text/plain": [
              "               #YY           MM           DD           hh           mm  \\\n",
              "count  8405.000000  8405.000000  8405.000000  8405.000000  8405.000000   \n",
              "mean   2016.999881     6.489590    15.862344    11.486377    49.999405   \n",
              "std       0.010908     3.506544     8.663989     6.925693     0.054538   \n",
              "min    2016.000000     1.000000     1.000000     0.000000    45.000000   \n",
              "25%    2017.000000     3.000000     8.000000     5.000000    50.000000   \n",
              "50%    2017.000000     6.000000    16.000000    11.000000    50.000000   \n",
              "75%    2017.000000    10.000000    23.000000    17.000000    50.000000   \n",
              "max    2017.000000    12.000000    31.000000    23.000000    50.000000   \n",
              "\n",
              "              WDIR         WSPD          GST         WVHT          DPD  \\\n",
              "count  8405.000000  8405.000000  8405.000000  8405.000000  8405.000000   \n",
              "mean    196.579179     6.805033     8.313195     1.378846     7.616221   \n",
              "std      99.891368     3.513243     4.283560     1.982873     3.924234   \n",
              "min       1.000000     0.000000     0.100000     0.200000     2.470000   \n",
              "25%     105.000000     4.200000     5.100000     0.830000     5.560000   \n",
              "50%     212.000000     6.300000     7.600000     1.170000     7.140000   \n",
              "75%     280.000000     9.100000    11.000000     1.690000     9.090000   \n",
              "max     360.000000    20.400000    27.000000    99.000000    99.000000   \n",
              "\n",
              "               APD          MWD         PRES         ATMP         WTMP  \\\n",
              "count  8405.000000  8405.000000  8405.000000  8405.000000  8405.000000   \n",
              "mean      5.236626   164.758953  1016.071767    12.123629    13.502344   \n",
              "std       2.112808    72.208377     8.328311     7.642789     6.218949   \n",
              "min       2.880000     1.000000   977.100000    -8.400000     4.300000   \n",
              "25%       4.400000   114.000000  1011.700000     6.500000     7.500000   \n",
              "50%       4.970000   154.000000  1015.800000    11.700000    13.000000   \n",
              "75%       5.760000   196.000000  1021.200000    19.400000    19.500000   \n",
              "max      99.000000   999.000000  1041.500000    26.300000    26.900000   \n",
              "\n",
              "              DEWP     VIS    TIDE  \n",
              "count  8405.000000  8405.0  8405.0  \n",
              "mean    903.288043    99.0    99.0  \n",
              "std     291.313517     0.0     0.0  \n",
              "min      -0.500000    99.0    99.0  \n",
              "25%     999.000000    99.0    99.0  \n",
              "50%     999.000000    99.0    99.0  \n",
              "75%     999.000000    99.0    99.0  \n",
              "max     999.000000    99.0    99.0  "
            ]
          },
          "metadata": {
            "tags": []
          },
          "execution_count": 44
        }
      ]
    },
    {
      "metadata": {
        "id": "SAqDEedZgGUU",
        "colab_type": "text",
        "slideshow": {
          "slide_type": "slide"
        }
      },
      "cell_type": "markdown",
      "source": [
        "## Matplotlib\n",
        "\n",
        "[Matplotlib](https://matplotlib.org) is the Matlab-like equivalent to plotting in Python.\n",
        "\n",
        "Remember, you can add a semi-colon to the last line to supress unwanted output, which often happens when using matplotlib."
      ]
    },
    {
      "metadata": {
        "id": "EnVWP7GBY7lG",
        "colab_type": "code",
        "colab": {
          "autoexec": {
            "startup": false,
            "wait_interval": 0
          }
        }
      },
      "cell_type": "code",
      "source": [
        "import matplotlib.pyplot as plt"
      ],
      "execution_count": 0,
      "outputs": []
    },
    {
      "metadata": {
        "id": "XR8QRziGfOjT",
        "colab_type": "code",
        "slideshow": {
          "slide_type": "slide"
        },
        "colab": {
          "autoexec": {
            "startup": false,
            "wait_interval": 0
          },
          "base_uri": "https://localhost:8080/",
          "height": 347
        },
        "outputId": "f76b9d52-1a68-4ba5-8e6f-f1f0d0b9040e",
        "executionInfo": {
          "status": "ok",
          "timestamp": 1528212456302,
          "user_tz": 240,
          "elapsed": 404,
          "user": {
            "displayName": "Sage Lichtenwalner",
            "photoUrl": "https://lh3.googleusercontent.com/a/default-user=s128",
            "userId": "107661401208389246829"
          }
        }
      },
      "cell_type": "code",
      "source": [
        "# Let's make a simple plot\n",
        "t = np.linspace(0,10,100)\n",
        "y = np.cos(t)*np.sin(t)\n",
        "\n",
        "plt.plot(t, y, '-rs'); # Line with red squares"
      ],
      "execution_count": 46,
      "outputs": [
        {
          "output_type": "display_data",
          "data": {
            "image/png": "[encoded data removed]",
            "text/plain": [
              "<matplotlib.figure.Figure at 0x7fbac0d99898>"
            ]
          },
          "metadata": {
            "tags": []
          }
        }
      ]
    },
    {
      "metadata": {
        "id": "CJ93ezI5hJNB",
        "colab_type": "code",
        "slideshow": {
          "slide_type": "slide"
        },
        "colab": {
          "autoexec": {
            "startup": false,
            "wait_interval": 0
          },
          "base_uri": "https://localhost:8080/",
          "height": 376
        },
        "outputId": "88d59099-d30f-4b05-9689-def1f3d1fc03",
        "executionInfo": {
          "status": "ok",
          "timestamp": 1528212456982,
          "user_tz": 240,
          "elapsed": 646,
          "user": {
            "displayName": "Sage Lichtenwalner",
            "photoUrl": "https://lh3.googleusercontent.com/a/default-user=s128",
            "userId": "107661401208389246829"
          }
        }
      },
      "cell_type": "code",
      "source": [
        "# A slightly more advanced example\n",
        "mu, sigma = 100, 15\n",
        "x = mu + sigma * np.random.randn(100)\n",
        "\n",
        "plt.plot(x,'r.') #Red dots\n",
        "plt.xlabel('Smarts')\n",
        "plt.ylabel('Probability')\n",
        "plt.title('Histogram of IQ')\n",
        "plt.text(10, 135, r'$\\mu=100, \\ \\sigma=15$'); #Annotations can support LaTex"
      ],
      "execution_count": 47,
      "outputs": [
        {
          "output_type": "display_data",
          "data": {
            "image/png": "[encoded data removed]",
            "text/plain": [
              "<matplotlib.figure.Figure at 0x7fbac0da6080>"
            ]
          },
          "metadata": {
            "tags": []
          }
        }
      ]
    },
    {
      "metadata": {
        "id": "iihaQuTFjaP1",
        "colab_type": "text"
      },
      "cell_type": "markdown",
      "source": [
        "For more, check out the great list of [Matplotlib Examples](https://matplotlib.org/gallery/index.html), and also check out the [Seaborn](https://seaborn.pydata.org) library, which provides a great set of defaults to make your plots look better.  (In fact, Google Colab includes this by default.)"
      ]
    },
    {
      "metadata": {
        "id": "bLpTzP346rF-",
        "colab_type": "text",
        "slideshow": {
          "slide_type": "slide"
        }
      },
      "cell_type": "markdown",
      "source": [
        "## Additional Resources\n",
        "\n",
        "* [NumPy for Matlab users](https://docs.scipy.org/doc/numpy/user/numpy-for-matlab-users.html) - A quick introduction from SciPy\n",
        "* [NumPy for Matlab users Cheatsheet](http://mathesaurus.sourceforge.net/matlab-numpy.html)\n",
        "* [MATLAB vs. Python: Top Reasons to Choose MATLAB](https://www.mathworks.com/products/matlab/matlab-vs-python.html) - For another perspective\n",
        "* [Pangeo Python Basics Tutorial](https://github.com/pangeo-data/pangeo-tutorial-sea-2018/blob/master/notebooks/1.0.scientific_python_ecosystem.ipynb)  - Many of the above examples come from this.\n",
        "* [Python for Matlab Users](http://researchcomputing.github.io/meetup_fall_2014/pdfs/fall2014_meetup13_python_matlab.pdf) - A meetup presentation from CSU.  This is a good overview.  Some of the above examples also come from this.\n",
        "* [Pyzo Python vs. Matlab](http://www.pyzo.org/python_vs_matlab.html)\n",
        "* [Webinar: Python for MATLAB Users, What You Need to Know](https://www.youtube.com/watch?v=YkCegjtoHFQ)\n",
        "* [Python Graph Gallery](https://python-graph-gallery.com) - For when you need more inspiration"
      ]
    }
  ]
}